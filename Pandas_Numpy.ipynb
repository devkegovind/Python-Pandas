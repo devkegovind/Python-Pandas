{
  "cells": [
    {
      "cell_type": "markdown",
      "metadata": {
        "id": "view-in-github",
        "colab_type": "text"
      },
      "source": [
        "<a href=\"https://colab.research.google.com/github/devkegovind/Python-Pandas/blob/main/Pandas_Numpy.ipynb\" target=\"_parent\"><img src=\"https://colab.research.google.com/assets/colab-badge.svg\" alt=\"Open In Colab\"/></a>"
      ]
    },
    {
      "cell_type": "markdown",
      "id": "601b3cf0",
      "metadata": {
        "id": "601b3cf0"
      },
      "source": [
        "<h1 align='center'>PANDAS NUMPY</h1>"
      ]
    },
    {
      "cell_type": "markdown",
      "id": "a5a9f97a",
      "metadata": {
        "id": "a5a9f97a"
      },
      "source": [
        "NumPy, which stands for Numerical Python, is a library consisting of multidimensional array object and a collection of routines for processing those arrays. Using NumPy, mathematical and logical operations on arrays can be performed. "
      ]
    },
    {
      "cell_type": "markdown",
      "id": "5972ee89",
      "metadata": {
        "id": "5972ee89"
      },
      "source": [
        "<h2>Operations Using NumPy</h2>"
      ]
    },
    {
      "cell_type": "markdown",
      "id": "e2d9bcc5",
      "metadata": {
        "id": "e2d9bcc5"
      },
      "source": [
        "- Mathematical and Logical Operations on arrays.\n",
        "- Fourier transforms and routines for shape manipulation.\n",
        "- Operations related to linear algebra. NumPy has in-built functions for linear algebra and random number generation."
      ]
    },
    {
      "cell_type": "markdown",
      "id": "8a337684",
      "metadata": {
        "id": "8a337684"
      },
      "source": [
        "<h2>NumPy - A Replacement for MatLab</h2>\n",
        "\n",
        "NumPy is often used along with packages like <b>Scipy</b>  (Scientific Python) and <b>Mat-plotlib</b> (plotting library). This combination is widely used as a replacement for MatLab, a popular platform for technical computing. However, Python alternative to MatLab is now seen as a modern and complete programming language.\n",
        "\n",
        "It is open source, which is an added advantage of NumPy. Standard Pyton distribution doesn't come bundles with NumPy module. A lightweight alternative is to install NumPy Using popular Python package installer, <b>pip</b> "
      ]
    },
    {
      "cell_type": "markdown",
      "id": "b172ce53",
      "metadata": {
        "id": "b172ce53"
      },
      "source": [
        "`pip install numpy`"
      ]
    },
    {
      "cell_type": "markdown",
      "id": "48751604",
      "metadata": {
        "id": "48751604"
      },
      "source": [
        "<h3>NumPy - Ndarray Object</h3>"
      ]
    },
    {
      "cell_type": "markdown",
      "id": "52294ae5",
      "metadata": {
        "id": "52294ae5"
      },
      "source": [
        "The most important object defined in NumPy is an N-dimensional array type called <b>ndarray</b>. It describe the collection of items of the same type. Items in the collection can be accessed using a zero-based index.\n",
        "\n",
        "Every item in an ndarray takes the same size of block in the memory. Each element in ndarray is an object of data-type object(called dtype).\n",
        "\n",
        "Any item extracted from ndarray object (by slicing) is represented by a Python object of one of array scalar types. The following diagram shows a relationship between ndaary, data type object(dtype) and array scalar type -\n",
        "\n",
        "![image.png](attachment:image.png)\n",
        "\n",
        "The basic ndarray is created using an array function in NumPy as Follows- "
      ]
    },
    {
      "cell_type": "markdown",
      "id": "2b79b6d0",
      "metadata": {
        "id": "2b79b6d0"
      },
      "source": [
        "`numpy.array`"
      ]
    },
    {
      "cell_type": "markdown",
      "id": "f18461ef",
      "metadata": {
        "id": "f18461ef"
      },
      "source": [
        "It creates an ndarray from any object exposing array interface, or from any method that returns an array."
      ]
    },
    {
      "cell_type": "markdown",
      "id": "50615d88",
      "metadata": {
        "id": "50615d88"
      },
      "source": [
        "`numpy.array(object, dtype = None, copy = True, order = None, subok = False, ndim = 0)`"
      ]
    },
    {
      "cell_type": "markdown",
      "id": "11c3193d",
      "metadata": {
        "id": "11c3193d"
      },
      "source": [
        "Create a NumPy ndarray Object"
      ]
    },
    {
      "cell_type": "code",
      "execution_count": null,
      "id": "6d3f2cd0",
      "metadata": {
        "id": "6d3f2cd0",
        "outputId": "e97aec7c-2aa9-4ecc-c701-0ec7cf0a5ea3"
      },
      "outputs": [
        {
          "data": {
            "text/plain": [
              "array([1, 2, 3, 4, 5])"
            ]
          },
          "execution_count": 1,
          "metadata": {},
          "output_type": "execute_result"
        }
      ],
      "source": [
        "import numpy as np\n",
        "\n",
        "arr = np.array([1, 2, 3, 4, 5])\n",
        "\n",
        "arr"
      ]
    },
    {
      "cell_type": "code",
      "execution_count": null,
      "id": "578c2356",
      "metadata": {
        "id": "578c2356",
        "outputId": "c7a16a34-b0a5-46c3-aefb-eee0c35312bd"
      },
      "outputs": [
        {
          "data": {
            "text/plain": [
              "numpy.ndarray"
            ]
          },
          "execution_count": 2,
          "metadata": {},
          "output_type": "execute_result"
        }
      ],
      "source": [
        "type(arr)"
      ]
    },
    {
      "cell_type": "code",
      "execution_count": null,
      "id": "46e142a5",
      "metadata": {
        "id": "46e142a5",
        "outputId": "77b4d0b3-d1a6-4d29-b644-9c3469ad0e63"
      },
      "outputs": [
        {
          "data": {
            "text/plain": [
              "array([1, 2, 3, 4, 5])"
            ]
          },
          "execution_count": 3,
          "metadata": {},
          "output_type": "execute_result"
        }
      ],
      "source": [
        "arr = np.array((1, 2, 3, 4, 5))\n",
        "arr"
      ]
    },
    {
      "cell_type": "markdown",
      "id": "338d3b4a",
      "metadata": {
        "id": "338d3b4a"
      },
      "source": [
        "<h3>Dimensions in Arrays</h3>"
      ]
    },
    {
      "cell_type": "markdown",
      "id": "02366654",
      "metadata": {
        "id": "02366654"
      },
      "source": [
        "<h4>0-D Arrays</h4>"
      ]
    },
    {
      "cell_type": "markdown",
      "id": "8f154b44",
      "metadata": {
        "id": "8f154b44"
      },
      "source": [
        "0-D arrays, or Scalars, are the elements in an array. Each Value in an array is a 0-D array."
      ]
    },
    {
      "cell_type": "markdown",
      "id": "2a0c6248",
      "metadata": {
        "id": "2a0c6248"
      },
      "source": [
        "Create a 0-D array with value 42"
      ]
    },
    {
      "cell_type": "code",
      "execution_count": null,
      "id": "3e6b1842",
      "metadata": {
        "id": "3e6b1842",
        "outputId": "4089c177-6b40-4c26-d35c-83378b20f379"
      },
      "outputs": [
        {
          "data": {
            "text/plain": [
              "array(42)"
            ]
          },
          "execution_count": 4,
          "metadata": {},
          "output_type": "execute_result"
        }
      ],
      "source": [
        "arr = np.array(42)\n",
        "arr"
      ]
    },
    {
      "cell_type": "markdown",
      "id": "f5e920cb",
      "metadata": {
        "id": "f5e920cb"
      },
      "source": [
        "<h4>1-D Arrays</h4>\n",
        "\n",
        "An array that has 0-D arrays as its elements is called Uni-dimensional or 1-D Array."
      ]
    },
    {
      "cell_type": "code",
      "execution_count": null,
      "id": "d5044161",
      "metadata": {
        "id": "d5044161",
        "outputId": "d5c6326d-7709-44fd-9f81-0ae9d86b2e5f"
      },
      "outputs": [
        {
          "data": {
            "text/plain": [
              "array([1, 2, 3, 4, 5])"
            ]
          },
          "execution_count": 5,
          "metadata": {},
          "output_type": "execute_result"
        }
      ],
      "source": [
        "arr = np.array([1, 2, 3, 4, 5])\n",
        "arr"
      ]
    },
    {
      "cell_type": "markdown",
      "id": "01c42c96",
      "metadata": {
        "id": "01c42c96"
      },
      "source": [
        "<h4>2-D Arrays</h4>\n",
        "\n",
        "An array that has 1-D arrays as its elements is called 2-D array. These often used to represent matrix or 2nd order tensors."
      ]
    },
    {
      "cell_type": "code",
      "execution_count": null,
      "id": "92086f83",
      "metadata": {
        "id": "92086f83",
        "outputId": "1035c10b-b7e6-491f-fe0c-bfda222f0b85"
      },
      "outputs": [
        {
          "data": {
            "text/plain": [
              "array([[1, 2, 3],\n",
              "       [4, 5, 6]])"
            ]
          },
          "execution_count": 6,
          "metadata": {},
          "output_type": "execute_result"
        }
      ],
      "source": [
        "arr = np.array([[1, 2, 3], [4, 5,6]])\n",
        "arr"
      ]
    },
    {
      "cell_type": "code",
      "execution_count": null,
      "id": "4ed4bfa1",
      "metadata": {
        "id": "4ed4bfa1",
        "outputId": "115e6dd0-6eec-40cb-86bd-6537a965356b"
      },
      "outputs": [
        {
          "data": {
            "text/plain": [
              "array([[1, 2, 3, 4, 5]])"
            ]
          },
          "execution_count": 7,
          "metadata": {},
          "output_type": "execute_result"
        }
      ],
      "source": [
        "a = np.array([1, 2, 3, 4, 5], ndmin = 2)\n",
        "a"
      ]
    },
    {
      "cell_type": "markdown",
      "id": "da8786cd",
      "metadata": {
        "id": "da8786cd"
      },
      "source": [
        "<h4>3-D Arrays</h4>\n",
        "\n",
        "An array that has 2-D arrays(matrices) as its elements is called 3-D array.\n",
        "These are often used to represent a 3rd order tensor."
      ]
    },
    {
      "cell_type": "code",
      "execution_count": null,
      "id": "e89054e3",
      "metadata": {
        "id": "e89054e3",
        "outputId": "26ea8ace-e44a-40be-8644-924db305ea78"
      },
      "outputs": [
        {
          "data": {
            "text/plain": [
              "array([[[1, 2, 3],\n",
              "        [4, 5, 6],\n",
              "        [7, 8, 9]]])"
            ]
          },
          "execution_count": 8,
          "metadata": {},
          "output_type": "execute_result"
        }
      ],
      "source": [
        "arr = np.array([[[1, 2, 3], [4, 5, 6], [7, 8, 9]]])\n",
        "arr"
      ]
    },
    {
      "cell_type": "markdown",
      "id": "c7caadad",
      "metadata": {
        "id": "c7caadad"
      },
      "source": [
        "The <b>ndarray</b> object consist of contiguous one-dimensional segments of computer memory, combined with an indexing scheme that maps each item to a location in the memory block. The memory block holds the elements in a row-major order(C style) or a column-major order(FORTRAN or MatLab style)."
      ]
    },
    {
      "cell_type": "markdown",
      "id": "029cabac",
      "metadata": {
        "id": "029cabac"
      },
      "source": [
        "<h4>Check Number of Dimensions?</h4>\n",
        "\n",
        "NumPy Arrays provides the ndim attribute that returns an integer that tells us how many dimensions the array have."
      ]
    },
    {
      "cell_type": "code",
      "execution_count": null,
      "id": "cb26ff47",
      "metadata": {
        "id": "cb26ff47",
        "outputId": "9b054977-62da-4856-826d-19af74778155"
      },
      "outputs": [
        {
          "name": "stdout",
          "output_type": "stream",
          "text": [
            "0\n",
            "1\n",
            "2\n",
            "3\n"
          ]
        }
      ],
      "source": [
        "a = np.array(42)\n",
        "\n",
        "b = np.array([1, 2, 3, 4, 5])\n",
        "\n",
        "c = np.array([[1, 2, 3], [4, 5, 6]])\n",
        "\n",
        "d = np.array([[[1, 2, 3],[4, 5, 6], [7, 8, 9]]])\n",
        "\n",
        "print(a.ndim)\n",
        "print(b.ndim)\n",
        "print(c.ndim)\n",
        "print(d.ndim)"
      ]
    },
    {
      "cell_type": "markdown",
      "id": "7508b5f7",
      "metadata": {
        "id": "7508b5f7"
      },
      "source": [
        "<h4>Higher Dimensional Arrays</h4>\n",
        "\n",
        "An array can have any number of dimensions.\n",
        "When the array is created, you can define the number of dimensions by using the `ndmin` argument."
      ]
    },
    {
      "cell_type": "code",
      "execution_count": null,
      "id": "67b54535",
      "metadata": {
        "id": "67b54535",
        "outputId": "58c3700d-f3c0-47c7-b05b-db9870b04533"
      },
      "outputs": [
        {
          "data": {
            "text/plain": [
              "array([[[[[1, 2, 3, 4]]]]])"
            ]
          },
          "execution_count": 10,
          "metadata": {},
          "output_type": "execute_result"
        }
      ],
      "source": [
        "arr = np.array([1, 2, 3, 4], ndmin = 5)\n",
        "arr"
      ]
    },
    {
      "cell_type": "code",
      "execution_count": null,
      "id": "97edabff",
      "metadata": {
        "id": "97edabff",
        "outputId": "0eea5307-5ad3-4a5d-818e-2994ccf77f45"
      },
      "outputs": [
        {
          "name": "stdout",
          "output_type": "stream",
          "text": [
            "5\n"
          ]
        }
      ],
      "source": [
        "print(arr.ndim)"
      ]
    },
    {
      "cell_type": "markdown",
      "id": "e89569e6",
      "metadata": {
        "id": "e89569e6"
      },
      "source": [
        "In this array the innermost dimension (5th dim) has 4 elements, the 4th dim has 1 element that is the vector, the 3rd dim has 1 element that is the matrix with the vector, the 2nd dim has 1 element that is 3D array and 1st dim has 1 element that is a 4D array."
      ]
    },
    {
      "cell_type": "markdown",
      "id": "2b236574",
      "metadata": {
        "id": "2b236574"
      },
      "source": [
        "<h2 align='center'>NumPy - Data Types</h2>\n",
        "\n",
        "NumPy supports a much greater variety of numerical types than Python does. The following table shows different scalar data types defined in NumPy.\n",
        "![image.png](attachment:image.png)\n",
        "![image-2.png](attachment:image-2.png)"
      ]
    },
    {
      "cell_type": "markdown",
      "id": "b2f56b1d",
      "metadata": {
        "id": "b2f56b1d"
      },
      "source": [
        "NumPy numerical types are instances of dtype (data-type) objects, each having unique characteristics. The dtypes are available as np.bool_, np.float32, etc.\n",
        "\n",
        "<h4>Data Type Objects (dtype)</h4>\n",
        "\n",
        "A data type object describes interpretation of fixed block of memory corresponding to an array, depending on the following aspects −\n",
        "\n",
        "- Type of data (integer, float or Python object)\n",
        "\n",
        "- Size of data\n",
        "\n",
        "- Byte order (little-endian or big-endian)\n",
        "\n",
        "In case of structured type, the names of fields, data type of each field and part of the memory block taken by each field.\n",
        "\n",
        "If data type is a subarray, its shape and data type\n",
        "\n",
        "The byte order is decided by prefixing '<' or '>' to data type. '<' means that encoding is little-endian (least significant is stored in smallest address). '>' means that encoding is big-endian (most significant byte is stored in smallest address).\n",
        "\n",
        "A dtype object is constructed using the following syntax −\n",
        "\n",
        "`numpy.dtype(object, align, copy)`"
      ]
    },
    {
      "cell_type": "code",
      "execution_count": null,
      "id": "c9ae780b",
      "metadata": {
        "id": "c9ae780b",
        "outputId": "62771036-0b73-41e1-b660-8627c1f2561e"
      },
      "outputs": [
        {
          "data": {
            "text/plain": [
              "dtype('int32')"
            ]
          },
          "execution_count": 12,
          "metadata": {},
          "output_type": "execute_result"
        }
      ],
      "source": [
        "dt = np.dtype(np.int32)\n",
        "dt"
      ]
    },
    {
      "cell_type": "markdown",
      "id": "57bdd1e7",
      "metadata": {
        "id": "57bdd1e7"
      },
      "source": [
        "int8, int16, int32, int64 can be replaced by equivalent string 'i1', 'i2','i4', etc. "
      ]
    },
    {
      "cell_type": "code",
      "execution_count": null,
      "id": "cde513fd",
      "metadata": {
        "id": "cde513fd",
        "outputId": "541abcdd-5d01-4166-dfb8-e20db6442052"
      },
      "outputs": [
        {
          "data": {
            "text/plain": [
              "dtype('int32')"
            ]
          },
          "execution_count": 13,
          "metadata": {},
          "output_type": "execute_result"
        }
      ],
      "source": [
        "dt = np.dtype('i4')\n",
        "dt"
      ]
    },
    {
      "cell_type": "code",
      "execution_count": null,
      "id": "5743a53f",
      "metadata": {
        "id": "5743a53f",
        "outputId": "9a6ce165-0db3-4dbe-b980-b89858a1fdf7"
      },
      "outputs": [
        {
          "data": {
            "text/plain": [
              "dtype([('age', 'i1')])"
            ]
          },
          "execution_count": 14,
          "metadata": {},
          "output_type": "execute_result"
        }
      ],
      "source": [
        "dt = np.dtype([('age', np.int8)])\n",
        "dt"
      ]
    },
    {
      "cell_type": "code",
      "execution_count": null,
      "id": "545e1d18",
      "metadata": {
        "id": "545e1d18",
        "outputId": "a568dec6-4da2-4130-a977-32bc0a252ca5"
      },
      "outputs": [
        {
          "data": {
            "text/plain": [
              "array([(10,), (20,), (30,)], dtype=[('age', 'i1')])"
            ]
          },
          "execution_count": 15,
          "metadata": {},
          "output_type": "execute_result"
        }
      ],
      "source": [
        "dt = np.dtype([('age', np.int8)])\n",
        "\n",
        "a = np.array([(10,), (20,), (30,)], dtype = dt)\n",
        "\n",
        "a"
      ]
    },
    {
      "cell_type": "code",
      "execution_count": null,
      "id": "33dcc57c",
      "metadata": {
        "id": "33dcc57c",
        "outputId": "0600beb7-2979-4270-afe8-ae324205689c"
      },
      "outputs": [
        {
          "data": {
            "text/plain": [
              "array([10, 20, 30], dtype=int8)"
            ]
          },
          "execution_count": 16,
          "metadata": {},
          "output_type": "execute_result"
        }
      ],
      "source": [
        "a['age']"
      ]
    },
    {
      "cell_type": "markdown",
      "id": "136e1b89",
      "metadata": {
        "id": "136e1b89"
      },
      "source": [
        "The following examples define a structured data type called <b>student</b> with a string field 'name', an <b>integer field</b> 'age' and a <b>float field</b> 'marks'. This dtype is applied to ndarray object."
      ]
    },
    {
      "cell_type": "code",
      "execution_count": null,
      "id": "851a3cc9",
      "metadata": {
        "id": "851a3cc9",
        "outputId": "6e665abf-5a5f-44cc-9fa4-700e3fee8d5b"
      },
      "outputs": [
        {
          "data": {
            "text/plain": [
              "dtype([('name', 'S20'), ('age', 'i1'), ('marks', '<f4')])"
            ]
          },
          "execution_count": 17,
          "metadata": {},
          "output_type": "execute_result"
        }
      ],
      "source": [
        "student = np.dtype([('name', 'S20'), ('age', 'i1'), ('marks', 'f4')])\n",
        "student"
      ]
    },
    {
      "cell_type": "code",
      "execution_count": null,
      "id": "26ea6d01",
      "metadata": {
        "id": "26ea6d01",
        "outputId": "f537b30c-4f56-4b19-c572-48a3c300ee98"
      },
      "outputs": [
        {
          "data": {
            "text/plain": [
              "array([(b'abc', 21, 50.), (b'xyz', 18, 75.)],\n",
              "      dtype=[('name', 'S20'), ('age', 'i1'), ('marks', '<f4')])"
            ]
          },
          "execution_count": 18,
          "metadata": {},
          "output_type": "execute_result"
        }
      ],
      "source": [
        "a = np.array([('abc', 21, 50), ('xyz', 18, 75)], dtype = student)\n",
        "a"
      ]
    },
    {
      "cell_type": "markdown",
      "id": "160e79c0",
      "metadata": {
        "id": "160e79c0"
      },
      "source": [
        "<h2 align='center'>NumPy - Array Attributes</h2>"
      ]
    },
    {
      "cell_type": "markdown",
      "id": "9273558d",
      "metadata": {
        "id": "9273558d"
      },
      "source": [
        "<h4>ndarray.shape</h4>\n",
        "\n",
        "This array attribute returns a tuple consisting of array dimensions. It can also used to resize the array."
      ]
    },
    {
      "cell_type": "code",
      "execution_count": null,
      "id": "119dc94f",
      "metadata": {
        "id": "119dc94f",
        "outputId": "566c0ba7-860a-4182-9e58-8d4608aecd5e"
      },
      "outputs": [
        {
          "data": {
            "text/plain": [
              "(2, 3)"
            ]
          },
          "execution_count": 19,
          "metadata": {},
          "output_type": "execute_result"
        }
      ],
      "source": [
        "a = np.array([[1, 2, 3], [4, 5, 6]])\n",
        "a.shape"
      ]
    },
    {
      "cell_type": "markdown",
      "id": "d6be137c",
      "metadata": {
        "id": "d6be137c"
      },
      "source": [
        "This resize the array"
      ]
    },
    {
      "cell_type": "code",
      "execution_count": null,
      "id": "2781493e",
      "metadata": {
        "id": "2781493e",
        "outputId": "0e8d548b-fdc0-4ee6-c39a-97abc3334a99"
      },
      "outputs": [
        {
          "data": {
            "text/plain": [
              "array([[1, 2],\n",
              "       [3, 4],\n",
              "       [5, 6]])"
            ]
          },
          "execution_count": 20,
          "metadata": {},
          "output_type": "execute_result"
        }
      ],
      "source": [
        "a = np.array([[1, 2, 3], [4, 5, 6]])\n",
        "a.shape = (3, 2)\n",
        "a"
      ]
    },
    {
      "cell_type": "markdown",
      "id": "9b5277e3",
      "metadata": {
        "id": "9b5277e3"
      },
      "source": [
        "NumPy also provides a reshape function to resize an array."
      ]
    },
    {
      "cell_type": "code",
      "execution_count": null,
      "id": "ccc12022",
      "metadata": {
        "id": "ccc12022",
        "outputId": "ca4f0df3-a550-4198-8e98-5035fe25c0be"
      },
      "outputs": [
        {
          "data": {
            "text/plain": [
              "array([[1, 2],\n",
              "       [3, 4],\n",
              "       [5, 6]])"
            ]
          },
          "execution_count": 21,
          "metadata": {},
          "output_type": "execute_result"
        }
      ],
      "source": [
        "a = np.array([[1, 2, 3], [4, 5, 6]])\n",
        "b = a.reshape(3, 2)\n",
        "b"
      ]
    },
    {
      "cell_type": "markdown",
      "id": "6c4eef0f",
      "metadata": {
        "id": "6c4eef0f"
      },
      "source": [
        "<h4>ndarray.ndim</h4>\n",
        "\n",
        "This array attribute returns the number of array dimensions."
      ]
    },
    {
      "cell_type": "code",
      "execution_count": null,
      "id": "52215abb",
      "metadata": {
        "id": "52215abb",
        "outputId": "cfb74d24-13c5-43e2-f2c8-c8e31d597bf5"
      },
      "outputs": [
        {
          "data": {
            "text/plain": [
              "array([ 0,  1,  2,  3,  4,  5,  6,  7,  8,  9, 10, 11, 12, 13, 14, 15, 16,\n",
              "       17, 18, 19, 20, 21, 22, 23])"
            ]
          },
          "execution_count": 22,
          "metadata": {},
          "output_type": "execute_result"
        }
      ],
      "source": [
        "a = np.arange(24)\n",
        "a"
      ]
    },
    {
      "cell_type": "code",
      "execution_count": null,
      "id": "405cd0c4",
      "metadata": {
        "id": "405cd0c4",
        "outputId": "8543f416-48ed-4b27-cd7c-242cb5606579"
      },
      "outputs": [
        {
          "data": {
            "text/plain": [
              "1"
            ]
          },
          "execution_count": 23,
          "metadata": {},
          "output_type": "execute_result"
        }
      ],
      "source": [
        "a.ndim"
      ]
    },
    {
      "cell_type": "code",
      "execution_count": null,
      "id": "d903186f",
      "metadata": {
        "id": "d903186f",
        "outputId": "42617473-24ba-48c7-b925-7d7f49ffd7a2"
      },
      "outputs": [
        {
          "data": {
            "text/plain": [
              "array([[[ 0,  1,  2],\n",
              "        [ 3,  4,  5],\n",
              "        [ 6,  7,  8],\n",
              "        [ 9, 10, 11]],\n",
              "\n",
              "       [[12, 13, 14],\n",
              "        [15, 16, 17],\n",
              "        [18, 19, 20],\n",
              "        [21, 22, 23]]])"
            ]
          },
          "execution_count": 24,
          "metadata": {},
          "output_type": "execute_result"
        }
      ],
      "source": [
        "b = a.reshape(2, 4, 3)\n",
        "b"
      ]
    },
    {
      "cell_type": "markdown",
      "id": "889fcde5",
      "metadata": {
        "id": "889fcde5"
      },
      "source": [
        "<h4>numpy.itemsize</h4>\n",
        "\n",
        "This array attribute returns the length of each element of array in bytes."
      ]
    },
    {
      "cell_type": "markdown",
      "id": "875a27f6",
      "metadata": {
        "id": "875a27f6"
      },
      "source": [
        "dtype of array is int8 (1 byte)"
      ]
    },
    {
      "cell_type": "code",
      "execution_count": null,
      "id": "9af81685",
      "metadata": {
        "id": "9af81685",
        "outputId": "640cebae-9622-461f-d405-67c82f18d47a"
      },
      "outputs": [
        {
          "data": {
            "text/plain": [
              "1"
            ]
          },
          "execution_count": 25,
          "metadata": {},
          "output_type": "execute_result"
        }
      ],
      "source": [
        "x = np.array([1, 2, 3, 4, 5], dtype = np.int8)\n",
        "x.itemsize"
      ]
    },
    {
      "cell_type": "code",
      "execution_count": null,
      "id": "c718ee50",
      "metadata": {
        "id": "c718ee50",
        "outputId": "7bcdd6a5-eae0-4e99-f94b-aa0d0400e32c"
      },
      "outputs": [
        {
          "data": {
            "text/plain": [
              "numpy.ndarray"
            ]
          },
          "execution_count": 26,
          "metadata": {},
          "output_type": "execute_result"
        }
      ],
      "source": [
        "type(x)"
      ]
    },
    {
      "cell_type": "markdown",
      "id": "d4eb5041",
      "metadata": {
        "id": "d4eb5041"
      },
      "source": [
        "dtype of array is now float32 (4 bytes)"
      ]
    },
    {
      "cell_type": "code",
      "execution_count": null,
      "id": "25adaf21",
      "metadata": {
        "id": "25adaf21",
        "outputId": "a116160f-9a5c-4092-93eb-121959627fba"
      },
      "outputs": [
        {
          "data": {
            "text/plain": [
              "4"
            ]
          },
          "execution_count": 27,
          "metadata": {},
          "output_type": "execute_result"
        }
      ],
      "source": [
        "x = np.array([1, 2, 3, 4], dtype = np.float32)\n",
        "x.itemsize"
      ]
    },
    {
      "cell_type": "markdown",
      "id": "b956e9a6",
      "metadata": {
        "id": "b956e9a6"
      },
      "source": [
        "dtype of array is now int32 ( 4 bytes)"
      ]
    },
    {
      "cell_type": "code",
      "execution_count": null,
      "id": "0f3a3417",
      "metadata": {
        "id": "0f3a3417",
        "outputId": "e9859b4d-9100-4fe0-8315-7d64d093c31a"
      },
      "outputs": [
        {
          "data": {
            "text/plain": [
              "4"
            ]
          },
          "execution_count": 28,
          "metadata": {},
          "output_type": "execute_result"
        }
      ],
      "source": [
        "x = np.array([1, 2, 3, 4], dtype = np.int32)\n",
        "x.itemsize"
      ]
    },
    {
      "cell_type": "markdown",
      "id": "6e6b97c1",
      "metadata": {
        "id": "6e6b97c1"
      },
      "source": [
        "<h2 align='center'> NumPy - Array Creation Routines</h2>\n",
        "\n",
        "A new <b>ndarray</b> object can be constructed by any of the following array creation routines or using a low-level ndarray constructor."
      ]
    },
    {
      "cell_type": "markdown",
      "id": "574b7893",
      "metadata": {
        "id": "574b7893"
      },
      "source": [
        "<h4>numpy.empty</h4>\n",
        "\n",
        "It creates an uninitialized array of specified shape and dtype. It uses the following constructor-\n",
        "\n",
        "`numpy.empty(shape, dtype = float, order = 'C')`\n",
        "\n",
        "![image.png](attachment:image.png)"
      ]
    },
    {
      "cell_type": "code",
      "execution_count": null,
      "id": "f1b2a3b8",
      "metadata": {
        "id": "f1b2a3b8",
        "outputId": "32d9c5ca-822e-4ccb-ff7b-db2d57c0226c"
      },
      "outputs": [
        {
          "data": {
            "text/plain": [
              "array([[844617696,       458],\n",
              "       [        0,         0],\n",
              "       [        1,   6029427]])"
            ]
          },
          "execution_count": 29,
          "metadata": {},
          "output_type": "execute_result"
        }
      ],
      "source": [
        "x = np.empty([3, 2], dtype = int)\n",
        "x"
      ]
    },
    {
      "cell_type": "markdown",
      "id": "5c6cba6b",
      "metadata": {
        "id": "5c6cba6b"
      },
      "source": [
        "<h4>Note</h4>The elements in an array show random values as they are not initialized."
      ]
    },
    {
      "cell_type": "markdown",
      "id": "0ba48d45",
      "metadata": {
        "id": "0ba48d45"
      },
      "source": [
        "<h4>numpy.zeros</h4>\n",
        "\n",
        "Returns a new array of specified size, filled with zeros.\n",
        "\n",
        "`numpy.zeros(shape, dtype = float, order = 'C')`"
      ]
    },
    {
      "cell_type": "code",
      "execution_count": null,
      "id": "5db49923",
      "metadata": {
        "id": "5db49923",
        "outputId": "a503a2e4-1100-4074-bc52-8bb544205810"
      },
      "outputs": [
        {
          "data": {
            "text/plain": [
              "array([0., 0., 0., 0., 0.])"
            ]
          },
          "execution_count": 30,
          "metadata": {},
          "output_type": "execute_result"
        }
      ],
      "source": [
        "x = np.zeros(5)\n",
        "x"
      ]
    },
    {
      "cell_type": "code",
      "execution_count": null,
      "id": "1bcca0e6",
      "metadata": {
        "id": "1bcca0e6",
        "outputId": "abd2e9aa-b6d7-4662-8105-4ec365c2b468"
      },
      "outputs": [
        {
          "name": "stderr",
          "output_type": "stream",
          "text": [
            "C:\\Users\\Neeta Devke\\AppData\\Local\\Temp\\ipykernel_8824\\2888065161.py:1: DeprecationWarning: `np.int` is a deprecated alias for the builtin `int`. To silence this warning, use `int` by itself. Doing this will not modify any behavior and is safe. When replacing `np.int`, you may wish to use e.g. `np.int64` or `np.int32` to specify the precision. If you wish to review your current use, check the release note link for additional information.\n",
            "Deprecated in NumPy 1.20; for more details and guidance: https://numpy.org/devdocs/release/1.20.0-notes.html#deprecations\n",
            "  x = np.zeros((5,), dtype = np.int)\n"
          ]
        },
        {
          "data": {
            "text/plain": [
              "array([0, 0, 0, 0, 0])"
            ]
          },
          "execution_count": 31,
          "metadata": {},
          "output_type": "execute_result"
        }
      ],
      "source": [
        "x = np.zeros((5,), dtype = np.int)\n",
        "x"
      ]
    },
    {
      "cell_type": "code",
      "execution_count": null,
      "id": "b036a140",
      "metadata": {
        "id": "b036a140",
        "outputId": "f8138b18-753b-49d4-a998-a5aaafc28c9a"
      },
      "outputs": [
        {
          "data": {
            "text/plain": [
              "array([[(0, 0), (0, 0)],\n",
              "       [(0, 0), (0, 0)]], dtype=[('x', '<i4'), ('y', '<i4')])"
            ]
          },
          "execution_count": 32,
          "metadata": {},
          "output_type": "execute_result"
        }
      ],
      "source": [
        "x = np.zeros((2,2), dtype = [('x', 'i4'), ('y', 'i4')])\n",
        "x"
      ]
    },
    {
      "cell_type": "markdown",
      "id": "dbd38ec5",
      "metadata": {
        "id": "dbd38ec5"
      },
      "source": [
        "<h4>numpy.ones</h4>\n",
        "\n",
        "Returns a new array of specified size and type, filled with ones.\n",
        "\n",
        "`numpy.ones(shape, dtype = None, order = 'C')`"
      ]
    },
    {
      "cell_type": "code",
      "execution_count": null,
      "id": "3fe3b86d",
      "metadata": {
        "id": "3fe3b86d",
        "outputId": "aa563a72-ddf3-4e51-d7d2-93828dab615a"
      },
      "outputs": [
        {
          "data": {
            "text/plain": [
              "array([1., 1., 1., 1., 1.])"
            ]
          },
          "execution_count": 33,
          "metadata": {},
          "output_type": "execute_result"
        }
      ],
      "source": [
        "x = np.ones(5)\n",
        "x"
      ]
    },
    {
      "cell_type": "code",
      "execution_count": null,
      "id": "dfba9be8",
      "metadata": {
        "id": "dfba9be8",
        "outputId": "3020fdf8-4958-4d01-91d2-5565d93642ac"
      },
      "outputs": [
        {
          "data": {
            "text/plain": [
              "array([[1, 1],\n",
              "       [1, 1]])"
            ]
          },
          "execution_count": 34,
          "metadata": {},
          "output_type": "execute_result"
        }
      ],
      "source": [
        "x = np.ones([2, 2], dtype = int)\n",
        "x"
      ]
    },
    {
      "cell_type": "markdown",
      "id": "920d1604",
      "metadata": {
        "id": "920d1604"
      },
      "source": [
        "<h2 align='center'>NumPy - Array From Numerical Ranges</h2>"
      ]
    },
    {
      "cell_type": "markdown",
      "id": "bdefec2c",
      "metadata": {
        "id": "bdefec2c"
      },
      "source": [
        "<h4>numpy.arange</h4>\n",
        "\n",
        "This function returns an <b>ndarray</b> object containing evenly spaced values within a given range. The format of the function is as follows-\n",
        "\n",
        "`numpy.arange(start, stop, step, dtype)`\n",
        "\n",
        "The constructor takes the following parameters.\n",
        "\n",
        "![image.png](attachment:image.png)"
      ]
    },
    {
      "cell_type": "code",
      "execution_count": null,
      "id": "4d03aac7",
      "metadata": {
        "id": "4d03aac7",
        "outputId": "2521141e-c457-4b6c-f002-44e08f59dbe9"
      },
      "outputs": [
        {
          "data": {
            "text/plain": [
              "array([0, 1, 2, 3, 4])"
            ]
          },
          "execution_count": 35,
          "metadata": {},
          "output_type": "execute_result"
        }
      ],
      "source": [
        "x = np.arange(5)\n",
        "x"
      ]
    },
    {
      "cell_type": "code",
      "execution_count": null,
      "id": "a19ab597",
      "metadata": {
        "id": "a19ab597",
        "outputId": "197cb5ba-2021-4423-f138-736361752a44"
      },
      "outputs": [
        {
          "data": {
            "text/plain": [
              "array([0., 1., 2., 3., 4.])"
            ]
          },
          "execution_count": 36,
          "metadata": {},
          "output_type": "execute_result"
        }
      ],
      "source": [
        "x = np.arange(5, dtype = float)\n",
        "x"
      ]
    },
    {
      "cell_type": "markdown",
      "id": "49df1c3d",
      "metadata": {
        "id": "49df1c3d"
      },
      "source": [
        "Start and Stop Parameter Set"
      ]
    },
    {
      "cell_type": "code",
      "execution_count": null,
      "id": "58ad9e7d",
      "metadata": {
        "id": "58ad9e7d",
        "outputId": "e10e09c4-b0f0-4e7f-cf8e-09ffe8e5cbdf"
      },
      "outputs": [
        {
          "data": {
            "text/plain": [
              "array([10, 12, 14, 16, 18])"
            ]
          },
          "execution_count": 37,
          "metadata": {},
          "output_type": "execute_result"
        }
      ],
      "source": [
        "x = np.arange(10, 20, 2)\n",
        "x"
      ]
    },
    {
      "cell_type": "markdown",
      "id": "91e3f835",
      "metadata": {
        "id": "91e3f835"
      },
      "source": [
        "<h4>numpy.linspace</h4>\n",
        "\n",
        "This function is similar to <b>arange()</b> function, instead of step size, the number of evenly spaced values between the interval is specified. The usage of this function is as follows-\n",
        "\n",
        "`numpy.linspace(start, stop, num, endpoint, restep, dtype)`\n",
        "\n",
        "The constructor takes the following parameters.\n",
        "![image.png](attachment:image.png)"
      ]
    },
    {
      "cell_type": "code",
      "execution_count": null,
      "id": "4e965630",
      "metadata": {
        "id": "4e965630",
        "outputId": "80e72ec1-9096-4970-9a4a-b23033cd11f8"
      },
      "outputs": [
        {
          "data": {
            "text/plain": [
              "array([10. , 12.5, 15. , 17.5, 20. ])"
            ]
          },
          "execution_count": 38,
          "metadata": {},
          "output_type": "execute_result"
        }
      ],
      "source": [
        "x = np.linspace(10, 20, 5)\n",
        "x"
      ]
    },
    {
      "cell_type": "markdown",
      "id": "ab7e9e1c",
      "metadata": {
        "id": "ab7e9e1c"
      },
      "source": [
        "Endpoint set to False"
      ]
    },
    {
      "cell_type": "code",
      "execution_count": null,
      "id": "301d12b2",
      "metadata": {
        "id": "301d12b2",
        "outputId": "a9dd9c8c-fe8e-4d59-89aa-22e89b571741"
      },
      "outputs": [
        {
          "data": {
            "text/plain": [
              "array([10., 12., 14., 16., 18.])"
            ]
          },
          "execution_count": 39,
          "metadata": {},
          "output_type": "execute_result"
        }
      ],
      "source": [
        "x = np.linspace(10, 20, 5, endpoint = False)\n",
        "x"
      ]
    },
    {
      "cell_type": "markdown",
      "id": "fa0d0912",
      "metadata": {
        "id": "fa0d0912"
      },
      "source": [
        "Find retstep value"
      ]
    },
    {
      "cell_type": "code",
      "execution_count": null,
      "id": "ad8b1144",
      "metadata": {
        "id": "ad8b1144",
        "outputId": "bf4dc2e4-3130-43c8-8e19-93bdf90caa3b"
      },
      "outputs": [
        {
          "data": {
            "text/plain": [
              "(array([1.  , 1.25, 1.5 , 1.75, 2.  ]), 0.25)"
            ]
          },
          "execution_count": 40,
          "metadata": {},
          "output_type": "execute_result"
        }
      ],
      "source": [
        "x = np.linspace(1, 2, 5, retstep = True)\n",
        "x"
      ]
    },
    {
      "cell_type": "markdown",
      "id": "ea3f84a2",
      "metadata": {
        "id": "ea3f84a2"
      },
      "source": [
        "<h4>numpy.logspace</h4>\n",
        "\n",
        "This function returns an <b>ndarray</b> object that contains the numbers that are evenly spaced on log scale. Start and Stop endpoints of the scale are indices of the base, usually 10.\n",
        "\n",
        "`numpy.logspace(start, stop, num, endpoit, base, dtype)`"
      ]
    },
    {
      "cell_type": "code",
      "execution_count": null,
      "id": "95e2d445",
      "metadata": {
        "id": "95e2d445",
        "outputId": "6b4d8a6f-8876-46df-a467-3bb802dee8ff"
      },
      "outputs": [
        {
          "data": {
            "text/plain": [
              "array([ 10.        ,  12.91549665,  16.68100537,  21.5443469 ,\n",
              "        27.82559402,  35.93813664,  46.41588834,  59.94842503,\n",
              "        77.42636827, 100.        ])"
            ]
          },
          "execution_count": 41,
          "metadata": {},
          "output_type": "execute_result"
        }
      ],
      "source": [
        "import numpy as np\n",
        "\n",
        "# Default base is 10\n",
        "a = np.logspace(1.0, 2.0, num = 10)\n",
        "a"
      ]
    },
    {
      "cell_type": "markdown",
      "id": "87dbdfaa",
      "metadata": {
        "id": "87dbdfaa"
      },
      "source": [
        "Set base of log space to 2"
      ]
    },
    {
      "cell_type": "code",
      "execution_count": null,
      "id": "63602eae",
      "metadata": {
        "id": "63602eae",
        "outputId": "9d041170-8457-4fa5-edcc-9db7a0b753c9"
      },
      "outputs": [
        {
          "data": {
            "text/plain": [
              "array([   2.,    4.,    8.,   16.,   32.,   64.,  128.,  256.,  512.,\n",
              "       1024.])"
            ]
          },
          "execution_count": 42,
          "metadata": {},
          "output_type": "execute_result"
        }
      ],
      "source": [
        "import numpy as np\n",
        "a = np.logspace(1, 10, num = 10, base = 2)\n",
        "a"
      ]
    },
    {
      "cell_type": "markdown",
      "id": "32e4e562",
      "metadata": {
        "id": "32e4e562"
      },
      "source": [
        "<h2 align='center'>NumPy - Indexing & Slicing</h2>\n",
        "\n",
        "Contents of ndarray object can be accessed and modified by indexing or slicing, just like Python's in-built container objects.\n",
        "\n",
        "As mentioned earlier, items in ndarray object follows zero-based index. Three types of indexing methods are available − <b>field access, basic slicing and advanced indexing.</b>\n",
        "\n",
        "Basic slicing is an extension of Python's basic concept of slicing to n dimensions. A Python slice object is constructed by giving <b>start, stop, and step</b> parameters to the built-in slice function. This slice object is passed to the array to extract a part of array."
      ]
    },
    {
      "cell_type": "code",
      "execution_count": null,
      "id": "55b25b09",
      "metadata": {
        "id": "55b25b09",
        "outputId": "27ef62c6-d793-45e3-a5e7-2325b6aeb4f7"
      },
      "outputs": [
        {
          "data": {
            "text/plain": [
              "array([2, 4, 6])"
            ]
          },
          "execution_count": 43,
          "metadata": {},
          "output_type": "execute_result"
        }
      ],
      "source": [
        "import numpy as np\n",
        "a = np.arange(10)\n",
        "s = slice(2, 7, 2)\n",
        "a[s]"
      ]
    },
    {
      "cell_type": "code",
      "execution_count": null,
      "id": "5a92e154",
      "metadata": {
        "id": "5a92e154",
        "outputId": "2734265f-4a01-4226-bce9-3eba7ab58d70"
      },
      "outputs": [
        {
          "data": {
            "text/plain": [
              "array([2, 4, 6])"
            ]
          },
          "execution_count": 44,
          "metadata": {},
          "output_type": "execute_result"
        }
      ],
      "source": [
        "import numpy as np\n",
        "a = np.arange(10)\n",
        "b = a[2:7:2]\n",
        "b"
      ]
    },
    {
      "cell_type": "markdown",
      "id": "f72b674d",
      "metadata": {
        "id": "f72b674d"
      },
      "source": [
        "Slice Single item"
      ]
    },
    {
      "cell_type": "code",
      "execution_count": null,
      "id": "3f08f3c1",
      "metadata": {
        "id": "3f08f3c1",
        "outputId": "5a6a449b-74ac-46cc-c01f-124e7e9c3d3c"
      },
      "outputs": [
        {
          "data": {
            "text/plain": [
              "5"
            ]
          },
          "execution_count": 45,
          "metadata": {},
          "output_type": "execute_result"
        }
      ],
      "source": [
        "import numpy as np\n",
        "a = np.arange(10)\n",
        "b = a[5]\n",
        "b"
      ]
    },
    {
      "cell_type": "markdown",
      "id": "e1ead6b0",
      "metadata": {
        "id": "e1ead6b0"
      },
      "source": [
        "Slice items starting from index"
      ]
    },
    {
      "cell_type": "code",
      "execution_count": null,
      "id": "c7b89726",
      "metadata": {
        "id": "c7b89726",
        "outputId": "13343145-0118-463e-cdbb-a6d9437c0ce0"
      },
      "outputs": [
        {
          "data": {
            "text/plain": [
              "array([2, 3, 4, 5, 6, 7, 8, 9])"
            ]
          },
          "execution_count": 46,
          "metadata": {},
          "output_type": "execute_result"
        }
      ],
      "source": [
        "import numpy as np\n",
        "a = np.arange(10)\n",
        "a[2:]"
      ]
    },
    {
      "cell_type": "markdown",
      "id": "0388e65f",
      "metadata": {
        "id": "0388e65f"
      },
      "source": [
        "Slice items between indexes"
      ]
    },
    {
      "cell_type": "code",
      "execution_count": null,
      "id": "3f107081",
      "metadata": {
        "id": "3f107081",
        "outputId": "196f189e-d4bd-4805-884b-02799f017dd0"
      },
      "outputs": [
        {
          "data": {
            "text/plain": [
              "array([2, 3, 4])"
            ]
          },
          "execution_count": 47,
          "metadata": {},
          "output_type": "execute_result"
        }
      ],
      "source": [
        "import numpy as np\n",
        "a = np.arange(10)\n",
        "a[2:5]"
      ]
    },
    {
      "cell_type": "code",
      "execution_count": null,
      "id": "ad05eb60",
      "metadata": {
        "id": "ad05eb60",
        "outputId": "24a737a5-c39d-4edd-a76c-b7332906de98"
      },
      "outputs": [
        {
          "data": {
            "text/plain": [
              "array([[3, 4, 5],\n",
              "       [4, 5, 6]])"
            ]
          },
          "execution_count": 48,
          "metadata": {},
          "output_type": "execute_result"
        }
      ],
      "source": [
        "import numpy as np\n",
        "a = np.array([[1, 2, 3], [3, 4, 5], [4, 5, 6]])\n",
        "a[1:]"
      ]
    },
    {
      "cell_type": "markdown",
      "id": "5aceb680",
      "metadata": {
        "id": "5aceb680"
      },
      "source": [
        "<h2 align='center'>NumPy - Advanced Indexing</h2>\n",
        "\n",
        "It is possible to make a selection from ndarray that is a non-tuple sequence, ndarray object of integer or Boolean data type, or a tuple with at least one item being a sequence object. Advanced indexing always returns a copy of the data. As against this, the slicing only presents a view.\n",
        "\n",
        "There are two types of advanced indexing − Integer and Boolean.\n",
        "\n",
        "<h4>Integer Indexing</h4>\n",
        "This mechanism helps in selecting any arbitrary item in an array based on its Ndimensional index. Each integer array represents the number of indexes into that dimension. When the index consists of as many integer arrays as the dimensions of the target ndarray, it becomes straightforward.\n",
        "\n",
        "In the following example, one element of specified column from each row of ndarray object is selected. Hence, the row index contains all row numbers, and the column index specifies the element to be selected."
      ]
    },
    {
      "cell_type": "code",
      "execution_count": null,
      "id": "23bb73b1",
      "metadata": {
        "id": "23bb73b1",
        "outputId": "f006b099-9e7e-4b47-861b-dca70bdcc1cd"
      },
      "outputs": [
        {
          "data": {
            "text/plain": [
              "array([[1, 2],\n",
              "       [3, 4],\n",
              "       [5, 6]])"
            ]
          },
          "execution_count": 49,
          "metadata": {},
          "output_type": "execute_result"
        }
      ],
      "source": [
        "x = np.array([[1, 2], [3, 4], [5, 6]])\n",
        "x"
      ]
    },
    {
      "cell_type": "code",
      "execution_count": null,
      "id": "ea1d1ec6",
      "metadata": {
        "id": "ea1d1ec6",
        "outputId": "2f4b4f61-e5bf-4088-d827-114aae5fd138"
      },
      "outputs": [
        {
          "data": {
            "text/plain": [
              "array([1, 4, 5])"
            ]
          },
          "execution_count": 50,
          "metadata": {},
          "output_type": "execute_result"
        }
      ],
      "source": [
        "x[[0, 1, 2], [0, 1, 0]]"
      ]
    },
    {
      "cell_type": "code",
      "execution_count": null,
      "id": "87f67664",
      "metadata": {
        "id": "87f67664",
        "outputId": "4edbb93d-33b4-4c77-959b-3bc5def62fd5"
      },
      "outputs": [
        {
          "data": {
            "text/plain": [
              "array([[ 0,  1,  2],\n",
              "       [ 3,  4,  5],\n",
              "       [ 6,  7,  8],\n",
              "       [ 9, 10, 11]])"
            ]
          },
          "execution_count": 51,
          "metadata": {},
          "output_type": "execute_result"
        }
      ],
      "source": [
        "x = np.array([[0, 1, 2], [3, 4, 5], [6, 7, 8], [9, 10, 11]])\n",
        "x"
      ]
    },
    {
      "cell_type": "code",
      "execution_count": null,
      "id": "00be1b5c",
      "metadata": {
        "id": "00be1b5c",
        "outputId": "6d5df935-1d28-4914-aede-5a7ee01d7c87"
      },
      "outputs": [
        {
          "data": {
            "text/plain": [
              "array([[ 0,  2],\n",
              "       [ 9, 11]])"
            ]
          },
          "execution_count": 52,
          "metadata": {},
          "output_type": "execute_result"
        }
      ],
      "source": [
        "rows = np.array([[0, 0], [3, 3]])\n",
        "cols = np.array([[0, 2], [0, 2]])\n",
        "\n",
        "y = x[rows, cols]\n",
        "y"
      ]
    },
    {
      "cell_type": "code",
      "execution_count": null,
      "id": "376ada6a",
      "metadata": {
        "id": "376ada6a",
        "outputId": "5892808e-bbe0-4498-be12-0b4d80af23c1"
      },
      "outputs": [
        {
          "data": {
            "text/plain": [
              "array([[ 0,  1,  2],\n",
              "       [ 3,  4,  5],\n",
              "       [ 6,  7,  8],\n",
              "       [ 9, 10, 11]])"
            ]
          },
          "execution_count": 53,
          "metadata": {},
          "output_type": "execute_result"
        }
      ],
      "source": [
        "x = np.array([[0, 1, 2], [3, 4, 5], [6, 7, 8], [9, 10, 11]])\n",
        "x"
      ]
    },
    {
      "cell_type": "markdown",
      "id": "34ac0254",
      "metadata": {
        "id": "34ac0254"
      },
      "source": [
        "<h4>Slicing</h4>"
      ]
    },
    {
      "cell_type": "code",
      "execution_count": null,
      "id": "4121e5d1",
      "metadata": {
        "id": "4121e5d1",
        "outputId": "76fa7265-5d5a-4fa1-bf75-229b5ab6b1b1"
      },
      "outputs": [
        {
          "data": {
            "text/plain": [
              "array([[ 4,  5],\n",
              "       [ 7,  8],\n",
              "       [10, 11]])"
            ]
          },
          "execution_count": 55,
          "metadata": {},
          "output_type": "execute_result"
        }
      ],
      "source": [
        "z = x[1:4, 1:3]\n",
        "z"
      ]
    },
    {
      "cell_type": "markdown",
      "id": "306c30b9",
      "metadata": {
        "id": "306c30b9"
      },
      "source": [
        "<h4>Slicing Using Advanced index For Column</h4>"
      ]
    },
    {
      "cell_type": "code",
      "execution_count": null,
      "id": "2d7ac2d7",
      "metadata": {
        "id": "2d7ac2d7",
        "outputId": "352b3f51-c49c-4012-fea8-50e6f14f1ea8"
      },
      "outputs": [
        {
          "data": {
            "text/plain": [
              "array([[ 4,  5],\n",
              "       [ 7,  8],\n",
              "       [10, 11]])"
            ]
          },
          "execution_count": 56,
          "metadata": {},
          "output_type": "execute_result"
        }
      ],
      "source": [
        "y = x[1:4, [1, 2]]\n",
        "y"
      ]
    },
    {
      "cell_type": "markdown",
      "id": "39ee30dd",
      "metadata": {
        "id": "39ee30dd"
      },
      "source": [
        "<h4>Boolean Array Indexing</h4>\n",
        "\n",
        "This type of advanced indexing is used when the resultant object is meant to be the result of Boolean Operations, such as comparison operators.\n",
        "\n",
        "<h4>Items greater than 5 are returned as a result of Boolean Indexing</h4>"
      ]
    },
    {
      "cell_type": "code",
      "execution_count": null,
      "id": "57586a4f",
      "metadata": {
        "id": "57586a4f",
        "outputId": "6f452155-583d-417a-c024-244b1a76543a"
      },
      "outputs": [
        {
          "data": {
            "text/plain": [
              "array([[ 0,  1,  2],\n",
              "       [ 3,  4,  5],\n",
              "       [ 6,  7,  8],\n",
              "       [ 9, 10, 11]])"
            ]
          },
          "execution_count": 57,
          "metadata": {},
          "output_type": "execute_result"
        }
      ],
      "source": [
        "x = np.array([[0, 1, 2], [3, 4, 5], [6, 7, 8], [9, 10, 11]])\n",
        "x"
      ]
    },
    {
      "cell_type": "code",
      "execution_count": null,
      "id": "a2e1269a",
      "metadata": {
        "id": "a2e1269a",
        "outputId": "02bd570a-c7da-4bc5-92d6-d88703155a75"
      },
      "outputs": [
        {
          "data": {
            "text/plain": [
              "[array([[False, False, False],\n",
              "        [False, False, False],\n",
              "        [ True,  True,  True],\n",
              "        [ True,  True,  True]])]"
            ]
          },
          "execution_count": 58,
          "metadata": {},
          "output_type": "execute_result"
        }
      ],
      "source": [
        "[x > 5]"
      ]
    },
    {
      "cell_type": "code",
      "execution_count": null,
      "id": "3f6fb85c",
      "metadata": {
        "id": "3f6fb85c",
        "outputId": "50f370ab-4f70-41a7-d27d-0625bc61f546"
      },
      "outputs": [
        {
          "data": {
            "text/plain": [
              "array([ 6,  7,  8,  9, 10, 11])"
            ]
          },
          "execution_count": 59,
          "metadata": {},
          "output_type": "execute_result"
        }
      ],
      "source": [
        "x[x > 5]"
      ]
    },
    {
      "cell_type": "markdown",
      "id": "c3fb07e4",
      "metadata": {
        "id": "c3fb07e4"
      },
      "source": [
        "<h4>NaN(Not a Number) elements are omitted by using ~(complement operator)</h4>"
      ]
    },
    {
      "cell_type": "code",
      "execution_count": null,
      "id": "2ea9a5bc",
      "metadata": {
        "id": "2ea9a5bc",
        "outputId": "2aca0185-2cb1-4fcb-a700-ad6d058a25b3"
      },
      "outputs": [
        {
          "data": {
            "text/plain": [
              "array([1., 2., 3., 4., 5.])"
            ]
          },
          "execution_count": 61,
          "metadata": {},
          "output_type": "execute_result"
        }
      ],
      "source": [
        "a = np.array([np.nan, 1, 2, np.nan, 3, 4, 5])\n",
        "a[~np.isnan(a)]"
      ]
    },
    {
      "cell_type": "markdown",
      "id": "ec04b6d8",
      "metadata": {
        "id": "ec04b6d8"
      },
      "source": [
        "<h4>How To filter out the non-complex elements from an array.</h4>"
      ]
    },
    {
      "cell_type": "code",
      "execution_count": null,
      "id": "568d8160",
      "metadata": {
        "id": "568d8160",
        "outputId": "a402dcee-92da-4a9f-8975-0434be855a33"
      },
      "outputs": [
        {
          "data": {
            "text/plain": [
              "array([2. +6.j, 3.5+5.j])"
            ]
          },
          "execution_count": 62,
          "metadata": {},
          "output_type": "execute_result"
        }
      ],
      "source": [
        "a = np.array([1,2+6j, 5, 3.5+5j])\n",
        "a[np.iscomplex(a)]"
      ]
    },
    {
      "cell_type": "markdown",
      "id": "e9ab6dc9",
      "metadata": {
        "id": "e9ab6dc9"
      },
      "source": [
        "<h3, align='center'>NumPy - Broadcasting</h3>\n",
        "\n",
        "The term <b>broadcasting</b> refers to the ability of NumPy to treat arrays of different shapes during arithmetic operations. Arithmetic operations on arrays are usually done on corresponding elements. If two arrays are of exactly the same shape, then these operations are smoothly performed."
      ]
    },
    {
      "cell_type": "code",
      "execution_count": null,
      "id": "1c5a92aa",
      "metadata": {
        "id": "1c5a92aa",
        "outputId": "2ba96da5-47fa-4c29-b2e5-1c5d88d36d15"
      },
      "outputs": [
        {
          "data": {
            "text/plain": [
              "array([ 10,  40,  90, 160])"
            ]
          },
          "execution_count": 63,
          "metadata": {},
          "output_type": "execute_result"
        }
      ],
      "source": [
        "import numpy as np\n",
        "\n",
        "a = np.array([1, 2, 3, 4])\n",
        "b = np.array([10, 20, 30, 40])\n",
        "\n",
        "c = a * b\n",
        "c"
      ]
    },
    {
      "cell_type": "markdown",
      "id": "8e6ab33f",
      "metadata": {
        "id": "8e6ab33f"
      },
      "source": [
        "If the dimensions of two arrays are dissimilar, element-to-element operations are not possible. However, operations on arrays of non-similar shapes is still possible in NumPy, because of the <b>broadcasting</b> capability. The smaller array is <b>broadcast</b> to the size of the larger array so that they have compatible shapes.\n",
        "\n",
        "Broadcasting is possible if the following rules are satisfied -\n",
        "\n",
        "- Array with smaller <b>ndim</b> than the other is prepended with '1' in its shape.\n",
        "- Size in each dimension of the output shape is maximum of the input sizes in that dimension.\n",
        "- An input can be used in calculation, if its size in a particular dimension matches the output size or its value is exactly 1.\n",
        "- If an input has a dimension size of 1, the first data entry in that dimension is used for all calculations along that dimensions.\n",
        "\n",
        "A set of arrays is said to be <b>broadcastable</b> if the above rules produces a valid result and one of the following is true -\n",
        "- Arrays have exactly the same shape.\n",
        "- Arrays have the same number of dimensions and the length of each dimensions is either a common length or 1.\n",
        "- Arrays having too few dimensions can have its shape prepended with a dimension of length 1, so that the above stated property is true.\n"
      ]
    },
    {
      "cell_type": "code",
      "execution_count": null,
      "id": "c3514688",
      "metadata": {
        "id": "c3514688",
        "outputId": "6f1d3d92-9bbc-4216-ae0c-0853de4e1c06"
      },
      "outputs": [
        {
          "data": {
            "text/plain": [
              "array([[ 0.,  0.,  0.],\n",
              "       [10., 10., 10.],\n",
              "       [20., 20., 20.],\n",
              "       [30., 30., 30.]])"
            ]
          },
          "execution_count": 66,
          "metadata": {},
          "output_type": "execute_result"
        }
      ],
      "source": [
        "a = np.array([[0.0, 0.0, 0.0], [10.0, 10.0, 10.0], [20.0, 20.0, 20.0], [30.0, 30.0, 30.0]])\n",
        "b = np.array([1.0, 2.0, 3.0])\n",
        "\n",
        "a"
      ]
    },
    {
      "cell_type": "code",
      "execution_count": null,
      "id": "f964da0f",
      "metadata": {
        "id": "f964da0f",
        "outputId": "b785d433-be56-4dd8-9033-ba1794f2b5ec"
      },
      "outputs": [
        {
          "data": {
            "text/plain": [
              "array([1., 2., 3.])"
            ]
          },
          "execution_count": 67,
          "metadata": {},
          "output_type": "execute_result"
        }
      ],
      "source": [
        "b"
      ]
    },
    {
      "cell_type": "code",
      "execution_count": null,
      "id": "14d236a6",
      "metadata": {
        "id": "14d236a6",
        "outputId": "ae3e778e-dcd2-4dc6-b3c1-f7a8173ec929"
      },
      "outputs": [
        {
          "data": {
            "text/plain": [
              "array([[ 1.,  2.,  3.],\n",
              "       [11., 12., 13.],\n",
              "       [21., 22., 23.],\n",
              "       [31., 32., 33.]])"
            ]
          },
          "execution_count": 68,
          "metadata": {},
          "output_type": "execute_result"
        }
      ],
      "source": [
        "a + b"
      ]
    },
    {
      "cell_type": "markdown",
      "id": "0cebdb44",
      "metadata": {
        "id": "0cebdb44"
      },
      "source": [
        "The following figure demonstrates how array <b>b</b> is broadcast to become compatible with <b>a</b>.\n",
        "\n",
        "![image.png](attachment:image.png)"
      ]
    },
    {
      "cell_type": "markdown",
      "id": "bbd2d85d",
      "metadata": {
        "id": "bbd2d85d"
      },
      "source": [
        "<h2 align='center'>NumPy - Iterating Over Array</h2>\n",
        "\n",
        "NumPy package contains an iterator object <b>numpy.nditer</b>. It is efficient multidimensional iterator object using which it is possible to iterate over an array. Each element of an array is visited using Python's standard interface.\n",
        "\n",
        "Let us create a 3X4 using arange() function and iterate over it using <b>nditer</b>"
      ]
    },
    {
      "cell_type": "code",
      "execution_count": null,
      "id": "c2a4e9b0",
      "metadata": {
        "id": "c2a4e9b0",
        "outputId": "eb5baa2b-b4dc-4177-fb7a-7cd805b65055"
      },
      "outputs": [
        {
          "data": {
            "text/plain": [
              "array([ 0,  5, 10, 15, 20, 25, 30, 35, 40, 45, 50, 55])"
            ]
          },
          "execution_count": 71,
          "metadata": {},
          "output_type": "execute_result"
        }
      ],
      "source": [
        "import numpy as np\n",
        "\n",
        "a = np.arange(0, 60, 5)\n",
        "a"
      ]
    },
    {
      "cell_type": "code",
      "execution_count": null,
      "id": "bdce2e58",
      "metadata": {
        "id": "bdce2e58",
        "outputId": "87b88430-0675-4da6-fa03-51a9a5b9759d"
      },
      "outputs": [
        {
          "data": {
            "text/plain": [
              "array([[ 0,  5, 10, 15],\n",
              "       [20, 25, 30, 35],\n",
              "       [40, 45, 50, 55]])"
            ]
          },
          "execution_count": 72,
          "metadata": {},
          "output_type": "execute_result"
        }
      ],
      "source": [
        "a = a.reshape(3, 4)\n",
        "a"
      ]
    },
    {
      "cell_type": "code",
      "execution_count": null,
      "id": "c065051b",
      "metadata": {
        "id": "c065051b",
        "outputId": "991a247f-39e6-4360-9175-bef7e2d6f74c"
      },
      "outputs": [
        {
          "name": "stdout",
          "output_type": "stream",
          "text": [
            "0\n",
            "5\n",
            "10\n",
            "15\n",
            "20\n",
            "25\n",
            "30\n",
            "35\n",
            "40\n",
            "45\n",
            "50\n",
            "55\n"
          ]
        }
      ],
      "source": [
        "for i in np.nditer(a):\n",
        "    print(i)"
      ]
    },
    {
      "cell_type": "markdown",
      "id": "831a906c",
      "metadata": {
        "id": "831a906c"
      },
      "source": [
        "iterating over the transpose of the above array."
      ]
    },
    {
      "cell_type": "code",
      "execution_count": null,
      "id": "146c0a9d",
      "metadata": {
        "id": "146c0a9d",
        "outputId": "ff031f4b-47b0-489f-af15-5f9dbc56eb37"
      },
      "outputs": [
        {
          "data": {
            "text/plain": [
              "array([[ 0,  5, 10, 15],\n",
              "       [20, 25, 30, 35],\n",
              "       [40, 45, 50, 55]])"
            ]
          },
          "execution_count": 74,
          "metadata": {},
          "output_type": "execute_result"
        }
      ],
      "source": [
        "import numpy as np\n",
        "\n",
        "a = np.arange(0, 60, 5)\n",
        "a = a.reshape(3, 4)\n",
        "a"
      ]
    },
    {
      "cell_type": "code",
      "execution_count": null,
      "id": "fbd40c36",
      "metadata": {
        "id": "fbd40c36",
        "outputId": "ccff57a9-32cc-4772-e9c8-663de21a62a2"
      },
      "outputs": [
        {
          "data": {
            "text/plain": [
              "array([[ 0, 20, 40],\n",
              "       [ 5, 25, 45],\n",
              "       [10, 30, 50],\n",
              "       [15, 35, 55]])"
            ]
          },
          "execution_count": 75,
          "metadata": {},
          "output_type": "execute_result"
        }
      ],
      "source": [
        "b = a.T\n",
        "b"
      ]
    },
    {
      "cell_type": "code",
      "execution_count": null,
      "id": "d8982342",
      "metadata": {
        "id": "d8982342",
        "outputId": "9ceb6631-fbd6-41fc-c6ba-f2adbb7b7966"
      },
      "outputs": [
        {
          "name": "stdout",
          "output_type": "stream",
          "text": [
            "0\n",
            "5\n",
            "10\n",
            "15\n",
            "20\n",
            "25\n",
            "30\n",
            "35\n",
            "40\n",
            "45\n",
            "50\n",
            "55\n"
          ]
        }
      ],
      "source": [
        "for i in np.nditer(b):\n",
        "    print(i)"
      ]
    },
    {
      "cell_type": "markdown",
      "id": "dc9d9321",
      "metadata": {
        "id": "dc9d9321"
      },
      "source": [
        "<h4>Iteration Order</h4>\n",
        "\n",
        "If the same elements are stored using F-style order, the iterator chooses the more efficient way\n",
        "of iterating over an array.\n"
      ]
    },
    {
      "cell_type": "code",
      "execution_count": null,
      "id": "fe2a88e0",
      "metadata": {
        "id": "fe2a88e0",
        "outputId": "92103d82-5cb5-4a40-c814-8dbfa9e4fb03"
      },
      "outputs": [
        {
          "data": {
            "text/plain": [
              "array([[ 0,  5, 10, 15],\n",
              "       [20, 25, 30, 35],\n",
              "       [40, 45, 50, 55]])"
            ]
          },
          "execution_count": 77,
          "metadata": {},
          "output_type": "execute_result"
        }
      ],
      "source": [
        "import numpy as np\n",
        "\n",
        "a = np.arange(0, 60, 5)\n",
        "a = a.reshape(3, 4)\n",
        "a"
      ]
    },
    {
      "cell_type": "markdown",
      "id": "ff634eb7",
      "metadata": {
        "id": "ff634eb7"
      },
      "source": [
        "Transpose of a"
      ]
    },
    {
      "cell_type": "code",
      "execution_count": null,
      "id": "49a037bc",
      "metadata": {
        "id": "49a037bc",
        "outputId": "b186af7e-46a2-4f5b-fbad-704a4ec93ee1"
      },
      "outputs": [
        {
          "data": {
            "text/plain": [
              "array([[ 0, 20, 40],\n",
              "       [ 5, 25, 45],\n",
              "       [10, 30, 50],\n",
              "       [15, 35, 55]])"
            ]
          },
          "execution_count": 78,
          "metadata": {},
          "output_type": "execute_result"
        }
      ],
      "source": [
        "b = a.T\n",
        "b"
      ]
    },
    {
      "cell_type": "markdown",
      "id": "b889469e",
      "metadata": {
        "id": "b889469e"
      },
      "source": [
        "Sorted in C-style order"
      ]
    },
    {
      "cell_type": "code",
      "execution_count": null,
      "id": "c1ec29f9",
      "metadata": {
        "id": "c1ec29f9",
        "outputId": "5b9bbedf-4b17-4d90-d179-99f7f3f01396"
      },
      "outputs": [
        {
          "data": {
            "text/plain": [
              "array([[ 0, 20, 40],\n",
              "       [ 5, 25, 45],\n",
              "       [10, 30, 50],\n",
              "       [15, 35, 55]])"
            ]
          },
          "execution_count": 79,
          "metadata": {},
          "output_type": "execute_result"
        }
      ],
      "source": [
        "c = b.copy(order = 'C')\n",
        "c"
      ]
    },
    {
      "cell_type": "code",
      "execution_count": null,
      "id": "eff8f95d",
      "metadata": {
        "id": "eff8f95d",
        "outputId": "5e10ed11-108c-4c2d-ec52-f68430e8b00b"
      },
      "outputs": [
        {
          "name": "stdout",
          "output_type": "stream",
          "text": [
            "0\n",
            "20\n",
            "40\n",
            "5\n",
            "25\n",
            "45\n",
            "10\n",
            "30\n",
            "50\n",
            "15\n",
            "35\n",
            "55\n"
          ]
        }
      ],
      "source": [
        "for i in np.nditer(c):\n",
        "    print(i)"
      ]
    },
    {
      "cell_type": "markdown",
      "id": "9f10d5ca",
      "metadata": {
        "id": "9f10d5ca"
      },
      "source": [
        "Sorted in F-style order"
      ]
    },
    {
      "cell_type": "code",
      "execution_count": null,
      "id": "ec627e76",
      "metadata": {
        "id": "ec627e76",
        "outputId": "20d6489c-1f55-4f98-9a8f-1fa813514b3a"
      },
      "outputs": [
        {
          "data": {
            "text/plain": [
              "array([[ 0, 20, 40],\n",
              "       [ 5, 25, 45],\n",
              "       [10, 30, 50],\n",
              "       [15, 35, 55]])"
            ]
          },
          "execution_count": 81,
          "metadata": {},
          "output_type": "execute_result"
        }
      ],
      "source": [
        "c = b.copy(order = 'F')\n",
        "c"
      ]
    },
    {
      "cell_type": "code",
      "execution_count": null,
      "id": "c11e3c0e",
      "metadata": {
        "id": "c11e3c0e",
        "outputId": "648764b5-baa7-492f-e5a1-4a1949492a72"
      },
      "outputs": [
        {
          "name": "stdout",
          "output_type": "stream",
          "text": [
            "0\n",
            "5\n",
            "10\n",
            "15\n",
            "20\n",
            "25\n",
            "30\n",
            "35\n",
            "40\n",
            "45\n",
            "50\n",
            "55\n"
          ]
        }
      ],
      "source": [
        "for x in np.nditer(c):\n",
        "    print(x)"
      ]
    },
    {
      "cell_type": "markdown",
      "id": "238f7005",
      "metadata": {
        "id": "238f7005"
      },
      "source": [
        "It is possible to force nditer object to use a specific order by explicitly mentioning it."
      ]
    },
    {
      "cell_type": "code",
      "execution_count": null,
      "id": "9da3b5ad",
      "metadata": {
        "id": "9da3b5ad",
        "outputId": "cd5eab9b-060f-482d-a887-514341761a92"
      },
      "outputs": [
        {
          "data": {
            "text/plain": [
              "array([[ 0,  5, 10, 15],\n",
              "       [20, 25, 30, 35],\n",
              "       [40, 45, 50, 55]])"
            ]
          },
          "execution_count": 83,
          "metadata": {},
          "output_type": "execute_result"
        }
      ],
      "source": [
        "import numpy as np\n",
        "\n",
        "a = np.arange(0, 60, 5)\n",
        "a = a.reshape(3, 4)\n",
        "a"
      ]
    },
    {
      "cell_type": "code",
      "execution_count": null,
      "id": "311fcf9d",
      "metadata": {
        "id": "311fcf9d",
        "outputId": "a5a11663-8167-49fb-d1ff-3d05011db405"
      },
      "outputs": [
        {
          "name": "stdout",
          "output_type": "stream",
          "text": [
            "0\n",
            "5\n",
            "10\n",
            "15\n",
            "20\n",
            "25\n",
            "30\n",
            "35\n",
            "40\n",
            "45\n",
            "50\n",
            "55\n"
          ]
        }
      ],
      "source": [
        "for x in np.nditer(a, order = \"c\"):\n",
        "    print(x)"
      ]
    },
    {
      "cell_type": "code",
      "execution_count": null,
      "id": "60028dcd",
      "metadata": {
        "id": "60028dcd",
        "outputId": "4494433b-c433-48df-f3c7-18cc82b6ecd3"
      },
      "outputs": [
        {
          "name": "stdout",
          "output_type": "stream",
          "text": [
            "0\n",
            "20\n",
            "40\n",
            "5\n",
            "25\n",
            "45\n",
            "10\n",
            "30\n",
            "50\n",
            "15\n",
            "35\n",
            "55\n"
          ]
        }
      ],
      "source": [
        "for x in np.nditer(a, order = 'F'):\n",
        "    print(x)"
      ]
    },
    {
      "cell_type": "markdown",
      "id": "4dda9bf3",
      "metadata": {
        "id": "4dda9bf3"
      },
      "source": [
        "<h2 align='center'>NumPy - Mathematical Functions</h2>\n",
        "\n",
        "Quite understandably, NumPy contains a large number of various mathematical Operations. NumPy provides standard trignometric functions, functions for arithmetic operations, handling complex numbers, etc.\n",
        "\n",
        "<h4>Trigonometric Functions</h4>\n",
        "\n",
        "NumPy has standard trignometric functions which return trignometric ratios for a given angle in radians."
      ]
    },
    {
      "cell_type": "code",
      "execution_count": null,
      "id": "1f41615c",
      "metadata": {
        "id": "1f41615c",
        "outputId": "117261c5-6832-4523-94cd-3d928d1b63a6"
      },
      "outputs": [
        {
          "data": {
            "text/plain": [
              "array([ 0, 30, 45, 60, 90])"
            ]
          },
          "execution_count": 4,
          "metadata": {},
          "output_type": "execute_result"
        }
      ],
      "source": [
        "import numpy as np\n",
        "\n",
        "a = np.array([0, 30, 45, 60, 90])\n",
        "a"
      ]
    },
    {
      "cell_type": "markdown",
      "id": "f60df2a9",
      "metadata": {
        "id": "f60df2a9"
      },
      "source": [
        "Sine of Different angles:\n",
        "\n",
        "Convert to Radians by Multiplying with pi/180"
      ]
    },
    {
      "cell_type": "code",
      "execution_count": null,
      "id": "b8c5318e",
      "metadata": {
        "id": "b8c5318e",
        "outputId": "5a5bbc89-72f6-420d-fe3b-7b5fea430728"
      },
      "outputs": [
        {
          "name": "stdout",
          "output_type": "stream",
          "text": [
            "[0.         0.5        0.70710678 0.8660254  1.        ]\n"
          ]
        }
      ],
      "source": [
        "print(np.sin(a*np.pi/180))"
      ]
    },
    {
      "cell_type": "markdown",
      "id": "e23564d3",
      "metadata": {
        "id": "e23564d3"
      },
      "source": [
        "Cosine values for angles in array"
      ]
    },
    {
      "cell_type": "code",
      "execution_count": null,
      "id": "92ce5cf2",
      "metadata": {
        "id": "92ce5cf2",
        "outputId": "e20075a8-d858-408f-91b5-c6898346a60a"
      },
      "outputs": [
        {
          "name": "stdout",
          "output_type": "stream",
          "text": [
            "[1.00000000e+00 8.66025404e-01 7.07106781e-01 5.00000000e-01\n",
            " 6.12323400e-17]\n"
          ]
        }
      ],
      "source": [
        "print(np.cos(a*np.pi/180))"
      ]
    },
    {
      "cell_type": "markdown",
      "id": "639e0528",
      "metadata": {
        "id": "639e0528"
      },
      "source": [
        "Tangent values for given angles"
      ]
    },
    {
      "cell_type": "code",
      "execution_count": null,
      "id": "03578533",
      "metadata": {
        "id": "03578533",
        "outputId": "715e2235-51be-4aa8-f74b-66deb413da92"
      },
      "outputs": [
        {
          "name": "stdout",
          "output_type": "stream",
          "text": [
            "[0.00000000e+00 5.77350269e-01 1.00000000e+00 1.73205081e+00\n",
            " 1.63312394e+16]\n"
          ]
        }
      ],
      "source": [
        "print(np.tan(a*np.pi/180))"
      ]
    },
    {
      "cell_type": "markdown",
      "id": "34085042",
      "metadata": {
        "id": "34085042"
      },
      "source": [
        "<b>arcsin, arcos,</b> and <b>artan</b> functions return the trignometric inverse of sin, cos, and tan of the given angle. The result of these functions can be verified by <b>numpy.degrees() function</b> by converting radians to degrees."
      ]
    },
    {
      "cell_type": "code",
      "execution_count": null,
      "id": "a6d19932",
      "metadata": {
        "id": "a6d19932",
        "outputId": "6bbc5c45-ea9c-4a3f-ad2c-005bcb7923a3"
      },
      "outputs": [
        {
          "data": {
            "text/plain": [
              "array([ 0, 30, 45, 60, 90])"
            ]
          },
          "execution_count": 9,
          "metadata": {},
          "output_type": "execute_result"
        }
      ],
      "source": [
        "import numpy as np\n",
        "\n",
        "a = np.array([0, 30, 45, 60, 90])\n",
        "a"
      ]
    },
    {
      "cell_type": "markdown",
      "id": "b1238231",
      "metadata": {
        "id": "b1238231"
      },
      "source": [
        "Array Containing sine Values"
      ]
    },
    {
      "cell_type": "code",
      "execution_count": null,
      "id": "ade04802",
      "metadata": {
        "id": "ade04802",
        "outputId": "8b3153c6-3964-4fcc-ee12-29859389c3da"
      },
      "outputs": [
        {
          "name": "stdout",
          "output_type": "stream",
          "text": [
            "[0.         0.5        0.70710678 0.8660254  1.        ]\n"
          ]
        }
      ],
      "source": [
        "sin = np.sin(a*np.pi/180)\n",
        "print(sin)"
      ]
    },
    {
      "cell_type": "markdown",
      "id": "bbef7198",
      "metadata": {
        "id": "bbef7198"
      },
      "source": [
        "Compute sine inverse of angles. Returned values are in radians."
      ]
    },
    {
      "cell_type": "code",
      "execution_count": null,
      "id": "cc9b3032",
      "metadata": {
        "id": "cc9b3032",
        "outputId": "518c2947-23ed-4eee-8169-77f9acbdec19"
      },
      "outputs": [
        {
          "data": {
            "text/plain": [
              "array([0.        , 0.52359878, 0.78539816, 1.04719755, 1.57079633])"
            ]
          },
          "execution_count": 15,
          "metadata": {},
          "output_type": "execute_result"
        }
      ],
      "source": [
        "inv = np.arcsin(sin)\n",
        "inv"
      ]
    },
    {
      "cell_type": "markdown",
      "id": "27493805",
      "metadata": {
        "id": "27493805"
      },
      "source": [
        "Check result by converting to degrees"
      ]
    },
    {
      "cell_type": "code",
      "execution_count": null,
      "id": "b84eb1ff",
      "metadata": {
        "id": "b84eb1ff",
        "outputId": "f49d0afb-2874-47ad-da5a-7e9262368ea1"
      },
      "outputs": [
        {
          "name": "stdout",
          "output_type": "stream",
          "text": [
            "[ 0. 30. 45. 60. 90.]\n"
          ]
        }
      ],
      "source": [
        "print(np.degrees(inv))"
      ]
    },
    {
      "cell_type": "markdown",
      "id": "9d0796bd",
      "metadata": {
        "id": "9d0796bd"
      },
      "source": [
        "arccos and arctan functions behave similarly"
      ]
    },
    {
      "cell_type": "code",
      "execution_count": null,
      "id": "6006ff4b",
      "metadata": {
        "id": "6006ff4b",
        "outputId": "d1b8aeb4-0421-4ee2-d535-fe089bac3aee"
      },
      "outputs": [
        {
          "data": {
            "text/plain": [
              "array([1.00000000e+00, 8.66025404e-01, 7.07106781e-01, 5.00000000e-01,\n",
              "       6.12323400e-17])"
            ]
          },
          "execution_count": 17,
          "metadata": {},
          "output_type": "execute_result"
        }
      ],
      "source": [
        "cos = np.cos(a*np.pi/180)\n",
        "cos"
      ]
    },
    {
      "cell_type": "code",
      "execution_count": null,
      "id": "55e4e037",
      "metadata": {
        "id": "55e4e037",
        "outputId": "73923311-4b99-45d7-a9d5-398d36679554"
      },
      "outputs": [
        {
          "data": {
            "text/plain": [
              "array([0.        , 0.52359878, 0.78539816, 1.04719755, 1.57079633])"
            ]
          },
          "execution_count": 18,
          "metadata": {},
          "output_type": "execute_result"
        }
      ],
      "source": [
        "inv = np.arccos(cos)\n",
        "inv"
      ]
    },
    {
      "cell_type": "code",
      "execution_count": null,
      "id": "52f9383c",
      "metadata": {
        "id": "52f9383c",
        "outputId": "09553817-065d-4836-d492-42eb33c6b4c0"
      },
      "outputs": [
        {
          "data": {
            "text/plain": [
              "array([ 0., 30., 45., 60., 90.])"
            ]
          },
          "execution_count": 19,
          "metadata": {},
          "output_type": "execute_result"
        }
      ],
      "source": [
        "np.degrees(inv)"
      ]
    },
    {
      "cell_type": "code",
      "execution_count": null,
      "id": "6672f704",
      "metadata": {
        "id": "6672f704",
        "outputId": "1ef98038-8c75-4133-ac4b-0d75ab568e54"
      },
      "outputs": [
        {
          "data": {
            "text/plain": [
              "array([0.00000000e+00, 5.77350269e-01, 1.00000000e+00, 1.73205081e+00,\n",
              "       1.63312394e+16])"
            ]
          },
          "execution_count": 20,
          "metadata": {},
          "output_type": "execute_result"
        }
      ],
      "source": [
        "tan = np.tan(a*np.pi/180)\n",
        "tan"
      ]
    },
    {
      "cell_type": "code",
      "execution_count": null,
      "id": "6ef64462",
      "metadata": {
        "id": "6ef64462",
        "outputId": "c50fc66b-bb28-4287-9b9b-d33db543a9e4"
      },
      "outputs": [
        {
          "data": {
            "text/plain": [
              "array([0.        , 0.52359878, 0.78539816, 1.04719755, 1.57079633])"
            ]
          },
          "execution_count": 21,
          "metadata": {},
          "output_type": "execute_result"
        }
      ],
      "source": [
        "inv = np.arctan(tan)\n",
        "inv"
      ]
    },
    {
      "cell_type": "code",
      "execution_count": null,
      "id": "3c1f3cda",
      "metadata": {
        "id": "3c1f3cda",
        "outputId": "0fa6e530-9a80-4982-84d2-e960087ea4ea"
      },
      "outputs": [
        {
          "data": {
            "text/plain": [
              "array([ 0., 30., 45., 60., 90.])"
            ]
          },
          "execution_count": 22,
          "metadata": {},
          "output_type": "execute_result"
        }
      ],
      "source": [
        "np.degrees(inv)"
      ]
    },
    {
      "cell_type": "markdown",
      "id": "ac2f519f",
      "metadata": {
        "id": "ac2f519f"
      },
      "source": [
        "<h3>Functions For Rounding</h3>\n",
        "\n",
        "<h4>numpy.around</h4>\n",
        "\n",
        "This is a function that returns the value rounded to the desired precision. The function takes the following parameters.\n",
        "\n",
        "![image.png](attachment:image.png)"
      ]
    },
    {
      "cell_type": "code",
      "execution_count": null,
      "id": "f6f57cdb",
      "metadata": {
        "id": "f6f57cdb",
        "outputId": "88f3548e-a2ee-4c6d-a6b8-5e6e681734c4"
      },
      "outputs": [
        {
          "data": {
            "text/plain": [
              "array([  1.   ,   5.55 , 123.   ,   0.567,  25.532])"
            ]
          },
          "execution_count": 23,
          "metadata": {},
          "output_type": "execute_result"
        }
      ],
      "source": [
        "import numpy as np\n",
        "\n",
        "a = np.array([1.0, 5.55, 123, 0.567, 25.532])\n",
        "\n",
        "a"
      ]
    },
    {
      "cell_type": "markdown",
      "id": "28dc7678",
      "metadata": {
        "id": "28dc7678"
      },
      "source": [
        "After Rounding"
      ]
    },
    {
      "cell_type": "code",
      "execution_count": null,
      "id": "b80b28a1",
      "metadata": {
        "id": "b80b28a1",
        "outputId": "31290d37-f76b-4ad7-8bc3-9e580d5f0382"
      },
      "outputs": [
        {
          "data": {
            "text/plain": [
              "array([  1.,   6., 123.,   1.,  26.])"
            ]
          },
          "execution_count": 24,
          "metadata": {},
          "output_type": "execute_result"
        }
      ],
      "source": [
        "np.around(a)"
      ]
    },
    {
      "cell_type": "code",
      "execution_count": null,
      "id": "2aeb64e2",
      "metadata": {
        "id": "2aeb64e2",
        "outputId": "eff5211e-468b-4380-ae36-83684ff2da4c"
      },
      "outputs": [
        {
          "data": {
            "text/plain": [
              "array([  1. ,   5.6, 123. ,   0.6,  25.5])"
            ]
          },
          "execution_count": 25,
          "metadata": {},
          "output_type": "execute_result"
        }
      ],
      "source": [
        "np.around(a, decimals = 1)"
      ]
    },
    {
      "cell_type": "code",
      "execution_count": null,
      "id": "25812018",
      "metadata": {
        "id": "25812018",
        "outputId": "9972c045-28a3-4be1-fb39-52725b95d087"
      },
      "outputs": [
        {
          "data": {
            "text/plain": [
              "array([  0.,  10., 120.,   0.,  30.])"
            ]
          },
          "execution_count": 26,
          "metadata": {},
          "output_type": "execute_result"
        }
      ],
      "source": [
        "np.around(a, decimals = -1)"
      ]
    },
    {
      "cell_type": "markdown",
      "id": "ce267356",
      "metadata": {
        "id": "ce267356"
      },
      "source": [
        "<h4>numpy.floor()</h4>\n",
        "\n",
        "This function returns the largest integer not greater than the input parameter. The floor of the <b>scalar x</b> is the largest <b>integer i,</b> such that <b>i<=x</b>. Note that in Python, flooring always is rounded away from 0."
      ]
    },
    {
      "cell_type": "code",
      "execution_count": null,
      "id": "9615b176",
      "metadata": {
        "id": "9615b176",
        "outputId": "2dee09df-e4d0-44b0-e868-80c75bfe3a46"
      },
      "outputs": [
        {
          "data": {
            "text/plain": [
              "array([-1.7,  1.5, -0.2,  0.6, 10. ])"
            ]
          },
          "execution_count": 27,
          "metadata": {},
          "output_type": "execute_result"
        }
      ],
      "source": [
        "import numpy as np\n",
        "\n",
        "a = np.array([-1.7, 1.5, -0.2, 0.6, 10])\n",
        "a"
      ]
    },
    {
      "cell_type": "code",
      "execution_count": null,
      "id": "e900449e",
      "metadata": {
        "id": "e900449e",
        "outputId": "328c6ca0-5020-4f33-e739-c3aae8d09370"
      },
      "outputs": [
        {
          "data": {
            "text/plain": [
              "array([-2.,  1., -1.,  0., 10.])"
            ]
          },
          "execution_count": 28,
          "metadata": {},
          "output_type": "execute_result"
        }
      ],
      "source": [
        "np.floor(a)"
      ]
    },
    {
      "cell_type": "markdown",
      "id": "1ef80002",
      "metadata": {
        "id": "1ef80002"
      },
      "source": [
        "<h4>numpy.ceil()</h4>\n",
        "\n",
        "The ceil() function returns the ceiling of an input value, i.e. the ceil of the <b>scalar x</b> is the smallest <b>integer i,</b> such that <b>i>=x.</b>"
      ]
    },
    {
      "cell_type": "code",
      "execution_count": null,
      "id": "8b76b0ff",
      "metadata": {
        "id": "8b76b0ff",
        "outputId": "b559d222-ed76-4eb9-f47f-a57a95dba4e5"
      },
      "outputs": [
        {
          "data": {
            "text/plain": [
              "array([-1.7,  1.5, -0.2,  0.6, 10. ])"
            ]
          },
          "execution_count": 1,
          "metadata": {},
          "output_type": "execute_result"
        }
      ],
      "source": [
        "import numpy as np\n",
        "\n",
        "a = np.array([-1.7, 1.5, -0.2, 0.6, 10])\n",
        "a"
      ]
    },
    {
      "cell_type": "code",
      "execution_count": null,
      "id": "1ef6b3a4",
      "metadata": {
        "id": "1ef6b3a4",
        "outputId": "3ff087d6-20d0-4bd3-d272-ebd2454a269d"
      },
      "outputs": [
        {
          "data": {
            "text/plain": [
              "array([-1.,  2., -0.,  1., 10.])"
            ]
          },
          "execution_count": 2,
          "metadata": {},
          "output_type": "execute_result"
        }
      ],
      "source": [
        "np.ceil(a)"
      ]
    },
    {
      "cell_type": "markdown",
      "id": "ec57faa0",
      "metadata": {
        "id": "ec57faa0"
      },
      "source": [
        "<h2 align='center'>NumPy - Matrix Library</h2>\n",
        "\n",
        "NumPy packages contains a Matrix library <b>numpy.matlib</b>. This module has functions that return matrices instead of ndarray objects.\n",
        "\n",
        "<h4>matlib.empty()</h4>\n",
        "\n",
        "The <b>matlib.empty</b> function returns a new matrix without initializing the entries, The function takes the following parameters.\n",
        "\n",
        "`numpy.matlib.empty(shape, dtype, order)`\n",
        "\n",
        "![image.png](attachment:image.png)"
      ]
    },
    {
      "cell_type": "code",
      "execution_count": null,
      "id": "3ec448cc",
      "metadata": {
        "id": "3ec448cc",
        "outputId": "7458e452-a299-44cf-944d-17fa270d7dcd"
      },
      "outputs": [
        {
          "name": "stdout",
          "output_type": "stream",
          "text": [
            "[[ 1.  2.]\n",
            " [ 1. 10.]]\n"
          ]
        }
      ],
      "source": [
        "import numpy.matlib\n",
        "import numpy as np\n",
        "\n",
        "print(np.matlib.empty((2, 2))) # filled with random data"
      ]
    },
    {
      "cell_type": "markdown",
      "id": "fe0acd4e",
      "metadata": {
        "id": "fe0acd4e"
      },
      "source": [
        "<h4>numpy.matlib.zeros()</h4>\n",
        "\n",
        "This function returns the matrix filled with zeros.\n"
      ]
    },
    {
      "cell_type": "code",
      "execution_count": null,
      "id": "3c938bdf",
      "metadata": {
        "id": "3c938bdf",
        "outputId": "44e72f09-60ec-47f1-dc93-5c6faf1ce7e5"
      },
      "outputs": [
        {
          "data": {
            "text/plain": [
              "matrix([[0., 0.],\n",
              "        [0., 0.]])"
            ]
          },
          "execution_count": 5,
          "metadata": {},
          "output_type": "execute_result"
        }
      ],
      "source": [
        "np.matlib.zeros((2, 2))"
      ]
    },
    {
      "cell_type": "markdown",
      "id": "c8df8b5b",
      "metadata": {
        "id": "c8df8b5b"
      },
      "source": [
        "<h4>numpy.matlib.ones()</h4>\n",
        "\n",
        "This function returns the matrix filled with 1s."
      ]
    },
    {
      "cell_type": "code",
      "execution_count": null,
      "id": "1a20bd37",
      "metadata": {
        "id": "1a20bd37",
        "outputId": "05606206-ff53-44f9-ed09-f597602ad96a"
      },
      "outputs": [
        {
          "data": {
            "text/plain": [
              "matrix([[1., 1.],\n",
              "        [1., 1.]])"
            ]
          },
          "execution_count": 6,
          "metadata": {},
          "output_type": "execute_result"
        }
      ],
      "source": [
        "np.matlib.ones((2, 2))"
      ]
    },
    {
      "cell_type": "markdown",
      "id": "7e646a6c",
      "metadata": {
        "id": "7e646a6c"
      },
      "source": [
        "<h4>numpy.matlib.eye()</h4>\n",
        "\n",
        "This function returns a matrix with 1 along the diagonal elements and the zeros elsewhere. The function takes the following parameters.\n",
        "\n",
        "`numpy.matlib.eye(n, M, k, dtype)`\n",
        "\n",
        "![image.png](attachment:image.png)"
      ]
    },
    {
      "cell_type": "code",
      "execution_count": null,
      "id": "935e9216",
      "metadata": {
        "id": "935e9216",
        "outputId": "891b7647-b253-4cf8-8236-6cde1f80b13c"
      },
      "outputs": [
        {
          "data": {
            "text/plain": [
              "matrix([[1., 0., 0., 0.],\n",
              "        [0., 1., 0., 0.],\n",
              "        [0., 0., 1., 0.]])"
            ]
          },
          "execution_count": 7,
          "metadata": {},
          "output_type": "execute_result"
        }
      ],
      "source": [
        "np.matlib.eye(n=3, M=4, k=0, dtype = float)"
      ]
    },
    {
      "cell_type": "markdown",
      "id": "f556df82",
      "metadata": {
        "id": "f556df82"
      },
      "source": [
        "<h4>numpy.matlib.identity()</h4>\n",
        "\n",
        "The <b>numpy.matlib.identity()</b> function returns the Identity matrixof the given size. An identity matrix is a square matrix with all diagonal elements as 1."
      ]
    },
    {
      "cell_type": "code",
      "execution_count": null,
      "id": "ae7e5bb3",
      "metadata": {
        "id": "ae7e5bb3",
        "outputId": "bdfede9a-81c7-4662-a299-8fa159b73846"
      },
      "outputs": [
        {
          "data": {
            "text/plain": [
              "matrix([[1., 0., 0., 0., 0.],\n",
              "        [0., 1., 0., 0., 0.],\n",
              "        [0., 0., 1., 0., 0.],\n",
              "        [0., 0., 0., 1., 0.],\n",
              "        [0., 0., 0., 0., 1.]])"
            ]
          },
          "execution_count": 8,
          "metadata": {},
          "output_type": "execute_result"
        }
      ],
      "source": [
        "np.matlib.identity(5, dtype = float)"
      ]
    },
    {
      "cell_type": "markdown",
      "id": "260ad95c",
      "metadata": {
        "id": "260ad95c"
      },
      "source": [
        "<h4>numpy.matlib.rand()</h4>\n",
        "\n",
        "The <b>numpy.matlib.rand()</b> function returns a matrix of the given size filled with random values."
      ]
    },
    {
      "cell_type": "code",
      "execution_count": null,
      "id": "8276d583",
      "metadata": {
        "id": "8276d583",
        "outputId": "0b7d8b4f-4a93-4744-c1fd-541d318a5349"
      },
      "outputs": [
        {
          "data": {
            "text/plain": [
              "matrix([[0.64626189, 0.10079978, 0.51222484],\n",
              "        [0.8189821 , 0.98699745, 0.5959033 ],\n",
              "        [0.71766596, 0.18367728, 0.29787974]])"
            ]
          },
          "execution_count": 9,
          "metadata": {},
          "output_type": "execute_result"
        }
      ],
      "source": [
        "np.matlib.rand(3, 3)"
      ]
    },
    {
      "cell_type": "code",
      "execution_count": null,
      "id": "50915c7a",
      "metadata": {
        "id": "50915c7a",
        "outputId": "d6bdba6e-50c1-496e-ec63-24befd48cb19"
      },
      "outputs": [
        {
          "data": {
            "text/plain": [
              "matrix([[1, 2],\n",
              "        [3, 4]])"
            ]
          },
          "execution_count": 10,
          "metadata": {},
          "output_type": "execute_result"
        }
      ],
      "source": [
        "i = np.matrix('1,2;3,4')\n",
        "i"
      ]
    },
    {
      "cell_type": "markdown",
      "id": "a954bae0",
      "metadata": {
        "id": "a954bae0"
      },
      "source": [
        "<h2 align='center'>NumPy - Sort, Search & Counting Function</h2>\n",
        "\n",
        "A variety of sorting related functions are available in NumPy. These sorting functions implement different sorting algorithms, each of them characterized by the speed of execution, worst case performance, the workspace required and the stability of algorithms. Following table shows the comparison of these sorting algorithms.\n",
        "\n",
        "![image.png](attachment:image.png)\n"
      ]
    },
    {
      "cell_type": "markdown",
      "id": "4e3ceade",
      "metadata": {
        "id": "4e3ceade"
      },
      "source": [
        "<h4>numpy.sort()</h4>\n",
        "\n",
        "The sort() function returns a sorted copy of the input array. It has the following parameters -\n",
        "\n",
        "`numpy.sort(a, axis, kind, order)`\n",
        "\n",
        "![image.png](attachment:image.png)"
      ]
    },
    {
      "cell_type": "code",
      "execution_count": null,
      "id": "629582dc",
      "metadata": {
        "id": "629582dc",
        "outputId": "72042204-b77b-4598-84ab-4e23c369caa8"
      },
      "outputs": [
        {
          "data": {
            "text/plain": [
              "array([[3, 7],\n",
              "       [9, 1]])"
            ]
          },
          "execution_count": 11,
          "metadata": {},
          "output_type": "execute_result"
        }
      ],
      "source": [
        "import numpy as np\n",
        "\n",
        "a = np.array([[3, 7], [9, 1]])\n",
        "a"
      ]
    },
    {
      "cell_type": "code",
      "execution_count": null,
      "id": "93b40a26",
      "metadata": {
        "id": "93b40a26",
        "outputId": "dc63579b-7330-454e-cc52-430f98ac80a2"
      },
      "outputs": [
        {
          "data": {
            "text/plain": [
              "array([[3, 7],\n",
              "       [1, 9]])"
            ]
          },
          "execution_count": 12,
          "metadata": {},
          "output_type": "execute_result"
        }
      ],
      "source": [
        "np.sort(a)"
      ]
    },
    {
      "cell_type": "code",
      "execution_count": null,
      "id": "2edfce48",
      "metadata": {
        "id": "2edfce48",
        "outputId": "43ffac8b-adb1-4203-d5c7-3359b4cb1062"
      },
      "outputs": [
        {
          "data": {
            "text/plain": [
              "array([[3, 1],\n",
              "       [9, 7]])"
            ]
          },
          "execution_count": 13,
          "metadata": {},
          "output_type": "execute_result"
        }
      ],
      "source": [
        "np.sort(a, axis = 0)"
      ]
    },
    {
      "cell_type": "markdown",
      "id": "23221a72",
      "metadata": {
        "id": "23221a72"
      },
      "source": [
        "Order parameter in sort Function"
      ]
    },
    {
      "cell_type": "code",
      "execution_count": null,
      "id": "61d14bee",
      "metadata": {
        "id": "61d14bee",
        "outputId": "3ed86f07-c475-4b66-ee21-82990cf7e3d2"
      },
      "outputs": [
        {
          "data": {
            "text/plain": [
              "array([(b'ram', 21), (b'anil', 25), (b'ravi', 17), (b'amar', 27)],\n",
              "      dtype=[('name', 'S10'), ('age', '<i4')])"
            ]
          },
          "execution_count": 15,
          "metadata": {},
          "output_type": "execute_result"
        }
      ],
      "source": [
        "dt = np.dtype([('name', 'S10'), ('age', int)])\n",
        "a = np.array([('ram', 21), ('anil', 25), ('ravi', 17), ('amar', 27)], dtype = dt)\n",
        "a"
      ]
    },
    {
      "cell_type": "code",
      "execution_count": null,
      "id": "b16b7403",
      "metadata": {
        "id": "b16b7403",
        "outputId": "39496e18-6bc0-447a-eaf1-24887a3ed3da"
      },
      "outputs": [
        {
          "data": {
            "text/plain": [
              "array([(b'amar', 27), (b'anil', 25), (b'ram', 21), (b'ravi', 17)],\n",
              "      dtype=[('name', 'S10'), ('age', '<i4')])"
            ]
          },
          "execution_count": 16,
          "metadata": {},
          "output_type": "execute_result"
        }
      ],
      "source": [
        "np.sort(a, order = 'name')"
      ]
    },
    {
      "cell_type": "markdown",
      "id": "ba247127",
      "metadata": {
        "id": "ba247127"
      },
      "source": [
        "<h4>numpy.argsort()</h4>\n",
        "\n",
        "The <b>numpy.argsort()</b> function performs an indirect sort on input array, along the given axis and using a specified kind of sort to return the array of indices of data. This indices array is used to construct the sorted array."
      ]
    },
    {
      "cell_type": "code",
      "execution_count": null,
      "id": "1f6ac174",
      "metadata": {
        "id": "1f6ac174",
        "outputId": "5beadc3f-6b2d-4f3c-db7b-b38dd4e060f7"
      },
      "outputs": [
        {
          "data": {
            "text/plain": [
              "array([3, 1, 2])"
            ]
          },
          "execution_count": 17,
          "metadata": {},
          "output_type": "execute_result"
        }
      ],
      "source": [
        "import numpy as np\n",
        "x = np.array([3, 1, 2])\n",
        "x"
      ]
    },
    {
      "cell_type": "code",
      "execution_count": null,
      "id": "81e1de93",
      "metadata": {
        "id": "81e1de93",
        "outputId": "0dc9f7be-f3cb-4c20-f156-2c41a33017b5"
      },
      "outputs": [
        {
          "data": {
            "text/plain": [
              "array([1, 2, 0], dtype=int64)"
            ]
          },
          "execution_count": 18,
          "metadata": {},
          "output_type": "execute_result"
        }
      ],
      "source": [
        "y = np.argsort(x)\n",
        "y"
      ]
    },
    {
      "cell_type": "code",
      "execution_count": null,
      "id": "d11f1dc5",
      "metadata": {
        "id": "d11f1dc5",
        "outputId": "7a466981-531e-446c-ac3f-e98bd0dadf50"
      },
      "outputs": [
        {
          "data": {
            "text/plain": [
              "array([1, 2, 3])"
            ]
          },
          "execution_count": 19,
          "metadata": {},
          "output_type": "execute_result"
        }
      ],
      "source": [
        "x[y]"
      ]
    },
    {
      "cell_type": "code",
      "execution_count": null,
      "id": "86866074",
      "metadata": {
        "id": "86866074",
        "outputId": "39dfcd07-b555-4f60-fdac-2386c0d5a6e3"
      },
      "outputs": [
        {
          "name": "stdout",
          "output_type": "stream",
          "text": [
            "1\n",
            "2\n",
            "3\n"
          ]
        }
      ],
      "source": [
        "for i in y:\n",
        "    print(x[i])"
      ]
    },
    {
      "cell_type": "markdown",
      "id": "1dd6dae1",
      "metadata": {
        "id": "1dd6dae1"
      },
      "source": [
        "<h4>numpy.lexsort()</h4>\n",
        "\n",
        "Function perfomrs an indirect sort using a sequence of keys. The keys can be seen as a column in a spreadsheet. The function returns an array of indices, using which the sorted data can be obtained. Note, that the last key happens to the primary key of sort."
      ]
    },
    {
      "cell_type": "code",
      "execution_count": null,
      "id": "fe6977ca",
      "metadata": {
        "id": "fe6977ca",
        "outputId": "eeffce72-84e9-4502-887a-0f324706687e"
      },
      "outputs": [
        {
          "data": {
            "text/plain": [
              "array([3, 1, 0, 2], dtype=int64)"
            ]
          },
          "execution_count": 2,
          "metadata": {},
          "output_type": "execute_result"
        }
      ],
      "source": [
        "import numpy as np\n",
        "\n",
        "nm = ('ram', 'anil', 'ravi', 'amar')\n",
        "dv = ('f.y.', 's.y.', 's.y.', 'f.y.')\n",
        "ind = np.lexsort((dv, nm))\n",
        "ind"
      ]
    },
    {
      "cell_type": "code",
      "execution_count": null,
      "id": "364ac3fb",
      "metadata": {
        "id": "364ac3fb",
        "outputId": "987990c9-a9ee-429d-ff2e-cce93823a956"
      },
      "outputs": [
        {
          "name": "stdout",
          "output_type": "stream",
          "text": [
            "['amar,f.y.', 'anil,s.y.', 'ram,f.y.', 'ravi,s.y.']\n"
          ]
        }
      ],
      "source": [
        "print([nm[i] + \",\" + dv[i] for i in ind])"
      ]
    },
    {
      "cell_type": "markdown",
      "id": "4d31a883",
      "metadata": {
        "id": "4d31a883"
      },
      "source": [
        "<h4>numpy.argmax() and numpy.argmin()</h4>\n",
        "\n",
        "These two functions return the indices of maximum and minimum elements respectively along the given axis."
      ]
    },
    {
      "cell_type": "code",
      "execution_count": null,
      "id": "1534a1ae",
      "metadata": {
        "id": "1534a1ae",
        "outputId": "5685ab89-73f4-4197-8628-f1d081edae16"
      },
      "outputs": [
        {
          "data": {
            "text/plain": [
              "array([[[30, 40, 70],\n",
              "        [80, 20, 10],\n",
              "        [50, 90, 60]]])"
            ]
          },
          "execution_count": 9,
          "metadata": {},
          "output_type": "execute_result"
        }
      ],
      "source": [
        "import numpy as np\n",
        "\n",
        "a = np.array([[[30, 40, 70], [80, 20, 10], [50, 90, 60]]])\n",
        "a"
      ]
    },
    {
      "cell_type": "code",
      "execution_count": null,
      "id": "a29da3dc",
      "metadata": {
        "id": "a29da3dc",
        "outputId": "f2197d82-dbd5-4d7f-cd75-de3f979395b1"
      },
      "outputs": [
        {
          "data": {
            "text/plain": [
              "7"
            ]
          },
          "execution_count": 10,
          "metadata": {},
          "output_type": "execute_result"
        }
      ],
      "source": [
        "np.argmax(a)"
      ]
    },
    {
      "cell_type": "code",
      "execution_count": null,
      "id": "dfc3a58f",
      "metadata": {
        "id": "dfc3a58f",
        "outputId": "aaa08d49-04df-45a8-927d-40024e06c49b"
      },
      "outputs": [
        {
          "data": {
            "text/plain": [
              "5"
            ]
          },
          "execution_count": 11,
          "metadata": {},
          "output_type": "execute_result"
        }
      ],
      "source": [
        "np.argmin(a)"
      ]
    },
    {
      "cell_type": "markdown",
      "id": "1faaecb5",
      "metadata": {
        "id": "1faaecb5"
      },
      "source": [
        "Index of Maximum Number in Flattened Array"
      ]
    },
    {
      "cell_type": "code",
      "execution_count": null,
      "id": "eee884ad",
      "metadata": {
        "id": "eee884ad",
        "outputId": "6737ac1f-7207-46be-e5a6-41b13e1df012"
      },
      "outputs": [
        {
          "data": {
            "text/plain": [
              "array([30, 40, 70, 80, 20, 10, 50, 90, 60])"
            ]
          },
          "execution_count": 12,
          "metadata": {},
          "output_type": "execute_result"
        }
      ],
      "source": [
        "a.flatten()"
      ]
    },
    {
      "cell_type": "markdown",
      "id": "cc8d440f",
      "metadata": {
        "id": "cc8d440f"
      },
      "source": [
        "Array containing indices of maximum along axis 0"
      ]
    },
    {
      "cell_type": "code",
      "execution_count": null,
      "id": "555a7743",
      "metadata": {
        "id": "555a7743",
        "outputId": "25467f95-5c32-4310-e0f8-bc433072e437"
      },
      "outputs": [
        {
          "data": {
            "text/plain": [
              "array([[0, 0, 0],\n",
              "       [0, 0, 0],\n",
              "       [0, 0, 0]], dtype=int64)"
            ]
          },
          "execution_count": 15,
          "metadata": {},
          "output_type": "execute_result"
        }
      ],
      "source": [
        "maxindex1 = np.argmax(a, axis = 0)\n",
        "maxindex1"
      ]
    },
    {
      "cell_type": "markdown",
      "id": "ec3a9513",
      "metadata": {
        "id": "ec3a9513"
      },
      "source": [
        "Array containing indices of maximum along axis 1"
      ]
    },
    {
      "cell_type": "code",
      "execution_count": null,
      "id": "9026c190",
      "metadata": {
        "id": "9026c190",
        "outputId": "63dcae83-3d2a-432f-f5ce-60125aefe238"
      },
      "outputs": [
        {
          "data": {
            "text/plain": [
              "array([[1, 2, 0]], dtype=int64)"
            ]
          },
          "execution_count": 16,
          "metadata": {},
          "output_type": "execute_result"
        }
      ],
      "source": [
        "maxindex2 = np.argmax(a, axis = 1)\n",
        "maxindex2"
      ]
    },
    {
      "cell_type": "markdown",
      "id": "02f79ae5",
      "metadata": {
        "id": "02f79ae5"
      },
      "source": [
        "Applying argmin() function"
      ]
    },
    {
      "cell_type": "code",
      "execution_count": null,
      "id": "2e08a274",
      "metadata": {
        "scrolled": true,
        "id": "2e08a274",
        "outputId": "8c0531fc-9da8-43f0-b680-57785af81e6d"
      },
      "outputs": [
        {
          "data": {
            "text/plain": [
              "5"
            ]
          },
          "execution_count": 18,
          "metadata": {},
          "output_type": "execute_result"
        }
      ],
      "source": [
        "minindex = np.argmin(a)\n",
        "minindex"
      ]
    },
    {
      "cell_type": "markdown",
      "id": "d00f54ec",
      "metadata": {
        "id": "d00f54ec"
      },
      "source": [
        "Flattened array"
      ]
    },
    {
      "cell_type": "code",
      "execution_count": null,
      "id": "48393c41",
      "metadata": {
        "id": "48393c41",
        "outputId": "0c82fb42-ced5-4881-b8d9-81453a73590e"
      },
      "outputs": [
        {
          "data": {
            "text/plain": [
              "10"
            ]
          },
          "execution_count": 19,
          "metadata": {},
          "output_type": "execute_result"
        }
      ],
      "source": [
        "a.flatten()[minindex]"
      ]
    },
    {
      "cell_type": "markdown",
      "id": "7c99dfbb",
      "metadata": {
        "id": "7c99dfbb"
      },
      "source": [
        "Flattened array along axis 0"
      ]
    },
    {
      "cell_type": "code",
      "execution_count": null,
      "id": "a76f6f2f",
      "metadata": {
        "id": "a76f6f2f",
        "outputId": "cb47a252-8283-425e-8d1c-dc92c024cab5"
      },
      "outputs": [
        {
          "data": {
            "text/plain": [
              "array([[0, 0, 0],\n",
              "       [0, 0, 0],\n",
              "       [0, 0, 0]], dtype=int64)"
            ]
          },
          "execution_count": 20,
          "metadata": {},
          "output_type": "execute_result"
        }
      ],
      "source": [
        "minindex = np.argmin(a, axis = 0)\n",
        "minindex"
      ]
    },
    {
      "cell_type": "markdown",
      "id": "03f9b088",
      "metadata": {
        "id": "03f9b088"
      },
      "source": [
        "Flattened array along axis 1"
      ]
    },
    {
      "cell_type": "code",
      "execution_count": null,
      "id": "c1afaff3",
      "metadata": {
        "id": "c1afaff3",
        "outputId": "8134d853-0cbc-4c42-dda6-d4de75a144db"
      },
      "outputs": [
        {
          "data": {
            "text/plain": [
              "array([[0, 1, 1]], dtype=int64)"
            ]
          },
          "execution_count": 21,
          "metadata": {},
          "output_type": "execute_result"
        }
      ],
      "source": [
        "minindex = np.argmin(a, axis =1)\n",
        "minindex"
      ]
    },
    {
      "cell_type": "markdown",
      "id": "a98ba89e",
      "metadata": {
        "id": "a98ba89e"
      },
      "source": [
        "<h4>numpy.nonzero()</h4>\n",
        "\n",
        "The <b>numpy.nonzero()</b> function returns the indices of non-zero elements in the input array."
      ]
    },
    {
      "cell_type": "code",
      "execution_count": null,
      "id": "f8de5bfd",
      "metadata": {
        "id": "f8de5bfd",
        "outputId": "884e42ac-bbb7-4847-ef03-bbbfe5ccc0a3"
      },
      "outputs": [
        {
          "data": {
            "text/plain": [
              "array([[30, 40,  0],\n",
              "       [ 0, 20, 10],\n",
              "       [50,  0, 60]])"
            ]
          },
          "execution_count": 22,
          "metadata": {},
          "output_type": "execute_result"
        }
      ],
      "source": [
        "import numpy as np\n",
        "\n",
        "a = np.array([[30, 40, 0], [0, 20, 10], [50, 0, 60]])\n",
        "a"
      ]
    },
    {
      "cell_type": "markdown",
      "id": "a6f0757c",
      "metadata": {
        "id": "a6f0757c"
      },
      "source": [
        "Applying nonzero() function"
      ]
    },
    {
      "cell_type": "code",
      "execution_count": null,
      "id": "96601980",
      "metadata": {
        "id": "96601980",
        "outputId": "883aef97-f9fc-4d06-8ea8-da1f3fc9a3f4"
      },
      "outputs": [
        {
          "data": {
            "text/plain": [
              "(array([0, 0, 1, 1, 2, 2], dtype=int64),\n",
              " array([0, 1, 1, 2, 0, 2], dtype=int64))"
            ]
          },
          "execution_count": 23,
          "metadata": {},
          "output_type": "execute_result"
        }
      ],
      "source": [
        "np.nonzero(a)"
      ]
    },
    {
      "cell_type": "markdown",
      "id": "edc4ec68",
      "metadata": {
        "id": "edc4ec68"
      },
      "source": [
        "<h4>numpy.where()</h4>\n",
        "\n",
        "The where() function returns the indices of elements in an input array where the given condition is satisfied."
      ]
    },
    {
      "cell_type": "code",
      "execution_count": null,
      "id": "ac2f3cae",
      "metadata": {
        "id": "ac2f3cae",
        "outputId": "1543ca1a-ea59-493a-cbf1-b5e24075c591"
      },
      "outputs": [
        {
          "data": {
            "text/plain": [
              "array([[0, 1, 2],\n",
              "       [3, 4, 5],\n",
              "       [6, 7, 8]])"
            ]
          },
          "execution_count": 24,
          "metadata": {},
          "output_type": "execute_result"
        }
      ],
      "source": [
        "import numpy as np\n",
        "\n",
        "x = np.arange(9).reshape(3,3)\n",
        "x"
      ]
    },
    {
      "cell_type": "markdown",
      "id": "227eda05",
      "metadata": {
        "id": "227eda05"
      },
      "source": [
        "Indices of elements > 3"
      ]
    },
    {
      "cell_type": "code",
      "execution_count": null,
      "id": "47a1fa39",
      "metadata": {
        "id": "47a1fa39",
        "outputId": "14035c61-e6f3-43e3-92fa-97210e2a0df1"
      },
      "outputs": [
        {
          "data": {
            "text/plain": [
              "(array([1, 1, 2, 2, 2], dtype=int64), array([1, 2, 0, 1, 2], dtype=int64))"
            ]
          },
          "execution_count": 26,
          "metadata": {},
          "output_type": "execute_result"
        }
      ],
      "source": [
        "y = np.where(x > 3)\n",
        "y"
      ]
    },
    {
      "cell_type": "code",
      "execution_count": null,
      "id": "46b58d24",
      "metadata": {
        "id": "46b58d24",
        "outputId": "28b9f878-53ab-4f18-d496-152c22af63f6"
      },
      "outputs": [
        {
          "data": {
            "text/plain": [
              "array([4, 5, 6, 7, 8])"
            ]
          },
          "execution_count": 27,
          "metadata": {},
          "output_type": "execute_result"
        }
      ],
      "source": [
        "x[y]"
      ]
    },
    {
      "cell_type": "markdown",
      "id": "2ae9dff6",
      "metadata": {
        "id": "2ae9dff6"
      },
      "source": [
        "<h2 align = 'center'>NumPy - Statistical Functions</h2>\n",
        "\n",
        "NumPy has quite a few useful statistical functions for finding minimum, maximum, percentile standard deviation and variance, etc. from the given elements in the array. The functions are explained as follow - "
      ]
    },
    {
      "cell_type": "markdown",
      "id": "c27d9751",
      "metadata": {
        "id": "c27d9751"
      },
      "source": [
        "<h4>numpy.amin() and numpy.amax()</h4>\n",
        "\n",
        "These functions return the minimum and the maximum from the elements in the given array along the specified axis."
      ]
    },
    {
      "cell_type": "code",
      "execution_count": null,
      "id": "379e1ba8",
      "metadata": {
        "id": "379e1ba8",
        "outputId": "e1f77e43-10e4-45d3-e765-14cfd41a17f9"
      },
      "outputs": [
        {
          "data": {
            "text/plain": [
              "array([[3, 7, 5],\n",
              "       [8, 4, 3],\n",
              "       [2, 4, 9]])"
            ]
          },
          "execution_count": 28,
          "metadata": {},
          "output_type": "execute_result"
        }
      ],
      "source": [
        "import numpy as np\n",
        "\n",
        "a = np.array([[3, 7, 5], [8, 4, 3], [2, 4, 9]])\n",
        "a"
      ]
    },
    {
      "cell_type": "markdown",
      "id": "3dabb3ba",
      "metadata": {
        "id": "3dabb3ba"
      },
      "source": [
        "Applying amin() function"
      ]
    },
    {
      "cell_type": "code",
      "execution_count": null,
      "id": "09a0e9e2",
      "metadata": {
        "id": "09a0e9e2",
        "outputId": "4738fb87-6df2-4089-b3ad-23c2ee70712f"
      },
      "outputs": [
        {
          "data": {
            "text/plain": [
              "array([3, 3, 2])"
            ]
          },
          "execution_count": 29,
          "metadata": {},
          "output_type": "execute_result"
        }
      ],
      "source": [
        "np.amin(a, 1)"
      ]
    },
    {
      "cell_type": "markdown",
      "id": "1fcedbc7",
      "metadata": {
        "id": "1fcedbc7"
      },
      "source": [
        "Applying amin() function again"
      ]
    },
    {
      "cell_type": "code",
      "execution_count": null,
      "id": "e3904f36",
      "metadata": {
        "id": "e3904f36",
        "outputId": "171cc5bc-377e-4325-889f-adc7b19e2597"
      },
      "outputs": [
        {
          "data": {
            "text/plain": [
              "array([2, 4, 3])"
            ]
          },
          "execution_count": 30,
          "metadata": {},
          "output_type": "execute_result"
        }
      ],
      "source": [
        "np.amin(a, 0)"
      ]
    },
    {
      "cell_type": "markdown",
      "id": "974abbea",
      "metadata": {
        "id": "974abbea"
      },
      "source": [
        "Applying amax() function again"
      ]
    },
    {
      "cell_type": "code",
      "execution_count": null,
      "id": "1eab3a94",
      "metadata": {
        "id": "1eab3a94",
        "outputId": "477e957e-baaf-4b31-fa4f-093040f7421c"
      },
      "outputs": [
        {
          "data": {
            "text/plain": [
              "array([8, 7, 9])"
            ]
          },
          "execution_count": 32,
          "metadata": {},
          "output_type": "execute_result"
        }
      ],
      "source": [
        "np.amax(a, axis = 0)"
      ]
    },
    {
      "cell_type": "code",
      "execution_count": null,
      "id": "e5c62907",
      "metadata": {
        "id": "e5c62907",
        "outputId": "2c87f4d0-500e-41f6-eca2-f13cac2d2af3"
      },
      "outputs": [
        {
          "data": {
            "text/plain": [
              "array([7, 8, 9])"
            ]
          },
          "execution_count": 33,
          "metadata": {},
          "output_type": "execute_result"
        }
      ],
      "source": [
        "np.amax(a, axis =1)"
      ]
    },
    {
      "cell_type": "markdown",
      "id": "032a90ad",
      "metadata": {
        "id": "032a90ad"
      },
      "source": [
        "<h4>numpy.ptp()</h4>\n",
        "\n",
        "The <b>numpy.ptp()</b> function returns the range(maximum-minimum) of values along an axis."
      ]
    },
    {
      "cell_type": "code",
      "execution_count": null,
      "id": "36e42dcb",
      "metadata": {
        "id": "36e42dcb",
        "outputId": "a00d49a3-d5b2-4de2-e830-3235e3fc3a7f"
      },
      "outputs": [
        {
          "data": {
            "text/plain": [
              "array([[3, 7, 5],\n",
              "       [8, 4, 3],\n",
              "       [2, 4, 9]])"
            ]
          },
          "execution_count": 35,
          "metadata": {},
          "output_type": "execute_result"
        }
      ],
      "source": [
        "import numpy as np\n",
        "\n",
        "a = np.array([[3, 7, 5], [8, 4, 3], [2, 4, 9]])\n",
        "a"
      ]
    },
    {
      "cell_type": "code",
      "execution_count": null,
      "id": "12536212",
      "metadata": {
        "id": "12536212",
        "outputId": "aebfb085-2107-4a7b-9c64-5b925866a478"
      },
      "outputs": [
        {
          "data": {
            "text/plain": [
              "7"
            ]
          },
          "execution_count": 36,
          "metadata": {},
          "output_type": "execute_result"
        }
      ],
      "source": [
        "np.ptp(a)"
      ]
    },
    {
      "cell_type": "code",
      "execution_count": null,
      "id": "c5205c2f",
      "metadata": {
        "id": "c5205c2f",
        "outputId": "8d94d2c5-e984-4bae-927d-3540f856ffb7"
      },
      "outputs": [
        {
          "data": {
            "text/plain": [
              "array([4, 5, 7])"
            ]
          },
          "execution_count": 37,
          "metadata": {},
          "output_type": "execute_result"
        }
      ],
      "source": [
        "np.ptp(a, axis = 1)"
      ]
    },
    {
      "cell_type": "code",
      "execution_count": null,
      "id": "be13ac5e",
      "metadata": {
        "id": "be13ac5e",
        "outputId": "79da915a-5651-47b0-a328-895d78e23a28"
      },
      "outputs": [
        {
          "data": {
            "text/plain": [
              "array([6, 3, 6])"
            ]
          },
          "execution_count": 38,
          "metadata": {},
          "output_type": "execute_result"
        }
      ],
      "source": [
        "np.ptp(a, axis = 0)"
      ]
    },
    {
      "cell_type": "markdown",
      "id": "de5e287c",
      "metadata": {
        "id": "de5e287c"
      },
      "source": [
        "<h4>numpy.percentile()</h4>\n",
        "\n",
        "Percentile (or a centile) is a measure used in statistice indicating the value below which a given percentage of observations in a group of observations fail. The function <b>numpy.percentile()</b> takes the following arguments.\n",
        "\n",
        "`numpy.percentile(a, q, axis)`\n",
        "![image.png](attachment:image.png)"
      ]
    },
    {
      "cell_type": "code",
      "execution_count": null,
      "id": "0990659d",
      "metadata": {
        "id": "0990659d",
        "outputId": "d4324388-69f3-4b52-d212-8a9f5c9e648f"
      },
      "outputs": [
        {
          "data": {
            "text/plain": [
              "array([[30, 40, 70],\n",
              "       [80, 20, 10],\n",
              "       [50, 90, 60]])"
            ]
          },
          "execution_count": 39,
          "metadata": {},
          "output_type": "execute_result"
        }
      ],
      "source": [
        "import numpy as np\n",
        "\n",
        "a = np.array([[30, 40, 70], [80, 20, 10], [50, 90, 60]])\n",
        "a"
      ]
    },
    {
      "cell_type": "code",
      "execution_count": null,
      "id": "cffd5737",
      "metadata": {
        "id": "cffd5737",
        "outputId": "7f5faacf-0763-4453-b065-ea7807912bdb"
      },
      "outputs": [
        {
          "data": {
            "text/plain": [
              "50.0"
            ]
          },
          "execution_count": 40,
          "metadata": {},
          "output_type": "execute_result"
        }
      ],
      "source": [
        "np.percentile(a, 50)"
      ]
    },
    {
      "cell_type": "code",
      "execution_count": null,
      "id": "e58c5ca4",
      "metadata": {
        "id": "e58c5ca4",
        "outputId": "9ef229be-a835-441a-8d17-2d20f67c2488"
      },
      "outputs": [
        {
          "data": {
            "text/plain": [
              "array([50., 40., 60.])"
            ]
          },
          "execution_count": 41,
          "metadata": {},
          "output_type": "execute_result"
        }
      ],
      "source": [
        "np.percentile(a, 50, axis = 0)"
      ]
    },
    {
      "cell_type": "code",
      "execution_count": null,
      "id": "2d06df6a",
      "metadata": {
        "id": "2d06df6a",
        "outputId": "3f386e20-ccb2-4030-df9f-6b5d28e23f6a"
      },
      "outputs": [
        {
          "data": {
            "text/plain": [
              "array([40., 20., 60.])"
            ]
          },
          "execution_count": 42,
          "metadata": {},
          "output_type": "execute_result"
        }
      ],
      "source": [
        "np.percentile(a, 50, axis = 1)"
      ]
    },
    {
      "cell_type": "markdown",
      "id": "dbb88095",
      "metadata": {
        "id": "dbb88095"
      },
      "source": [
        "<h4>numpy.median()</h4>\n",
        "\n",
        "<b>Median</b> is defined as the value seperating the higher half of a data sample from the lower half. The <b>numpy.median()</b> function is used as shown in the following program."
      ]
    },
    {
      "cell_type": "code",
      "execution_count": null,
      "id": "9684734c",
      "metadata": {
        "id": "9684734c",
        "outputId": "98d77e90-fd1b-4bb5-b3e8-970ef2a418b0"
      },
      "outputs": [
        {
          "data": {
            "text/plain": [
              "array([[30, 65, 70],\n",
              "       [80, 95, 10],\n",
              "       [50, 90, 60]])"
            ]
          },
          "execution_count": 44,
          "metadata": {},
          "output_type": "execute_result"
        }
      ],
      "source": [
        "import numpy as np\n",
        "\n",
        "a = np.array([[30, 65, 70], [80, 95, 10], [50, 90, 60]])\n",
        "a"
      ]
    },
    {
      "cell_type": "code",
      "execution_count": null,
      "id": "2f04ae2e",
      "metadata": {
        "id": "2f04ae2e",
        "outputId": "2cdc69c5-1a36-4ee5-c524-5591461eff07"
      },
      "outputs": [
        {
          "data": {
            "text/plain": [
              "65.0"
            ]
          },
          "execution_count": 45,
          "metadata": {},
          "output_type": "execute_result"
        }
      ],
      "source": [
        "np.median(a)"
      ]
    },
    {
      "cell_type": "code",
      "execution_count": null,
      "id": "7eca3a90",
      "metadata": {
        "id": "7eca3a90",
        "outputId": "8090aba6-1533-4156-b549-efe70500d99f"
      },
      "outputs": [
        {
          "data": {
            "text/plain": [
              "array([50., 90., 60.])"
            ]
          },
          "execution_count": 46,
          "metadata": {},
          "output_type": "execute_result"
        }
      ],
      "source": [
        "np.median(a, axis = 0)"
      ]
    },
    {
      "cell_type": "code",
      "execution_count": null,
      "id": "705a0e71",
      "metadata": {
        "id": "705a0e71",
        "outputId": "8fd26914-5466-47f7-b7c5-644a1bbace1b"
      },
      "outputs": [
        {
          "data": {
            "text/plain": [
              "array([65., 80., 60.])"
            ]
          },
          "execution_count": 47,
          "metadata": {},
          "output_type": "execute_result"
        }
      ],
      "source": [
        "np.median(a, axis = 1)"
      ]
    },
    {
      "cell_type": "markdown",
      "id": "35ff403b",
      "metadata": {
        "id": "35ff403b"
      },
      "source": [
        "<h4>numpy.mean()</h4>\n",
        "\n",
        "Arithmetic mean is the sum of elements along an axis divided by the number of elements. The <b>numpy.mean()</b> function returns the arithmetic mean of elements in the array. Iff the axis is mentioned, it is calculated along it."
      ]
    },
    {
      "cell_type": "code",
      "execution_count": null,
      "id": "2c2256af",
      "metadata": {
        "id": "2c2256af",
        "outputId": "26714808-91f3-4a92-cbb3-bc4617cf7b0a"
      },
      "outputs": [
        {
          "data": {
            "text/plain": [
              "array([[1, 2, 3],\n",
              "       [3, 4, 5],\n",
              "       [4, 5, 6]])"
            ]
          },
          "execution_count": 49,
          "metadata": {},
          "output_type": "execute_result"
        }
      ],
      "source": [
        "import numpy as np\n",
        "\n",
        "a = np.array([[1, 2, 3], [3, 4, 5], [4, 5, 6]])\n",
        "a"
      ]
    },
    {
      "cell_type": "code",
      "execution_count": null,
      "id": "9e48d0c6",
      "metadata": {
        "id": "9e48d0c6",
        "outputId": "6d2a2ffa-116e-44c3-bbb2-783a17c966ae"
      },
      "outputs": [
        {
          "data": {
            "text/plain": [
              "3.6666666666666665"
            ]
          },
          "execution_count": 50,
          "metadata": {},
          "output_type": "execute_result"
        }
      ],
      "source": [
        "np.mean(a)"
      ]
    },
    {
      "cell_type": "code",
      "execution_count": null,
      "id": "220199d2",
      "metadata": {
        "id": "220199d2",
        "outputId": "16ffadac-6e21-4f7a-f40b-6535004fd326"
      },
      "outputs": [
        {
          "data": {
            "text/plain": [
              "array([2.66666667, 3.66666667, 4.66666667])"
            ]
          },
          "execution_count": 51,
          "metadata": {},
          "output_type": "execute_result"
        }
      ],
      "source": [
        "np.mean(a, axis = 0)"
      ]
    },
    {
      "cell_type": "code",
      "execution_count": null,
      "id": "4b322b1f",
      "metadata": {
        "id": "4b322b1f",
        "outputId": "be692d7a-36a6-42f9-9752-9b6cbf6e9b75"
      },
      "outputs": [
        {
          "data": {
            "text/plain": [
              "array([2., 4., 5.])"
            ]
          },
          "execution_count": 52,
          "metadata": {},
          "output_type": "execute_result"
        }
      ],
      "source": [
        "np.mean(a, axis = 1)"
      ]
    },
    {
      "cell_type": "markdown",
      "id": "c2bf7261",
      "metadata": {
        "id": "c2bf7261"
      },
      "source": [
        "<h4>standard Deviation</h4>\n",
        "\n",
        "Standard Deviation is the square root of the average of squared deviations from mean. The formula for standard deviation is as follows -\n",
        "\n",
        "$std = sqrt(mean(abs(x - x.mean())**2))$\n",
        "\n",
        "if the array is [1, 2, 3, 4] then its mean is 2.5. Hence the squared deviations are [2.25, 0.25, 0.25, 2.25] and the square root of its mean divided by 4 i.e. sqrt(5/4) is 1.1180339887498949"
      ]
    },
    {
      "cell_type": "code",
      "execution_count": null,
      "id": "b457f951",
      "metadata": {
        "id": "b457f951",
        "outputId": "76df2338-cb7e-426c-c4c3-a7e344222f10"
      },
      "outputs": [
        {
          "data": {
            "text/plain": [
              "1.118033988749895"
            ]
          },
          "execution_count": 54,
          "metadata": {},
          "output_type": "execute_result"
        }
      ],
      "source": [
        "import numpy as np\n",
        "\n",
        "np.std([1, 2, 3, 4])"
      ]
    },
    {
      "cell_type": "markdown",
      "id": "db8fa85f",
      "metadata": {
        "id": "db8fa85f"
      },
      "source": [
        "<h4>Variance</h4>\n",
        "Variance is the average of squared deviations, i.e. <b>mean(abs(x - x.mean())**2)</b> In other words, the standard deviation is the square root of variance."
      ]
    },
    {
      "cell_type": "code",
      "execution_count": null,
      "id": "41718163",
      "metadata": {
        "id": "41718163",
        "outputId": "e1aa1252-0591-425d-be5b-08356b6e80d8"
      },
      "outputs": [
        {
          "data": {
            "text/plain": [
              "1.25"
            ]
          },
          "execution_count": 56,
          "metadata": {},
          "output_type": "execute_result"
        }
      ],
      "source": [
        "import numpy as np\n",
        "np.var([1, 2, 3, 4])"
      ]
    },
    {
      "cell_type": "markdown",
      "id": "49e70a6a",
      "metadata": {
        "id": "49e70a6a"
      },
      "source": [
        "<h2 align='center'>NumPy - Arithmetic Operations</h2>\n",
        "\n",
        "Input arrays for performing arithmetic opertions such as add(), subtract(), multiply(), and divide() must be either of the same shape or should confirm to array broadcasting rules."
      ]
    },
    {
      "cell_type": "code",
      "execution_count": null,
      "id": "48661d5f",
      "metadata": {
        "id": "48661d5f",
        "outputId": "78a21533-94bd-449c-8a78-d09ea28e40db"
      },
      "outputs": [
        {
          "name": "stderr",
          "output_type": "stream",
          "text": [
            "C:\\Users\\Neeta Devke\\AppData\\Local\\Temp\\ipykernel_14596\\3071971318.py:3: DeprecationWarning: `np.float` is a deprecated alias for the builtin `float`. To silence this warning, use `float` by itself. Doing this will not modify any behavior and is safe. If you specifically wanted the numpy scalar type, use `np.float64` here.\n",
            "Deprecated in NumPy 1.20; for more details and guidance: https://numpy.org/devdocs/release/1.20.0-notes.html#deprecations\n",
            "  a = np.arange(9, dtype = np.float).reshape(3, 3)\n"
          ]
        },
        {
          "data": {
            "text/plain": [
              "array([[0., 1., 2.],\n",
              "       [3., 4., 5.],\n",
              "       [6., 7., 8.]])"
            ]
          },
          "execution_count": 58,
          "metadata": {},
          "output_type": "execute_result"
        }
      ],
      "source": [
        "import numpy as np\n",
        "\n",
        "a = np.arange(9, dtype = np.float).reshape(3, 3)\n",
        "a"
      ]
    },
    {
      "cell_type": "code",
      "execution_count": null,
      "id": "0f2a9f07",
      "metadata": {
        "id": "0f2a9f07",
        "outputId": "1c2c9e3c-12ff-425e-d7fd-8b774a48c441"
      },
      "outputs": [
        {
          "data": {
            "text/plain": [
              "array([10, 10, 10])"
            ]
          },
          "execution_count": 59,
          "metadata": {},
          "output_type": "execute_result"
        }
      ],
      "source": [
        "b = np.array([10, 10, 10])\n",
        "b"
      ]
    },
    {
      "cell_type": "markdown",
      "id": "0817313b",
      "metadata": {
        "id": "0817313b"
      },
      "source": [
        "Add the two arrays"
      ]
    },
    {
      "cell_type": "code",
      "execution_count": null,
      "id": "71835955",
      "metadata": {
        "id": "71835955",
        "outputId": "7f6906f5-2c18-4164-d00d-5101be70a889"
      },
      "outputs": [
        {
          "data": {
            "text/plain": [
              "array([[10., 11., 12.],\n",
              "       [13., 14., 15.],\n",
              "       [16., 17., 18.]])"
            ]
          },
          "execution_count": 61,
          "metadata": {},
          "output_type": "execute_result"
        }
      ],
      "source": [
        "np.add(a, b)"
      ]
    },
    {
      "cell_type": "markdown",
      "id": "c3d4f106",
      "metadata": {
        "id": "c3d4f106"
      },
      "source": [
        "Substract the two arrays"
      ]
    },
    {
      "cell_type": "code",
      "execution_count": null,
      "id": "a62e18ce",
      "metadata": {
        "id": "a62e18ce",
        "outputId": "c4d916bc-1ce6-481c-92dd-e28679834b5e"
      },
      "outputs": [
        {
          "data": {
            "text/plain": [
              "array([[-10.,  -9.,  -8.],\n",
              "       [ -7.,  -6.,  -5.],\n",
              "       [ -4.,  -3.,  -2.]])"
            ]
          },
          "execution_count": 64,
          "metadata": {},
          "output_type": "execute_result"
        }
      ],
      "source": [
        "np.subtract(a, b)"
      ]
    },
    {
      "cell_type": "markdown",
      "id": "eadfacb4",
      "metadata": {
        "id": "eadfacb4"
      },
      "source": [
        "Multiply the two arrays"
      ]
    },
    {
      "cell_type": "code",
      "execution_count": null,
      "id": "e3711dfc",
      "metadata": {
        "id": "e3711dfc",
        "outputId": "be458bd5-dcef-48c9-acbe-793903cadac2"
      },
      "outputs": [
        {
          "data": {
            "text/plain": [
              "array([[ 0., 10., 20.],\n",
              "       [30., 40., 50.],\n",
              "       [60., 70., 80.]])"
            ]
          },
          "execution_count": 66,
          "metadata": {},
          "output_type": "execute_result"
        }
      ],
      "source": [
        "np.multiply(a,b)"
      ]
    },
    {
      "cell_type": "markdown",
      "id": "7f4b0229",
      "metadata": {
        "id": "7f4b0229"
      },
      "source": [
        "Divide the two arrays"
      ]
    },
    {
      "cell_type": "code",
      "execution_count": null,
      "id": "4f8264fd",
      "metadata": {
        "id": "4f8264fd",
        "outputId": "77913299-ffaa-4513-fb06-8fdf233b3b96"
      },
      "outputs": [
        {
          "data": {
            "text/plain": [
              "array([[0. , 0.1, 0.2],\n",
              "       [0.3, 0.4, 0.5],\n",
              "       [0.6, 0.7, 0.8]])"
            ]
          },
          "execution_count": 68,
          "metadata": {},
          "output_type": "execute_result"
        }
      ],
      "source": [
        "np.divide(a, b)"
      ]
    },
    {
      "cell_type": "markdown",
      "id": "ae85d8e3",
      "metadata": {
        "id": "ae85d8e3"
      },
      "source": [
        "<h4>numpy.reciprocal()</h4>\n",
        "\n",
        "This function returns the reciprocal of argument, element-wise. For elements with absolute values larger than 1, the result is always 0 because of the way in which Python handles integer division. For integer 0, an overflow warning is issued."
      ]
    },
    {
      "cell_type": "code",
      "execution_count": null,
      "id": "f71cec2a",
      "metadata": {
        "id": "f71cec2a",
        "outputId": "73e16670-8b1e-4ff6-8b53-f2b0aa96973d"
      },
      "outputs": [
        {
          "data": {
            "text/plain": [
              "array([  0.25,   1.33,   1.  ,   0.  , 100.  ])"
            ]
          },
          "execution_count": 70,
          "metadata": {},
          "output_type": "execute_result"
        }
      ],
      "source": [
        "import numpy as np\n",
        "\n",
        "a = np.array([0.25, 1.33, 1, 0, 100])\n",
        "a"
      ]
    },
    {
      "cell_type": "markdown",
      "id": "5f8078da",
      "metadata": {
        "id": "5f8078da"
      },
      "source": [
        "After applying reciprocal function"
      ]
    },
    {
      "cell_type": "code",
      "execution_count": null,
      "id": "c43ec720",
      "metadata": {
        "id": "c43ec720",
        "outputId": "4bece906-38a1-43d8-e06c-22c71f7ce6df"
      },
      "outputs": [
        {
          "name": "stderr",
          "output_type": "stream",
          "text": [
            "C:\\Users\\Neeta Devke\\AppData\\Local\\Temp\\ipykernel_14596\\1574127933.py:1: RuntimeWarning: divide by zero encountered in reciprocal\n",
            "  np.reciprocal(a)\n"
          ]
        },
        {
          "data": {
            "text/plain": [
              "array([4.       , 0.7518797, 1.       ,       inf, 0.01     ])"
            ]
          },
          "execution_count": 72,
          "metadata": {},
          "output_type": "execute_result"
        }
      ],
      "source": [
        "np.reciprocal(a)"
      ]
    },
    {
      "cell_type": "code",
      "execution_count": null,
      "id": "8935c5cf",
      "metadata": {
        "id": "8935c5cf",
        "outputId": "50c7d9e9-21af-42b5-c43f-9fd5ee13aad3"
      },
      "outputs": [
        {
          "data": {
            "text/plain": [
              "array([100])"
            ]
          },
          "execution_count": 73,
          "metadata": {},
          "output_type": "execute_result"
        }
      ],
      "source": [
        "b = np.array([100], dtype = int)\n",
        "b"
      ]
    },
    {
      "cell_type": "code",
      "execution_count": null,
      "id": "f7980a59",
      "metadata": {
        "id": "f7980a59",
        "outputId": "2cbdcac1-3b96-4903-9a19-847d2ce4defb"
      },
      "outputs": [
        {
          "data": {
            "text/plain": [
              "array([0], dtype=int32)"
            ]
          },
          "execution_count": 74,
          "metadata": {},
          "output_type": "execute_result"
        }
      ],
      "source": [
        "np.reciprocal(b)"
      ]
    },
    {
      "cell_type": "markdown",
      "id": "824784f0",
      "metadata": {
        "id": "824784f0"
      },
      "source": [
        "<h4>numpy.power()</h4>\n",
        "\n",
        "This function treats elements in the first input array as base and returns it raised to the power of the corresponding element in the second input array."
      ]
    },
    {
      "cell_type": "code",
      "execution_count": null,
      "id": "81f9997f",
      "metadata": {
        "id": "81f9997f",
        "outputId": "4134e5df-4ab1-4978-b225-bc2f675589e7"
      },
      "outputs": [
        {
          "data": {
            "text/plain": [
              "array([  10,  100, 1000])"
            ]
          },
          "execution_count": 76,
          "metadata": {},
          "output_type": "execute_result"
        }
      ],
      "source": [
        "import numpy as np\n",
        "\n",
        "a = np.array([10, 100, 1000])\n",
        "a"
      ]
    },
    {
      "cell_type": "markdown",
      "id": "313b9022",
      "metadata": {
        "id": "313b9022"
      },
      "source": [
        "Applying Power Function"
      ]
    },
    {
      "cell_type": "code",
      "execution_count": null,
      "id": "1b00f3b5",
      "metadata": {
        "id": "1b00f3b5",
        "outputId": "c77e0ba3-4542-499f-e8c5-83094cf8d53e"
      },
      "outputs": [
        {
          "data": {
            "text/plain": [
              "array([    100,   10000, 1000000], dtype=int32)"
            ]
          },
          "execution_count": 78,
          "metadata": {},
          "output_type": "execute_result"
        }
      ],
      "source": [
        "np.power(a, 2)"
      ]
    },
    {
      "cell_type": "code",
      "execution_count": null,
      "id": "88ddf222",
      "metadata": {
        "id": "88ddf222",
        "outputId": "7c758062-2164-43cc-f3dd-f80b6501c8bc"
      },
      "outputs": [
        {
          "data": {
            "text/plain": [
              "array([1, 2, 3])"
            ]
          },
          "execution_count": 79,
          "metadata": {},
          "output_type": "execute_result"
        }
      ],
      "source": [
        "b = np.array([1, 2, 3])\n",
        "b"
      ]
    },
    {
      "cell_type": "code",
      "execution_count": null,
      "id": "19dcf792",
      "metadata": {
        "id": "19dcf792",
        "outputId": "a0670971-9382-4743-eada-7ba237882945"
      },
      "outputs": [
        {
          "data": {
            "text/plain": [
              "array([        10,      10000, 1000000000], dtype=int32)"
            ]
          },
          "execution_count": 80,
          "metadata": {},
          "output_type": "execute_result"
        }
      ],
      "source": [
        "np.power(a, b)"
      ]
    },
    {
      "cell_type": "markdown",
      "id": "6cf61518",
      "metadata": {
        "id": "6cf61518"
      },
      "source": [
        "<h4>numpy.mod()</h4>\n",
        "\n",
        "This function returns the remainder of division of the corresponding elements in the input array. The function <b>numpy.remaider()</b> also produces the same result."
      ]
    },
    {
      "cell_type": "code",
      "execution_count": null,
      "id": "c1bc0e23",
      "metadata": {
        "id": "c1bc0e23"
      },
      "outputs": [],
      "source": [
        "import numpy as np\n",
        "\n",
        "a = np.array([10, 20, 30])\n",
        "b = np.array([3, 5, 7])"
      ]
    },
    {
      "cell_type": "code",
      "execution_count": null,
      "id": "7b69189e",
      "metadata": {
        "id": "7b69189e",
        "outputId": "4456a6aa-c610-4b30-e027-0879164dd1ee"
      },
      "outputs": [
        {
          "data": {
            "text/plain": [
              "array([10, 20, 30])"
            ]
          },
          "execution_count": 86,
          "metadata": {},
          "output_type": "execute_result"
        }
      ],
      "source": [
        "a"
      ]
    },
    {
      "cell_type": "code",
      "execution_count": null,
      "id": "7c978676",
      "metadata": {
        "id": "7c978676",
        "outputId": "05d5d21b-d924-4c66-a916-a1676ea40ec6"
      },
      "outputs": [
        {
          "data": {
            "text/plain": [
              "array([3, 5, 7])"
            ]
          },
          "execution_count": 87,
          "metadata": {},
          "output_type": "execute_result"
        }
      ],
      "source": [
        "b"
      ]
    },
    {
      "cell_type": "markdown",
      "id": "3495c298",
      "metadata": {
        "id": "3495c298"
      },
      "source": [
        "Applying mod() function"
      ]
    },
    {
      "cell_type": "code",
      "execution_count": null,
      "id": "3fe77878",
      "metadata": {
        "id": "3fe77878",
        "outputId": "03d6c360-a9c1-4b14-9ae2-e72139405256"
      },
      "outputs": [
        {
          "data": {
            "text/plain": [
              "array([1, 0, 2], dtype=int32)"
            ]
          },
          "execution_count": 89,
          "metadata": {},
          "output_type": "execute_result"
        }
      ],
      "source": [
        "np.mod(a, b)"
      ]
    },
    {
      "cell_type": "markdown",
      "id": "19afa184",
      "metadata": {
        "id": "19afa184"
      },
      "source": [
        "Applying remainder() function"
      ]
    },
    {
      "cell_type": "code",
      "execution_count": null,
      "id": "e6ee8b46",
      "metadata": {
        "id": "e6ee8b46",
        "outputId": "867b5a1a-fdea-43d7-d762-b5d5fcb8ce90"
      },
      "outputs": [
        {
          "data": {
            "text/plain": [
              "array([1, 0, 2], dtype=int32)"
            ]
          },
          "execution_count": 91,
          "metadata": {},
          "output_type": "execute_result"
        }
      ],
      "source": [
        "np.remainder(a, b)"
      ]
    },
    {
      "cell_type": "markdown",
      "id": "b4fb133e",
      "metadata": {
        "id": "b4fb133e"
      },
      "source": [
        "The following functions are used to perform operations on array with complex numbers.\n",
        "\n",
        "- <b>numpy.real()</b> - returns the real part of the complex data type argument.\n",
        "- <b>numpy.imag()</b> - returns the imaginary part of the complex data type argument.\n",
        "- <b>numpy.conj()</b> -returns the complex conjugate, which is obtained by changing the sign of the imaginary part.\n",
        "- <b>numpy.angle()</b> - returns the angle of the complex argument. The function has degree parameter. If true, the angle in the degree is returned, otherwise the angle is in radians."
      ]
    },
    {
      "cell_type": "code",
      "execution_count": null,
      "id": "0ef96b98",
      "metadata": {
        "id": "0ef96b98",
        "outputId": "e3e62209-a52a-4ccc-c379-1061fa489b93"
      },
      "outputs": [
        {
          "data": {
            "text/plain": [
              "array([-0.-5.6j,  0.+0.2j, 11.+0.j ,  1.+1.j ])"
            ]
          },
          "execution_count": 93,
          "metadata": {},
          "output_type": "execute_result"
        }
      ],
      "source": [
        "import numpy as np\n",
        "a = np.array([-5.6j, 0.2j, 11., 1+1j])\n",
        "a"
      ]
    },
    {
      "cell_type": "markdown",
      "id": "5a148c34",
      "metadata": {
        "id": "5a148c34"
      },
      "source": [
        "Applying real() Function"
      ]
    },
    {
      "cell_type": "code",
      "execution_count": null,
      "id": "4f290e0d",
      "metadata": {
        "id": "4f290e0d",
        "outputId": "2aa5844c-e99f-42ae-8565-f1008a225962"
      },
      "outputs": [
        {
          "data": {
            "text/plain": [
              "array([-0.,  0., 11.,  1.])"
            ]
          },
          "execution_count": 95,
          "metadata": {},
          "output_type": "execute_result"
        }
      ],
      "source": [
        "np.real(a)"
      ]
    },
    {
      "cell_type": "markdown",
      "id": "2f163e09",
      "metadata": {
        "id": "2f163e09"
      },
      "source": [
        "Applying imag() Function"
      ]
    },
    {
      "cell_type": "code",
      "execution_count": null,
      "id": "c3078f25",
      "metadata": {
        "id": "c3078f25",
        "outputId": "9f4f2c5d-5414-4212-b039-7dd81fa1ee87"
      },
      "outputs": [
        {
          "data": {
            "text/plain": [
              "array([-5.6,  0.2,  0. ,  1. ])"
            ]
          },
          "execution_count": 97,
          "metadata": {},
          "output_type": "execute_result"
        }
      ],
      "source": [
        "np.imag(a)"
      ]
    },
    {
      "cell_type": "markdown",
      "id": "21d689cf",
      "metadata": {
        "id": "21d689cf"
      },
      "source": [
        "Applying angle() Function"
      ]
    },
    {
      "cell_type": "code",
      "execution_count": null,
      "id": "a4186b30",
      "metadata": {
        "id": "a4186b30",
        "outputId": "2e5ebdf0-1182-4f64-f999-86cbfd8a2f9f"
      },
      "outputs": [
        {
          "data": {
            "text/plain": [
              "array([-1.57079633,  1.57079633,  0.        ,  0.78539816])"
            ]
          },
          "execution_count": 99,
          "metadata": {},
          "output_type": "execute_result"
        }
      ],
      "source": [
        "np.angle(a)"
      ]
    },
    {
      "cell_type": "markdown",
      "id": "5bca1e03",
      "metadata": {
        "id": "5bca1e03"
      },
      "source": [
        "Applying conj() function"
      ]
    },
    {
      "cell_type": "code",
      "execution_count": null,
      "id": "f555b063",
      "metadata": {
        "id": "f555b063",
        "outputId": "4075abb5-ba20-42de-8e6c-938538cb2e3b"
      },
      "outputs": [
        {
          "data": {
            "text/plain": [
              "array([-0.+5.6j,  0.-0.2j, 11.-0.j ,  1.-1.j ])"
            ]
          },
          "execution_count": 101,
          "metadata": {},
          "output_type": "execute_result"
        }
      ],
      "source": [
        "np.conj(a)"
      ]
    },
    {
      "cell_type": "markdown",
      "id": "fe635eec",
      "metadata": {
        "id": "fe635eec"
      },
      "source": [
        "Applying angle() Function again (result in degrees)"
      ]
    },
    {
      "cell_type": "code",
      "execution_count": null,
      "id": "ff1ce292",
      "metadata": {
        "id": "ff1ce292",
        "outputId": "0d0d17cf-8c9e-4d0b-980f-b08c399773b6"
      },
      "outputs": [
        {
          "data": {
            "text/plain": [
              "array([-90.,  90.,   0.,  45.])"
            ]
          },
          "execution_count": 103,
          "metadata": {},
          "output_type": "execute_result"
        }
      ],
      "source": [
        "np.angle(a, deg = True)"
      ]
    },
    {
      "cell_type": "markdown",
      "id": "7e99129e",
      "metadata": {
        "id": "7e99129e"
      },
      "source": [
        "<h2 align='center'>NumPy - Copies & Views</h2>\n",
        "\n",
        "While executing the functions, some of them return a copy of the input array, while some return the view. When the contents are physically stored in another location, it is <b>Copy</b>. If on the other hand, a different view of the same memory content is provided, we call it as <b>View</b>\n",
        "\n",
        "<h4>No Copy</h4>\n",
        "\n",
        "Simple assignments do not make the copy of array object. Instead, it uses the same id() of the original array to access it. The <b>id()</b> returns a universal identifier of Python object, similar to the pointer in C.\n",
        "\n",
        "Furthermore, any changes in either gets reflected in the other. For example, the changing shape of one will change the shape of the other too."
      ]
    },
    {
      "cell_type": "code",
      "execution_count": null,
      "id": "04345711",
      "metadata": {
        "id": "04345711",
        "outputId": "291b4325-448a-4c4e-ea7c-8325afc11695"
      },
      "outputs": [
        {
          "data": {
            "text/plain": [
              "array([0, 1, 2, 3, 4, 5])"
            ]
          },
          "execution_count": 105,
          "metadata": {},
          "output_type": "execute_result"
        }
      ],
      "source": [
        "import numpy as np\n",
        "\n",
        "a = np.arange(6)\n",
        "a"
      ]
    },
    {
      "cell_type": "markdown",
      "id": "257f708d",
      "metadata": {
        "id": "257f708d"
      },
      "source": [
        "Applying id() Function"
      ]
    },
    {
      "cell_type": "code",
      "execution_count": null,
      "id": "538f78b0",
      "metadata": {
        "id": "538f78b0",
        "outputId": "7be06e53-6e62-4b69-9779-2f2f3ef53f03"
      },
      "outputs": [
        {
          "data": {
            "text/plain": [
              "2228794583536"
            ]
          },
          "execution_count": 107,
          "metadata": {},
          "output_type": "execute_result"
        }
      ],
      "source": [
        "id(a)"
      ]
    },
    {
      "cell_type": "markdown",
      "id": "435e1b68",
      "metadata": {
        "id": "435e1b68"
      },
      "source": [
        "a is assigned to b"
      ]
    },
    {
      "cell_type": "code",
      "execution_count": null,
      "id": "d7fc1389",
      "metadata": {
        "id": "d7fc1389"
      },
      "outputs": [],
      "source": [
        "b = a"
      ]
    },
    {
      "cell_type": "code",
      "execution_count": null,
      "id": "261745cd",
      "metadata": {
        "id": "261745cd",
        "outputId": "8c4b5398-97cb-42cd-9afe-6cd47719e061"
      },
      "outputs": [
        {
          "data": {
            "text/plain": [
              "array([0, 1, 2, 3, 4, 5])"
            ]
          },
          "execution_count": 110,
          "metadata": {},
          "output_type": "execute_result"
        }
      ],
      "source": [
        "b"
      ]
    },
    {
      "cell_type": "markdown",
      "id": "8217e558",
      "metadata": {
        "id": "8217e558"
      },
      "source": [
        "b has same id()"
      ]
    },
    {
      "cell_type": "code",
      "execution_count": null,
      "id": "cf3394d4",
      "metadata": {
        "id": "cf3394d4",
        "outputId": "c45ecfd6-3928-4f0f-9e12-501149a14795"
      },
      "outputs": [
        {
          "data": {
            "text/plain": [
              "2228794583536"
            ]
          },
          "execution_count": 112,
          "metadata": {},
          "output_type": "execute_result"
        }
      ],
      "source": [
        "id(b)"
      ]
    },
    {
      "cell_type": "markdown",
      "id": "056269be",
      "metadata": {
        "id": "056269be"
      },
      "source": [
        "Change the shape of b"
      ]
    },
    {
      "cell_type": "code",
      "execution_count": null,
      "id": "0152ad61",
      "metadata": {
        "id": "0152ad61",
        "outputId": "caaf72ef-d97f-426e-fe84-ab7846595e50"
      },
      "outputs": [
        {
          "data": {
            "text/plain": [
              "array([[0, 1],\n",
              "       [2, 3],\n",
              "       [4, 5]])"
            ]
          },
          "execution_count": 114,
          "metadata": {},
          "output_type": "execute_result"
        }
      ],
      "source": [
        "b.shape = 3, 2\n",
        "b"
      ]
    },
    {
      "cell_type": "markdown",
      "id": "0d0c3068",
      "metadata": {
        "id": "0d0c3068"
      },
      "source": [
        "Shape of a also gets changed"
      ]
    },
    {
      "cell_type": "code",
      "execution_count": null,
      "id": "5753e9c9",
      "metadata": {
        "id": "5753e9c9",
        "outputId": "78b58ea0-8d11-4e69-80d1-7b53b52115f9"
      },
      "outputs": [
        {
          "data": {
            "text/plain": [
              "array([[0, 1],\n",
              "       [2, 3],\n",
              "       [4, 5]])"
            ]
          },
          "execution_count": 116,
          "metadata": {},
          "output_type": "execute_result"
        }
      ],
      "source": [
        "a"
      ]
    },
    {
      "cell_type": "markdown",
      "id": "4efaedca",
      "metadata": {
        "id": "4efaedca"
      },
      "source": [
        "<h4>View or Shallow Copy</h4>\n",
        "\n",
        "NumPy has <b>ndarray.view()</b> method which is a new array object that looks at the same data of the original array. Unlike the earlier case, change in dimensions of the new array doesn't change dimensions of the original array."
      ]
    },
    {
      "cell_type": "code",
      "execution_count": null,
      "id": "46e64bb3",
      "metadata": {
        "id": "46e64bb3",
        "outputId": "53aa2c0b-9901-483c-b7a4-34ad301de63c"
      },
      "outputs": [
        {
          "data": {
            "text/plain": [
              "array([[0, 1],\n",
              "       [2, 3],\n",
              "       [4, 5]])"
            ]
          },
          "execution_count": 118,
          "metadata": {},
          "output_type": "execute_result"
        }
      ],
      "source": [
        "import numpy as np\n",
        "\n",
        "a = np.arange(6).reshape(3,2)\n",
        "a"
      ]
    },
    {
      "cell_type": "markdown",
      "id": "690673ba",
      "metadata": {
        "id": "690673ba"
      },
      "source": [
        "Create view of a"
      ]
    },
    {
      "cell_type": "code",
      "execution_count": null,
      "id": "48a62067",
      "metadata": {
        "id": "48a62067"
      },
      "outputs": [],
      "source": [
        "b = a.view()"
      ]
    },
    {
      "cell_type": "code",
      "execution_count": null,
      "id": "844dbffb",
      "metadata": {
        "id": "844dbffb",
        "outputId": "16f46743-4f6d-4dc5-9cbb-62c2eda14ce6"
      },
      "outputs": [
        {
          "data": {
            "text/plain": [
              "array([[0, 1],\n",
              "       [2, 3],\n",
              "       [4, 5]])"
            ]
          },
          "execution_count": 121,
          "metadata": {},
          "output_type": "execute_result"
        }
      ],
      "source": [
        "b"
      ]
    },
    {
      "cell_type": "markdown",
      "id": "e7548540",
      "metadata": {
        "id": "e7548540"
      },
      "source": [
        "id () for both arrays are differents"
      ]
    },
    {
      "cell_type": "code",
      "execution_count": null,
      "id": "2120a71b",
      "metadata": {
        "id": "2120a71b",
        "outputId": "c2a70456-f764-4857-8af5-d489d276074f"
      },
      "outputs": [
        {
          "data": {
            "text/plain": [
              "2228794582672"
            ]
          },
          "execution_count": 123,
          "metadata": {},
          "output_type": "execute_result"
        }
      ],
      "source": [
        "id(a)"
      ]
    },
    {
      "cell_type": "code",
      "execution_count": null,
      "id": "279cea5f",
      "metadata": {
        "id": "279cea5f",
        "outputId": "933d6c9e-c906-4a8f-bb90-630487019fa0"
      },
      "outputs": [
        {
          "data": {
            "text/plain": [
              "2228794583920"
            ]
          },
          "execution_count": 124,
          "metadata": {},
          "output_type": "execute_result"
        }
      ],
      "source": [
        "id(b)"
      ]
    },
    {
      "cell_type": "markdown",
      "id": "f1876ddd",
      "metadata": {
        "id": "f1876ddd"
      },
      "source": [
        "Change the shape of b. It does not change the shape of a"
      ]
    },
    {
      "cell_type": "code",
      "execution_count": null,
      "id": "bed0d4cf",
      "metadata": {
        "id": "bed0d4cf"
      },
      "outputs": [],
      "source": [
        "b.shape = 2,3"
      ]
    },
    {
      "cell_type": "code",
      "execution_count": null,
      "id": "df8e3288",
      "metadata": {
        "id": "df8e3288",
        "outputId": "7912fe6d-c0eb-4b39-964c-2db6349b1a87"
      },
      "outputs": [
        {
          "data": {
            "text/plain": [
              "array([[0, 1, 2],\n",
              "       [3, 4, 5]])"
            ]
          },
          "execution_count": 126,
          "metadata": {},
          "output_type": "execute_result"
        }
      ],
      "source": [
        "b"
      ]
    },
    {
      "cell_type": "markdown",
      "id": "fb1780de",
      "metadata": {
        "id": "fb1780de"
      },
      "source": [
        "shape of a"
      ]
    },
    {
      "cell_type": "code",
      "execution_count": null,
      "id": "d615d8bc",
      "metadata": {
        "id": "d615d8bc",
        "outputId": "21e6ff3f-50c6-4c1f-bdc2-1ed9e169363c"
      },
      "outputs": [
        {
          "data": {
            "text/plain": [
              "array([[0, 1],\n",
              "       [2, 3],\n",
              "       [4, 5]])"
            ]
          },
          "execution_count": 129,
          "metadata": {},
          "output_type": "execute_result"
        }
      ],
      "source": [
        "a"
      ]
    },
    {
      "cell_type": "markdown",
      "id": "6a2d48a2",
      "metadata": {
        "id": "6a2d48a2"
      },
      "source": [
        "<h4>Deep Copy</h4>\n",
        "\n",
        "The <b>ndarray.copy()</b> function creates a deep copy. It is a complete copy of the array and its data, and doesn't share with the original array."
      ]
    },
    {
      "cell_type": "code",
      "execution_count": null,
      "id": "3944f43d",
      "metadata": {
        "id": "3944f43d",
        "outputId": "66fcba4b-01fc-4974-c3c7-715082c5582a"
      },
      "outputs": [
        {
          "data": {
            "text/plain": [
              "array([[10, 10],\n",
              "       [ 2,  3],\n",
              "       [ 4,  5]])"
            ]
          },
          "execution_count": 131,
          "metadata": {},
          "output_type": "execute_result"
        }
      ],
      "source": [
        "import numpy as np\n",
        "\n",
        "a = np.array([[10, 10], [2, 3], [4, 5]])\n",
        "a"
      ]
    },
    {
      "cell_type": "markdown",
      "id": "951c5689",
      "metadata": {
        "id": "951c5689"
      },
      "source": [
        "Create a Deep Copy of a"
      ]
    },
    {
      "cell_type": "code",
      "execution_count": null,
      "id": "a5ef4541",
      "metadata": {
        "id": "a5ef4541",
        "outputId": "80cdd03f-c295-4b07-9d29-a327097bd189"
      },
      "outputs": [
        {
          "data": {
            "text/plain": [
              "array([[10, 10],\n",
              "       [ 2,  3],\n",
              "       [ 4,  5]])"
            ]
          },
          "execution_count": 133,
          "metadata": {},
          "output_type": "execute_result"
        }
      ],
      "source": [
        "b = a.copy()\n",
        "b"
      ]
    },
    {
      "cell_type": "markdown",
      "id": "5372cd67",
      "metadata": {
        "id": "5372cd67"
      },
      "source": [
        "id() of both array are differents"
      ]
    },
    {
      "cell_type": "code",
      "execution_count": null,
      "id": "15e37c2b",
      "metadata": {
        "id": "15e37c2b",
        "outputId": "87ff2870-e673-4d44-fb85-a620ae788fe0"
      },
      "outputs": [
        {
          "data": {
            "text/plain": [
              "2228794584400"
            ]
          },
          "execution_count": 135,
          "metadata": {},
          "output_type": "execute_result"
        }
      ],
      "source": [
        "id(a)"
      ]
    },
    {
      "cell_type": "code",
      "execution_count": null,
      "id": "793e011a",
      "metadata": {
        "id": "793e011a",
        "outputId": "dab2e2fb-898d-4fdb-9d2a-c0783b29aaa3"
      },
      "outputs": [
        {
          "data": {
            "text/plain": [
              "2228794584016"
            ]
          },
          "execution_count": 136,
          "metadata": {},
          "output_type": "execute_result"
        }
      ],
      "source": [
        "id(b)"
      ]
    },
    {
      "cell_type": "markdown",
      "id": "3dffeb8d",
      "metadata": {
        "id": "3dffeb8d"
      },
      "source": [
        "Modified array b"
      ]
    },
    {
      "cell_type": "code",
      "execution_count": null,
      "id": "de8f81e2",
      "metadata": {
        "id": "de8f81e2"
      },
      "outputs": [],
      "source": [
        "b[0, 0] = 100"
      ]
    },
    {
      "cell_type": "code",
      "execution_count": null,
      "id": "e0df84b9",
      "metadata": {
        "id": "e0df84b9",
        "outputId": "0a1f67bf-7f04-4948-8563-1096d4f920a9"
      },
      "outputs": [
        {
          "data": {
            "text/plain": [
              "array([[100,  10],\n",
              "       [  2,   3],\n",
              "       [  4,   5]])"
            ]
          },
          "execution_count": 138,
          "metadata": {},
          "output_type": "execute_result"
        }
      ],
      "source": [
        "b"
      ]
    },
    {
      "cell_type": "markdown",
      "id": "6f5aebdf",
      "metadata": {
        "id": "6f5aebdf"
      },
      "source": [
        "a remains changed"
      ]
    },
    {
      "cell_type": "code",
      "execution_count": null,
      "id": "dc3bd458",
      "metadata": {
        "id": "dc3bd458",
        "outputId": "679456f0-f75d-4a4f-e352-990077941586"
      },
      "outputs": [
        {
          "data": {
            "text/plain": [
              "array([[10, 10],\n",
              "       [ 2,  3],\n",
              "       [ 4,  5]])"
            ]
          },
          "execution_count": 139,
          "metadata": {},
          "output_type": "execute_result"
        }
      ],
      "source": [
        "a"
      ]
    },
    {
      "cell_type": "code",
      "execution_count": null,
      "id": "2a0fd1d2",
      "metadata": {
        "id": "2a0fd1d2"
      },
      "outputs": [],
      "source": []
    }
  ],
  "metadata": {
    "kernelspec": {
      "display_name": "Python 3 (ipykernel)",
      "language": "python",
      "name": "python3"
    },
    "language_info": {
      "codemirror_mode": {
        "name": "ipython",
        "version": 3
      },
      "file_extension": ".py",
      "mimetype": "text/x-python",
      "name": "python",
      "nbconvert_exporter": "python",
      "pygments_lexer": "ipython3",
      "version": "3.9.12"
    },
    "colab": {
      "provenance": [],
      "include_colab_link": true
    }
  },
  "nbformat": 4,
  "nbformat_minor": 5
}