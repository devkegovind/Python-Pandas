{
  "cells": [
    {
      "cell_type": "markdown",
      "metadata": {
        "id": "view-in-github",
        "colab_type": "text"
      },
      "source": [
        "<a href=\"https://colab.research.google.com/github/devkegovind/Python-Pandas/blob/main/Pandas_Numpy.ipynb\" target=\"_parent\"><img src=\"https://colab.research.google.com/assets/colab-badge.svg\" alt=\"Open In Colab\"/></a>"
      ]
    },
    {
      "cell_type": "markdown",
      "id": "601b3cf0",
      "metadata": {
        "id": "601b3cf0"
      },
      "source": [
        "<h1 align='center'>PANDAS NUMPY</h1>"
      ]
    },
    {
      "cell_type": "markdown",
      "id": "a5a9f97a",
      "metadata": {
        "id": "a5a9f97a"
      },
      "source": [
        "NumPy, which stands for Numerical Python, is a library consisting of multidimensional array object and a collection of routines for processing those arrays. Using NumPy, mathematical and logical operations on arrays can be performed. "
      ]
    },
    {
      "cell_type": "markdown",
      "id": "5972ee89",
      "metadata": {
        "id": "5972ee89"
      },
      "source": [
        "<h2>Operations Using NumPy</h2>"
      ]
    },
    {
      "cell_type": "markdown",
      "id": "e2d9bcc5",
      "metadata": {
        "id": "e2d9bcc5"
      },
      "source": [
        "- Mathematical and Logical Operations on arrays.\n",
        "- Fourier transforms and routines for shape manipulation.\n",
        "- Operations related to linear algebra. NumPy has in-built functions for linear algebra and random number generation."
      ]
    },
    {
      "cell_type": "markdown",
      "id": "8a337684",
      "metadata": {
        "id": "8a337684"
      },
      "source": [
        "<h2>NumPy - A Replacement for MatLab</h2>\n",
        "\n",
        "NumPy is often used along with packages like <b>Scipy</b>  (Scientific Python) and <b>Mat-plotlib</b> (plotting library). This combination is widely used as a replacement for MatLab, a popular platform for technical computing. However, Python alternative to MatLab is now seen as a modern and complete programming language.\n",
        "\n",
        "It is open source, which is an added advantage of NumPy. Standard Pyton distribution doesn't come bundles with NumPy module. A lightweight alternative is to install NumPy Using popular Python package installer, <b>pip</b> "
      ]
    },
    {
      "cell_type": "markdown",
      "id": "b172ce53",
      "metadata": {
        "id": "b172ce53"
      },
      "source": [
        "`pip install numpy`"
      ]
    },
    {
      "cell_type": "markdown",
      "id": "48751604",
      "metadata": {
        "id": "48751604"
      },
      "source": [
        "<h3>NumPy - Ndarray Object</h3>"
      ]
    },
    {
      "cell_type": "markdown",
      "id": "52294ae5",
      "metadata": {
        "id": "52294ae5"
      },
      "source": [
        "The most important object defined in NumPy is an N-dimensional array type called <b>ndarray</b>. It describe the collection of items of the same type. Items in the collection can be accessed using a zero-based index.\n",
        "\n",
        "Every item in an ndarray takes the same size of block in the memory. Each element in ndarray is an object of data-type object(called dtype).\n",
        "\n",
        "Any item extracted from ndarray object (by slicing) is represented by a Python object of one of array scalar types. The following diagram shows a relationship between ndaary, data type object(dtype) and array scalar type -\n",
        "\n",
        "The basic ndarray is created using an array function in NumPy as Follows- "
      ]
    },
    {
      "cell_type": "markdown",
      "id": "2b79b6d0",
      "metadata": {
        "id": "2b79b6d0"
      },
      "source": [
        "`numpy.array`"
      ]
    },
    {
      "cell_type": "markdown",
      "id": "f18461ef",
      "metadata": {
        "id": "f18461ef"
      },
      "source": [
        "It creates an ndarray from any object exposing array interface, or from any method that returns an array."
      ]
    },
    {
      "cell_type": "markdown",
      "id": "50615d88",
      "metadata": {
        "id": "50615d88"
      },
      "source": [
        "`numpy.array(object, dtype = None, copy = True, order = None, subok = False, ndim = 0)`"
      ]
    },
    {
      "cell_type": "markdown",
      "id": "11c3193d",
      "metadata": {
        "id": "11c3193d"
      },
      "source": [
        "Create a NumPy ndarray Object"
      ]
    },
    {
      "cell_type": "code",
      "execution_count": 1,
      "id": "6d3f2cd0",
      "metadata": {
        "colab": {
          "base_uri": "https://localhost:8080/"
        },
        "id": "6d3f2cd0",
        "outputId": "4d889f76-659c-4c15-f3ea-3cbaa7f26317"
      },
      "outputs": [
        {
          "output_type": "execute_result",
          "data": {
            "text/plain": [
              "array([1, 2, 3, 4, 5])"
            ]
          },
          "metadata": {},
          "execution_count": 1
        }
      ],
      "source": [
        "import numpy as np\n",
        "\n",
        "arr = np.array([1, 2, 3, 4, 5])\n",
        "\n",
        "arr"
      ]
    },
    {
      "cell_type": "code",
      "execution_count": 2,
      "id": "578c2356",
      "metadata": {
        "colab": {
          "base_uri": "https://localhost:8080/"
        },
        "id": "578c2356",
        "outputId": "78a90a66-8744-4221-adfd-9ec85426309f"
      },
      "outputs": [
        {
          "output_type": "execute_result",
          "data": {
            "text/plain": [
              "numpy.ndarray"
            ]
          },
          "metadata": {},
          "execution_count": 2
        }
      ],
      "source": [
        "type(arr)"
      ]
    },
    {
      "cell_type": "code",
      "execution_count": 3,
      "id": "46e142a5",
      "metadata": {
        "colab": {
          "base_uri": "https://localhost:8080/"
        },
        "id": "46e142a5",
        "outputId": "79a0cabc-5dc4-42f0-bc0b-bf8395029230"
      },
      "outputs": [
        {
          "output_type": "execute_result",
          "data": {
            "text/plain": [
              "array([1, 2, 3, 4, 5])"
            ]
          },
          "metadata": {},
          "execution_count": 3
        }
      ],
      "source": [
        "arr = np.array((1, 2, 3, 4, 5))\n",
        "arr"
      ]
    },
    {
      "cell_type": "markdown",
      "id": "338d3b4a",
      "metadata": {
        "id": "338d3b4a"
      },
      "source": [
        "<h3>Dimensions in Arrays</h3>"
      ]
    },
    {
      "cell_type": "markdown",
      "id": "02366654",
      "metadata": {
        "id": "02366654"
      },
      "source": [
        "<h4>0-D Arrays</h4>"
      ]
    },
    {
      "cell_type": "markdown",
      "id": "8f154b44",
      "metadata": {
        "id": "8f154b44"
      },
      "source": [
        "0-D arrays, or Scalars, are the elements in an array. Each Value in an array is a 0-D array."
      ]
    },
    {
      "cell_type": "markdown",
      "id": "2a0c6248",
      "metadata": {
        "id": "2a0c6248"
      },
      "source": [
        "Create a 0-D array with value 42"
      ]
    },
    {
      "cell_type": "code",
      "execution_count": 4,
      "id": "3e6b1842",
      "metadata": {
        "colab": {
          "base_uri": "https://localhost:8080/"
        },
        "id": "3e6b1842",
        "outputId": "030a7d83-97be-4eac-cc24-c8c553476a22"
      },
      "outputs": [
        {
          "output_type": "execute_result",
          "data": {
            "text/plain": [
              "array(42)"
            ]
          },
          "metadata": {},
          "execution_count": 4
        }
      ],
      "source": [
        "arr = np.array(42)\n",
        "arr"
      ]
    },
    {
      "cell_type": "markdown",
      "id": "f5e920cb",
      "metadata": {
        "id": "f5e920cb"
      },
      "source": [
        "<h4>1-D Arrays</h4>\n",
        "\n",
        "An array that has 0-D arrays as its elements is called Uni-dimensional or 1-D Array."
      ]
    },
    {
      "cell_type": "code",
      "execution_count": 5,
      "id": "d5044161",
      "metadata": {
        "colab": {
          "base_uri": "https://localhost:8080/"
        },
        "id": "d5044161",
        "outputId": "fbc741d9-bb90-4d82-c851-cd58ee441725"
      },
      "outputs": [
        {
          "output_type": "execute_result",
          "data": {
            "text/plain": [
              "array([1, 2, 3, 4, 5])"
            ]
          },
          "metadata": {},
          "execution_count": 5
        }
      ],
      "source": [
        "arr = np.array([1, 2, 3, 4, 5])\n",
        "arr"
      ]
    },
    {
      "cell_type": "markdown",
      "id": "01c42c96",
      "metadata": {
        "id": "01c42c96"
      },
      "source": [
        "<h4>2-D Arrays</h4>\n",
        "\n",
        "An array that has 1-D arrays as its elements is called 2-D array. These often used to represent matrix or 2nd order tensors."
      ]
    },
    {
      "cell_type": "code",
      "execution_count": 6,
      "id": "92086f83",
      "metadata": {
        "colab": {
          "base_uri": "https://localhost:8080/"
        },
        "id": "92086f83",
        "outputId": "138616b4-e9ff-44ee-89a5-beb4f01b9f18"
      },
      "outputs": [
        {
          "output_type": "execute_result",
          "data": {
            "text/plain": [
              "array([[1, 2, 3],\n",
              "       [4, 5, 6]])"
            ]
          },
          "metadata": {},
          "execution_count": 6
        }
      ],
      "source": [
        "arr = np.array([[1, 2, 3], [4, 5,6]])\n",
        "arr"
      ]
    },
    {
      "cell_type": "code",
      "execution_count": 7,
      "id": "4ed4bfa1",
      "metadata": {
        "colab": {
          "base_uri": "https://localhost:8080/"
        },
        "id": "4ed4bfa1",
        "outputId": "85e452fc-96e8-4dd5-b1de-eac15349e42e"
      },
      "outputs": [
        {
          "output_type": "execute_result",
          "data": {
            "text/plain": [
              "array([[1, 2, 3, 4, 5]])"
            ]
          },
          "metadata": {},
          "execution_count": 7
        }
      ],
      "source": [
        "a = np.array([1, 2, 3, 4, 5], ndmin = 2)\n",
        "a"
      ]
    },
    {
      "cell_type": "markdown",
      "id": "da8786cd",
      "metadata": {
        "id": "da8786cd"
      },
      "source": [
        "<h4>3-D Arrays</h4>\n",
        "\n",
        "An array that has 2-D arrays(matrices) as its elements is called 3-D array.\n",
        "These are often used to represent a 3rd order tensor."
      ]
    },
    {
      "cell_type": "code",
      "execution_count": 8,
      "id": "e89054e3",
      "metadata": {
        "colab": {
          "base_uri": "https://localhost:8080/"
        },
        "id": "e89054e3",
        "outputId": "af86ad0e-9a51-4f49-a90c-9a603ab0a751"
      },
      "outputs": [
        {
          "output_type": "execute_result",
          "data": {
            "text/plain": [
              "array([[[1, 2, 3],\n",
              "        [4, 5, 6],\n",
              "        [7, 8, 9]]])"
            ]
          },
          "metadata": {},
          "execution_count": 8
        }
      ],
      "source": [
        "arr = np.array([[[1, 2, 3], [4, 5, 6], [7, 8, 9]]])\n",
        "arr"
      ]
    },
    {
      "cell_type": "markdown",
      "id": "c7caadad",
      "metadata": {
        "id": "c7caadad"
      },
      "source": [
        "The <b>ndarray</b> object consist of contiguous one-dimensional segments of computer memory, combined with an indexing scheme that maps each item to a location in the memory block. The memory block holds the elements in a row-major order(C style) or a column-major order(FORTRAN or MatLab style)."
      ]
    },
    {
      "cell_type": "markdown",
      "id": "029cabac",
      "metadata": {
        "id": "029cabac"
      },
      "source": [
        "<h4>Check Number of Dimensions?</h4>\n",
        "\n",
        "NumPy Arrays provides the ndim attribute that returns an integer that tells us how many dimensions the array have."
      ]
    },
    {
      "cell_type": "code",
      "execution_count": 9,
      "id": "cb26ff47",
      "metadata": {
        "colab": {
          "base_uri": "https://localhost:8080/"
        },
        "id": "cb26ff47",
        "outputId": "feab6ae1-9da6-4968-f83d-c843552d81a8"
      },
      "outputs": [
        {
          "output_type": "stream",
          "name": "stdout",
          "text": [
            "0\n",
            "1\n",
            "2\n",
            "3\n"
          ]
        }
      ],
      "source": [
        "a = np.array(42)\n",
        "\n",
        "b = np.array([1, 2, 3, 4, 5])\n",
        "\n",
        "c = np.array([[1, 2, 3], [4, 5, 6]])\n",
        "\n",
        "d = np.array([[[1, 2, 3],[4, 5, 6], [7, 8, 9]]])\n",
        "\n",
        "print(a.ndim)\n",
        "print(b.ndim)\n",
        "print(c.ndim)\n",
        "print(d.ndim)"
      ]
    },
    {
      "cell_type": "markdown",
      "id": "7508b5f7",
      "metadata": {
        "id": "7508b5f7"
      },
      "source": [
        "<h4>Higher Dimensional Arrays</h4>\n",
        "\n",
        "An array can have any number of dimensions.\n",
        "When the array is created, you can define the number of dimensions by using the `ndmin` argument."
      ]
    },
    {
      "cell_type": "code",
      "execution_count": 10,
      "id": "67b54535",
      "metadata": {
        "colab": {
          "base_uri": "https://localhost:8080/"
        },
        "id": "67b54535",
        "outputId": "2ec10e9d-90c6-402c-b7ff-5a843b7320ef"
      },
      "outputs": [
        {
          "output_type": "execute_result",
          "data": {
            "text/plain": [
              "array([[[[[1, 2, 3, 4]]]]])"
            ]
          },
          "metadata": {},
          "execution_count": 10
        }
      ],
      "source": [
        "arr = np.array([1, 2, 3, 4], ndmin = 5)\n",
        "arr"
      ]
    },
    {
      "cell_type": "code",
      "execution_count": 11,
      "id": "97edabff",
      "metadata": {
        "colab": {
          "base_uri": "https://localhost:8080/"
        },
        "id": "97edabff",
        "outputId": "4f136647-a274-4527-f7b1-8481ce00d242"
      },
      "outputs": [
        {
          "output_type": "stream",
          "name": "stdout",
          "text": [
            "5\n"
          ]
        }
      ],
      "source": [
        "print(arr.ndim)"
      ]
    },
    {
      "cell_type": "markdown",
      "id": "e89569e6",
      "metadata": {
        "id": "e89569e6"
      },
      "source": [
        "In this array the innermost dimension (5th dim) has 4 elements, the 4th dim has 1 element that is the vector, the 3rd dim has 1 element that is the matrix with the vector, the 2nd dim has 1 element that is 3D array and 1st dim has 1 element that is a 4D array."
      ]
    },
    {
      "cell_type": "markdown",
      "id": "2b236574",
      "metadata": {
        "id": "2b236574"
      },
      "source": [
        "<h2 align='center'>NumPy - Data Types</h2>\n",
        "\n",
        "NumPy supports a much greater variety of numerical types than Python does. The following table shows different scalar data types defined in NumPy.\n",
        "![image.png](attachment:image.png)\n",
        "![image-2.png](attachment:image-2.png)"
      ]
    },
    {
      "cell_type": "markdown",
      "id": "b2f56b1d",
      "metadata": {
        "id": "b2f56b1d"
      },
      "source": [
        "NumPy numerical types are instances of dtype (data-type) objects, each having unique characteristics. The dtypes are available as np.bool_, np.float32, etc.\n",
        "\n",
        "<h4>Data Type Objects (dtype)</h4>\n",
        "\n",
        "A data type object describes interpretation of fixed block of memory corresponding to an array, depending on the following aspects −\n",
        "\n",
        "- Type of data (integer, float or Python object)\n",
        "\n",
        "- Size of data\n",
        "\n",
        "- Byte order (little-endian or big-endian)\n",
        "\n",
        "In case of structured type, the names of fields, data type of each field and part of the memory block taken by each field.\n",
        "\n",
        "If data type is a subarray, its shape and data type\n",
        "\n",
        "The byte order is decided by prefixing '<' or '>' to data type. '<' means that encoding is little-endian (least significant is stored in smallest address). '>' means that encoding is big-endian (most significant byte is stored in smallest address).\n",
        "\n",
        "A dtype object is constructed using the following syntax −\n",
        "\n",
        "`numpy.dtype(object, align, copy)`"
      ]
    },
    {
      "cell_type": "code",
      "execution_count": 12,
      "id": "c9ae780b",
      "metadata": {
        "colab": {
          "base_uri": "https://localhost:8080/"
        },
        "id": "c9ae780b",
        "outputId": "9cf2722b-032f-4d30-ae7e-65fc1840964d"
      },
      "outputs": [
        {
          "output_type": "execute_result",
          "data": {
            "text/plain": [
              "dtype('int32')"
            ]
          },
          "metadata": {},
          "execution_count": 12
        }
      ],
      "source": [
        "dt = np.dtype(np.int32)\n",
        "dt"
      ]
    },
    {
      "cell_type": "markdown",
      "id": "57bdd1e7",
      "metadata": {
        "id": "57bdd1e7"
      },
      "source": [
        "int8, int16, int32, int64 can be replaced by equivalent string 'i1', 'i2','i4', etc. "
      ]
    },
    {
      "cell_type": "code",
      "execution_count": 13,
      "id": "cde513fd",
      "metadata": {
        "colab": {
          "base_uri": "https://localhost:8080/"
        },
        "id": "cde513fd",
        "outputId": "21170933-0483-4155-ff88-ba74bb2c5e7e"
      },
      "outputs": [
        {
          "output_type": "execute_result",
          "data": {
            "text/plain": [
              "dtype('int32')"
            ]
          },
          "metadata": {},
          "execution_count": 13
        }
      ],
      "source": [
        "dt = np.dtype('i4')\n",
        "dt"
      ]
    },
    {
      "cell_type": "code",
      "execution_count": 14,
      "id": "5743a53f",
      "metadata": {
        "colab": {
          "base_uri": "https://localhost:8080/"
        },
        "id": "5743a53f",
        "outputId": "4c042b38-b85f-4879-e713-ed29108cfaa0"
      },
      "outputs": [
        {
          "output_type": "execute_result",
          "data": {
            "text/plain": [
              "dtype([('age', 'i1')])"
            ]
          },
          "metadata": {},
          "execution_count": 14
        }
      ],
      "source": [
        "dt = np.dtype([('age', np.int8)])\n",
        "dt"
      ]
    },
    {
      "cell_type": "code",
      "execution_count": 15,
      "id": "545e1d18",
      "metadata": {
        "colab": {
          "base_uri": "https://localhost:8080/"
        },
        "id": "545e1d18",
        "outputId": "490ebe4a-5208-42f6-9c02-4f3084967b4e"
      },
      "outputs": [
        {
          "output_type": "execute_result",
          "data": {
            "text/plain": [
              "array([(10,), (20,), (30,)], dtype=[('age', 'i1')])"
            ]
          },
          "metadata": {},
          "execution_count": 15
        }
      ],
      "source": [
        "dt = np.dtype([('age', np.int8)])\n",
        "\n",
        "a = np.array([(10,), (20,), (30,)], dtype = dt)\n",
        "\n",
        "a"
      ]
    },
    {
      "cell_type": "code",
      "execution_count": 16,
      "id": "33dcc57c",
      "metadata": {
        "colab": {
          "base_uri": "https://localhost:8080/"
        },
        "id": "33dcc57c",
        "outputId": "4160fa69-5fc3-460a-d1f2-90bda1cf78d6"
      },
      "outputs": [
        {
          "output_type": "execute_result",
          "data": {
            "text/plain": [
              "array([10, 20, 30], dtype=int8)"
            ]
          },
          "metadata": {},
          "execution_count": 16
        }
      ],
      "source": [
        "a['age']"
      ]
    },
    {
      "cell_type": "markdown",
      "id": "136e1b89",
      "metadata": {
        "id": "136e1b89"
      },
      "source": [
        "The following examples define a structured data type called <b>student</b> with a string field 'name', an <b>integer field</b> 'age' and a <b>float field</b> 'marks'. This dtype is applied to ndarray object."
      ]
    },
    {
      "cell_type": "code",
      "execution_count": 17,
      "id": "851a3cc9",
      "metadata": {
        "colab": {
          "base_uri": "https://localhost:8080/"
        },
        "id": "851a3cc9",
        "outputId": "1255730c-2d3b-4d31-b30b-fb11d328f7a0"
      },
      "outputs": [
        {
          "output_type": "execute_result",
          "data": {
            "text/plain": [
              "dtype([('name', 'S20'), ('age', 'i1'), ('marks', '<f4')])"
            ]
          },
          "metadata": {},
          "execution_count": 17
        }
      ],
      "source": [
        "student = np.dtype([('name', 'S20'), ('age', 'i1'), ('marks', 'f4')])\n",
        "student"
      ]
    },
    {
      "cell_type": "code",
      "execution_count": 18,
      "id": "26ea6d01",
      "metadata": {
        "colab": {
          "base_uri": "https://localhost:8080/"
        },
        "id": "26ea6d01",
        "outputId": "60f0e931-f4ec-430b-aa5b-2ed612bff5a1"
      },
      "outputs": [
        {
          "output_type": "execute_result",
          "data": {
            "text/plain": [
              "array([(b'abc', 21, 50.), (b'xyz', 18, 75.)],\n",
              "      dtype=[('name', 'S20'), ('age', 'i1'), ('marks', '<f4')])"
            ]
          },
          "metadata": {},
          "execution_count": 18
        }
      ],
      "source": [
        "a = np.array([('abc', 21, 50), ('xyz', 18, 75)], dtype = student)\n",
        "a"
      ]
    },
    {
      "cell_type": "markdown",
      "id": "160e79c0",
      "metadata": {
        "id": "160e79c0"
      },
      "source": [
        "<h2 align='center'>NumPy - Array Attributes</h2>"
      ]
    },
    {
      "cell_type": "markdown",
      "id": "9273558d",
      "metadata": {
        "id": "9273558d"
      },
      "source": [
        "<h4>ndarray.shape</h4>\n",
        "\n",
        "This array attribute returns a tuple consisting of array dimensions. It can also used to resize the array."
      ]
    },
    {
      "cell_type": "code",
      "execution_count": 19,
      "id": "119dc94f",
      "metadata": {
        "colab": {
          "base_uri": "https://localhost:8080/"
        },
        "id": "119dc94f",
        "outputId": "666c6280-beab-4a8a-add7-285923372223"
      },
      "outputs": [
        {
          "output_type": "execute_result",
          "data": {
            "text/plain": [
              "(2, 3)"
            ]
          },
          "metadata": {},
          "execution_count": 19
        }
      ],
      "source": [
        "a = np.array([[1, 2, 3], [4, 5, 6]])\n",
        "a.shape"
      ]
    },
    {
      "cell_type": "markdown",
      "id": "d6be137c",
      "metadata": {
        "id": "d6be137c"
      },
      "source": [
        "This resize the array"
      ]
    },
    {
      "cell_type": "code",
      "execution_count": 20,
      "id": "2781493e",
      "metadata": {
        "colab": {
          "base_uri": "https://localhost:8080/"
        },
        "id": "2781493e",
        "outputId": "6314aae4-7a5d-4b06-d41b-3a828b3c0fe7"
      },
      "outputs": [
        {
          "output_type": "execute_result",
          "data": {
            "text/plain": [
              "array([[1, 2],\n",
              "       [3, 4],\n",
              "       [5, 6]])"
            ]
          },
          "metadata": {},
          "execution_count": 20
        }
      ],
      "source": [
        "a = np.array([[1, 2, 3], [4, 5, 6]])\n",
        "a.shape = (3, 2)\n",
        "a"
      ]
    },
    {
      "cell_type": "markdown",
      "id": "9b5277e3",
      "metadata": {
        "id": "9b5277e3"
      },
      "source": [
        "NumPy also provides a reshape function to resize an array."
      ]
    },
    {
      "cell_type": "code",
      "execution_count": 21,
      "id": "ccc12022",
      "metadata": {
        "colab": {
          "base_uri": "https://localhost:8080/"
        },
        "id": "ccc12022",
        "outputId": "f5d3fa20-06c4-4bf1-ba25-67d5baa20d70"
      },
      "outputs": [
        {
          "output_type": "execute_result",
          "data": {
            "text/plain": [
              "array([[1, 2],\n",
              "       [3, 4],\n",
              "       [5, 6]])"
            ]
          },
          "metadata": {},
          "execution_count": 21
        }
      ],
      "source": [
        "a = np.array([[1, 2, 3], [4, 5, 6]])\n",
        "b = a.reshape(3, 2)\n",
        "b"
      ]
    },
    {
      "cell_type": "markdown",
      "id": "6c4eef0f",
      "metadata": {
        "id": "6c4eef0f"
      },
      "source": [
        "<h4>ndarray.ndim</h4>\n",
        "\n",
        "This array attribute returns the number of array dimensions."
      ]
    },
    {
      "cell_type": "code",
      "execution_count": 22,
      "id": "52215abb",
      "metadata": {
        "colab": {
          "base_uri": "https://localhost:8080/"
        },
        "id": "52215abb",
        "outputId": "e565c601-1216-4e8e-ec87-654e612f574a"
      },
      "outputs": [
        {
          "output_type": "execute_result",
          "data": {
            "text/plain": [
              "array([ 0,  1,  2,  3,  4,  5,  6,  7,  8,  9, 10, 11, 12, 13, 14, 15, 16,\n",
              "       17, 18, 19, 20, 21, 22, 23])"
            ]
          },
          "metadata": {},
          "execution_count": 22
        }
      ],
      "source": [
        "a = np.arange(24)\n",
        "a"
      ]
    },
    {
      "cell_type": "code",
      "execution_count": 23,
      "id": "405cd0c4",
      "metadata": {
        "colab": {
          "base_uri": "https://localhost:8080/"
        },
        "id": "405cd0c4",
        "outputId": "a531d326-8b42-43bc-a699-46bd555ff9c5"
      },
      "outputs": [
        {
          "output_type": "execute_result",
          "data": {
            "text/plain": [
              "1"
            ]
          },
          "metadata": {},
          "execution_count": 23
        }
      ],
      "source": [
        "a.ndim"
      ]
    },
    {
      "cell_type": "code",
      "execution_count": 24,
      "id": "d903186f",
      "metadata": {
        "colab": {
          "base_uri": "https://localhost:8080/"
        },
        "id": "d903186f",
        "outputId": "eccad043-e570-4ed4-88a4-5aa45b8cd60b"
      },
      "outputs": [
        {
          "output_type": "execute_result",
          "data": {
            "text/plain": [
              "array([[[ 0,  1,  2],\n",
              "        [ 3,  4,  5],\n",
              "        [ 6,  7,  8],\n",
              "        [ 9, 10, 11]],\n",
              "\n",
              "       [[12, 13, 14],\n",
              "        [15, 16, 17],\n",
              "        [18, 19, 20],\n",
              "        [21, 22, 23]]])"
            ]
          },
          "metadata": {},
          "execution_count": 24
        }
      ],
      "source": [
        "b = a.reshape(2, 4, 3)\n",
        "b"
      ]
    },
    {
      "cell_type": "markdown",
      "id": "889fcde5",
      "metadata": {
        "id": "889fcde5"
      },
      "source": [
        "<h4>numpy.itemsize</h4>\n",
        "\n",
        "This array attribute returns the length of each element of array in bytes."
      ]
    },
    {
      "cell_type": "markdown",
      "id": "875a27f6",
      "metadata": {
        "id": "875a27f6"
      },
      "source": [
        "dtype of array is int8 (1 byte)"
      ]
    },
    {
      "cell_type": "code",
      "execution_count": 25,
      "id": "9af81685",
      "metadata": {
        "colab": {
          "base_uri": "https://localhost:8080/"
        },
        "id": "9af81685",
        "outputId": "7aec3d1d-d36c-46ad-934a-05423b7d45c0"
      },
      "outputs": [
        {
          "output_type": "execute_result",
          "data": {
            "text/plain": [
              "1"
            ]
          },
          "metadata": {},
          "execution_count": 25
        }
      ],
      "source": [
        "x = np.array([1, 2, 3, 4, 5], dtype = np.int8)\n",
        "x.itemsize"
      ]
    },
    {
      "cell_type": "code",
      "execution_count": 26,
      "id": "c718ee50",
      "metadata": {
        "colab": {
          "base_uri": "https://localhost:8080/"
        },
        "id": "c718ee50",
        "outputId": "f77e4daa-ff20-4f89-a281-d0556a2ad4d3"
      },
      "outputs": [
        {
          "output_type": "execute_result",
          "data": {
            "text/plain": [
              "numpy.ndarray"
            ]
          },
          "metadata": {},
          "execution_count": 26
        }
      ],
      "source": [
        "type(x)"
      ]
    },
    {
      "cell_type": "markdown",
      "id": "d4eb5041",
      "metadata": {
        "id": "d4eb5041"
      },
      "source": [
        "dtype of array is now float32 (4 bytes)"
      ]
    },
    {
      "cell_type": "code",
      "execution_count": 27,
      "id": "25adaf21",
      "metadata": {
        "colab": {
          "base_uri": "https://localhost:8080/"
        },
        "id": "25adaf21",
        "outputId": "b761239b-4dd3-4b5c-cc9c-e61c082d9413"
      },
      "outputs": [
        {
          "output_type": "execute_result",
          "data": {
            "text/plain": [
              "4"
            ]
          },
          "metadata": {},
          "execution_count": 27
        }
      ],
      "source": [
        "x = np.array([1, 2, 3, 4], dtype = np.float32)\n",
        "x.itemsize"
      ]
    },
    {
      "cell_type": "markdown",
      "id": "b956e9a6",
      "metadata": {
        "id": "b956e9a6"
      },
      "source": [
        "dtype of array is now int32 ( 4 bytes)"
      ]
    },
    {
      "cell_type": "code",
      "execution_count": 28,
      "id": "0f3a3417",
      "metadata": {
        "colab": {
          "base_uri": "https://localhost:8080/"
        },
        "id": "0f3a3417",
        "outputId": "17bfc051-77af-49a8-ba1b-7379d063bd44"
      },
      "outputs": [
        {
          "output_type": "execute_result",
          "data": {
            "text/plain": [
              "4"
            ]
          },
          "metadata": {},
          "execution_count": 28
        }
      ],
      "source": [
        "x = np.array([1, 2, 3, 4], dtype = np.int32)\n",
        "x.itemsize"
      ]
    },
    {
      "cell_type": "markdown",
      "id": "6e6b97c1",
      "metadata": {
        "id": "6e6b97c1"
      },
      "source": [
        "<h2 align='center'> NumPy - Array Creation Routines</h2>\n",
        "\n",
        "A new <b>ndarray</b> object can be constructed by any of the following array creation routines or using a low-level ndarray constructor."
      ]
    },
    {
      "cell_type": "markdown",
      "id": "574b7893",
      "metadata": {
        "id": "574b7893"
      },
      "source": [
        "<h4>numpy.empty</h4>\n",
        "\n",
        "It creates an uninitialized array of specified shape and dtype. It uses the following constructor-\n",
        "\n",
        "`numpy.empty(shape, dtype = float, order = 'C')`\n",
        "\n",
        "![image.png](attachment:image.png)"
      ]
    },
    {
      "cell_type": "code",
      "execution_count": 29,
      "id": "f1b2a3b8",
      "metadata": {
        "colab": {
          "base_uri": "https://localhost:8080/"
        },
        "id": "f1b2a3b8",
        "outputId": "20c08d9c-f6f8-4a8d-afa0-d536553810b6"
      },
      "outputs": [
        {
          "output_type": "execute_result",
          "data": {
            "text/plain": [
              "array([[57821296,        0],\n",
              "       [       0,        0],\n",
              "       [       0,        0]])"
            ]
          },
          "metadata": {},
          "execution_count": 29
        }
      ],
      "source": [
        "x = np.empty([3, 2], dtype = int)\n",
        "x"
      ]
    },
    {
      "cell_type": "markdown",
      "id": "5c6cba6b",
      "metadata": {
        "id": "5c6cba6b"
      },
      "source": [
        "<h4>Note</h4>The elements in an array show random values as they are not initialized."
      ]
    },
    {
      "cell_type": "markdown",
      "id": "0ba48d45",
      "metadata": {
        "id": "0ba48d45"
      },
      "source": [
        "<h4>numpy.zeros</h4>\n",
        "\n",
        "Returns a new array of specified size, filled with zeros.\n",
        "\n",
        "`numpy.zeros(shape, dtype = float, order = 'C')`"
      ]
    },
    {
      "cell_type": "code",
      "execution_count": 30,
      "id": "5db49923",
      "metadata": {
        "colab": {
          "base_uri": "https://localhost:8080/"
        },
        "id": "5db49923",
        "outputId": "5a4ee157-a98e-4c77-b640-ffb39aba91ff"
      },
      "outputs": [
        {
          "output_type": "execute_result",
          "data": {
            "text/plain": [
              "array([0., 0., 0., 0., 0.])"
            ]
          },
          "metadata": {},
          "execution_count": 30
        }
      ],
      "source": [
        "x = np.zeros(5)\n",
        "x"
      ]
    },
    {
      "cell_type": "code",
      "execution_count": 31,
      "id": "1bcca0e6",
      "metadata": {
        "colab": {
          "base_uri": "https://localhost:8080/"
        },
        "id": "1bcca0e6",
        "outputId": "12cc5e8d-dd45-468e-cd26-1a281241b133"
      },
      "outputs": [
        {
          "output_type": "stream",
          "name": "stderr",
          "text": [
            "<ipython-input-31-e4f750252e37>:1: DeprecationWarning: `np.int` is a deprecated alias for the builtin `int`. To silence this warning, use `int` by itself. Doing this will not modify any behavior and is safe. When replacing `np.int`, you may wish to use e.g. `np.int64` or `np.int32` to specify the precision. If you wish to review your current use, check the release note link for additional information.\n",
            "Deprecated in NumPy 1.20; for more details and guidance: https://numpy.org/devdocs/release/1.20.0-notes.html#deprecations\n",
            "  x = np.zeros((5,), dtype = np.int)\n"
          ]
        },
        {
          "output_type": "execute_result",
          "data": {
            "text/plain": [
              "array([0, 0, 0, 0, 0])"
            ]
          },
          "metadata": {},
          "execution_count": 31
        }
      ],
      "source": [
        "x = np.zeros((5,), dtype = np.int)\n",
        "x"
      ]
    },
    {
      "cell_type": "code",
      "execution_count": 32,
      "id": "b036a140",
      "metadata": {
        "colab": {
          "base_uri": "https://localhost:8080/"
        },
        "id": "b036a140",
        "outputId": "8d5eafd4-9d55-4e5d-d1c4-f9af2bd5d993"
      },
      "outputs": [
        {
          "output_type": "execute_result",
          "data": {
            "text/plain": [
              "array([[(0, 0), (0, 0)],\n",
              "       [(0, 0), (0, 0)]], dtype=[('x', '<i4'), ('y', '<i4')])"
            ]
          },
          "metadata": {},
          "execution_count": 32
        }
      ],
      "source": [
        "x = np.zeros((2,2), dtype = [('x', 'i4'), ('y', 'i4')])\n",
        "x"
      ]
    },
    {
      "cell_type": "markdown",
      "id": "dbd38ec5",
      "metadata": {
        "id": "dbd38ec5"
      },
      "source": [
        "<h4>numpy.ones</h4>\n",
        "\n",
        "Returns a new array of specified size and type, filled with ones.\n",
        "\n",
        "`numpy.ones(shape, dtype = None, order = 'C')`"
      ]
    },
    {
      "cell_type": "code",
      "execution_count": 33,
      "id": "3fe3b86d",
      "metadata": {
        "colab": {
          "base_uri": "https://localhost:8080/"
        },
        "id": "3fe3b86d",
        "outputId": "f6e7ee21-c599-4f1b-c414-68de1eba92d8"
      },
      "outputs": [
        {
          "output_type": "execute_result",
          "data": {
            "text/plain": [
              "array([1., 1., 1., 1., 1.])"
            ]
          },
          "metadata": {},
          "execution_count": 33
        }
      ],
      "source": [
        "x = np.ones(5)\n",
        "x"
      ]
    },
    {
      "cell_type": "code",
      "execution_count": 34,
      "id": "dfba9be8",
      "metadata": {
        "colab": {
          "base_uri": "https://localhost:8080/"
        },
        "id": "dfba9be8",
        "outputId": "e422e74b-3b50-4a85-8eef-6e674bddead1"
      },
      "outputs": [
        {
          "output_type": "execute_result",
          "data": {
            "text/plain": [
              "array([[1, 1],\n",
              "       [1, 1]])"
            ]
          },
          "metadata": {},
          "execution_count": 34
        }
      ],
      "source": [
        "x = np.ones([2, 2], dtype = int)\n",
        "x"
      ]
    },
    {
      "cell_type": "markdown",
      "id": "920d1604",
      "metadata": {
        "id": "920d1604"
      },
      "source": [
        "<h2 align='center'>NumPy - Array From Numerical Ranges</h2>"
      ]
    },
    {
      "cell_type": "markdown",
      "id": "bdefec2c",
      "metadata": {
        "id": "bdefec2c"
      },
      "source": [
        "<h4>numpy.arange</h4>\n",
        "\n",
        "This function returns an <b>ndarray</b> object containing evenly spaced values within a given range. The format of the function is as follows-\n",
        "\n",
        "`numpy.arange(start, stop, step, dtype)`\n",
        "\n",
        "The constructor takes the following parameters.\n",
        "\n",
        "![image.png](attachment:image.png)"
      ]
    },
    {
      "cell_type": "code",
      "execution_count": 35,
      "id": "4d03aac7",
      "metadata": {
        "colab": {
          "base_uri": "https://localhost:8080/"
        },
        "id": "4d03aac7",
        "outputId": "c44818eb-30a6-4578-a0b7-259bf5a548cb"
      },
      "outputs": [
        {
          "output_type": "execute_result",
          "data": {
            "text/plain": [
              "array([0, 1, 2, 3, 4])"
            ]
          },
          "metadata": {},
          "execution_count": 35
        }
      ],
      "source": [
        "x = np.arange(5)\n",
        "x"
      ]
    },
    {
      "cell_type": "code",
      "execution_count": 36,
      "id": "a19ab597",
      "metadata": {
        "colab": {
          "base_uri": "https://localhost:8080/"
        },
        "id": "a19ab597",
        "outputId": "cd502144-e7ae-4b68-d9bd-d165acfd7e05"
      },
      "outputs": [
        {
          "output_type": "execute_result",
          "data": {
            "text/plain": [
              "array([0., 1., 2., 3., 4.])"
            ]
          },
          "metadata": {},
          "execution_count": 36
        }
      ],
      "source": [
        "x = np.arange(5, dtype = float)\n",
        "x"
      ]
    },
    {
      "cell_type": "markdown",
      "id": "49df1c3d",
      "metadata": {
        "id": "49df1c3d"
      },
      "source": [
        "Start and Stop Parameter Set"
      ]
    },
    {
      "cell_type": "code",
      "execution_count": 37,
      "id": "58ad9e7d",
      "metadata": {
        "colab": {
          "base_uri": "https://localhost:8080/"
        },
        "id": "58ad9e7d",
        "outputId": "242ce453-cc86-4eb4-ec2a-05937db2d296"
      },
      "outputs": [
        {
          "output_type": "execute_result",
          "data": {
            "text/plain": [
              "array([10, 12, 14, 16, 18])"
            ]
          },
          "metadata": {},
          "execution_count": 37
        }
      ],
      "source": [
        "x = np.arange(10, 20, 2)\n",
        "x"
      ]
    },
    {
      "cell_type": "markdown",
      "id": "91e3f835",
      "metadata": {
        "id": "91e3f835"
      },
      "source": [
        "<h4>numpy.linspace</h4>\n",
        "\n",
        "This function is similar to <b>arange()</b> function, instead of step size, the number of evenly spaced values between the interval is specified. The usage of this function is as follows-\n",
        "\n",
        "`numpy.linspace(start, stop, num, endpoint, restep, dtype)`\n",
        "\n",
        "The constructor takes the following parameters.\n",
        "![image.png](attachment:image.png)"
      ]
    },
    {
      "cell_type": "code",
      "execution_count": 38,
      "id": "4e965630",
      "metadata": {
        "colab": {
          "base_uri": "https://localhost:8080/"
        },
        "id": "4e965630",
        "outputId": "20363106-751e-4c57-f48f-4f5af4aa2532"
      },
      "outputs": [
        {
          "output_type": "execute_result",
          "data": {
            "text/plain": [
              "array([10. , 12.5, 15. , 17.5, 20. ])"
            ]
          },
          "metadata": {},
          "execution_count": 38
        }
      ],
      "source": [
        "x = np.linspace(10, 20, 5)\n",
        "x"
      ]
    },
    {
      "cell_type": "markdown",
      "id": "ab7e9e1c",
      "metadata": {
        "id": "ab7e9e1c"
      },
      "source": [
        "Endpoint set to False"
      ]
    },
    {
      "cell_type": "code",
      "execution_count": 39,
      "id": "301d12b2",
      "metadata": {
        "colab": {
          "base_uri": "https://localhost:8080/"
        },
        "id": "301d12b2",
        "outputId": "e26835b5-a371-4bb0-948f-e48ad99e740a"
      },
      "outputs": [
        {
          "output_type": "execute_result",
          "data": {
            "text/plain": [
              "array([10., 12., 14., 16., 18.])"
            ]
          },
          "metadata": {},
          "execution_count": 39
        }
      ],
      "source": [
        "x = np.linspace(10, 20, 5, endpoint = False)\n",
        "x"
      ]
    },
    {
      "cell_type": "markdown",
      "id": "fa0d0912",
      "metadata": {
        "id": "fa0d0912"
      },
      "source": [
        "Find retstep value"
      ]
    },
    {
      "cell_type": "code",
      "execution_count": 40,
      "id": "ad8b1144",
      "metadata": {
        "colab": {
          "base_uri": "https://localhost:8080/"
        },
        "id": "ad8b1144",
        "outputId": "efed68c8-f69d-4ba0-af31-3f67ebe93f41"
      },
      "outputs": [
        {
          "output_type": "execute_result",
          "data": {
            "text/plain": [
              "(array([1.  , 1.25, 1.5 , 1.75, 2.  ]), 0.25)"
            ]
          },
          "metadata": {},
          "execution_count": 40
        }
      ],
      "source": [
        "x = np.linspace(1, 2, 5, retstep = True)\n",
        "x"
      ]
    },
    {
      "cell_type": "markdown",
      "id": "ea3f84a2",
      "metadata": {
        "id": "ea3f84a2"
      },
      "source": [
        "<h4>numpy.logspace</h4>\n",
        "\n",
        "This function returns an <b>ndarray</b> object that contains the numbers that are evenly spaced on log scale. Start and Stop endpoints of the scale are indices of the base, usually 10.\n",
        "\n",
        "`numpy.logspace(start, stop, num, endpoit, base, dtype)`"
      ]
    },
    {
      "cell_type": "code",
      "execution_count": 41,
      "id": "95e2d445",
      "metadata": {
        "colab": {
          "base_uri": "https://localhost:8080/"
        },
        "id": "95e2d445",
        "outputId": "7108be0e-5bb1-4762-e884-c0be2c7a2f8a"
      },
      "outputs": [
        {
          "output_type": "execute_result",
          "data": {
            "text/plain": [
              "array([ 10.        ,  12.91549665,  16.68100537,  21.5443469 ,\n",
              "        27.82559402,  35.93813664,  46.41588834,  59.94842503,\n",
              "        77.42636827, 100.        ])"
            ]
          },
          "metadata": {},
          "execution_count": 41
        }
      ],
      "source": [
        "import numpy as np\n",
        "\n",
        "# Default base is 10\n",
        "a = np.logspace(1.0, 2.0, num = 10)\n",
        "a"
      ]
    },
    {
      "cell_type": "markdown",
      "id": "87dbdfaa",
      "metadata": {
        "id": "87dbdfaa"
      },
      "source": [
        "Set base of log space to 2"
      ]
    },
    {
      "cell_type": "code",
      "execution_count": 42,
      "id": "63602eae",
      "metadata": {
        "colab": {
          "base_uri": "https://localhost:8080/"
        },
        "id": "63602eae",
        "outputId": "4370c68d-11f4-4c07-b5fc-52d4810a8869"
      },
      "outputs": [
        {
          "output_type": "execute_result",
          "data": {
            "text/plain": [
              "array([   2.,    4.,    8.,   16.,   32.,   64.,  128.,  256.,  512.,\n",
              "       1024.])"
            ]
          },
          "metadata": {},
          "execution_count": 42
        }
      ],
      "source": [
        "import numpy as np\n",
        "a = np.logspace(1, 10, num = 10, base = 2)\n",
        "a"
      ]
    },
    {
      "cell_type": "markdown",
      "id": "32e4e562",
      "metadata": {
        "id": "32e4e562"
      },
      "source": [
        "<h2 align='center'>NumPy - Indexing & Slicing</h2>\n",
        "\n",
        "Contents of ndarray object can be accessed and modified by indexing or slicing, just like Python's in-built container objects.\n",
        "\n",
        "As mentioned earlier, items in ndarray object follows zero-based index. Three types of indexing methods are available − <b>field access, basic slicing and advanced indexing.</b>\n",
        "\n",
        "Basic slicing is an extension of Python's basic concept of slicing to n dimensions. A Python slice object is constructed by giving <b>start, stop, and step</b> parameters to the built-in slice function. This slice object is passed to the array to extract a part of array."
      ]
    },
    {
      "cell_type": "code",
      "execution_count": 43,
      "id": "55b25b09",
      "metadata": {
        "colab": {
          "base_uri": "https://localhost:8080/"
        },
        "id": "55b25b09",
        "outputId": "138e5db9-d6ac-4604-9ea9-97b39259e3c9"
      },
      "outputs": [
        {
          "output_type": "execute_result",
          "data": {
            "text/plain": [
              "array([2, 4, 6])"
            ]
          },
          "metadata": {},
          "execution_count": 43
        }
      ],
      "source": [
        "import numpy as np\n",
        "a = np.arange(10)\n",
        "s = slice(2, 7, 2)\n",
        "a[s]"
      ]
    },
    {
      "cell_type": "code",
      "execution_count": 44,
      "id": "5a92e154",
      "metadata": {
        "colab": {
          "base_uri": "https://localhost:8080/"
        },
        "id": "5a92e154",
        "outputId": "9bc1abc5-ed90-4518-b87c-904d70f2cd63"
      },
      "outputs": [
        {
          "output_type": "execute_result",
          "data": {
            "text/plain": [
              "array([2, 4, 6])"
            ]
          },
          "metadata": {},
          "execution_count": 44
        }
      ],
      "source": [
        "import numpy as np\n",
        "a = np.arange(10)\n",
        "b = a[2:7:2]\n",
        "b"
      ]
    },
    {
      "cell_type": "markdown",
      "id": "f72b674d",
      "metadata": {
        "id": "f72b674d"
      },
      "source": [
        "Slice Single item"
      ]
    },
    {
      "cell_type": "code",
      "execution_count": 45,
      "id": "3f08f3c1",
      "metadata": {
        "colab": {
          "base_uri": "https://localhost:8080/"
        },
        "id": "3f08f3c1",
        "outputId": "4f20a2f5-08d0-4d07-c526-923f7daa7c6b"
      },
      "outputs": [
        {
          "output_type": "execute_result",
          "data": {
            "text/plain": [
              "5"
            ]
          },
          "metadata": {},
          "execution_count": 45
        }
      ],
      "source": [
        "import numpy as np\n",
        "a = np.arange(10)\n",
        "b = a[5]\n",
        "b"
      ]
    },
    {
      "cell_type": "markdown",
      "id": "e1ead6b0",
      "metadata": {
        "id": "e1ead6b0"
      },
      "source": [
        "Slice items starting from index"
      ]
    },
    {
      "cell_type": "code",
      "execution_count": 46,
      "id": "c7b89726",
      "metadata": {
        "colab": {
          "base_uri": "https://localhost:8080/"
        },
        "id": "c7b89726",
        "outputId": "170dc6aa-35d9-4966-a4ab-a2fb60ac72ad"
      },
      "outputs": [
        {
          "output_type": "execute_result",
          "data": {
            "text/plain": [
              "array([2, 3, 4, 5, 6, 7, 8, 9])"
            ]
          },
          "metadata": {},
          "execution_count": 46
        }
      ],
      "source": [
        "import numpy as np\n",
        "a = np.arange(10)\n",
        "a[2:]"
      ]
    },
    {
      "cell_type": "markdown",
      "id": "0388e65f",
      "metadata": {
        "id": "0388e65f"
      },
      "source": [
        "Slice items between indexes"
      ]
    },
    {
      "cell_type": "code",
      "execution_count": 47,
      "id": "3f107081",
      "metadata": {
        "colab": {
          "base_uri": "https://localhost:8080/"
        },
        "id": "3f107081",
        "outputId": "7792ea5c-c8ea-49ea-ce9c-51bfcdfe2c3e"
      },
      "outputs": [
        {
          "output_type": "execute_result",
          "data": {
            "text/plain": [
              "array([2, 3, 4])"
            ]
          },
          "metadata": {},
          "execution_count": 47
        }
      ],
      "source": [
        "import numpy as np\n",
        "a = np.arange(10)\n",
        "a[2:5]"
      ]
    },
    {
      "cell_type": "code",
      "execution_count": 48,
      "id": "ad05eb60",
      "metadata": {
        "colab": {
          "base_uri": "https://localhost:8080/"
        },
        "id": "ad05eb60",
        "outputId": "710ffb9c-bfc4-4c5b-e7ab-f711cff0cb56"
      },
      "outputs": [
        {
          "output_type": "execute_result",
          "data": {
            "text/plain": [
              "array([[3, 4, 5],\n",
              "       [4, 5, 6]])"
            ]
          },
          "metadata": {},
          "execution_count": 48
        }
      ],
      "source": [
        "import numpy as np\n",
        "a = np.array([[1, 2, 3], [3, 4, 5], [4, 5, 6]])\n",
        "a[1:]"
      ]
    },
    {
      "cell_type": "markdown",
      "id": "5aceb680",
      "metadata": {
        "id": "5aceb680"
      },
      "source": [
        "<h2 align='center'>NumPy - Advanced Indexing</h2>\n",
        "\n",
        "It is possible to make a selection from ndarray that is a non-tuple sequence, ndarray object of integer or Boolean data type, or a tuple with at least one item being a sequence object. Advanced indexing always returns a copy of the data. As against this, the slicing only presents a view.\n",
        "\n",
        "There are two types of advanced indexing − Integer and Boolean.\n",
        "\n",
        "<h4>Integer Indexing</h4>\n",
        "This mechanism helps in selecting any arbitrary item in an array based on its Ndimensional index. Each integer array represents the number of indexes into that dimension. When the index consists of as many integer arrays as the dimensions of the target ndarray, it becomes straightforward.\n",
        "\n",
        "In the following example, one element of specified column from each row of ndarray object is selected. Hence, the row index contains all row numbers, and the column index specifies the element to be selected."
      ]
    },
    {
      "cell_type": "code",
      "execution_count": 49,
      "id": "23bb73b1",
      "metadata": {
        "colab": {
          "base_uri": "https://localhost:8080/"
        },
        "id": "23bb73b1",
        "outputId": "caebfe5f-78da-41f0-db5f-37ce4883756a"
      },
      "outputs": [
        {
          "output_type": "execute_result",
          "data": {
            "text/plain": [
              "array([[1, 2],\n",
              "       [3, 4],\n",
              "       [5, 6]])"
            ]
          },
          "metadata": {},
          "execution_count": 49
        }
      ],
      "source": [
        "x = np.array([[1, 2], [3, 4], [5, 6]])\n",
        "x"
      ]
    },
    {
      "cell_type": "code",
      "execution_count": 50,
      "id": "ea1d1ec6",
      "metadata": {
        "colab": {
          "base_uri": "https://localhost:8080/"
        },
        "id": "ea1d1ec6",
        "outputId": "ac43b3bf-7bf3-457d-ed51-1865707f1c24"
      },
      "outputs": [
        {
          "output_type": "execute_result",
          "data": {
            "text/plain": [
              "array([1, 4, 5])"
            ]
          },
          "metadata": {},
          "execution_count": 50
        }
      ],
      "source": [
        "x[[0, 1, 2], [0, 1, 0]]"
      ]
    },
    {
      "cell_type": "code",
      "execution_count": 51,
      "id": "87f67664",
      "metadata": {
        "colab": {
          "base_uri": "https://localhost:8080/"
        },
        "id": "87f67664",
        "outputId": "ef99483f-9875-4452-fb69-9ed8f843b325"
      },
      "outputs": [
        {
          "output_type": "execute_result",
          "data": {
            "text/plain": [
              "array([[ 0,  1,  2],\n",
              "       [ 3,  4,  5],\n",
              "       [ 6,  7,  8],\n",
              "       [ 9, 10, 11]])"
            ]
          },
          "metadata": {},
          "execution_count": 51
        }
      ],
      "source": [
        "x = np.array([[0, 1, 2], [3, 4, 5], [6, 7, 8], [9, 10, 11]])\n",
        "x"
      ]
    },
    {
      "cell_type": "code",
      "execution_count": 52,
      "id": "00be1b5c",
      "metadata": {
        "colab": {
          "base_uri": "https://localhost:8080/"
        },
        "id": "00be1b5c",
        "outputId": "1e41c2df-d1be-43ec-cda5-8338025c207a"
      },
      "outputs": [
        {
          "output_type": "execute_result",
          "data": {
            "text/plain": [
              "array([[ 0,  2],\n",
              "       [ 9, 11]])"
            ]
          },
          "metadata": {},
          "execution_count": 52
        }
      ],
      "source": [
        "rows = np.array([[0, 0], [3, 3]])\n",
        "cols = np.array([[0, 2], [0, 2]])\n",
        "\n",
        "y = x[rows, cols]\n",
        "y"
      ]
    },
    {
      "cell_type": "code",
      "execution_count": 53,
      "id": "376ada6a",
      "metadata": {
        "colab": {
          "base_uri": "https://localhost:8080/"
        },
        "id": "376ada6a",
        "outputId": "14bb8eac-326e-45d7-f2cc-4ec87418f1ff"
      },
      "outputs": [
        {
          "output_type": "execute_result",
          "data": {
            "text/plain": [
              "array([[ 0,  1,  2],\n",
              "       [ 3,  4,  5],\n",
              "       [ 6,  7,  8],\n",
              "       [ 9, 10, 11]])"
            ]
          },
          "metadata": {},
          "execution_count": 53
        }
      ],
      "source": [
        "x = np.array([[0, 1, 2], [3, 4, 5], [6, 7, 8], [9, 10, 11]])\n",
        "x"
      ]
    },
    {
      "cell_type": "markdown",
      "id": "34ac0254",
      "metadata": {
        "id": "34ac0254"
      },
      "source": [
        "<h4>Slicing</h4>"
      ]
    },
    {
      "cell_type": "code",
      "execution_count": 54,
      "id": "4121e5d1",
      "metadata": {
        "colab": {
          "base_uri": "https://localhost:8080/"
        },
        "id": "4121e5d1",
        "outputId": "a3df2afa-260f-4322-cc0c-7305e549e5fa"
      },
      "outputs": [
        {
          "output_type": "execute_result",
          "data": {
            "text/plain": [
              "array([[ 4,  5],\n",
              "       [ 7,  8],\n",
              "       [10, 11]])"
            ]
          },
          "metadata": {},
          "execution_count": 54
        }
      ],
      "source": [
        "z = x[1:4, 1:3]\n",
        "z"
      ]
    },
    {
      "cell_type": "markdown",
      "id": "306c30b9",
      "metadata": {
        "id": "306c30b9"
      },
      "source": [
        "<h4>Slicing Using Advanced index For Column</h4>"
      ]
    },
    {
      "cell_type": "code",
      "execution_count": 55,
      "id": "2d7ac2d7",
      "metadata": {
        "colab": {
          "base_uri": "https://localhost:8080/"
        },
        "id": "2d7ac2d7",
        "outputId": "3c3b04d0-fbd7-4073-b076-28d7438838fa"
      },
      "outputs": [
        {
          "output_type": "execute_result",
          "data": {
            "text/plain": [
              "array([[ 4,  5],\n",
              "       [ 7,  8],\n",
              "       [10, 11]])"
            ]
          },
          "metadata": {},
          "execution_count": 55
        }
      ],
      "source": [
        "y = x[1:4, [1, 2]]\n",
        "y"
      ]
    },
    {
      "cell_type": "markdown",
      "id": "39ee30dd",
      "metadata": {
        "id": "39ee30dd"
      },
      "source": [
        "<h4>Boolean Array Indexing</h4>\n",
        "\n",
        "This type of advanced indexing is used when the resultant object is meant to be the result of Boolean Operations, such as comparison operators.\n",
        "\n",
        "<h4>Items greater than 5 are returned as a result of Boolean Indexing</h4>"
      ]
    },
    {
      "cell_type": "code",
      "execution_count": 56,
      "id": "57586a4f",
      "metadata": {
        "colab": {
          "base_uri": "https://localhost:8080/"
        },
        "id": "57586a4f",
        "outputId": "b36bd8b7-1a61-4f95-fb20-ae3d5d444c18"
      },
      "outputs": [
        {
          "output_type": "execute_result",
          "data": {
            "text/plain": [
              "array([[ 0,  1,  2],\n",
              "       [ 3,  4,  5],\n",
              "       [ 6,  7,  8],\n",
              "       [ 9, 10, 11]])"
            ]
          },
          "metadata": {},
          "execution_count": 56
        }
      ],
      "source": [
        "x = np.array([[0, 1, 2], [3, 4, 5], [6, 7, 8], [9, 10, 11]])\n",
        "x"
      ]
    },
    {
      "cell_type": "code",
      "execution_count": 57,
      "id": "a2e1269a",
      "metadata": {
        "colab": {
          "base_uri": "https://localhost:8080/"
        },
        "id": "a2e1269a",
        "outputId": "5ede34af-2339-4cc0-ba1e-6a2a2d62c94b"
      },
      "outputs": [
        {
          "output_type": "execute_result",
          "data": {
            "text/plain": [
              "[array([[False, False, False],\n",
              "        [False, False, False],\n",
              "        [ True,  True,  True],\n",
              "        [ True,  True,  True]])]"
            ]
          },
          "metadata": {},
          "execution_count": 57
        }
      ],
      "source": [
        "[x > 5]"
      ]
    },
    {
      "cell_type": "code",
      "execution_count": 58,
      "id": "3f6fb85c",
      "metadata": {
        "colab": {
          "base_uri": "https://localhost:8080/"
        },
        "id": "3f6fb85c",
        "outputId": "207a4b46-a965-4aa4-afd0-1ad8953a9828"
      },
      "outputs": [
        {
          "output_type": "execute_result",
          "data": {
            "text/plain": [
              "array([ 6,  7,  8,  9, 10, 11])"
            ]
          },
          "metadata": {},
          "execution_count": 58
        }
      ],
      "source": [
        "x[x > 5]"
      ]
    },
    {
      "cell_type": "markdown",
      "id": "c3fb07e4",
      "metadata": {
        "id": "c3fb07e4"
      },
      "source": [
        "<h4>NaN(Not a Number) elements are omitted by using ~(complement operator)</h4>"
      ]
    },
    {
      "cell_type": "code",
      "execution_count": 59,
      "id": "2ea9a5bc",
      "metadata": {
        "colab": {
          "base_uri": "https://localhost:8080/"
        },
        "id": "2ea9a5bc",
        "outputId": "a465a2e3-d1b3-40d4-96d2-0fc79945f0f0"
      },
      "outputs": [
        {
          "output_type": "execute_result",
          "data": {
            "text/plain": [
              "array([1., 2., 3., 4., 5.])"
            ]
          },
          "metadata": {},
          "execution_count": 59
        }
      ],
      "source": [
        "a = np.array([np.nan, 1, 2, np.nan, 3, 4, 5])\n",
        "a[~np.isnan(a)]"
      ]
    },
    {
      "cell_type": "markdown",
      "id": "ec04b6d8",
      "metadata": {
        "id": "ec04b6d8"
      },
      "source": [
        "<h4>How To filter out the non-complex elements from an array.</h4>"
      ]
    },
    {
      "cell_type": "code",
      "execution_count": 60,
      "id": "568d8160",
      "metadata": {
        "colab": {
          "base_uri": "https://localhost:8080/"
        },
        "id": "568d8160",
        "outputId": "278e8d9a-fdd0-486b-8e3c-6d3a0a8cac83"
      },
      "outputs": [
        {
          "output_type": "execute_result",
          "data": {
            "text/plain": [
              "array([2. +6.j, 3.5+5.j])"
            ]
          },
          "metadata": {},
          "execution_count": 60
        }
      ],
      "source": [
        "a = np.array([1,2+6j, 5, 3.5+5j])\n",
        "a[np.iscomplex(a)]"
      ]
    },
    {
      "cell_type": "markdown",
      "id": "e9ab6dc9",
      "metadata": {
        "id": "e9ab6dc9"
      },
      "source": [
        "<h3, align='center'>NumPy - Broadcasting</h3>\n",
        "\n",
        "The term <b>broadcasting</b> refers to the ability of NumPy to treat arrays of different shapes during arithmetic operations. Arithmetic operations on arrays are usually done on corresponding elements. If two arrays are of exactly the same shape, then these operations are smoothly performed."
      ]
    },
    {
      "cell_type": "code",
      "execution_count": 61,
      "id": "1c5a92aa",
      "metadata": {
        "colab": {
          "base_uri": "https://localhost:8080/"
        },
        "id": "1c5a92aa",
        "outputId": "7564bc1e-f955-4450-d43a-ece7ea61a1ea"
      },
      "outputs": [
        {
          "output_type": "execute_result",
          "data": {
            "text/plain": [
              "array([ 10,  40,  90, 160])"
            ]
          },
          "metadata": {},
          "execution_count": 61
        }
      ],
      "source": [
        "import numpy as np\n",
        "\n",
        "a = np.array([1, 2, 3, 4])\n",
        "b = np.array([10, 20, 30, 40])\n",
        "\n",
        "c = a * b\n",
        "c"
      ]
    },
    {
      "cell_type": "markdown",
      "id": "8e6ab33f",
      "metadata": {
        "id": "8e6ab33f"
      },
      "source": [
        "If the dimensions of two arrays are dissimilar, element-to-element operations are not possible. However, operations on arrays of non-similar shapes is still possible in NumPy, because of the <b>broadcasting</b> capability. The smaller array is <b>broadcast</b> to the size of the larger array so that they have compatible shapes.\n",
        "\n",
        "Broadcasting is possible if the following rules are satisfied -\n",
        "\n",
        "- Array with smaller <b>ndim</b> than the other is prepended with '1' in its shape.\n",
        "- Size in each dimension of the output shape is maximum of the input sizes in that dimension.\n",
        "- An input can be used in calculation, if its size in a particular dimension matches the output size or its value is exactly 1.\n",
        "- If an input has a dimension size of 1, the first data entry in that dimension is used for all calculations along that dimensions.\n",
        "\n",
        "A set of arrays is said to be <b>broadcastable</b> if the above rules produces a valid result and one of the following is true -\n",
        "- Arrays have exactly the same shape.\n",
        "- Arrays have the same number of dimensions and the length of each dimensions is either a common length or 1.\n",
        "- Arrays having too few dimensions can have its shape prepended with a dimension of length 1, so that the above stated property is true.\n"
      ]
    },
    {
      "cell_type": "code",
      "execution_count": 62,
      "id": "c3514688",
      "metadata": {
        "colab": {
          "base_uri": "https://localhost:8080/"
        },
        "id": "c3514688",
        "outputId": "83c8b785-cfac-4a8e-9c0b-fbd30d5ecef6"
      },
      "outputs": [
        {
          "output_type": "execute_result",
          "data": {
            "text/plain": [
              "array([[ 0.,  0.,  0.],\n",
              "       [10., 10., 10.],\n",
              "       [20., 20., 20.],\n",
              "       [30., 30., 30.]])"
            ]
          },
          "metadata": {},
          "execution_count": 62
        }
      ],
      "source": [
        "a = np.array([[0.0, 0.0, 0.0], [10.0, 10.0, 10.0], [20.0, 20.0, 20.0], [30.0, 30.0, 30.0]])\n",
        "b = np.array([1.0, 2.0, 3.0])\n",
        "\n",
        "a"
      ]
    },
    {
      "cell_type": "code",
      "execution_count": 63,
      "id": "f964da0f",
      "metadata": {
        "colab": {
          "base_uri": "https://localhost:8080/"
        },
        "id": "f964da0f",
        "outputId": "617243ac-3991-4d36-b61c-db886fe53af0"
      },
      "outputs": [
        {
          "output_type": "execute_result",
          "data": {
            "text/plain": [
              "array([1., 2., 3.])"
            ]
          },
          "metadata": {},
          "execution_count": 63
        }
      ],
      "source": [
        "b"
      ]
    },
    {
      "cell_type": "code",
      "execution_count": 64,
      "id": "14d236a6",
      "metadata": {
        "colab": {
          "base_uri": "https://localhost:8080/"
        },
        "id": "14d236a6",
        "outputId": "6267dc99-81e5-4b5e-a7f5-998ab1292a22"
      },
      "outputs": [
        {
          "output_type": "execute_result",
          "data": {
            "text/plain": [
              "array([[ 1.,  2.,  3.],\n",
              "       [11., 12., 13.],\n",
              "       [21., 22., 23.],\n",
              "       [31., 32., 33.]])"
            ]
          },
          "metadata": {},
          "execution_count": 64
        }
      ],
      "source": [
        "a + b"
      ]
    },
    {
      "cell_type": "markdown",
      "id": "0cebdb44",
      "metadata": {
        "id": "0cebdb44"
      },
      "source": [
        "The following figure demonstrates how array <b>b</b> is broadcast to become compatible with <b>a</b>.\n",
        "\n",
        "![image.png](attachment:image.png)"
      ]
    },
    {
      "cell_type": "markdown",
      "id": "bbd2d85d",
      "metadata": {
        "id": "bbd2d85d"
      },
      "source": [
        "<h2 align='center'>NumPy - Iterating Over Array</h2>\n",
        "\n",
        "NumPy package contains an iterator object <b>numpy.nditer</b>. It is efficient multidimensional iterator object using which it is possible to iterate over an array. Each element of an array is visited using Python's standard interface.\n",
        "\n",
        "Let us create a 3X4 using arange() function and iterate over it using <b>nditer</b>"
      ]
    },
    {
      "cell_type": "code",
      "execution_count": 65,
      "id": "c2a4e9b0",
      "metadata": {
        "colab": {
          "base_uri": "https://localhost:8080/"
        },
        "id": "c2a4e9b0",
        "outputId": "c128e3a4-8941-42c2-dc29-ebe8d48f069b"
      },
      "outputs": [
        {
          "output_type": "execute_result",
          "data": {
            "text/plain": [
              "array([ 0,  5, 10, 15, 20, 25, 30, 35, 40, 45, 50, 55])"
            ]
          },
          "metadata": {},
          "execution_count": 65
        }
      ],
      "source": [
        "import numpy as np\n",
        "\n",
        "a = np.arange(0, 60, 5)\n",
        "a"
      ]
    },
    {
      "cell_type": "code",
      "execution_count": 66,
      "id": "bdce2e58",
      "metadata": {
        "colab": {
          "base_uri": "https://localhost:8080/"
        },
        "id": "bdce2e58",
        "outputId": "4f31f0ad-3246-45a0-87d5-d83b5bffc6cc"
      },
      "outputs": [
        {
          "output_type": "execute_result",
          "data": {
            "text/plain": [
              "array([[ 0,  5, 10, 15],\n",
              "       [20, 25, 30, 35],\n",
              "       [40, 45, 50, 55]])"
            ]
          },
          "metadata": {},
          "execution_count": 66
        }
      ],
      "source": [
        "a = a.reshape(3, 4)\n",
        "a"
      ]
    },
    {
      "cell_type": "code",
      "execution_count": 67,
      "id": "c065051b",
      "metadata": {
        "colab": {
          "base_uri": "https://localhost:8080/"
        },
        "id": "c065051b",
        "outputId": "8483b97e-f303-42f4-b455-b4643bf283fe"
      },
      "outputs": [
        {
          "output_type": "stream",
          "name": "stdout",
          "text": [
            "0\n",
            "5\n",
            "10\n",
            "15\n",
            "20\n",
            "25\n",
            "30\n",
            "35\n",
            "40\n",
            "45\n",
            "50\n",
            "55\n"
          ]
        }
      ],
      "source": [
        "for i in np.nditer(a):\n",
        "    print(i)"
      ]
    },
    {
      "cell_type": "markdown",
      "id": "831a906c",
      "metadata": {
        "id": "831a906c"
      },
      "source": [
        "iterating over the transpose of the above array."
      ]
    },
    {
      "cell_type": "code",
      "execution_count": 68,
      "id": "146c0a9d",
      "metadata": {
        "colab": {
          "base_uri": "https://localhost:8080/"
        },
        "id": "146c0a9d",
        "outputId": "752b65a6-b764-4cb6-8df3-8b9ac9911444"
      },
      "outputs": [
        {
          "output_type": "execute_result",
          "data": {
            "text/plain": [
              "array([[ 0,  5, 10, 15],\n",
              "       [20, 25, 30, 35],\n",
              "       [40, 45, 50, 55]])"
            ]
          },
          "metadata": {},
          "execution_count": 68
        }
      ],
      "source": [
        "import numpy as np\n",
        "\n",
        "a = np.arange(0, 60, 5)\n",
        "a = a.reshape(3, 4)\n",
        "a"
      ]
    },
    {
      "cell_type": "code",
      "execution_count": 69,
      "id": "fbd40c36",
      "metadata": {
        "colab": {
          "base_uri": "https://localhost:8080/"
        },
        "id": "fbd40c36",
        "outputId": "325af5aa-4685-47b4-f59e-ac03d1b2b58e"
      },
      "outputs": [
        {
          "output_type": "execute_result",
          "data": {
            "text/plain": [
              "array([[ 0, 20, 40],\n",
              "       [ 5, 25, 45],\n",
              "       [10, 30, 50],\n",
              "       [15, 35, 55]])"
            ]
          },
          "metadata": {},
          "execution_count": 69
        }
      ],
      "source": [
        "b = a.T\n",
        "b"
      ]
    },
    {
      "cell_type": "code",
      "execution_count": 70,
      "id": "d8982342",
      "metadata": {
        "colab": {
          "base_uri": "https://localhost:8080/"
        },
        "id": "d8982342",
        "outputId": "29f6462f-a554-4d51-ea7f-afa2f9e10203"
      },
      "outputs": [
        {
          "output_type": "stream",
          "name": "stdout",
          "text": [
            "0\n",
            "5\n",
            "10\n",
            "15\n",
            "20\n",
            "25\n",
            "30\n",
            "35\n",
            "40\n",
            "45\n",
            "50\n",
            "55\n"
          ]
        }
      ],
      "source": [
        "for i in np.nditer(b):\n",
        "    print(i)"
      ]
    },
    {
      "cell_type": "markdown",
      "id": "dc9d9321",
      "metadata": {
        "id": "dc9d9321"
      },
      "source": [
        "<h4>Iteration Order</h4>\n",
        "\n",
        "If the same elements are stored using F-style order, the iterator chooses the more efficient way\n",
        "of iterating over an array.\n"
      ]
    },
    {
      "cell_type": "code",
      "execution_count": 71,
      "id": "fe2a88e0",
      "metadata": {
        "colab": {
          "base_uri": "https://localhost:8080/"
        },
        "id": "fe2a88e0",
        "outputId": "84c54ad3-7305-4a96-ecd6-368ed893e4c2"
      },
      "outputs": [
        {
          "output_type": "execute_result",
          "data": {
            "text/plain": [
              "array([[ 0,  5, 10, 15],\n",
              "       [20, 25, 30, 35],\n",
              "       [40, 45, 50, 55]])"
            ]
          },
          "metadata": {},
          "execution_count": 71
        }
      ],
      "source": [
        "import numpy as np\n",
        "\n",
        "a = np.arange(0, 60, 5)\n",
        "a = a.reshape(3, 4)\n",
        "a"
      ]
    },
    {
      "cell_type": "markdown",
      "id": "ff634eb7",
      "metadata": {
        "id": "ff634eb7"
      },
      "source": [
        "Transpose of a"
      ]
    },
    {
      "cell_type": "code",
      "execution_count": 72,
      "id": "49a037bc",
      "metadata": {
        "colab": {
          "base_uri": "https://localhost:8080/"
        },
        "id": "49a037bc",
        "outputId": "2a6a8fcd-57e8-4f65-f809-746658c7323d"
      },
      "outputs": [
        {
          "output_type": "execute_result",
          "data": {
            "text/plain": [
              "array([[ 0, 20, 40],\n",
              "       [ 5, 25, 45],\n",
              "       [10, 30, 50],\n",
              "       [15, 35, 55]])"
            ]
          },
          "metadata": {},
          "execution_count": 72
        }
      ],
      "source": [
        "b = a.T\n",
        "b"
      ]
    },
    {
      "cell_type": "markdown",
      "id": "b889469e",
      "metadata": {
        "id": "b889469e"
      },
      "source": [
        "Sorted in C-style order"
      ]
    },
    {
      "cell_type": "code",
      "execution_count": 73,
      "id": "c1ec29f9",
      "metadata": {
        "colab": {
          "base_uri": "https://localhost:8080/"
        },
        "id": "c1ec29f9",
        "outputId": "ddf2b919-29f6-4b5a-d031-331643717594"
      },
      "outputs": [
        {
          "output_type": "execute_result",
          "data": {
            "text/plain": [
              "array([[ 0, 20, 40],\n",
              "       [ 5, 25, 45],\n",
              "       [10, 30, 50],\n",
              "       [15, 35, 55]])"
            ]
          },
          "metadata": {},
          "execution_count": 73
        }
      ],
      "source": [
        "c = b.copy(order = 'C')\n",
        "c"
      ]
    },
    {
      "cell_type": "code",
      "execution_count": 74,
      "id": "eff8f95d",
      "metadata": {
        "colab": {
          "base_uri": "https://localhost:8080/"
        },
        "id": "eff8f95d",
        "outputId": "0cad0a93-223c-4372-dc75-bc1317ae6ebd"
      },
      "outputs": [
        {
          "output_type": "stream",
          "name": "stdout",
          "text": [
            "0\n",
            "20\n",
            "40\n",
            "5\n",
            "25\n",
            "45\n",
            "10\n",
            "30\n",
            "50\n",
            "15\n",
            "35\n",
            "55\n"
          ]
        }
      ],
      "source": [
        "for i in np.nditer(c):\n",
        "    print(i)"
      ]
    },
    {
      "cell_type": "markdown",
      "id": "9f10d5ca",
      "metadata": {
        "id": "9f10d5ca"
      },
      "source": [
        "Sorted in F-style order"
      ]
    },
    {
      "cell_type": "code",
      "execution_count": 75,
      "id": "ec627e76",
      "metadata": {
        "colab": {
          "base_uri": "https://localhost:8080/"
        },
        "id": "ec627e76",
        "outputId": "22f2c9d6-48e0-47f4-90ae-498aaf3e8dc8"
      },
      "outputs": [
        {
          "output_type": "execute_result",
          "data": {
            "text/plain": [
              "array([[ 0, 20, 40],\n",
              "       [ 5, 25, 45],\n",
              "       [10, 30, 50],\n",
              "       [15, 35, 55]])"
            ]
          },
          "metadata": {},
          "execution_count": 75
        }
      ],
      "source": [
        "c = b.copy(order = 'F')\n",
        "c"
      ]
    },
    {
      "cell_type": "code",
      "execution_count": 76,
      "id": "c11e3c0e",
      "metadata": {
        "colab": {
          "base_uri": "https://localhost:8080/"
        },
        "id": "c11e3c0e",
        "outputId": "43a99528-485a-436c-ff66-d4f70d0dbe3a"
      },
      "outputs": [
        {
          "output_type": "stream",
          "name": "stdout",
          "text": [
            "0\n",
            "5\n",
            "10\n",
            "15\n",
            "20\n",
            "25\n",
            "30\n",
            "35\n",
            "40\n",
            "45\n",
            "50\n",
            "55\n"
          ]
        }
      ],
      "source": [
        "for x in np.nditer(c):\n",
        "    print(x)"
      ]
    },
    {
      "cell_type": "markdown",
      "id": "238f7005",
      "metadata": {
        "id": "238f7005"
      },
      "source": [
        "It is possible to force nditer object to use a specific order by explicitly mentioning it."
      ]
    },
    {
      "cell_type": "code",
      "execution_count": 77,
      "id": "9da3b5ad",
      "metadata": {
        "colab": {
          "base_uri": "https://localhost:8080/"
        },
        "id": "9da3b5ad",
        "outputId": "259a032c-f2d3-4a92-a963-74ac763f2a3a"
      },
      "outputs": [
        {
          "output_type": "execute_result",
          "data": {
            "text/plain": [
              "array([[ 0,  5, 10, 15],\n",
              "       [20, 25, 30, 35],\n",
              "       [40, 45, 50, 55]])"
            ]
          },
          "metadata": {},
          "execution_count": 77
        }
      ],
      "source": [
        "import numpy as np\n",
        "\n",
        "a = np.arange(0, 60, 5)\n",
        "a = a.reshape(3, 4)\n",
        "a"
      ]
    },
    {
      "cell_type": "code",
      "execution_count": 78,
      "id": "311fcf9d",
      "metadata": {
        "colab": {
          "base_uri": "https://localhost:8080/"
        },
        "id": "311fcf9d",
        "outputId": "ddb0dd86-e883-499d-8c55-6c73bf36edd0"
      },
      "outputs": [
        {
          "output_type": "stream",
          "name": "stdout",
          "text": [
            "0\n",
            "5\n",
            "10\n",
            "15\n",
            "20\n",
            "25\n",
            "30\n",
            "35\n",
            "40\n",
            "45\n",
            "50\n",
            "55\n"
          ]
        }
      ],
      "source": [
        "for x in np.nditer(a, order = \"c\"):\n",
        "    print(x)"
      ]
    },
    {
      "cell_type": "code",
      "execution_count": 79,
      "id": "60028dcd",
      "metadata": {
        "colab": {
          "base_uri": "https://localhost:8080/"
        },
        "id": "60028dcd",
        "outputId": "11f0b57a-a6ea-40b0-90be-78e9c0becf8c"
      },
      "outputs": [
        {
          "output_type": "stream",
          "name": "stdout",
          "text": [
            "0\n",
            "20\n",
            "40\n",
            "5\n",
            "25\n",
            "45\n",
            "10\n",
            "30\n",
            "50\n",
            "15\n",
            "35\n",
            "55\n"
          ]
        }
      ],
      "source": [
        "for x in np.nditer(a, order = 'F'):\n",
        "    print(x)"
      ]
    },
    {
      "cell_type": "markdown",
      "id": "4dda9bf3",
      "metadata": {
        "id": "4dda9bf3"
      },
      "source": [
        "<h2 align='center'>NumPy - Mathematical Functions</h2>\n",
        "\n",
        "Quite understandably, NumPy contains a large number of various mathematical Operations. NumPy provides standard trignometric functions, functions for arithmetic operations, handling complex numbers, etc.\n",
        "\n",
        "<h4>Trigonometric Functions</h4>\n",
        "\n",
        "NumPy has standard trignometric functions which return trignometric ratios for a given angle in radians."
      ]
    },
    {
      "cell_type": "code",
      "execution_count": 80,
      "id": "1f41615c",
      "metadata": {
        "colab": {
          "base_uri": "https://localhost:8080/"
        },
        "id": "1f41615c",
        "outputId": "f1ccbbb2-ffea-4ba9-b3db-0d5fed66dbc4"
      },
      "outputs": [
        {
          "output_type": "execute_result",
          "data": {
            "text/plain": [
              "array([ 0, 30, 45, 60, 90])"
            ]
          },
          "metadata": {},
          "execution_count": 80
        }
      ],
      "source": [
        "import numpy as np\n",
        "\n",
        "a = np.array([0, 30, 45, 60, 90])\n",
        "a"
      ]
    },
    {
      "cell_type": "markdown",
      "id": "f60df2a9",
      "metadata": {
        "id": "f60df2a9"
      },
      "source": [
        "Sine of Different angles:\n",
        "\n",
        "Convert to Radians by Multiplying with pi/180"
      ]
    },
    {
      "cell_type": "code",
      "execution_count": 81,
      "id": "b8c5318e",
      "metadata": {
        "colab": {
          "base_uri": "https://localhost:8080/"
        },
        "id": "b8c5318e",
        "outputId": "1e9e5214-b2d1-4aee-b44f-4731c3f267ce"
      },
      "outputs": [
        {
          "output_type": "stream",
          "name": "stdout",
          "text": [
            "[0.         0.5        0.70710678 0.8660254  1.        ]\n"
          ]
        }
      ],
      "source": [
        "print(np.sin(a*np.pi/180))"
      ]
    },
    {
      "cell_type": "markdown",
      "id": "e23564d3",
      "metadata": {
        "id": "e23564d3"
      },
      "source": [
        "Cosine values for angles in array"
      ]
    },
    {
      "cell_type": "code",
      "execution_count": 82,
      "id": "92ce5cf2",
      "metadata": {
        "colab": {
          "base_uri": "https://localhost:8080/"
        },
        "id": "92ce5cf2",
        "outputId": "40745b8f-41e4-4385-b818-4e1fef56c092"
      },
      "outputs": [
        {
          "output_type": "stream",
          "name": "stdout",
          "text": [
            "[1.00000000e+00 8.66025404e-01 7.07106781e-01 5.00000000e-01\n",
            " 6.12323400e-17]\n"
          ]
        }
      ],
      "source": [
        "print(np.cos(a*np.pi/180))"
      ]
    },
    {
      "cell_type": "markdown",
      "id": "639e0528",
      "metadata": {
        "id": "639e0528"
      },
      "source": [
        "Tangent values for given angles"
      ]
    },
    {
      "cell_type": "code",
      "execution_count": 83,
      "id": "03578533",
      "metadata": {
        "colab": {
          "base_uri": "https://localhost:8080/"
        },
        "id": "03578533",
        "outputId": "f5f44465-22d3-4924-8ab6-9ecba5e59898"
      },
      "outputs": [
        {
          "output_type": "stream",
          "name": "stdout",
          "text": [
            "[0.00000000e+00 5.77350269e-01 1.00000000e+00 1.73205081e+00\n",
            " 1.63312394e+16]\n"
          ]
        }
      ],
      "source": [
        "print(np.tan(a*np.pi/180))"
      ]
    },
    {
      "cell_type": "markdown",
      "id": "34085042",
      "metadata": {
        "id": "34085042"
      },
      "source": [
        "<b>arcsin, arcos,</b> and <b>artan</b> functions return the trignometric inverse of sin, cos, and tan of the given angle. The result of these functions can be verified by <b>numpy.degrees() function</b> by converting radians to degrees."
      ]
    },
    {
      "cell_type": "code",
      "execution_count": 84,
      "id": "a6d19932",
      "metadata": {
        "colab": {
          "base_uri": "https://localhost:8080/"
        },
        "id": "a6d19932",
        "outputId": "96f70072-9065-4a4c-8d14-f7266e5530a7"
      },
      "outputs": [
        {
          "output_type": "execute_result",
          "data": {
            "text/plain": [
              "array([ 0, 30, 45, 60, 90])"
            ]
          },
          "metadata": {},
          "execution_count": 84
        }
      ],
      "source": [
        "import numpy as np\n",
        "\n",
        "a = np.array([0, 30, 45, 60, 90])\n",
        "a"
      ]
    },
    {
      "cell_type": "markdown",
      "id": "b1238231",
      "metadata": {
        "id": "b1238231"
      },
      "source": [
        "Array Containing sine Values"
      ]
    },
    {
      "cell_type": "code",
      "execution_count": 85,
      "id": "ade04802",
      "metadata": {
        "colab": {
          "base_uri": "https://localhost:8080/"
        },
        "id": "ade04802",
        "outputId": "3bc3bde9-5a64-4a1f-8625-37a2e4edda8f"
      },
      "outputs": [
        {
          "output_type": "stream",
          "name": "stdout",
          "text": [
            "[0.         0.5        0.70710678 0.8660254  1.        ]\n"
          ]
        }
      ],
      "source": [
        "sin = np.sin(a*np.pi/180)\n",
        "print(sin)"
      ]
    },
    {
      "cell_type": "markdown",
      "id": "bbef7198",
      "metadata": {
        "id": "bbef7198"
      },
      "source": [
        "Compute sine inverse of angles. Returned values are in radians."
      ]
    },
    {
      "cell_type": "code",
      "execution_count": 86,
      "id": "cc9b3032",
      "metadata": {
        "colab": {
          "base_uri": "https://localhost:8080/"
        },
        "id": "cc9b3032",
        "outputId": "a31c354c-a780-4844-9397-fe0111df11f8"
      },
      "outputs": [
        {
          "output_type": "execute_result",
          "data": {
            "text/plain": [
              "array([0.        , 0.52359878, 0.78539816, 1.04719755, 1.57079633])"
            ]
          },
          "metadata": {},
          "execution_count": 86
        }
      ],
      "source": [
        "inv = np.arcsin(sin)\n",
        "inv"
      ]
    },
    {
      "cell_type": "markdown",
      "id": "27493805",
      "metadata": {
        "id": "27493805"
      },
      "source": [
        "Check result by converting to degrees"
      ]
    },
    {
      "cell_type": "code",
      "execution_count": 87,
      "id": "b84eb1ff",
      "metadata": {
        "colab": {
          "base_uri": "https://localhost:8080/"
        },
        "id": "b84eb1ff",
        "outputId": "53ad1e54-26c8-45d5-fb1d-7601d99b72d9"
      },
      "outputs": [
        {
          "output_type": "stream",
          "name": "stdout",
          "text": [
            "[ 0. 30. 45. 60. 90.]\n"
          ]
        }
      ],
      "source": [
        "print(np.degrees(inv))"
      ]
    },
    {
      "cell_type": "markdown",
      "id": "9d0796bd",
      "metadata": {
        "id": "9d0796bd"
      },
      "source": [
        "arccos and arctan functions behave similarly"
      ]
    },
    {
      "cell_type": "code",
      "execution_count": 88,
      "id": "6006ff4b",
      "metadata": {
        "colab": {
          "base_uri": "https://localhost:8080/"
        },
        "id": "6006ff4b",
        "outputId": "d620d8b1-f03f-43c0-e3bc-324a422bcb3a"
      },
      "outputs": [
        {
          "output_type": "execute_result",
          "data": {
            "text/plain": [
              "array([1.00000000e+00, 8.66025404e-01, 7.07106781e-01, 5.00000000e-01,\n",
              "       6.12323400e-17])"
            ]
          },
          "metadata": {},
          "execution_count": 88
        }
      ],
      "source": [
        "cos = np.cos(a*np.pi/180)\n",
        "cos"
      ]
    },
    {
      "cell_type": "code",
      "execution_count": 89,
      "id": "55e4e037",
      "metadata": {
        "colab": {
          "base_uri": "https://localhost:8080/"
        },
        "id": "55e4e037",
        "outputId": "43dfece6-e3cf-43df-b135-c42541d0abc3"
      },
      "outputs": [
        {
          "output_type": "execute_result",
          "data": {
            "text/plain": [
              "array([0.        , 0.52359878, 0.78539816, 1.04719755, 1.57079633])"
            ]
          },
          "metadata": {},
          "execution_count": 89
        }
      ],
      "source": [
        "inv = np.arccos(cos)\n",
        "inv"
      ]
    },
    {
      "cell_type": "code",
      "execution_count": 90,
      "id": "52f9383c",
      "metadata": {
        "colab": {
          "base_uri": "https://localhost:8080/"
        },
        "id": "52f9383c",
        "outputId": "2dbd1fb2-c420-45a3-d3ef-4ec598d946fc"
      },
      "outputs": [
        {
          "output_type": "execute_result",
          "data": {
            "text/plain": [
              "array([ 0., 30., 45., 60., 90.])"
            ]
          },
          "metadata": {},
          "execution_count": 90
        }
      ],
      "source": [
        "np.degrees(inv)"
      ]
    },
    {
      "cell_type": "code",
      "execution_count": 91,
      "id": "6672f704",
      "metadata": {
        "colab": {
          "base_uri": "https://localhost:8080/"
        },
        "id": "6672f704",
        "outputId": "a0f0c115-61ac-4e79-8616-80da05770743"
      },
      "outputs": [
        {
          "output_type": "execute_result",
          "data": {
            "text/plain": [
              "array([0.00000000e+00, 5.77350269e-01, 1.00000000e+00, 1.73205081e+00,\n",
              "       1.63312394e+16])"
            ]
          },
          "metadata": {},
          "execution_count": 91
        }
      ],
      "source": [
        "tan = np.tan(a*np.pi/180)\n",
        "tan"
      ]
    },
    {
      "cell_type": "code",
      "execution_count": 92,
      "id": "6ef64462",
      "metadata": {
        "colab": {
          "base_uri": "https://localhost:8080/"
        },
        "id": "6ef64462",
        "outputId": "0c119000-0106-4eca-d3eb-2bc6cc544648"
      },
      "outputs": [
        {
          "output_type": "execute_result",
          "data": {
            "text/plain": [
              "array([0.        , 0.52359878, 0.78539816, 1.04719755, 1.57079633])"
            ]
          },
          "metadata": {},
          "execution_count": 92
        }
      ],
      "source": [
        "inv = np.arctan(tan)\n",
        "inv"
      ]
    },
    {
      "cell_type": "code",
      "execution_count": 93,
      "id": "3c1f3cda",
      "metadata": {
        "colab": {
          "base_uri": "https://localhost:8080/"
        },
        "id": "3c1f3cda",
        "outputId": "19acb4e9-977d-43e2-b3dd-e733c3daa8e2"
      },
      "outputs": [
        {
          "output_type": "execute_result",
          "data": {
            "text/plain": [
              "array([ 0., 30., 45., 60., 90.])"
            ]
          },
          "metadata": {},
          "execution_count": 93
        }
      ],
      "source": [
        "np.degrees(inv)"
      ]
    },
    {
      "cell_type": "markdown",
      "id": "ac2f519f",
      "metadata": {
        "id": "ac2f519f"
      },
      "source": [
        "<h3>Functions For Rounding</h3>\n",
        "\n",
        "<h4>numpy.around</h4>\n",
        "\n",
        "This is a function that returns the value rounded to the desired precision. The function takes the following parameters.\n",
        "\n",
        "![image.png](attachment:image.png)"
      ]
    },
    {
      "cell_type": "code",
      "execution_count": 94,
      "id": "f6f57cdb",
      "metadata": {
        "colab": {
          "base_uri": "https://localhost:8080/"
        },
        "id": "f6f57cdb",
        "outputId": "6204e7fd-445a-4f99-a49b-caf70e30d2d6"
      },
      "outputs": [
        {
          "output_type": "execute_result",
          "data": {
            "text/plain": [
              "array([  1.   ,   5.55 , 123.   ,   0.567,  25.532])"
            ]
          },
          "metadata": {},
          "execution_count": 94
        }
      ],
      "source": [
        "import numpy as np\n",
        "\n",
        "a = np.array([1.0, 5.55, 123, 0.567, 25.532])\n",
        "\n",
        "a"
      ]
    },
    {
      "cell_type": "markdown",
      "id": "28dc7678",
      "metadata": {
        "id": "28dc7678"
      },
      "source": [
        "After Rounding"
      ]
    },
    {
      "cell_type": "code",
      "execution_count": 95,
      "id": "b80b28a1",
      "metadata": {
        "colab": {
          "base_uri": "https://localhost:8080/"
        },
        "id": "b80b28a1",
        "outputId": "85205846-c348-4d38-9ea6-ec25bb917209"
      },
      "outputs": [
        {
          "output_type": "execute_result",
          "data": {
            "text/plain": [
              "array([  1.,   6., 123.,   1.,  26.])"
            ]
          },
          "metadata": {},
          "execution_count": 95
        }
      ],
      "source": [
        "np.around(a)"
      ]
    },
    {
      "cell_type": "code",
      "execution_count": 96,
      "id": "2aeb64e2",
      "metadata": {
        "colab": {
          "base_uri": "https://localhost:8080/"
        },
        "id": "2aeb64e2",
        "outputId": "33e69b8f-2dc3-417f-89e2-1301444e7489"
      },
      "outputs": [
        {
          "output_type": "execute_result",
          "data": {
            "text/plain": [
              "array([  1. ,   5.6, 123. ,   0.6,  25.5])"
            ]
          },
          "metadata": {},
          "execution_count": 96
        }
      ],
      "source": [
        "np.around(a, decimals = 1)"
      ]
    },
    {
      "cell_type": "code",
      "execution_count": 97,
      "id": "25812018",
      "metadata": {
        "colab": {
          "base_uri": "https://localhost:8080/"
        },
        "id": "25812018",
        "outputId": "6aa38b90-6901-4c44-9632-0c96c9331a69"
      },
      "outputs": [
        {
          "output_type": "execute_result",
          "data": {
            "text/plain": [
              "array([  0.,  10., 120.,   0.,  30.])"
            ]
          },
          "metadata": {},
          "execution_count": 97
        }
      ],
      "source": [
        "np.around(a, decimals = -1)"
      ]
    },
    {
      "cell_type": "markdown",
      "id": "ce267356",
      "metadata": {
        "id": "ce267356"
      },
      "source": [
        "<h4>numpy.floor()</h4>\n",
        "\n",
        "This function returns the largest integer not greater than the input parameter. The floor of the <b>scalar x</b> is the largest <b>integer i,</b> such that <b>i<=x</b>. Note that in Python, flooring always is rounded away from 0."
      ]
    },
    {
      "cell_type": "code",
      "execution_count": 98,
      "id": "9615b176",
      "metadata": {
        "colab": {
          "base_uri": "https://localhost:8080/"
        },
        "id": "9615b176",
        "outputId": "d17b3d19-131e-4417-b3e6-eb7613bab966"
      },
      "outputs": [
        {
          "output_type": "execute_result",
          "data": {
            "text/plain": [
              "array([-1.7,  1.5, -0.2,  0.6, 10. ])"
            ]
          },
          "metadata": {},
          "execution_count": 98
        }
      ],
      "source": [
        "import numpy as np\n",
        "\n",
        "a = np.array([-1.7, 1.5, -0.2, 0.6, 10])\n",
        "a"
      ]
    },
    {
      "cell_type": "code",
      "execution_count": 99,
      "id": "e900449e",
      "metadata": {
        "colab": {
          "base_uri": "https://localhost:8080/"
        },
        "id": "e900449e",
        "outputId": "95a582bb-f8a8-4042-d3bf-4a61fc47ad40"
      },
      "outputs": [
        {
          "output_type": "execute_result",
          "data": {
            "text/plain": [
              "array([-2.,  1., -1.,  0., 10.])"
            ]
          },
          "metadata": {},
          "execution_count": 99
        }
      ],
      "source": [
        "np.floor(a)"
      ]
    },
    {
      "cell_type": "markdown",
      "id": "1ef80002",
      "metadata": {
        "id": "1ef80002"
      },
      "source": [
        "<h4>numpy.ceil()</h4>\n",
        "\n",
        "The ceil() function returns the ceiling of an input value, i.e. the ceil of the <b>scalar x</b> is the smallest <b>integer i,</b> such that <b>i>=x.</b>"
      ]
    },
    {
      "cell_type": "code",
      "execution_count": 100,
      "id": "8b76b0ff",
      "metadata": {
        "colab": {
          "base_uri": "https://localhost:8080/"
        },
        "id": "8b76b0ff",
        "outputId": "e0fffda7-e374-407e-efde-850f8476981d"
      },
      "outputs": [
        {
          "output_type": "execute_result",
          "data": {
            "text/plain": [
              "array([-1.7,  1.5, -0.2,  0.6, 10. ])"
            ]
          },
          "metadata": {},
          "execution_count": 100
        }
      ],
      "source": [
        "import numpy as np\n",
        "\n",
        "a = np.array([-1.7, 1.5, -0.2, 0.6, 10])\n",
        "a"
      ]
    },
    {
      "cell_type": "code",
      "execution_count": 101,
      "id": "1ef6b3a4",
      "metadata": {
        "colab": {
          "base_uri": "https://localhost:8080/"
        },
        "id": "1ef6b3a4",
        "outputId": "62489312-bb82-4c74-90ca-66e3cb2d4497"
      },
      "outputs": [
        {
          "output_type": "execute_result",
          "data": {
            "text/plain": [
              "array([-1.,  2., -0.,  1., 10.])"
            ]
          },
          "metadata": {},
          "execution_count": 101
        }
      ],
      "source": [
        "np.ceil(a)"
      ]
    },
    {
      "cell_type": "markdown",
      "id": "ec57faa0",
      "metadata": {
        "id": "ec57faa0"
      },
      "source": [
        "<h2 align='center'>NumPy - Matrix Library</h2>\n",
        "\n",
        "NumPy packages contains a Matrix library <b>numpy.matlib</b>. This module has functions that return matrices instead of ndarray objects.\n",
        "\n",
        "<h4>matlib.empty()</h4>\n",
        "\n",
        "The <b>matlib.empty</b> function returns a new matrix without initializing the entries, The function takes the following parameters.\n",
        "\n",
        "`numpy.matlib.empty(shape, dtype, order)`"
      ]
    },
    {
      "cell_type": "code",
      "execution_count": 102,
      "id": "3ec448cc",
      "metadata": {
        "colab": {
          "base_uri": "https://localhost:8080/"
        },
        "id": "3ec448cc",
        "outputId": "93a4e8d3-eceb-4abb-a49e-26fefffe1748"
      },
      "outputs": [
        {
          "output_type": "stream",
          "name": "stdout",
          "text": [
            "[[ 1.  2.]\n",
            " [ 1. 10.]]\n"
          ]
        }
      ],
      "source": [
        "import numpy.matlib\n",
        "import numpy as np\n",
        "\n",
        "print(np.matlib.empty((2, 2))) # filled with random data"
      ]
    },
    {
      "cell_type": "markdown",
      "id": "fe0acd4e",
      "metadata": {
        "id": "fe0acd4e"
      },
      "source": [
        "<h4>numpy.matlib.zeros()</h4>\n",
        "\n",
        "This function returns the matrix filled with zeros.\n"
      ]
    },
    {
      "cell_type": "code",
      "execution_count": 103,
      "id": "3c938bdf",
      "metadata": {
        "colab": {
          "base_uri": "https://localhost:8080/"
        },
        "id": "3c938bdf",
        "outputId": "50934d91-e9bc-4a9a-9f52-815511d76ac8"
      },
      "outputs": [
        {
          "output_type": "execute_result",
          "data": {
            "text/plain": [
              "matrix([[0., 0.],\n",
              "        [0., 0.]])"
            ]
          },
          "metadata": {},
          "execution_count": 103
        }
      ],
      "source": [
        "np.matlib.zeros((2, 2))"
      ]
    },
    {
      "cell_type": "markdown",
      "id": "c8df8b5b",
      "metadata": {
        "id": "c8df8b5b"
      },
      "source": [
        "<h4>numpy.matlib.ones()</h4>\n",
        "\n",
        "This function returns the matrix filled with 1s."
      ]
    },
    {
      "cell_type": "code",
      "execution_count": 104,
      "id": "1a20bd37",
      "metadata": {
        "colab": {
          "base_uri": "https://localhost:8080/"
        },
        "id": "1a20bd37",
        "outputId": "3417d1a5-a999-460d-97ac-c08ac7fb61d7"
      },
      "outputs": [
        {
          "output_type": "execute_result",
          "data": {
            "text/plain": [
              "matrix([[1., 1.],\n",
              "        [1., 1.]])"
            ]
          },
          "metadata": {},
          "execution_count": 104
        }
      ],
      "source": [
        "np.matlib.ones((2, 2))"
      ]
    },
    {
      "cell_type": "markdown",
      "id": "7e646a6c",
      "metadata": {
        "id": "7e646a6c"
      },
      "source": [
        "<h4>numpy.matlib.eye()</h4>\n",
        "\n",
        "This function returns a matrix with 1 along the diagonal elements and the zeros elsewhere. The function takes the following parameters.\n",
        "\n",
        "`numpy.matlib.eye(n, M, k, dtype)`"
      ]
    },
    {
      "cell_type": "code",
      "execution_count": 105,
      "id": "935e9216",
      "metadata": {
        "colab": {
          "base_uri": "https://localhost:8080/"
        },
        "id": "935e9216",
        "outputId": "eb282a6e-fc33-4c1c-be04-1c51d9f6fb10"
      },
      "outputs": [
        {
          "output_type": "execute_result",
          "data": {
            "text/plain": [
              "matrix([[1., 0., 0., 0.],\n",
              "        [0., 1., 0., 0.],\n",
              "        [0., 0., 1., 0.]])"
            ]
          },
          "metadata": {},
          "execution_count": 105
        }
      ],
      "source": [
        "np.matlib.eye(n=3, M=4, k=0, dtype = float)"
      ]
    },
    {
      "cell_type": "markdown",
      "id": "f556df82",
      "metadata": {
        "id": "f556df82"
      },
      "source": [
        "<h4>numpy.matlib.identity()</h4>\n",
        "\n",
        "The <b>numpy.matlib.identity()</b> function returns the Identity matrixof the given size. An identity matrix is a square matrix with all diagonal elements as 1."
      ]
    },
    {
      "cell_type": "code",
      "execution_count": 106,
      "id": "ae7e5bb3",
      "metadata": {
        "colab": {
          "base_uri": "https://localhost:8080/"
        },
        "id": "ae7e5bb3",
        "outputId": "643125d0-6415-4a53-8cf9-453efb65068c"
      },
      "outputs": [
        {
          "output_type": "execute_result",
          "data": {
            "text/plain": [
              "matrix([[1., 0., 0., 0., 0.],\n",
              "        [0., 1., 0., 0., 0.],\n",
              "        [0., 0., 1., 0., 0.],\n",
              "        [0., 0., 0., 1., 0.],\n",
              "        [0., 0., 0., 0., 1.]])"
            ]
          },
          "metadata": {},
          "execution_count": 106
        }
      ],
      "source": [
        "np.matlib.identity(5, dtype = float)"
      ]
    },
    {
      "cell_type": "markdown",
      "id": "260ad95c",
      "metadata": {
        "id": "260ad95c"
      },
      "source": [
        "<h4>numpy.matlib.rand()</h4>\n",
        "\n",
        "The <b>numpy.matlib.rand()</b> function returns a matrix of the given size filled with random values."
      ]
    },
    {
      "cell_type": "code",
      "execution_count": 107,
      "id": "8276d583",
      "metadata": {
        "colab": {
          "base_uri": "https://localhost:8080/"
        },
        "id": "8276d583",
        "outputId": "10245323-3297-4077-b5ea-ff51cffafa4a"
      },
      "outputs": [
        {
          "output_type": "execute_result",
          "data": {
            "text/plain": [
              "matrix([[0.08583226, 0.91406137, 0.74697624],\n",
              "        [0.3359417 , 0.05842962, 0.71678573],\n",
              "        [0.15499558, 0.17449422, 0.9888598 ]])"
            ]
          },
          "metadata": {},
          "execution_count": 107
        }
      ],
      "source": [
        "np.matlib.rand(3, 3)"
      ]
    },
    {
      "cell_type": "code",
      "execution_count": 108,
      "id": "50915c7a",
      "metadata": {
        "colab": {
          "base_uri": "https://localhost:8080/"
        },
        "id": "50915c7a",
        "outputId": "0835b8a3-379b-4dbd-e751-f5e5de6a85d7"
      },
      "outputs": [
        {
          "output_type": "execute_result",
          "data": {
            "text/plain": [
              "matrix([[1, 2],\n",
              "        [3, 4]])"
            ]
          },
          "metadata": {},
          "execution_count": 108
        }
      ],
      "source": [
        "i = np.matrix('1,2;3,4')\n",
        "i"
      ]
    },
    {
      "cell_type": "markdown",
      "id": "a954bae0",
      "metadata": {
        "id": "a954bae0"
      },
      "source": [
        "<h2 align='center'>NumPy - Sort, Search & Counting Function</h2>\n",
        "\n",
        "A variety of sorting related functions are available in NumPy. These sorting functions implement different sorting algorithms, each of them characterized by the speed of execution, worst case performance, the workspace required and the stability of algorithms. Following table shows the comparison of these sorting algorithms."
      ]
    },
    {
      "cell_type": "markdown",
      "id": "4e3ceade",
      "metadata": {
        "id": "4e3ceade"
      },
      "source": [
        "<h4>numpy.sort()</h4>\n",
        "\n",
        "The sort() function returns a sorted copy of the input array. It has the following parameters -\n",
        "\n",
        "`numpy.sort(a, axis, kind, order)`\n"
      ]
    },
    {
      "cell_type": "code",
      "execution_count": 109,
      "id": "629582dc",
      "metadata": {
        "colab": {
          "base_uri": "https://localhost:8080/"
        },
        "id": "629582dc",
        "outputId": "cbb4ee5d-65fc-4f8d-8bf0-646086baa2b2"
      },
      "outputs": [
        {
          "output_type": "execute_result",
          "data": {
            "text/plain": [
              "array([[3, 7],\n",
              "       [9, 1]])"
            ]
          },
          "metadata": {},
          "execution_count": 109
        }
      ],
      "source": [
        "import numpy as np\n",
        "\n",
        "a = np.array([[3, 7], [9, 1]])\n",
        "a"
      ]
    },
    {
      "cell_type": "code",
      "execution_count": 110,
      "id": "93b40a26",
      "metadata": {
        "colab": {
          "base_uri": "https://localhost:8080/"
        },
        "id": "93b40a26",
        "outputId": "5eace2ed-5126-4de4-983e-f4b597fcfb2e"
      },
      "outputs": [
        {
          "output_type": "execute_result",
          "data": {
            "text/plain": [
              "array([[3, 7],\n",
              "       [1, 9]])"
            ]
          },
          "metadata": {},
          "execution_count": 110
        }
      ],
      "source": [
        "np.sort(a)"
      ]
    },
    {
      "cell_type": "code",
      "execution_count": 111,
      "id": "2edfce48",
      "metadata": {
        "colab": {
          "base_uri": "https://localhost:8080/"
        },
        "id": "2edfce48",
        "outputId": "acbde87d-484e-4045-a37b-fe14c63fb7cc"
      },
      "outputs": [
        {
          "output_type": "execute_result",
          "data": {
            "text/plain": [
              "array([[3, 1],\n",
              "       [9, 7]])"
            ]
          },
          "metadata": {},
          "execution_count": 111
        }
      ],
      "source": [
        "np.sort(a, axis = 0)"
      ]
    },
    {
      "cell_type": "markdown",
      "id": "23221a72",
      "metadata": {
        "id": "23221a72"
      },
      "source": [
        "Order parameter in sort Function"
      ]
    },
    {
      "cell_type": "code",
      "execution_count": 112,
      "id": "61d14bee",
      "metadata": {
        "colab": {
          "base_uri": "https://localhost:8080/"
        },
        "id": "61d14bee",
        "outputId": "9308ebac-adc7-4266-adc5-fc4d510bb826"
      },
      "outputs": [
        {
          "output_type": "execute_result",
          "data": {
            "text/plain": [
              "array([(b'ram', 21), (b'anil', 25), (b'ravi', 17), (b'amar', 27)],\n",
              "      dtype=[('name', 'S10'), ('age', '<i8')])"
            ]
          },
          "metadata": {},
          "execution_count": 112
        }
      ],
      "source": [
        "dt = np.dtype([('name', 'S10'), ('age', int)])\n",
        "a = np.array([('ram', 21), ('anil', 25), ('ravi', 17), ('amar', 27)], dtype = dt)\n",
        "a"
      ]
    },
    {
      "cell_type": "code",
      "execution_count": 113,
      "id": "b16b7403",
      "metadata": {
        "colab": {
          "base_uri": "https://localhost:8080/"
        },
        "id": "b16b7403",
        "outputId": "5cd52a68-5f35-41f2-82f9-453341dcbc2a"
      },
      "outputs": [
        {
          "output_type": "execute_result",
          "data": {
            "text/plain": [
              "array([(b'amar', 27), (b'anil', 25), (b'ram', 21), (b'ravi', 17)],\n",
              "      dtype=[('name', 'S10'), ('age', '<i8')])"
            ]
          },
          "metadata": {},
          "execution_count": 113
        }
      ],
      "source": [
        "np.sort(a, order = 'name')"
      ]
    },
    {
      "cell_type": "markdown",
      "id": "ba247127",
      "metadata": {
        "id": "ba247127"
      },
      "source": [
        "<h4>numpy.argsort()</h4>\n",
        "\n",
        "The <b>numpy.argsort()</b> function performs an indirect sort on input array, along the given axis and using a specified kind of sort to return the array of indices of data. This indices array is used to construct the sorted array."
      ]
    },
    {
      "cell_type": "code",
      "execution_count": 114,
      "id": "1f6ac174",
      "metadata": {
        "colab": {
          "base_uri": "https://localhost:8080/"
        },
        "id": "1f6ac174",
        "outputId": "604e90b7-c567-465a-9417-098f011d328a"
      },
      "outputs": [
        {
          "output_type": "execute_result",
          "data": {
            "text/plain": [
              "array([3, 1, 2])"
            ]
          },
          "metadata": {},
          "execution_count": 114
        }
      ],
      "source": [
        "import numpy as np\n",
        "x = np.array([3, 1, 2])\n",
        "x"
      ]
    },
    {
      "cell_type": "code",
      "execution_count": 115,
      "id": "81e1de93",
      "metadata": {
        "colab": {
          "base_uri": "https://localhost:8080/"
        },
        "id": "81e1de93",
        "outputId": "0826e37e-ba8e-41ef-9f70-9ae7b4d89a2e"
      },
      "outputs": [
        {
          "output_type": "execute_result",
          "data": {
            "text/plain": [
              "array([1, 2, 0])"
            ]
          },
          "metadata": {},
          "execution_count": 115
        }
      ],
      "source": [
        "y = np.argsort(x)\n",
        "y"
      ]
    },
    {
      "cell_type": "code",
      "execution_count": 116,
      "id": "d11f1dc5",
      "metadata": {
        "colab": {
          "base_uri": "https://localhost:8080/"
        },
        "id": "d11f1dc5",
        "outputId": "7dd6d62a-25df-4089-92fe-9cddd2f88a7b"
      },
      "outputs": [
        {
          "output_type": "execute_result",
          "data": {
            "text/plain": [
              "array([1, 2, 3])"
            ]
          },
          "metadata": {},
          "execution_count": 116
        }
      ],
      "source": [
        "x[y]"
      ]
    },
    {
      "cell_type": "code",
      "execution_count": 117,
      "id": "86866074",
      "metadata": {
        "colab": {
          "base_uri": "https://localhost:8080/"
        },
        "id": "86866074",
        "outputId": "8e3461d6-d1e0-48e6-9246-d6d470c51f93"
      },
      "outputs": [
        {
          "output_type": "stream",
          "name": "stdout",
          "text": [
            "1\n",
            "2\n",
            "3\n"
          ]
        }
      ],
      "source": [
        "for i in y:\n",
        "    print(x[i])"
      ]
    },
    {
      "cell_type": "markdown",
      "id": "1dd6dae1",
      "metadata": {
        "id": "1dd6dae1"
      },
      "source": [
        "<h4>numpy.lexsort()</h4>\n",
        "\n",
        "Function perfomrs an indirect sort using a sequence of keys. The keys can be seen as a column in a spreadsheet. The function returns an array of indices, using which the sorted data can be obtained. Note, that the last key happens to the primary key of sort."
      ]
    },
    {
      "cell_type": "code",
      "execution_count": 118,
      "id": "fe6977ca",
      "metadata": {
        "colab": {
          "base_uri": "https://localhost:8080/"
        },
        "id": "fe6977ca",
        "outputId": "64c1856d-14bf-4f69-e818-03652b52f15a"
      },
      "outputs": [
        {
          "output_type": "execute_result",
          "data": {
            "text/plain": [
              "array([3, 1, 0, 2])"
            ]
          },
          "metadata": {},
          "execution_count": 118
        }
      ],
      "source": [
        "import numpy as np\n",
        "\n",
        "nm = ('ram', 'anil', 'ravi', 'amar')\n",
        "dv = ('f.y.', 's.y.', 's.y.', 'f.y.')\n",
        "ind = np.lexsort((dv, nm))\n",
        "ind"
      ]
    },
    {
      "cell_type": "code",
      "execution_count": 119,
      "id": "364ac3fb",
      "metadata": {
        "colab": {
          "base_uri": "https://localhost:8080/"
        },
        "id": "364ac3fb",
        "outputId": "52d90896-9e6b-4af4-83a6-d561d26d069f"
      },
      "outputs": [
        {
          "output_type": "stream",
          "name": "stdout",
          "text": [
            "['amar,f.y.', 'anil,s.y.', 'ram,f.y.', 'ravi,s.y.']\n"
          ]
        }
      ],
      "source": [
        "print([nm[i] + \",\" + dv[i] for i in ind])"
      ]
    },
    {
      "cell_type": "markdown",
      "id": "4d31a883",
      "metadata": {
        "id": "4d31a883"
      },
      "source": [
        "<h4>numpy.argmax() and numpy.argmin()</h4>\n",
        "\n",
        "These two functions return the indices of maximum and minimum elements respectively along the given axis."
      ]
    },
    {
      "cell_type": "code",
      "execution_count": 120,
      "id": "1534a1ae",
      "metadata": {
        "colab": {
          "base_uri": "https://localhost:8080/"
        },
        "id": "1534a1ae",
        "outputId": "ccf9ff50-1162-4a2b-b50b-7abb4b3ff025"
      },
      "outputs": [
        {
          "output_type": "execute_result",
          "data": {
            "text/plain": [
              "array([[[30, 40, 70],\n",
              "        [80, 20, 10],\n",
              "        [50, 90, 60]]])"
            ]
          },
          "metadata": {},
          "execution_count": 120
        }
      ],
      "source": [
        "import numpy as np\n",
        "\n",
        "a = np.array([[[30, 40, 70], [80, 20, 10], [50, 90, 60]]])\n",
        "a"
      ]
    },
    {
      "cell_type": "code",
      "execution_count": 121,
      "id": "a29da3dc",
      "metadata": {
        "colab": {
          "base_uri": "https://localhost:8080/"
        },
        "id": "a29da3dc",
        "outputId": "c7de79c4-6728-4dcd-c011-d9a5323006e9"
      },
      "outputs": [
        {
          "output_type": "execute_result",
          "data": {
            "text/plain": [
              "7"
            ]
          },
          "metadata": {},
          "execution_count": 121
        }
      ],
      "source": [
        "np.argmax(a)"
      ]
    },
    {
      "cell_type": "code",
      "execution_count": 122,
      "id": "dfc3a58f",
      "metadata": {
        "colab": {
          "base_uri": "https://localhost:8080/"
        },
        "id": "dfc3a58f",
        "outputId": "89c8e16c-f8fa-47f3-ea6b-fd45bd8c3429"
      },
      "outputs": [
        {
          "output_type": "execute_result",
          "data": {
            "text/plain": [
              "5"
            ]
          },
          "metadata": {},
          "execution_count": 122
        }
      ],
      "source": [
        "np.argmin(a)"
      ]
    },
    {
      "cell_type": "markdown",
      "id": "1faaecb5",
      "metadata": {
        "id": "1faaecb5"
      },
      "source": [
        "Index of Maximum Number in Flattened Array"
      ]
    },
    {
      "cell_type": "code",
      "execution_count": 123,
      "id": "eee884ad",
      "metadata": {
        "colab": {
          "base_uri": "https://localhost:8080/"
        },
        "id": "eee884ad",
        "outputId": "56accb02-d595-42ab-c5c0-77dd146533bd"
      },
      "outputs": [
        {
          "output_type": "execute_result",
          "data": {
            "text/plain": [
              "array([30, 40, 70, 80, 20, 10, 50, 90, 60])"
            ]
          },
          "metadata": {},
          "execution_count": 123
        }
      ],
      "source": [
        "a.flatten()"
      ]
    },
    {
      "cell_type": "markdown",
      "id": "cc8d440f",
      "metadata": {
        "id": "cc8d440f"
      },
      "source": [
        "Array containing indices of maximum along axis 0"
      ]
    },
    {
      "cell_type": "code",
      "execution_count": 124,
      "id": "555a7743",
      "metadata": {
        "colab": {
          "base_uri": "https://localhost:8080/"
        },
        "id": "555a7743",
        "outputId": "f9b4e52f-2f59-4e95-f982-a044c3cc7fe7"
      },
      "outputs": [
        {
          "output_type": "execute_result",
          "data": {
            "text/plain": [
              "array([[0, 0, 0],\n",
              "       [0, 0, 0],\n",
              "       [0, 0, 0]])"
            ]
          },
          "metadata": {},
          "execution_count": 124
        }
      ],
      "source": [
        "maxindex1 = np.argmax(a, axis = 0)\n",
        "maxindex1"
      ]
    },
    {
      "cell_type": "markdown",
      "id": "ec3a9513",
      "metadata": {
        "id": "ec3a9513"
      },
      "source": [
        "Array containing indices of maximum along axis 1"
      ]
    },
    {
      "cell_type": "code",
      "execution_count": 125,
      "id": "9026c190",
      "metadata": {
        "colab": {
          "base_uri": "https://localhost:8080/"
        },
        "id": "9026c190",
        "outputId": "22fcaf53-8023-4dc2-ea6a-2b6ac3c8b223"
      },
      "outputs": [
        {
          "output_type": "execute_result",
          "data": {
            "text/plain": [
              "array([[1, 2, 0]])"
            ]
          },
          "metadata": {},
          "execution_count": 125
        }
      ],
      "source": [
        "maxindex2 = np.argmax(a, axis = 1)\n",
        "maxindex2"
      ]
    },
    {
      "cell_type": "markdown",
      "id": "02f79ae5",
      "metadata": {
        "id": "02f79ae5"
      },
      "source": [
        "Applying argmin() function"
      ]
    },
    {
      "cell_type": "code",
      "execution_count": 126,
      "id": "2e08a274",
      "metadata": {
        "scrolled": true,
        "colab": {
          "base_uri": "https://localhost:8080/"
        },
        "id": "2e08a274",
        "outputId": "1578afb1-4229-40e2-d0ca-3451f2355c8f"
      },
      "outputs": [
        {
          "output_type": "execute_result",
          "data": {
            "text/plain": [
              "5"
            ]
          },
          "metadata": {},
          "execution_count": 126
        }
      ],
      "source": [
        "minindex = np.argmin(a)\n",
        "minindex"
      ]
    },
    {
      "cell_type": "markdown",
      "id": "d00f54ec",
      "metadata": {
        "id": "d00f54ec"
      },
      "source": [
        "Flattened array"
      ]
    },
    {
      "cell_type": "code",
      "execution_count": 127,
      "id": "48393c41",
      "metadata": {
        "colab": {
          "base_uri": "https://localhost:8080/"
        },
        "id": "48393c41",
        "outputId": "00d8b228-caa8-4d94-c76b-6a21b421ac0e"
      },
      "outputs": [
        {
          "output_type": "execute_result",
          "data": {
            "text/plain": [
              "10"
            ]
          },
          "metadata": {},
          "execution_count": 127
        }
      ],
      "source": [
        "a.flatten()[minindex]"
      ]
    },
    {
      "cell_type": "markdown",
      "id": "7c99dfbb",
      "metadata": {
        "id": "7c99dfbb"
      },
      "source": [
        "Flattened array along axis 0"
      ]
    },
    {
      "cell_type": "code",
      "execution_count": 128,
      "id": "a76f6f2f",
      "metadata": {
        "colab": {
          "base_uri": "https://localhost:8080/"
        },
        "id": "a76f6f2f",
        "outputId": "c0b38f41-ef66-464e-ab3a-a241a5b7b49e"
      },
      "outputs": [
        {
          "output_type": "execute_result",
          "data": {
            "text/plain": [
              "array([[0, 0, 0],\n",
              "       [0, 0, 0],\n",
              "       [0, 0, 0]])"
            ]
          },
          "metadata": {},
          "execution_count": 128
        }
      ],
      "source": [
        "minindex = np.argmin(a, axis = 0)\n",
        "minindex"
      ]
    },
    {
      "cell_type": "markdown",
      "id": "03f9b088",
      "metadata": {
        "id": "03f9b088"
      },
      "source": [
        "Flattened array along axis 1"
      ]
    },
    {
      "cell_type": "code",
      "execution_count": 129,
      "id": "c1afaff3",
      "metadata": {
        "colab": {
          "base_uri": "https://localhost:8080/"
        },
        "id": "c1afaff3",
        "outputId": "cb3922f1-db7a-4cde-9681-df91f1a99900"
      },
      "outputs": [
        {
          "output_type": "execute_result",
          "data": {
            "text/plain": [
              "array([[0, 1, 1]])"
            ]
          },
          "metadata": {},
          "execution_count": 129
        }
      ],
      "source": [
        "minindex = np.argmin(a, axis =1)\n",
        "minindex"
      ]
    },
    {
      "cell_type": "markdown",
      "id": "a98ba89e",
      "metadata": {
        "id": "a98ba89e"
      },
      "source": [
        "<h4>numpy.nonzero()</h4>\n",
        "\n",
        "The <b>numpy.nonzero()</b> function returns the indices of non-zero elements in the input array."
      ]
    },
    {
      "cell_type": "code",
      "execution_count": 130,
      "id": "f8de5bfd",
      "metadata": {
        "colab": {
          "base_uri": "https://localhost:8080/"
        },
        "id": "f8de5bfd",
        "outputId": "b24c13a1-bd72-4b8f-fb8f-9657b2994c64"
      },
      "outputs": [
        {
          "output_type": "execute_result",
          "data": {
            "text/plain": [
              "array([[30, 40,  0],\n",
              "       [ 0, 20, 10],\n",
              "       [50,  0, 60]])"
            ]
          },
          "metadata": {},
          "execution_count": 130
        }
      ],
      "source": [
        "import numpy as np\n",
        "\n",
        "a = np.array([[30, 40, 0], [0, 20, 10], [50, 0, 60]])\n",
        "a"
      ]
    },
    {
      "cell_type": "markdown",
      "id": "a6f0757c",
      "metadata": {
        "id": "a6f0757c"
      },
      "source": [
        "Applying nonzero() function"
      ]
    },
    {
      "cell_type": "code",
      "execution_count": 131,
      "id": "96601980",
      "metadata": {
        "colab": {
          "base_uri": "https://localhost:8080/"
        },
        "id": "96601980",
        "outputId": "73855942-6d07-4719-fbb2-c6574ed32183"
      },
      "outputs": [
        {
          "output_type": "execute_result",
          "data": {
            "text/plain": [
              "(array([0, 0, 1, 1, 2, 2]), array([0, 1, 1, 2, 0, 2]))"
            ]
          },
          "metadata": {},
          "execution_count": 131
        }
      ],
      "source": [
        "np.nonzero(a)"
      ]
    },
    {
      "cell_type": "markdown",
      "id": "edc4ec68",
      "metadata": {
        "id": "edc4ec68"
      },
      "source": [
        "<h4>numpy.where()</h4>\n",
        "\n",
        "The where() function returns the indices of elements in an input array where the given condition is satisfied."
      ]
    },
    {
      "cell_type": "code",
      "execution_count": 132,
      "id": "ac2f3cae",
      "metadata": {
        "colab": {
          "base_uri": "https://localhost:8080/"
        },
        "id": "ac2f3cae",
        "outputId": "da1f52d6-2079-44f5-a991-fbe08597cfbe"
      },
      "outputs": [
        {
          "output_type": "execute_result",
          "data": {
            "text/plain": [
              "array([[0, 1, 2],\n",
              "       [3, 4, 5],\n",
              "       [6, 7, 8]])"
            ]
          },
          "metadata": {},
          "execution_count": 132
        }
      ],
      "source": [
        "import numpy as np\n",
        "\n",
        "x = np.arange(9).reshape(3,3)\n",
        "x"
      ]
    },
    {
      "cell_type": "markdown",
      "id": "227eda05",
      "metadata": {
        "id": "227eda05"
      },
      "source": [
        "Indices of elements > 3"
      ]
    },
    {
      "cell_type": "code",
      "execution_count": 133,
      "id": "47a1fa39",
      "metadata": {
        "colab": {
          "base_uri": "https://localhost:8080/"
        },
        "id": "47a1fa39",
        "outputId": "ac7e4faf-11cb-41d9-80ea-c83efb7bd930"
      },
      "outputs": [
        {
          "output_type": "execute_result",
          "data": {
            "text/plain": [
              "(array([1, 1, 2, 2, 2]), array([1, 2, 0, 1, 2]))"
            ]
          },
          "metadata": {},
          "execution_count": 133
        }
      ],
      "source": [
        "y = np.where(x > 3)\n",
        "y"
      ]
    },
    {
      "cell_type": "code",
      "execution_count": 134,
      "id": "46b58d24",
      "metadata": {
        "colab": {
          "base_uri": "https://localhost:8080/"
        },
        "id": "46b58d24",
        "outputId": "918d506e-00c0-41b2-a2ae-7c71b9655dbd"
      },
      "outputs": [
        {
          "output_type": "execute_result",
          "data": {
            "text/plain": [
              "array([4, 5, 6, 7, 8])"
            ]
          },
          "metadata": {},
          "execution_count": 134
        }
      ],
      "source": [
        "x[y]"
      ]
    },
    {
      "cell_type": "markdown",
      "id": "2ae9dff6",
      "metadata": {
        "id": "2ae9dff6"
      },
      "source": [
        "<h2 align = 'center'>NumPy - Statistical Functions</h2>\n",
        "\n",
        "NumPy has quite a few useful statistical functions for finding minimum, maximum, percentile standard deviation and variance, etc. from the given elements in the array. The functions are explained as follow - "
      ]
    },
    {
      "cell_type": "markdown",
      "id": "c27d9751",
      "metadata": {
        "id": "c27d9751"
      },
      "source": [
        "<h4>numpy.amin() and numpy.amax()</h4>\n",
        "\n",
        "These functions return the minimum and the maximum from the elements in the given array along the specified axis."
      ]
    },
    {
      "cell_type": "code",
      "execution_count": 135,
      "id": "379e1ba8",
      "metadata": {
        "colab": {
          "base_uri": "https://localhost:8080/"
        },
        "id": "379e1ba8",
        "outputId": "d6454331-52ae-4684-bcc5-ccf4ef93ee28"
      },
      "outputs": [
        {
          "output_type": "execute_result",
          "data": {
            "text/plain": [
              "array([[3, 7, 5],\n",
              "       [8, 4, 3],\n",
              "       [2, 4, 9]])"
            ]
          },
          "metadata": {},
          "execution_count": 135
        }
      ],
      "source": [
        "import numpy as np\n",
        "\n",
        "a = np.array([[3, 7, 5], [8, 4, 3], [2, 4, 9]])\n",
        "a"
      ]
    },
    {
      "cell_type": "markdown",
      "id": "3dabb3ba",
      "metadata": {
        "id": "3dabb3ba"
      },
      "source": [
        "Applying amin() function"
      ]
    },
    {
      "cell_type": "code",
      "execution_count": 136,
      "id": "09a0e9e2",
      "metadata": {
        "colab": {
          "base_uri": "https://localhost:8080/"
        },
        "id": "09a0e9e2",
        "outputId": "d8eb5920-a086-4b08-a0c7-214915f46e6a"
      },
      "outputs": [
        {
          "output_type": "execute_result",
          "data": {
            "text/plain": [
              "array([3, 3, 2])"
            ]
          },
          "metadata": {},
          "execution_count": 136
        }
      ],
      "source": [
        "np.amin(a, 1)"
      ]
    },
    {
      "cell_type": "markdown",
      "id": "1fcedbc7",
      "metadata": {
        "id": "1fcedbc7"
      },
      "source": [
        "Applying amin() function again"
      ]
    },
    {
      "cell_type": "code",
      "execution_count": 137,
      "id": "e3904f36",
      "metadata": {
        "colab": {
          "base_uri": "https://localhost:8080/"
        },
        "id": "e3904f36",
        "outputId": "8d606cd7-be76-4674-ef0a-0f2e16403b43"
      },
      "outputs": [
        {
          "output_type": "execute_result",
          "data": {
            "text/plain": [
              "array([2, 4, 3])"
            ]
          },
          "metadata": {},
          "execution_count": 137
        }
      ],
      "source": [
        "np.amin(a, 0)"
      ]
    },
    {
      "cell_type": "markdown",
      "id": "974abbea",
      "metadata": {
        "id": "974abbea"
      },
      "source": [
        "Applying amax() function again"
      ]
    },
    {
      "cell_type": "code",
      "execution_count": 138,
      "id": "1eab3a94",
      "metadata": {
        "colab": {
          "base_uri": "https://localhost:8080/"
        },
        "id": "1eab3a94",
        "outputId": "e185e071-568a-4df8-b307-27494ee1d1bd"
      },
      "outputs": [
        {
          "output_type": "execute_result",
          "data": {
            "text/plain": [
              "array([8, 7, 9])"
            ]
          },
          "metadata": {},
          "execution_count": 138
        }
      ],
      "source": [
        "np.amax(a, axis = 0)"
      ]
    },
    {
      "cell_type": "code",
      "execution_count": 139,
      "id": "e5c62907",
      "metadata": {
        "colab": {
          "base_uri": "https://localhost:8080/"
        },
        "id": "e5c62907",
        "outputId": "862ca6f1-7309-4165-b8cf-4c0bc75caa65"
      },
      "outputs": [
        {
          "output_type": "execute_result",
          "data": {
            "text/plain": [
              "array([7, 8, 9])"
            ]
          },
          "metadata": {},
          "execution_count": 139
        }
      ],
      "source": [
        "np.amax(a, axis =1)"
      ]
    },
    {
      "cell_type": "markdown",
      "id": "032a90ad",
      "metadata": {
        "id": "032a90ad"
      },
      "source": [
        "<h4>numpy.ptp()</h4>\n",
        "\n",
        "The <b>numpy.ptp()</b> function returns the range(maximum-minimum) of values along an axis."
      ]
    },
    {
      "cell_type": "code",
      "execution_count": 140,
      "id": "36e42dcb",
      "metadata": {
        "colab": {
          "base_uri": "https://localhost:8080/"
        },
        "id": "36e42dcb",
        "outputId": "395e3fc4-ff91-45a4-e172-f5ff4ed4c73f"
      },
      "outputs": [
        {
          "output_type": "execute_result",
          "data": {
            "text/plain": [
              "array([[3, 7, 5],\n",
              "       [8, 4, 3],\n",
              "       [2, 4, 9]])"
            ]
          },
          "metadata": {},
          "execution_count": 140
        }
      ],
      "source": [
        "import numpy as np\n",
        "\n",
        "a = np.array([[3, 7, 5], [8, 4, 3], [2, 4, 9]])\n",
        "a"
      ]
    },
    {
      "cell_type": "code",
      "execution_count": 141,
      "id": "12536212",
      "metadata": {
        "colab": {
          "base_uri": "https://localhost:8080/"
        },
        "id": "12536212",
        "outputId": "ce375b3b-f7c3-495d-ed2d-505893198ac5"
      },
      "outputs": [
        {
          "output_type": "execute_result",
          "data": {
            "text/plain": [
              "7"
            ]
          },
          "metadata": {},
          "execution_count": 141
        }
      ],
      "source": [
        "np.ptp(a)"
      ]
    },
    {
      "cell_type": "code",
      "execution_count": 142,
      "id": "c5205c2f",
      "metadata": {
        "colab": {
          "base_uri": "https://localhost:8080/"
        },
        "id": "c5205c2f",
        "outputId": "65b11edb-e5a6-4479-aa3d-042ebf35cdca"
      },
      "outputs": [
        {
          "output_type": "execute_result",
          "data": {
            "text/plain": [
              "array([4, 5, 7])"
            ]
          },
          "metadata": {},
          "execution_count": 142
        }
      ],
      "source": [
        "np.ptp(a, axis = 1)"
      ]
    },
    {
      "cell_type": "code",
      "execution_count": 143,
      "id": "be13ac5e",
      "metadata": {
        "colab": {
          "base_uri": "https://localhost:8080/"
        },
        "id": "be13ac5e",
        "outputId": "15c17792-080e-4d4b-8f61-533d89ec473b"
      },
      "outputs": [
        {
          "output_type": "execute_result",
          "data": {
            "text/plain": [
              "array([6, 3, 6])"
            ]
          },
          "metadata": {},
          "execution_count": 143
        }
      ],
      "source": [
        "np.ptp(a, axis = 0)"
      ]
    },
    {
      "cell_type": "markdown",
      "id": "de5e287c",
      "metadata": {
        "id": "de5e287c"
      },
      "source": [
        "<h4>numpy.percentile()</h4>\n",
        "\n",
        "Percentile (or a centile) is a measure used in statistice indicating the value below which a given percentage of observations in a group of observations fail. The function <b>numpy.percentile()</b> takes the following arguments.\n",
        "\n",
        "`numpy.percentile(a, q, axis)`\n"
      ]
    },
    {
      "cell_type": "code",
      "execution_count": 144,
      "id": "0990659d",
      "metadata": {
        "colab": {
          "base_uri": "https://localhost:8080/"
        },
        "id": "0990659d",
        "outputId": "8fb2a025-8f21-48fd-9dc7-c75368159322"
      },
      "outputs": [
        {
          "output_type": "execute_result",
          "data": {
            "text/plain": [
              "array([[30, 40, 70],\n",
              "       [80, 20, 10],\n",
              "       [50, 90, 60]])"
            ]
          },
          "metadata": {},
          "execution_count": 144
        }
      ],
      "source": [
        "import numpy as np\n",
        "\n",
        "a = np.array([[30, 40, 70], [80, 20, 10], [50, 90, 60]])\n",
        "a"
      ]
    },
    {
      "cell_type": "code",
      "execution_count": 145,
      "id": "cffd5737",
      "metadata": {
        "colab": {
          "base_uri": "https://localhost:8080/"
        },
        "id": "cffd5737",
        "outputId": "b0cd526e-f659-48d1-8a4d-55be47f09476"
      },
      "outputs": [
        {
          "output_type": "execute_result",
          "data": {
            "text/plain": [
              "50.0"
            ]
          },
          "metadata": {},
          "execution_count": 145
        }
      ],
      "source": [
        "np.percentile(a, 50)"
      ]
    },
    {
      "cell_type": "code",
      "execution_count": 146,
      "id": "e58c5ca4",
      "metadata": {
        "colab": {
          "base_uri": "https://localhost:8080/"
        },
        "id": "e58c5ca4",
        "outputId": "0b211947-6448-4577-8572-ed2222691a93"
      },
      "outputs": [
        {
          "output_type": "execute_result",
          "data": {
            "text/plain": [
              "array([50., 40., 60.])"
            ]
          },
          "metadata": {},
          "execution_count": 146
        }
      ],
      "source": [
        "np.percentile(a, 50, axis = 0)"
      ]
    },
    {
      "cell_type": "code",
      "execution_count": 147,
      "id": "2d06df6a",
      "metadata": {
        "colab": {
          "base_uri": "https://localhost:8080/"
        },
        "id": "2d06df6a",
        "outputId": "f6693018-711c-4dc4-9e69-98876da134e4"
      },
      "outputs": [
        {
          "output_type": "execute_result",
          "data": {
            "text/plain": [
              "array([40., 20., 60.])"
            ]
          },
          "metadata": {},
          "execution_count": 147
        }
      ],
      "source": [
        "np.percentile(a, 50, axis = 1)"
      ]
    },
    {
      "cell_type": "markdown",
      "id": "dbb88095",
      "metadata": {
        "id": "dbb88095"
      },
      "source": [
        "<h4>numpy.median()</h4>\n",
        "\n",
        "<b>Median</b> is defined as the value seperating the higher half of a data sample from the lower half. The <b>numpy.median()</b> function is used as shown in the following program."
      ]
    },
    {
      "cell_type": "code",
      "execution_count": 148,
      "id": "9684734c",
      "metadata": {
        "colab": {
          "base_uri": "https://localhost:8080/"
        },
        "id": "9684734c",
        "outputId": "034fed23-c5c9-4179-83a0-b0a79b4ce12d"
      },
      "outputs": [
        {
          "output_type": "execute_result",
          "data": {
            "text/plain": [
              "array([[30, 65, 70],\n",
              "       [80, 95, 10],\n",
              "       [50, 90, 60]])"
            ]
          },
          "metadata": {},
          "execution_count": 148
        }
      ],
      "source": [
        "import numpy as np\n",
        "\n",
        "a = np.array([[30, 65, 70], [80, 95, 10], [50, 90, 60]])\n",
        "a"
      ]
    },
    {
      "cell_type": "code",
      "execution_count": 149,
      "id": "2f04ae2e",
      "metadata": {
        "colab": {
          "base_uri": "https://localhost:8080/"
        },
        "id": "2f04ae2e",
        "outputId": "b44f1e29-54db-4305-f29e-99d6be2a5643"
      },
      "outputs": [
        {
          "output_type": "execute_result",
          "data": {
            "text/plain": [
              "65.0"
            ]
          },
          "metadata": {},
          "execution_count": 149
        }
      ],
      "source": [
        "np.median(a)"
      ]
    },
    {
      "cell_type": "code",
      "execution_count": 150,
      "id": "7eca3a90",
      "metadata": {
        "colab": {
          "base_uri": "https://localhost:8080/"
        },
        "id": "7eca3a90",
        "outputId": "ab5b8ba1-aee5-4a20-92fa-019268cae119"
      },
      "outputs": [
        {
          "output_type": "execute_result",
          "data": {
            "text/plain": [
              "array([50., 90., 60.])"
            ]
          },
          "metadata": {},
          "execution_count": 150
        }
      ],
      "source": [
        "np.median(a, axis = 0)"
      ]
    },
    {
      "cell_type": "code",
      "execution_count": 151,
      "id": "705a0e71",
      "metadata": {
        "colab": {
          "base_uri": "https://localhost:8080/"
        },
        "id": "705a0e71",
        "outputId": "1777f2dc-8af1-494c-d786-9284e701982a"
      },
      "outputs": [
        {
          "output_type": "execute_result",
          "data": {
            "text/plain": [
              "array([65., 80., 60.])"
            ]
          },
          "metadata": {},
          "execution_count": 151
        }
      ],
      "source": [
        "np.median(a, axis = 1)"
      ]
    },
    {
      "cell_type": "markdown",
      "id": "35ff403b",
      "metadata": {
        "id": "35ff403b"
      },
      "source": [
        "<h4>numpy.mean()</h4>\n",
        "\n",
        "Arithmetic mean is the sum of elements along an axis divided by the number of elements. The <b>numpy.mean()</b> function returns the arithmetic mean of elements in the array. Iff the axis is mentioned, it is calculated along it."
      ]
    },
    {
      "cell_type": "code",
      "execution_count": 152,
      "id": "2c2256af",
      "metadata": {
        "colab": {
          "base_uri": "https://localhost:8080/"
        },
        "id": "2c2256af",
        "outputId": "67d68c75-c27e-4a7d-c385-8e143cbdba08"
      },
      "outputs": [
        {
          "output_type": "execute_result",
          "data": {
            "text/plain": [
              "array([[1, 2, 3],\n",
              "       [3, 4, 5],\n",
              "       [4, 5, 6]])"
            ]
          },
          "metadata": {},
          "execution_count": 152
        }
      ],
      "source": [
        "import numpy as np\n",
        "\n",
        "a = np.array([[1, 2, 3], [3, 4, 5], [4, 5, 6]])\n",
        "a"
      ]
    },
    {
      "cell_type": "code",
      "execution_count": 153,
      "id": "9e48d0c6",
      "metadata": {
        "colab": {
          "base_uri": "https://localhost:8080/"
        },
        "id": "9e48d0c6",
        "outputId": "7a2a8668-1b8c-49a7-c9f4-fa370efc3ad5"
      },
      "outputs": [
        {
          "output_type": "execute_result",
          "data": {
            "text/plain": [
              "3.6666666666666665"
            ]
          },
          "metadata": {},
          "execution_count": 153
        }
      ],
      "source": [
        "np.mean(a)"
      ]
    },
    {
      "cell_type": "code",
      "execution_count": 154,
      "id": "220199d2",
      "metadata": {
        "colab": {
          "base_uri": "https://localhost:8080/"
        },
        "id": "220199d2",
        "outputId": "00485c91-c692-471e-de08-a68d5fd7d458"
      },
      "outputs": [
        {
          "output_type": "execute_result",
          "data": {
            "text/plain": [
              "array([2.66666667, 3.66666667, 4.66666667])"
            ]
          },
          "metadata": {},
          "execution_count": 154
        }
      ],
      "source": [
        "np.mean(a, axis = 0)"
      ]
    },
    {
      "cell_type": "code",
      "execution_count": 155,
      "id": "4b322b1f",
      "metadata": {
        "colab": {
          "base_uri": "https://localhost:8080/"
        },
        "id": "4b322b1f",
        "outputId": "d5f8f612-d84e-4d4a-89de-45e1841867b7"
      },
      "outputs": [
        {
          "output_type": "execute_result",
          "data": {
            "text/plain": [
              "array([2., 4., 5.])"
            ]
          },
          "metadata": {},
          "execution_count": 155
        }
      ],
      "source": [
        "np.mean(a, axis = 1)"
      ]
    },
    {
      "cell_type": "markdown",
      "id": "c2bf7261",
      "metadata": {
        "id": "c2bf7261"
      },
      "source": [
        "<h4>standard Deviation</h4>\n",
        "\n",
        "Standard Deviation is the square root of the average of squared deviations from mean. The formula for standard deviation is as follows -\n",
        "\n",
        "$std = sqrt(mean(abs(x - x.mean())**2))$\n",
        "\n",
        "if the array is [1, 2, 3, 4] then its mean is 2.5. Hence the squared deviations are [2.25, 0.25, 0.25, 2.25] and the square root of its mean divided by 4 i.e. sqrt(5/4) is 1.1180339887498949"
      ]
    },
    {
      "cell_type": "code",
      "execution_count": 156,
      "id": "b457f951",
      "metadata": {
        "colab": {
          "base_uri": "https://localhost:8080/"
        },
        "id": "b457f951",
        "outputId": "08c8efbb-5f0d-4b27-cc52-f156aa1d3b75"
      },
      "outputs": [
        {
          "output_type": "execute_result",
          "data": {
            "text/plain": [
              "1.118033988749895"
            ]
          },
          "metadata": {},
          "execution_count": 156
        }
      ],
      "source": [
        "import numpy as np\n",
        "\n",
        "np.std([1, 2, 3, 4])"
      ]
    },
    {
      "cell_type": "markdown",
      "id": "db8fa85f",
      "metadata": {
        "id": "db8fa85f"
      },
      "source": [
        "<h4>Variance</h4>\n",
        "Variance is the average of squared deviations, i.e. <b>mean(abs(x - x.mean())**2)</b> In other words, the standard deviation is the square root of variance."
      ]
    },
    {
      "cell_type": "code",
      "execution_count": 157,
      "id": "41718163",
      "metadata": {
        "colab": {
          "base_uri": "https://localhost:8080/"
        },
        "id": "41718163",
        "outputId": "1914f8fa-9de4-4d42-ec12-b157a5a086a0"
      },
      "outputs": [
        {
          "output_type": "execute_result",
          "data": {
            "text/plain": [
              "1.25"
            ]
          },
          "metadata": {},
          "execution_count": 157
        }
      ],
      "source": [
        "import numpy as np\n",
        "np.var([1, 2, 3, 4])"
      ]
    },
    {
      "cell_type": "markdown",
      "id": "49e70a6a",
      "metadata": {
        "id": "49e70a6a"
      },
      "source": [
        "<h2 align='center'>NumPy - Arithmetic Operations</h2>\n",
        "\n",
        "Input arrays for performing arithmetic opertions such as add(), subtract(), multiply(), and divide() must be either of the same shape or should confirm to array broadcasting rules."
      ]
    },
    {
      "cell_type": "code",
      "execution_count": 158,
      "id": "48661d5f",
      "metadata": {
        "colab": {
          "base_uri": "https://localhost:8080/"
        },
        "id": "48661d5f",
        "outputId": "3881171f-e615-490e-deb4-1c94f283ceb4"
      },
      "outputs": [
        {
          "output_type": "stream",
          "name": "stderr",
          "text": [
            "<ipython-input-158-a787d0199b3f>:3: DeprecationWarning: `np.float` is a deprecated alias for the builtin `float`. To silence this warning, use `float` by itself. Doing this will not modify any behavior and is safe. If you specifically wanted the numpy scalar type, use `np.float64` here.\n",
            "Deprecated in NumPy 1.20; for more details and guidance: https://numpy.org/devdocs/release/1.20.0-notes.html#deprecations\n",
            "  a = np.arange(9, dtype = np.float).reshape(3, 3)\n"
          ]
        },
        {
          "output_type": "execute_result",
          "data": {
            "text/plain": [
              "array([[0., 1., 2.],\n",
              "       [3., 4., 5.],\n",
              "       [6., 7., 8.]])"
            ]
          },
          "metadata": {},
          "execution_count": 158
        }
      ],
      "source": [
        "import numpy as np\n",
        "\n",
        "a = np.arange(9, dtype = np.float).reshape(3, 3)\n",
        "a"
      ]
    },
    {
      "cell_type": "code",
      "execution_count": 159,
      "id": "0f2a9f07",
      "metadata": {
        "colab": {
          "base_uri": "https://localhost:8080/"
        },
        "id": "0f2a9f07",
        "outputId": "c4f4fd16-626e-4dc3-d111-31228995468a"
      },
      "outputs": [
        {
          "output_type": "execute_result",
          "data": {
            "text/plain": [
              "array([10, 10, 10])"
            ]
          },
          "metadata": {},
          "execution_count": 159
        }
      ],
      "source": [
        "b = np.array([10, 10, 10])\n",
        "b"
      ]
    },
    {
      "cell_type": "markdown",
      "id": "0817313b",
      "metadata": {
        "id": "0817313b"
      },
      "source": [
        "Add the two arrays"
      ]
    },
    {
      "cell_type": "code",
      "execution_count": 160,
      "id": "71835955",
      "metadata": {
        "colab": {
          "base_uri": "https://localhost:8080/"
        },
        "id": "71835955",
        "outputId": "1d6465e0-2a02-4a74-b7c6-4e587973b135"
      },
      "outputs": [
        {
          "output_type": "execute_result",
          "data": {
            "text/plain": [
              "array([[10., 11., 12.],\n",
              "       [13., 14., 15.],\n",
              "       [16., 17., 18.]])"
            ]
          },
          "metadata": {},
          "execution_count": 160
        }
      ],
      "source": [
        "np.add(a, b)"
      ]
    },
    {
      "cell_type": "markdown",
      "id": "c3d4f106",
      "metadata": {
        "id": "c3d4f106"
      },
      "source": [
        "Substract the two arrays"
      ]
    },
    {
      "cell_type": "code",
      "execution_count": 161,
      "id": "a62e18ce",
      "metadata": {
        "colab": {
          "base_uri": "https://localhost:8080/"
        },
        "id": "a62e18ce",
        "outputId": "4f7cc2cb-fc42-46fc-b0b8-2872828ccd03"
      },
      "outputs": [
        {
          "output_type": "execute_result",
          "data": {
            "text/plain": [
              "array([[-10.,  -9.,  -8.],\n",
              "       [ -7.,  -6.,  -5.],\n",
              "       [ -4.,  -3.,  -2.]])"
            ]
          },
          "metadata": {},
          "execution_count": 161
        }
      ],
      "source": [
        "np.subtract(a, b)"
      ]
    },
    {
      "cell_type": "markdown",
      "id": "eadfacb4",
      "metadata": {
        "id": "eadfacb4"
      },
      "source": [
        "Multiply the two arrays"
      ]
    },
    {
      "cell_type": "code",
      "execution_count": 162,
      "id": "e3711dfc",
      "metadata": {
        "colab": {
          "base_uri": "https://localhost:8080/"
        },
        "id": "e3711dfc",
        "outputId": "58ed53f4-8461-4141-b4f4-846a092d6977"
      },
      "outputs": [
        {
          "output_type": "execute_result",
          "data": {
            "text/plain": [
              "array([[ 0., 10., 20.],\n",
              "       [30., 40., 50.],\n",
              "       [60., 70., 80.]])"
            ]
          },
          "metadata": {},
          "execution_count": 162
        }
      ],
      "source": [
        "np.multiply(a,b)"
      ]
    },
    {
      "cell_type": "markdown",
      "id": "7f4b0229",
      "metadata": {
        "id": "7f4b0229"
      },
      "source": [
        "Divide the two arrays"
      ]
    },
    {
      "cell_type": "code",
      "execution_count": 163,
      "id": "4f8264fd",
      "metadata": {
        "colab": {
          "base_uri": "https://localhost:8080/"
        },
        "id": "4f8264fd",
        "outputId": "d043d6c2-cc0a-4dff-cb39-43655a8a9a92"
      },
      "outputs": [
        {
          "output_type": "execute_result",
          "data": {
            "text/plain": [
              "array([[0. , 0.1, 0.2],\n",
              "       [0.3, 0.4, 0.5],\n",
              "       [0.6, 0.7, 0.8]])"
            ]
          },
          "metadata": {},
          "execution_count": 163
        }
      ],
      "source": [
        "np.divide(a, b)"
      ]
    },
    {
      "cell_type": "markdown",
      "id": "ae85d8e3",
      "metadata": {
        "id": "ae85d8e3"
      },
      "source": [
        "<h4>numpy.reciprocal()</h4>\n",
        "\n",
        "This function returns the reciprocal of argument, element-wise. For elements with absolute values larger than 1, the result is always 0 because of the way in which Python handles integer division. For integer 0, an overflow warning is issued."
      ]
    },
    {
      "cell_type": "code",
      "execution_count": 164,
      "id": "f71cec2a",
      "metadata": {
        "colab": {
          "base_uri": "https://localhost:8080/"
        },
        "id": "f71cec2a",
        "outputId": "355e77fc-6545-4a86-f71d-5c5f6649ffa7"
      },
      "outputs": [
        {
          "output_type": "execute_result",
          "data": {
            "text/plain": [
              "array([  0.25,   1.33,   1.  ,   0.  , 100.  ])"
            ]
          },
          "metadata": {},
          "execution_count": 164
        }
      ],
      "source": [
        "import numpy as np\n",
        "\n",
        "a = np.array([0.25, 1.33, 1, 0, 100])\n",
        "a"
      ]
    },
    {
      "cell_type": "markdown",
      "id": "5f8078da",
      "metadata": {
        "id": "5f8078da"
      },
      "source": [
        "After applying reciprocal function"
      ]
    },
    {
      "cell_type": "code",
      "execution_count": 165,
      "id": "c43ec720",
      "metadata": {
        "colab": {
          "base_uri": "https://localhost:8080/"
        },
        "id": "c43ec720",
        "outputId": "7ed427f9-0c00-4620-8cf0-87907ccfc64e"
      },
      "outputs": [
        {
          "output_type": "stream",
          "name": "stderr",
          "text": [
            "<ipython-input-165-8988e9a787cf>:1: RuntimeWarning: divide by zero encountered in reciprocal\n",
            "  np.reciprocal(a)\n"
          ]
        },
        {
          "output_type": "execute_result",
          "data": {
            "text/plain": [
              "array([4.       , 0.7518797, 1.       ,       inf, 0.01     ])"
            ]
          },
          "metadata": {},
          "execution_count": 165
        }
      ],
      "source": [
        "np.reciprocal(a)"
      ]
    },
    {
      "cell_type": "code",
      "execution_count": 166,
      "id": "8935c5cf",
      "metadata": {
        "colab": {
          "base_uri": "https://localhost:8080/"
        },
        "id": "8935c5cf",
        "outputId": "ebbfcb42-b07b-4283-95aa-f0a39335ae69"
      },
      "outputs": [
        {
          "output_type": "execute_result",
          "data": {
            "text/plain": [
              "array([100])"
            ]
          },
          "metadata": {},
          "execution_count": 166
        }
      ],
      "source": [
        "b = np.array([100], dtype = int)\n",
        "b"
      ]
    },
    {
      "cell_type": "code",
      "execution_count": 167,
      "id": "f7980a59",
      "metadata": {
        "colab": {
          "base_uri": "https://localhost:8080/"
        },
        "id": "f7980a59",
        "outputId": "4c187652-c255-462b-9001-ff49a2dac0a5"
      },
      "outputs": [
        {
          "output_type": "execute_result",
          "data": {
            "text/plain": [
              "array([0])"
            ]
          },
          "metadata": {},
          "execution_count": 167
        }
      ],
      "source": [
        "np.reciprocal(b)"
      ]
    },
    {
      "cell_type": "markdown",
      "id": "824784f0",
      "metadata": {
        "id": "824784f0"
      },
      "source": [
        "<h4>numpy.power()</h4>\n",
        "\n",
        "This function treats elements in the first input array as base and returns it raised to the power of the corresponding element in the second input array."
      ]
    },
    {
      "cell_type": "code",
      "execution_count": 168,
      "id": "81f9997f",
      "metadata": {
        "colab": {
          "base_uri": "https://localhost:8080/"
        },
        "id": "81f9997f",
        "outputId": "54352885-8c36-40c9-86b9-ac80124f1067"
      },
      "outputs": [
        {
          "output_type": "execute_result",
          "data": {
            "text/plain": [
              "array([  10,  100, 1000])"
            ]
          },
          "metadata": {},
          "execution_count": 168
        }
      ],
      "source": [
        "import numpy as np\n",
        "\n",
        "a = np.array([10, 100, 1000])\n",
        "a"
      ]
    },
    {
      "cell_type": "markdown",
      "id": "313b9022",
      "metadata": {
        "id": "313b9022"
      },
      "source": [
        "Applying Power Function"
      ]
    },
    {
      "cell_type": "code",
      "execution_count": 169,
      "id": "1b00f3b5",
      "metadata": {
        "colab": {
          "base_uri": "https://localhost:8080/"
        },
        "id": "1b00f3b5",
        "outputId": "3a8cba8a-e678-4245-d4b5-4a01c82d2cd9"
      },
      "outputs": [
        {
          "output_type": "execute_result",
          "data": {
            "text/plain": [
              "array([    100,   10000, 1000000])"
            ]
          },
          "metadata": {},
          "execution_count": 169
        }
      ],
      "source": [
        "np.power(a, 2)"
      ]
    },
    {
      "cell_type": "code",
      "execution_count": 170,
      "id": "88ddf222",
      "metadata": {
        "colab": {
          "base_uri": "https://localhost:8080/"
        },
        "id": "88ddf222",
        "outputId": "2c702b09-061c-4651-f223-1e3d72d0671f"
      },
      "outputs": [
        {
          "output_type": "execute_result",
          "data": {
            "text/plain": [
              "array([1, 2, 3])"
            ]
          },
          "metadata": {},
          "execution_count": 170
        }
      ],
      "source": [
        "b = np.array([1, 2, 3])\n",
        "b"
      ]
    },
    {
      "cell_type": "code",
      "execution_count": 171,
      "id": "19dcf792",
      "metadata": {
        "colab": {
          "base_uri": "https://localhost:8080/"
        },
        "id": "19dcf792",
        "outputId": "77fd033d-a6ce-4246-d348-488bea65bb32"
      },
      "outputs": [
        {
          "output_type": "execute_result",
          "data": {
            "text/plain": [
              "array([        10,      10000, 1000000000])"
            ]
          },
          "metadata": {},
          "execution_count": 171
        }
      ],
      "source": [
        "np.power(a, b)"
      ]
    },
    {
      "cell_type": "markdown",
      "id": "6cf61518",
      "metadata": {
        "id": "6cf61518"
      },
      "source": [
        "<h4>numpy.mod()</h4>\n",
        "\n",
        "This function returns the remainder of division of the corresponding elements in the input array. The function <b>numpy.remaider()</b> also produces the same result."
      ]
    },
    {
      "cell_type": "code",
      "execution_count": 172,
      "id": "c1bc0e23",
      "metadata": {
        "id": "c1bc0e23"
      },
      "outputs": [],
      "source": [
        "import numpy as np\n",
        "\n",
        "a = np.array([10, 20, 30])\n",
        "b = np.array([3, 5, 7])"
      ]
    },
    {
      "cell_type": "code",
      "execution_count": 173,
      "id": "7b69189e",
      "metadata": {
        "colab": {
          "base_uri": "https://localhost:8080/"
        },
        "id": "7b69189e",
        "outputId": "d0744f40-0b94-4ca4-aeab-dceda455f034"
      },
      "outputs": [
        {
          "output_type": "execute_result",
          "data": {
            "text/plain": [
              "array([10, 20, 30])"
            ]
          },
          "metadata": {},
          "execution_count": 173
        }
      ],
      "source": [
        "a"
      ]
    },
    {
      "cell_type": "code",
      "execution_count": 174,
      "id": "7c978676",
      "metadata": {
        "colab": {
          "base_uri": "https://localhost:8080/"
        },
        "id": "7c978676",
        "outputId": "759c19fe-34e0-4f74-f2ac-c4d09307d156"
      },
      "outputs": [
        {
          "output_type": "execute_result",
          "data": {
            "text/plain": [
              "array([3, 5, 7])"
            ]
          },
          "metadata": {},
          "execution_count": 174
        }
      ],
      "source": [
        "b"
      ]
    },
    {
      "cell_type": "markdown",
      "id": "3495c298",
      "metadata": {
        "id": "3495c298"
      },
      "source": [
        "Applying mod() function"
      ]
    },
    {
      "cell_type": "code",
      "execution_count": 175,
      "id": "3fe77878",
      "metadata": {
        "colab": {
          "base_uri": "https://localhost:8080/"
        },
        "id": "3fe77878",
        "outputId": "f8c94974-f204-4e86-a84d-8308bb0b39ad"
      },
      "outputs": [
        {
          "output_type": "execute_result",
          "data": {
            "text/plain": [
              "array([1, 0, 2])"
            ]
          },
          "metadata": {},
          "execution_count": 175
        }
      ],
      "source": [
        "np.mod(a, b)"
      ]
    },
    {
      "cell_type": "markdown",
      "id": "19afa184",
      "metadata": {
        "id": "19afa184"
      },
      "source": [
        "Applying remainder() function"
      ]
    },
    {
      "cell_type": "code",
      "execution_count": 176,
      "id": "e6ee8b46",
      "metadata": {
        "colab": {
          "base_uri": "https://localhost:8080/"
        },
        "id": "e6ee8b46",
        "outputId": "e4985be4-84c2-4cc8-b56d-d7a7c0b64441"
      },
      "outputs": [
        {
          "output_type": "execute_result",
          "data": {
            "text/plain": [
              "array([1, 0, 2])"
            ]
          },
          "metadata": {},
          "execution_count": 176
        }
      ],
      "source": [
        "np.remainder(a, b)"
      ]
    },
    {
      "cell_type": "markdown",
      "id": "b4fb133e",
      "metadata": {
        "id": "b4fb133e"
      },
      "source": [
        "The following functions are used to perform operations on array with complex numbers.\n",
        "\n",
        "- <b>numpy.real()</b> - returns the real part of the complex data type argument.\n",
        "- <b>numpy.imag()</b> - returns the imaginary part of the complex data type argument.\n",
        "- <b>numpy.conj()</b> -returns the complex conjugate, which is obtained by changing the sign of the imaginary part.\n",
        "- <b>numpy.angle()</b> - returns the angle of the complex argument. The function has degree parameter. If true, the angle in the degree is returned, otherwise the angle is in radians."
      ]
    },
    {
      "cell_type": "code",
      "execution_count": 177,
      "id": "0ef96b98",
      "metadata": {
        "colab": {
          "base_uri": "https://localhost:8080/"
        },
        "id": "0ef96b98",
        "outputId": "2e68637f-a8fe-49a5-9c78-7876c133b657"
      },
      "outputs": [
        {
          "output_type": "execute_result",
          "data": {
            "text/plain": [
              "array([-0.-5.6j,  0.+0.2j, 11.+0.j ,  1.+1.j ])"
            ]
          },
          "metadata": {},
          "execution_count": 177
        }
      ],
      "source": [
        "import numpy as np\n",
        "a = np.array([-5.6j, 0.2j, 11., 1+1j])\n",
        "a"
      ]
    },
    {
      "cell_type": "markdown",
      "id": "5a148c34",
      "metadata": {
        "id": "5a148c34"
      },
      "source": [
        "Applying real() Function"
      ]
    },
    {
      "cell_type": "code",
      "execution_count": 178,
      "id": "4f290e0d",
      "metadata": {
        "colab": {
          "base_uri": "https://localhost:8080/"
        },
        "id": "4f290e0d",
        "outputId": "142e015b-7f64-4d98-a369-03fa9bce1a11"
      },
      "outputs": [
        {
          "output_type": "execute_result",
          "data": {
            "text/plain": [
              "array([-0.,  0., 11.,  1.])"
            ]
          },
          "metadata": {},
          "execution_count": 178
        }
      ],
      "source": [
        "np.real(a)"
      ]
    },
    {
      "cell_type": "markdown",
      "id": "2f163e09",
      "metadata": {
        "id": "2f163e09"
      },
      "source": [
        "Applying imag() Function"
      ]
    },
    {
      "cell_type": "code",
      "execution_count": 179,
      "id": "c3078f25",
      "metadata": {
        "colab": {
          "base_uri": "https://localhost:8080/"
        },
        "id": "c3078f25",
        "outputId": "1001f71f-d412-4b91-e698-5182e28b298e"
      },
      "outputs": [
        {
          "output_type": "execute_result",
          "data": {
            "text/plain": [
              "array([-5.6,  0.2,  0. ,  1. ])"
            ]
          },
          "metadata": {},
          "execution_count": 179
        }
      ],
      "source": [
        "np.imag(a)"
      ]
    },
    {
      "cell_type": "markdown",
      "id": "21d689cf",
      "metadata": {
        "id": "21d689cf"
      },
      "source": [
        "Applying angle() Function"
      ]
    },
    {
      "cell_type": "code",
      "execution_count": 180,
      "id": "a4186b30",
      "metadata": {
        "colab": {
          "base_uri": "https://localhost:8080/"
        },
        "id": "a4186b30",
        "outputId": "3b71c4fe-b529-4bb7-9a5a-e02138026f0a"
      },
      "outputs": [
        {
          "output_type": "execute_result",
          "data": {
            "text/plain": [
              "array([-1.57079633,  1.57079633,  0.        ,  0.78539816])"
            ]
          },
          "metadata": {},
          "execution_count": 180
        }
      ],
      "source": [
        "np.angle(a)"
      ]
    },
    {
      "cell_type": "markdown",
      "id": "5bca1e03",
      "metadata": {
        "id": "5bca1e03"
      },
      "source": [
        "Applying conj() function"
      ]
    },
    {
      "cell_type": "code",
      "execution_count": 181,
      "id": "f555b063",
      "metadata": {
        "colab": {
          "base_uri": "https://localhost:8080/"
        },
        "id": "f555b063",
        "outputId": "9553fd17-4b44-47ba-df1f-bbfb50237c09"
      },
      "outputs": [
        {
          "output_type": "execute_result",
          "data": {
            "text/plain": [
              "array([-0.+5.6j,  0.-0.2j, 11.-0.j ,  1.-1.j ])"
            ]
          },
          "metadata": {},
          "execution_count": 181
        }
      ],
      "source": [
        "np.conj(a)"
      ]
    },
    {
      "cell_type": "markdown",
      "id": "fe635eec",
      "metadata": {
        "id": "fe635eec"
      },
      "source": [
        "Applying angle() Function again (result in degrees)"
      ]
    },
    {
      "cell_type": "code",
      "execution_count": 182,
      "id": "ff1ce292",
      "metadata": {
        "colab": {
          "base_uri": "https://localhost:8080/"
        },
        "id": "ff1ce292",
        "outputId": "c4811e49-ff51-422a-f429-e01569ed28e6"
      },
      "outputs": [
        {
          "output_type": "execute_result",
          "data": {
            "text/plain": [
              "array([-90.,  90.,   0.,  45.])"
            ]
          },
          "metadata": {},
          "execution_count": 182
        }
      ],
      "source": [
        "np.angle(a, deg = True)"
      ]
    },
    {
      "cell_type": "markdown",
      "id": "7e99129e",
      "metadata": {
        "id": "7e99129e"
      },
      "source": [
        "<h2 align='center'>NumPy - Copies & Views</h2>\n",
        "\n",
        "While executing the functions, some of them return a copy of the input array, while some return the view. When the contents are physically stored in another location, it is <b>Copy</b>. If on the other hand, a different view of the same memory content is provided, we call it as <b>View</b>\n",
        "\n",
        "<h4>No Copy</h4>\n",
        "\n",
        "Simple assignments do not make the copy of array object. Instead, it uses the same id() of the original array to access it. The <b>id()</b> returns a universal identifier of Python object, similar to the pointer in C.\n",
        "\n",
        "Furthermore, any changes in either gets reflected in the other. For example, the changing shape of one will change the shape of the other too."
      ]
    },
    {
      "cell_type": "code",
      "execution_count": 183,
      "id": "04345711",
      "metadata": {
        "colab": {
          "base_uri": "https://localhost:8080/"
        },
        "id": "04345711",
        "outputId": "51aa655f-fea0-4c2d-df40-4c5ecdd5a915"
      },
      "outputs": [
        {
          "output_type": "execute_result",
          "data": {
            "text/plain": [
              "array([0, 1, 2, 3, 4, 5])"
            ]
          },
          "metadata": {},
          "execution_count": 183
        }
      ],
      "source": [
        "import numpy as np\n",
        "\n",
        "a = np.arange(6)\n",
        "a"
      ]
    },
    {
      "cell_type": "markdown",
      "id": "257f708d",
      "metadata": {
        "id": "257f708d"
      },
      "source": [
        "Applying id() Function"
      ]
    },
    {
      "cell_type": "code",
      "execution_count": 184,
      "id": "538f78b0",
      "metadata": {
        "colab": {
          "base_uri": "https://localhost:8080/"
        },
        "id": "538f78b0",
        "outputId": "6a2b530a-90bc-4e0e-af5f-a3c2685fd055"
      },
      "outputs": [
        {
          "output_type": "execute_result",
          "data": {
            "text/plain": [
              "140089445530480"
            ]
          },
          "metadata": {},
          "execution_count": 184
        }
      ],
      "source": [
        "id(a)"
      ]
    },
    {
      "cell_type": "markdown",
      "id": "435e1b68",
      "metadata": {
        "id": "435e1b68"
      },
      "source": [
        "a is assigned to b"
      ]
    },
    {
      "cell_type": "code",
      "execution_count": 185,
      "id": "d7fc1389",
      "metadata": {
        "id": "d7fc1389"
      },
      "outputs": [],
      "source": [
        "b = a"
      ]
    },
    {
      "cell_type": "code",
      "execution_count": 186,
      "id": "261745cd",
      "metadata": {
        "colab": {
          "base_uri": "https://localhost:8080/"
        },
        "id": "261745cd",
        "outputId": "88ec03ee-b6ec-447b-f8e7-3fabae948c54"
      },
      "outputs": [
        {
          "output_type": "execute_result",
          "data": {
            "text/plain": [
              "array([0, 1, 2, 3, 4, 5])"
            ]
          },
          "metadata": {},
          "execution_count": 186
        }
      ],
      "source": [
        "b"
      ]
    },
    {
      "cell_type": "markdown",
      "id": "8217e558",
      "metadata": {
        "id": "8217e558"
      },
      "source": [
        "b has same id()"
      ]
    },
    {
      "cell_type": "code",
      "execution_count": 187,
      "id": "cf3394d4",
      "metadata": {
        "colab": {
          "base_uri": "https://localhost:8080/"
        },
        "id": "cf3394d4",
        "outputId": "5ac2fb29-3d3c-44eb-d160-0361e109927a"
      },
      "outputs": [
        {
          "output_type": "execute_result",
          "data": {
            "text/plain": [
              "140089445530480"
            ]
          },
          "metadata": {},
          "execution_count": 187
        }
      ],
      "source": [
        "id(b)"
      ]
    },
    {
      "cell_type": "markdown",
      "id": "056269be",
      "metadata": {
        "id": "056269be"
      },
      "source": [
        "Change the shape of b"
      ]
    },
    {
      "cell_type": "code",
      "execution_count": 188,
      "id": "0152ad61",
      "metadata": {
        "colab": {
          "base_uri": "https://localhost:8080/"
        },
        "id": "0152ad61",
        "outputId": "3f510457-16c3-4d04-c1ab-e8b95bbfb9cd"
      },
      "outputs": [
        {
          "output_type": "execute_result",
          "data": {
            "text/plain": [
              "array([[0, 1],\n",
              "       [2, 3],\n",
              "       [4, 5]])"
            ]
          },
          "metadata": {},
          "execution_count": 188
        }
      ],
      "source": [
        "b.shape = 3, 2\n",
        "b"
      ]
    },
    {
      "cell_type": "markdown",
      "id": "0d0c3068",
      "metadata": {
        "id": "0d0c3068"
      },
      "source": [
        "Shape of a also gets changed"
      ]
    },
    {
      "cell_type": "code",
      "execution_count": 189,
      "id": "5753e9c9",
      "metadata": {
        "colab": {
          "base_uri": "https://localhost:8080/"
        },
        "id": "5753e9c9",
        "outputId": "785700db-6f29-42dd-bb4d-b402c26665c3"
      },
      "outputs": [
        {
          "output_type": "execute_result",
          "data": {
            "text/plain": [
              "array([[0, 1],\n",
              "       [2, 3],\n",
              "       [4, 5]])"
            ]
          },
          "metadata": {},
          "execution_count": 189
        }
      ],
      "source": [
        "a"
      ]
    },
    {
      "cell_type": "markdown",
      "id": "4efaedca",
      "metadata": {
        "id": "4efaedca"
      },
      "source": [
        "<h4>View or Shallow Copy</h4>\n",
        "\n",
        "NumPy has <b>ndarray.view()</b> method which is a new array object that looks at the same data of the original array. Unlike the earlier case, change in dimensions of the new array doesn't change dimensions of the original array."
      ]
    },
    {
      "cell_type": "code",
      "execution_count": 190,
      "id": "46e64bb3",
      "metadata": {
        "colab": {
          "base_uri": "https://localhost:8080/"
        },
        "id": "46e64bb3",
        "outputId": "2b7c98c0-0bf2-41ea-8999-827edcb53fea"
      },
      "outputs": [
        {
          "output_type": "execute_result",
          "data": {
            "text/plain": [
              "array([[0, 1],\n",
              "       [2, 3],\n",
              "       [4, 5]])"
            ]
          },
          "metadata": {},
          "execution_count": 190
        }
      ],
      "source": [
        "import numpy as np\n",
        "\n",
        "a = np.arange(6).reshape(3,2)\n",
        "a"
      ]
    },
    {
      "cell_type": "markdown",
      "id": "690673ba",
      "metadata": {
        "id": "690673ba"
      },
      "source": [
        "Create view of a"
      ]
    },
    {
      "cell_type": "code",
      "execution_count": 191,
      "id": "48a62067",
      "metadata": {
        "id": "48a62067"
      },
      "outputs": [],
      "source": [
        "b = a.view()"
      ]
    },
    {
      "cell_type": "code",
      "execution_count": 192,
      "id": "844dbffb",
      "metadata": {
        "colab": {
          "base_uri": "https://localhost:8080/"
        },
        "id": "844dbffb",
        "outputId": "6dd1d4ab-cca0-4b7a-f6cf-8cf2c37bd79e"
      },
      "outputs": [
        {
          "output_type": "execute_result",
          "data": {
            "text/plain": [
              "array([[0, 1],\n",
              "       [2, 3],\n",
              "       [4, 5]])"
            ]
          },
          "metadata": {},
          "execution_count": 192
        }
      ],
      "source": [
        "b"
      ]
    },
    {
      "cell_type": "markdown",
      "id": "e7548540",
      "metadata": {
        "id": "e7548540"
      },
      "source": [
        "id () for both arrays are differents"
      ]
    },
    {
      "cell_type": "code",
      "execution_count": 193,
      "id": "2120a71b",
      "metadata": {
        "colab": {
          "base_uri": "https://localhost:8080/"
        },
        "id": "2120a71b",
        "outputId": "ba322f00-e37f-4e9d-bd23-e9b75c2cbc61"
      },
      "outputs": [
        {
          "output_type": "execute_result",
          "data": {
            "text/plain": [
              "140089445559440"
            ]
          },
          "metadata": {},
          "execution_count": 193
        }
      ],
      "source": [
        "id(a)"
      ]
    },
    {
      "cell_type": "code",
      "execution_count": 194,
      "id": "279cea5f",
      "metadata": {
        "colab": {
          "base_uri": "https://localhost:8080/"
        },
        "id": "279cea5f",
        "outputId": "24139c17-ae14-4013-8ffd-96504703af21"
      },
      "outputs": [
        {
          "output_type": "execute_result",
          "data": {
            "text/plain": [
              "140089445560016"
            ]
          },
          "metadata": {},
          "execution_count": 194
        }
      ],
      "source": [
        "id(b)"
      ]
    },
    {
      "cell_type": "markdown",
      "id": "f1876ddd",
      "metadata": {
        "id": "f1876ddd"
      },
      "source": [
        "Change the shape of b. It does not change the shape of a"
      ]
    },
    {
      "cell_type": "code",
      "execution_count": 195,
      "id": "bed0d4cf",
      "metadata": {
        "id": "bed0d4cf"
      },
      "outputs": [],
      "source": [
        "b.shape = 2,3"
      ]
    },
    {
      "cell_type": "code",
      "execution_count": 196,
      "id": "df8e3288",
      "metadata": {
        "colab": {
          "base_uri": "https://localhost:8080/"
        },
        "id": "df8e3288",
        "outputId": "5c6d13b1-12e5-4de9-d2ae-c9f2c80149c1"
      },
      "outputs": [
        {
          "output_type": "execute_result",
          "data": {
            "text/plain": [
              "array([[0, 1, 2],\n",
              "       [3, 4, 5]])"
            ]
          },
          "metadata": {},
          "execution_count": 196
        }
      ],
      "source": [
        "b"
      ]
    },
    {
      "cell_type": "markdown",
      "id": "fb1780de",
      "metadata": {
        "id": "fb1780de"
      },
      "source": [
        "shape of a"
      ]
    },
    {
      "cell_type": "code",
      "execution_count": 197,
      "id": "d615d8bc",
      "metadata": {
        "colab": {
          "base_uri": "https://localhost:8080/"
        },
        "id": "d615d8bc",
        "outputId": "4a148205-8935-419e-8725-6a8ec144be49"
      },
      "outputs": [
        {
          "output_type": "execute_result",
          "data": {
            "text/plain": [
              "array([[0, 1],\n",
              "       [2, 3],\n",
              "       [4, 5]])"
            ]
          },
          "metadata": {},
          "execution_count": 197
        }
      ],
      "source": [
        "a"
      ]
    },
    {
      "cell_type": "markdown",
      "id": "6a2d48a2",
      "metadata": {
        "id": "6a2d48a2"
      },
      "source": [
        "<h4>Deep Copy</h4>\n",
        "\n",
        "The <b>ndarray.copy()</b> function creates a deep copy. It is a complete copy of the array and its data, and doesn't share with the original array."
      ]
    },
    {
      "cell_type": "code",
      "execution_count": 198,
      "id": "3944f43d",
      "metadata": {
        "colab": {
          "base_uri": "https://localhost:8080/"
        },
        "id": "3944f43d",
        "outputId": "4f3345d1-0bc5-4ca0-fdbb-d848c1689074"
      },
      "outputs": [
        {
          "output_type": "execute_result",
          "data": {
            "text/plain": [
              "array([[10, 10],\n",
              "       [ 2,  3],\n",
              "       [ 4,  5]])"
            ]
          },
          "metadata": {},
          "execution_count": 198
        }
      ],
      "source": [
        "import numpy as np\n",
        "\n",
        "a = np.array([[10, 10], [2, 3], [4, 5]])\n",
        "a"
      ]
    },
    {
      "cell_type": "markdown",
      "id": "951c5689",
      "metadata": {
        "id": "951c5689"
      },
      "source": [
        "Create a Deep Copy of a"
      ]
    },
    {
      "cell_type": "code",
      "execution_count": 199,
      "id": "a5ef4541",
      "metadata": {
        "colab": {
          "base_uri": "https://localhost:8080/"
        },
        "id": "a5ef4541",
        "outputId": "83ccfc10-753f-4b33-fc50-43756d5fad4c"
      },
      "outputs": [
        {
          "output_type": "execute_result",
          "data": {
            "text/plain": [
              "array([[10, 10],\n",
              "       [ 2,  3],\n",
              "       [ 4,  5]])"
            ]
          },
          "metadata": {},
          "execution_count": 199
        }
      ],
      "source": [
        "b = a.copy()\n",
        "b"
      ]
    },
    {
      "cell_type": "markdown",
      "id": "5372cd67",
      "metadata": {
        "id": "5372cd67"
      },
      "source": [
        "id() of both array are differents"
      ]
    },
    {
      "cell_type": "code",
      "execution_count": 200,
      "id": "15e37c2b",
      "metadata": {
        "colab": {
          "base_uri": "https://localhost:8080/"
        },
        "id": "15e37c2b",
        "outputId": "b2ac382e-bf15-40a7-fdfd-61af3f8e7fde"
      },
      "outputs": [
        {
          "output_type": "execute_result",
          "data": {
            "text/plain": [
              "140089463012976"
            ]
          },
          "metadata": {},
          "execution_count": 200
        }
      ],
      "source": [
        "id(a)"
      ]
    },
    {
      "cell_type": "code",
      "execution_count": 201,
      "id": "793e011a",
      "metadata": {
        "colab": {
          "base_uri": "https://localhost:8080/"
        },
        "id": "793e011a",
        "outputId": "01dc103a-90c2-4e16-bc5e-72b20add5679"
      },
      "outputs": [
        {
          "output_type": "execute_result",
          "data": {
            "text/plain": [
              "140089463012208"
            ]
          },
          "metadata": {},
          "execution_count": 201
        }
      ],
      "source": [
        "id(b)"
      ]
    },
    {
      "cell_type": "markdown",
      "id": "3dffeb8d",
      "metadata": {
        "id": "3dffeb8d"
      },
      "source": [
        "Modified array b"
      ]
    },
    {
      "cell_type": "code",
      "execution_count": 202,
      "id": "de8f81e2",
      "metadata": {
        "id": "de8f81e2"
      },
      "outputs": [],
      "source": [
        "b[0, 0] = 100"
      ]
    },
    {
      "cell_type": "code",
      "execution_count": 203,
      "id": "e0df84b9",
      "metadata": {
        "colab": {
          "base_uri": "https://localhost:8080/"
        },
        "id": "e0df84b9",
        "outputId": "c12dcf58-8c92-429e-9943-556994760d70"
      },
      "outputs": [
        {
          "output_type": "execute_result",
          "data": {
            "text/plain": [
              "array([[100,  10],\n",
              "       [  2,   3],\n",
              "       [  4,   5]])"
            ]
          },
          "metadata": {},
          "execution_count": 203
        }
      ],
      "source": [
        "b"
      ]
    },
    {
      "cell_type": "markdown",
      "id": "6f5aebdf",
      "metadata": {
        "id": "6f5aebdf"
      },
      "source": [
        "a remains changed"
      ]
    },
    {
      "cell_type": "code",
      "execution_count": 204,
      "id": "dc3bd458",
      "metadata": {
        "colab": {
          "base_uri": "https://localhost:8080/"
        },
        "id": "dc3bd458",
        "outputId": "8f9f0617-cbe9-48c7-fe4b-d70c481cc17b"
      },
      "outputs": [
        {
          "output_type": "execute_result",
          "data": {
            "text/plain": [
              "array([[10, 10],\n",
              "       [ 2,  3],\n",
              "       [ 4,  5]])"
            ]
          },
          "metadata": {},
          "execution_count": 204
        }
      ],
      "source": [
        "a"
      ]
    },
    {
      "cell_type": "code",
      "execution_count": 204,
      "id": "2a0fd1d2",
      "metadata": {
        "id": "2a0fd1d2"
      },
      "outputs": [],
      "source": []
    }
  ],
  "metadata": {
    "kernelspec": {
      "display_name": "Python 3 (ipykernel)",
      "language": "python",
      "name": "python3"
    },
    "language_info": {
      "codemirror_mode": {
        "name": "ipython",
        "version": 3
      },
      "file_extension": ".py",
      "mimetype": "text/x-python",
      "name": "python",
      "nbconvert_exporter": "python",
      "pygments_lexer": "ipython3",
      "version": "3.9.12"
    },
    "colab": {
      "provenance": [],
      "include_colab_link": true
    }
  },
  "nbformat": 4,
  "nbformat_minor": 5
}