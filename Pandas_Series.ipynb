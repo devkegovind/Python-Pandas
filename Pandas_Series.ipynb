{
  "nbformat": 4,
  "nbformat_minor": 0,
  "metadata": {
    "colab": {
      "provenance": [],
      "authorship_tag": "ABX9TyNrquinV/6DiQ/MqYWnlbTD",
      "include_colab_link": true
    },
    "kernelspec": {
      "name": "python3",
      "display_name": "Python 3"
    },
    "language_info": {
      "name": "python"
    }
  },
  "cells": [
    {
      "cell_type": "markdown",
      "metadata": {
        "id": "view-in-github",
        "colab_type": "text"
      },
      "source": [
        "<a href=\"https://colab.research.google.com/github/devkegovind/Python-Pandas/blob/main/Pandas_Series.ipynb\" target=\"_parent\"><img src=\"https://colab.research.google.com/assets/colab-badge.svg\" alt=\"Open In Colab\"/></a>"
      ]
    },
    {
      "cell_type": "markdown",
      "source": [
        "<h1 align='center'><b>Python Pandas</b></h1>"
      ],
      "metadata": {
        "id": "Fc1CwHN-g72Y"
      }
    },
    {
      "cell_type": "markdown",
      "source": [
        "<h4 align='justify'>Pandas is defined as an open-source library that provides high-performance data manipulation in Python. The name of Pandas is derived from the word <b>Panel Data,</b> which means <b>an Econometrics from Multidimensional data.</b> It is used for data analysis in Python and developed by <b>Wes McKinney</b> in <b>2008</b>.\n",
        "<h4 align='justify'>Data Analysis lots of processing, such as <b>restructuring, cleaning or merging</b>,etc. There are different tools are available for data processing, such as <b>Numpy, Scipy, Cython</b>, and <b>Panda</b>. But we prefer Pandas because working with It is fast, simple and more expressive than other tools.</h4>\n",
        "<h4 align='justify'>Pandas is built on top of the <b>Numpy</b> package, means <b>Numpy</b> is required for operating the Pandas.Before Pandas, Python was capable for data preparation, but it only provided limited support for data analysis. So, Pandas came into the picture and enhanced the capabilities of data analysis. It can perform five significant steps required for processing and analysis of data irrespective of the origin of the data, i.e.,<b>load, manipulate, prepare, model, and analyze.</b>\n",
        "<h3 align='justify'><b>Key Features of Pandas</b></h3>\n",
        "\n",
        "*   It has a fast and efficient DataFrame object with the default and customized indexing.\n",
        "*   Used for reshaping and pivoting of the data set.\n",
        "*   Group by data for aggregations and transformation.\n",
        "*  It is used for data alignment and integration of the missing data.\n",
        "*  Provide the functionality of Time Series.\n",
        "* Process a variety of data sets in different formats like matrix data, tabular heterogenous, time series.\n",
        "* Handle multiple operations of the data sets such as subsetting, slicing,filtering, groupBy, re-ordering, and re-shaping.\n",
        "* It integrates with the other libraries such as Scipy, and scikit-learn.\n",
        "* Provides fast performance, and if you want to speed it, even more, you can use the <b>Cython</b>.\n",
        "<h3><b>Python Pandas Data Structure</b></h3>\n",
        "<h4 align='justify'>The Pandas provides two data structures for processing the data, i.e.<b>Series</b> and <b>DataFrame</b> which are discussed below;</h4>\n",
        "<h4><b>1.Series</b></h4>\n",
        "<h4 align='justify'>It is defined as a one-dimensional array that is capable of storing various data types. The row labels of series are called the <b>index</b>. We can easily convert the list, tuple and dictionary into series using \"series\" method. A series cannot contain multiple columns. It has one parameter:</h4>\n",
        "<h4><b>Data</b>: It can be any list, dictionary, or scalar value.</h4>\n",
        "<h4><b>Creating a Series:</b></h4>\n",
        "\n"
      ],
      "metadata": {
        "id": "hYCywC1fhf9r"
      }
    },
    {
      "cell_type": "markdown",
      "source": [
        "<h4><b>Series = Data + index + dtype</b></h4>"
      ],
      "metadata": {
        "id": "O8K3NKX8P5Hl"
      }
    },
    {
      "cell_type": "markdown",
      "source": [
        "<h4>Create an Empty Series</h4>"
      ],
      "metadata": {
        "id": "eGZtI_jVQEws"
      }
    },
    {
      "cell_type": "code",
      "execution_count": 1,
      "metadata": {
        "colab": {
          "base_uri": "https://localhost:8080/"
        },
        "id": "oeknd5F9gxQH",
        "outputId": "bf966ffb-c4ae-4e74-8147-31c7bfba371a"
      },
      "outputs": [
        {
          "output_type": "stream",
          "name": "stdout",
          "text": [
            "Series([], dtype: float64)\n"
          ]
        },
        {
          "output_type": "stream",
          "name": "stderr",
          "text": [
            "<ipython-input-1-c4a77307cad2>:2: DeprecationWarning: The default dtype for empty Series will be 'object' instead of 'float64' in a future version. Specify a dtype explicitly to silence this warning.\n",
            "  x = pd.Series()\n"
          ]
        }
      ],
      "source": [
        "import pandas as pd\n",
        "x = pd.Series()\n",
        "print(x)"
      ]
    },
    {
      "cell_type": "markdown",
      "source": [
        "<h4>Create a Series from Array</h4>"
      ],
      "metadata": {
        "id": "mnRSB3pGQKeE"
      }
    },
    {
      "cell_type": "code",
      "source": [
        "import numpy as np\n",
        "info = np.array(['p', 'q', 'r', 's'])\n",
        "a = pd.Series(info)\n",
        "print(a)"
      ],
      "metadata": {
        "colab": {
          "base_uri": "https://localhost:8080/"
        },
        "id": "A0bP2SiyuEgq",
        "outputId": "235e918a-6ede-4d44-f096-7ec259a8799f"
      },
      "execution_count": 2,
      "outputs": [
        {
          "output_type": "stream",
          "name": "stdout",
          "text": [
            "0    p\n",
            "1    q\n",
            "2    r\n",
            "3    s\n",
            "dtype: object\n"
          ]
        }
      ]
    },
    {
      "cell_type": "markdown",
      "source": [
        "<h4>Create Series from dictionary</h4>"
      ],
      "metadata": {
        "id": "hfhplwB5QQhM"
      }
    },
    {
      "cell_type": "code",
      "source": [
        "info = {'x': 0, 'y' : 1, 'z' : 2}\n",
        "a = pd.Series(info)\n",
        "print(a)"
      ],
      "metadata": {
        "colab": {
          "base_uri": "https://localhost:8080/"
        },
        "id": "UbbCcWBYx-Ev",
        "outputId": "490832cc-7d88-44cf-aaa8-c02541a1ed70"
      },
      "execution_count": 3,
      "outputs": [
        {
          "output_type": "stream",
          "name": "stdout",
          "text": [
            "x    0\n",
            "y    1\n",
            "z    2\n",
            "dtype: int64\n"
          ]
        }
      ]
    },
    {
      "cell_type": "markdown",
      "source": [
        "<h4>Create a Series using scalar</h4>"
      ],
      "metadata": {
        "id": "pd_WkL3-QdmI"
      }
    },
    {
      "cell_type": "code",
      "source": [
        "x = pd.Series(4, index = [0, 1, 2, 3])\n",
        "print(x)"
      ],
      "metadata": {
        "colab": {
          "base_uri": "https://localhost:8080/"
        },
        "id": "ckrVVJ5QyboL",
        "outputId": "4ae964bc-28c4-451a-b223-c405fca6e9fe"
      },
      "execution_count": 4,
      "outputs": [
        {
          "output_type": "stream",
          "name": "stdout",
          "text": [
            "0    4\n",
            "1    4\n",
            "2    4\n",
            "3    4\n",
            "dtype: int64\n"
          ]
        }
      ]
    },
    {
      "cell_type": "markdown",
      "source": [
        "<h4>Defines the index of the Series</h4>"
      ],
      "metadata": {
        "id": "Pq31XI59Qkoh"
      }
    },
    {
      "cell_type": "code",
      "source": [
        "x.index"
      ],
      "metadata": {
        "colab": {
          "base_uri": "https://localhost:8080/"
        },
        "id": "6Z8OLfGnystK",
        "outputId": "24f47d3c-6ec5-4749-abd7-3685f71cca38"
      },
      "execution_count": 5,
      "outputs": [
        {
          "output_type": "execute_result",
          "data": {
            "text/plain": [
              "Int64Index([0, 1, 2, 3], dtype='int64')"
            ]
          },
          "metadata": {},
          "execution_count": 5
        }
      ]
    },
    {
      "cell_type": "markdown",
      "source": [
        "<h4>Defines the Shape of the Series</h4>"
      ],
      "metadata": {
        "id": "qmkGZkkcQp0Y"
      }
    },
    {
      "cell_type": "code",
      "source": [
        "x.shape"
      ],
      "metadata": {
        "colab": {
          "base_uri": "https://localhost:8080/"
        },
        "id": "2AdyajfuzFqK",
        "outputId": "1b41e80c-bc30-47e3-d6c9-eb5ebfa59714"
      },
      "execution_count": 6,
      "outputs": [
        {
          "output_type": "execute_result",
          "data": {
            "text/plain": [
              "(4,)"
            ]
          },
          "metadata": {},
          "execution_count": 6
        }
      ]
    },
    {
      "cell_type": "markdown",
      "source": [
        "<h4>Defines the Data Type of Series</h4>"
      ],
      "metadata": {
        "id": "FGXGUPrbQw_i"
      }
    },
    {
      "cell_type": "code",
      "source": [
        "x.dtype"
      ],
      "metadata": {
        "colab": {
          "base_uri": "https://localhost:8080/"
        },
        "id": "EY4uHd_HzNzK",
        "outputId": "2a38b03d-db1c-4838-f86c-8fb30861d0bb"
      },
      "execution_count": 7,
      "outputs": [
        {
          "output_type": "execute_result",
          "data": {
            "text/plain": [
              "dtype('int64')"
            ]
          },
          "metadata": {},
          "execution_count": 7
        }
      ]
    },
    {
      "cell_type": "markdown",
      "source": [
        "<h4>Defines the Size of the Series</h4>"
      ],
      "metadata": {
        "id": "IOUcIXkpQ-LV"
      }
    },
    {
      "cell_type": "code",
      "source": [
        "x.size"
      ],
      "metadata": {
        "colab": {
          "base_uri": "https://localhost:8080/"
        },
        "id": "eYwXvQJWzXgr",
        "outputId": "95c1d725-614d-4ca9-89b7-6fc264902891"
      },
      "execution_count": 8,
      "outputs": [
        {
          "output_type": "execute_result",
          "data": {
            "text/plain": [
              "4"
            ]
          },
          "metadata": {},
          "execution_count": 8
        }
      ]
    },
    {
      "cell_type": "markdown",
      "source": [
        "<h4>Defines the Dimension of the Series</h4>"
      ],
      "metadata": {
        "id": "EjUAea47RFJX"
      }
    },
    {
      "cell_type": "code",
      "source": [
        "x.ndim"
      ],
      "metadata": {
        "colab": {
          "base_uri": "https://localhost:8080/"
        },
        "id": "3yl9L9_zzfXO",
        "outputId": "50b7da76-f60e-4021-e90e-2ce40958ba3a"
      },
      "execution_count": 9,
      "outputs": [
        {
          "output_type": "execute_result",
          "data": {
            "text/plain": [
              "1"
            ]
          },
          "metadata": {},
          "execution_count": 9
        }
      ]
    },
    {
      "cell_type": "markdown",
      "source": [
        "<h4>Create a Series From List</h4>"
      ],
      "metadata": {
        "id": "LXz3VySMeNZP"
      }
    },
    {
      "cell_type": "code",
      "source": [
        "list1 = ['a', 'c', 2, 2.5]\n",
        "a = pd.Series(list1)\n",
        "print(a)"
      ],
      "metadata": {
        "colab": {
          "base_uri": "https://localhost:8080/"
        },
        "id": "_XGcRnqGzrb2",
        "outputId": "2561d99b-9586-4c8d-fad0-24f5ea70fb90"
      },
      "execution_count": 10,
      "outputs": [
        {
          "output_type": "stream",
          "name": "stdout",
          "text": [
            "0      a\n",
            "1      c\n",
            "2      2\n",
            "3    2.5\n",
            "dtype: object\n"
          ]
        }
      ]
    },
    {
      "cell_type": "markdown",
      "source": [
        "<h4 align='justify'><b>Binary Operation on Series</b></h4>\n",
        "<h4 align='justify'>We can perform binary operation on series like addition, subtraction and many other operation. In order to perform binary operation on series we have to use some function like .add(),.sub() etc..</h4>"
      ],
      "metadata": {
        "id": "QW-xHGxT1aar"
      }
    },
    {
      "cell_type": "code",
      "source": [
        "data = pd.Series([5,2, 3, 7], index = ['a', 'b', 'c', 'd'])\n",
        "\n",
        "data1 = pd.Series([1, 6, 4, 9], index =['a', 'b', 'd', 'e'])\n",
        "\n",
        "print(data, \"\\n\\n\", data1)"
      ],
      "metadata": {
        "colab": {
          "base_uri": "https://localhost:8080/"
        },
        "id": "_p9iAXnA07vp",
        "outputId": "6d33528f-c6b8-4893-c1b9-c9c590f0aded"
      },
      "execution_count": 11,
      "outputs": [
        {
          "output_type": "stream",
          "name": "stdout",
          "text": [
            "a    5\n",
            "b    2\n",
            "c    3\n",
            "d    7\n",
            "dtype: int64 \n",
            "\n",
            " a    1\n",
            "b    6\n",
            "d    4\n",
            "e    9\n",
            "dtype: int64\n"
          ]
        }
      ]
    },
    {
      "cell_type": "markdown",
      "source": [
        "<h4>Adding Two Series Using .add</h4>"
      ],
      "metadata": {
        "id": "ameS3f17eXq8"
      }
    },
    {
      "cell_type": "code",
      "source": [
        "data.add(data1, fill_value = 0)"
      ],
      "metadata": {
        "colab": {
          "base_uri": "https://localhost:8080/"
        },
        "id": "mf6xWShj2IiE",
        "outputId": "4a76956b-4187-4d79-e090-6beb5a403cc1"
      },
      "execution_count": 12,
      "outputs": [
        {
          "output_type": "execute_result",
          "data": {
            "text/plain": [
              "a     6.0\n",
              "b     8.0\n",
              "c     3.0\n",
              "d    11.0\n",
              "e     9.0\n",
              "dtype: float64"
            ]
          },
          "metadata": {},
          "execution_count": 12
        }
      ]
    },
    {
      "cell_type": "code",
      "source": [
        "data = pd.Series([5, 2, 3, 7], index=['a', 'b', 'c', 'd'])\n",
        "\n",
        "data1 = pd.Series([1, 6, 4, 9], index=['a', 'b', 'd', 'e'])\n",
        "\n",
        "print(data, \"\\n\\n\", data1)"
      ],
      "metadata": {
        "colab": {
          "base_uri": "https://localhost:8080/"
        },
        "id": "3wo5hgQZ2Wj4",
        "outputId": "e7d731f6-5f58-4f22-a595-ac37d4c8e2b4"
      },
      "execution_count": 13,
      "outputs": [
        {
          "output_type": "stream",
          "name": "stdout",
          "text": [
            "a    5\n",
            "b    2\n",
            "c    3\n",
            "d    7\n",
            "dtype: int64 \n",
            "\n",
            " a    1\n",
            "b    6\n",
            "d    4\n",
            "e    9\n",
            "dtype: int64\n"
          ]
        }
      ]
    },
    {
      "cell_type": "markdown",
      "source": [
        "<h4>Subtracting Two Series Using .sub</h4>"
      ],
      "metadata": {
        "id": "voy9UmYuehqj"
      }
    },
    {
      "cell_type": "code",
      "source": [
        "data.sub(data1, fill_value=0)"
      ],
      "metadata": {
        "colab": {
          "base_uri": "https://localhost:8080/"
        },
        "id": "dPqKcef93Hel",
        "outputId": "089f53fe-1ed5-40c3-bcc8-d617bb7b05ac"
      },
      "execution_count": 14,
      "outputs": [
        {
          "output_type": "execute_result",
          "data": {
            "text/plain": [
              "a    4.0\n",
              "b   -4.0\n",
              "c    3.0\n",
              "d    3.0\n",
              "e   -9.0\n",
              "dtype: float64"
            ]
          },
          "metadata": {},
          "execution_count": 14
        }
      ]
    },
    {
      "cell_type": "markdown",
      "source": [
        "![image.png](data:image/png;base64,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)"
      ],
      "metadata": {
        "id": "I_W1F3qC4HSz"
      }
    },
    {
      "cell_type": "markdown",
      "source": [
        "<h4><b>Accessing Data from Series with Position</b></h4>\n",
        "<h4 align='justify'>Data in the series can be accessed similar to that in an ndarray.</h4>\n",
        "\n",
        "<h4><b>Example 1</b></h4>\n",
        "<h4 align='justify'>Retrieve the first element. As we already know, the counting starts from zero for the array, which means the first element is stored at zeroth position and so on.</h4>"
      ],
      "metadata": {
        "id": "vf15ccOc7K4N"
      }
    },
    {
      "cell_type": "code",
      "source": [
        "s = pd.Series([1, 2, 3, 4, 5], index = ['a', 'b', 'c', 'd', 'e'])\n",
        "\n",
        "# retrieve the first element\n",
        "print(s[0])"
      ],
      "metadata": {
        "colab": {
          "base_uri": "https://localhost:8080/"
        },
        "id": "ayPQYa8D6FaE",
        "outputId": "e7fc4084-ad73-4697-a4a2-5e4c5d5c5f9f"
      },
      "execution_count": 15,
      "outputs": [
        {
          "output_type": "stream",
          "name": "stdout",
          "text": [
            "1\n"
          ]
        }
      ]
    },
    {
      "cell_type": "markdown",
      "source": [
        "<h4><b>Example 2</b></h4>\n",
        "<h4 align='justify'>Retrieve the first three elements in the Series. If a : is inserted in front of it, all items from that index onwards will be extracted. If two parameters (with : between them) is used, items between the two indexes (not including the stop index)</h4>"
      ],
      "metadata": {
        "id": "YszfNWJd8i8i"
      }
    },
    {
      "cell_type": "code",
      "source": [
        "# retrieve the first three element\n",
        "print(s[:3])"
      ],
      "metadata": {
        "colab": {
          "base_uri": "https://localhost:8080/"
        },
        "id": "q7OoBDwX8t27",
        "outputId": "71e759bd-fa3c-4e5d-f83a-23f08a494d83"
      },
      "execution_count": 16,
      "outputs": [
        {
          "output_type": "stream",
          "name": "stdout",
          "text": [
            "a    1\n",
            "b    2\n",
            "c    3\n",
            "dtype: int64\n"
          ]
        }
      ]
    },
    {
      "cell_type": "markdown",
      "source": [
        "<h4><b>Example 3</b></h4>\n",
        "<h4>Retrieve the last three elements.</h4>"
      ],
      "metadata": {
        "id": "vPJQ-h2e87LL"
      }
    },
    {
      "cell_type": "code",
      "source": [
        "print(s[-3:])"
      ],
      "metadata": {
        "colab": {
          "base_uri": "https://localhost:8080/"
        },
        "id": "F1LT00FW9EyS",
        "outputId": "e11ee783-7922-4335-ee57-8044f956c1cb"
      },
      "execution_count": 17,
      "outputs": [
        {
          "output_type": "stream",
          "name": "stdout",
          "text": [
            "c    3\n",
            "d    4\n",
            "e    5\n",
            "dtype: int64\n"
          ]
        }
      ]
    },
    {
      "cell_type": "markdown",
      "source": [
        "<h4><b>Retrieve Data Using Label (Index)</b></h4>\n",
        "<h4 align='justify'>A Series is like a fixed-size dict in that you can get and set values by index label.</h4>\n",
        "\n",
        "<h4><b>Example 1</b></h4>\n",
        "<h4>Retrieve a single element using index label value.<h4>"
      ],
      "metadata": {
        "id": "MdkUzSnb9QE0"
      }
    },
    {
      "cell_type": "code",
      "source": [
        "# retrieve a single element\n",
        "print(s['a'])"
      ],
      "metadata": {
        "colab": {
          "base_uri": "https://localhost:8080/"
        },
        "id": "-h8VzDbi9i9g",
        "outputId": "5d5021e0-6dff-4a0f-c61a-9b8af579a3bc"
      },
      "execution_count": 18,
      "outputs": [
        {
          "output_type": "stream",
          "name": "stdout",
          "text": [
            "1\n"
          ]
        }
      ]
    },
    {
      "cell_type": "markdown",
      "source": [
        "<h4><b>Example 2</b></h4>\n",
        "<h4>Retrieve multiple elements using a list of index label values.</h4>"
      ],
      "metadata": {
        "id": "4ykxVYDC9sPM"
      }
    },
    {
      "cell_type": "code",
      "source": [
        "print(s[['a', 'c', 'd']])"
      ],
      "metadata": {
        "colab": {
          "base_uri": "https://localhost:8080/"
        },
        "id": "eFlbGCYj96Ae",
        "outputId": "f4030df9-e92d-4802-e248-7efab9238411"
      },
      "execution_count": 19,
      "outputs": [
        {
          "output_type": "stream",
          "name": "stdout",
          "text": [
            "a    1\n",
            "c    3\n",
            "d    4\n",
            "dtype: int64\n"
          ]
        }
      ]
    },
    {
      "cell_type": "markdown",
      "source": [
        "<h4><b>Example 3</b></h4>\n",
        "<h4>If a label is not contained, an exception is raised.</h4>"
      ],
      "metadata": {
        "id": "ZAnEDjcL-L_N"
      }
    },
    {
      "cell_type": "code",
      "source": [
        "s1 = pd.Series([1, 2, 3, 4, 5], index = ['a', 'b', 'c', 'd', 'e','f'])\n",
        "\n",
        "#retrieve element\n",
        "print(s['f'])"
      ],
      "metadata": {
        "colab": {
          "base_uri": "https://localhost:8080/",
          "height": 373
        },
        "id": "3y-fKJJ4-TZL",
        "outputId": "7bba8bc3-66f0-4fe1-d036-7571c2f70b28"
      },
      "execution_count": 20,
      "outputs": [
        {
          "output_type": "error",
          "ename": "ValueError",
          "evalue": "ignored",
          "traceback": [
            "\u001b[0;31m---------------------------------------------------------------------------\u001b[0m",
            "\u001b[0;31mValueError\u001b[0m                                Traceback (most recent call last)",
            "\u001b[0;32m<ipython-input-20-56e866d5d8ce>\u001b[0m in \u001b[0;36m<module>\u001b[0;34m\u001b[0m\n\u001b[0;32m----> 1\u001b[0;31m \u001b[0ms1\u001b[0m \u001b[0;34m=\u001b[0m \u001b[0mpd\u001b[0m\u001b[0;34m.\u001b[0m\u001b[0mSeries\u001b[0m\u001b[0;34m(\u001b[0m\u001b[0;34m[\u001b[0m\u001b[0;36m1\u001b[0m\u001b[0;34m,\u001b[0m \u001b[0;36m2\u001b[0m\u001b[0;34m,\u001b[0m \u001b[0;36m3\u001b[0m\u001b[0;34m,\u001b[0m \u001b[0;36m4\u001b[0m\u001b[0;34m,\u001b[0m \u001b[0;36m5\u001b[0m\u001b[0;34m]\u001b[0m\u001b[0;34m,\u001b[0m \u001b[0mindex\u001b[0m \u001b[0;34m=\u001b[0m \u001b[0;34m[\u001b[0m\u001b[0;34m'a'\u001b[0m\u001b[0;34m,\u001b[0m \u001b[0;34m'b'\u001b[0m\u001b[0;34m,\u001b[0m \u001b[0;34m'c'\u001b[0m\u001b[0;34m,\u001b[0m \u001b[0;34m'd'\u001b[0m\u001b[0;34m,\u001b[0m \u001b[0;34m'e'\u001b[0m\u001b[0;34m,\u001b[0m\u001b[0;34m'f'\u001b[0m\u001b[0;34m]\u001b[0m\u001b[0;34m)\u001b[0m\u001b[0;34m\u001b[0m\u001b[0;34m\u001b[0m\u001b[0m\n\u001b[0m\u001b[1;32m      2\u001b[0m \u001b[0;34m\u001b[0m\u001b[0m\n\u001b[1;32m      3\u001b[0m \u001b[0;31m#retrieve element\u001b[0m\u001b[0;34m\u001b[0m\u001b[0;34m\u001b[0m\u001b[0;34m\u001b[0m\u001b[0m\n\u001b[1;32m      4\u001b[0m \u001b[0mprint\u001b[0m\u001b[0;34m(\u001b[0m\u001b[0ms\u001b[0m\u001b[0;34m[\u001b[0m\u001b[0;34m'f'\u001b[0m\u001b[0;34m]\u001b[0m\u001b[0;34m)\u001b[0m\u001b[0;34m\u001b[0m\u001b[0;34m\u001b[0m\u001b[0m\n",
            "\u001b[0;32m/usr/local/lib/python3.8/dist-packages/pandas/core/series.py\u001b[0m in \u001b[0;36m__init__\u001b[0;34m(self, data, index, dtype, name, copy, fastpath)\u001b[0m\n\u001b[1;32m    428\u001b[0m                 \u001b[0mindex\u001b[0m \u001b[0;34m=\u001b[0m \u001b[0mibase\u001b[0m\u001b[0;34m.\u001b[0m\u001b[0mdefault_index\u001b[0m\u001b[0;34m(\u001b[0m\u001b[0mlen\u001b[0m\u001b[0;34m(\u001b[0m\u001b[0mdata\u001b[0m\u001b[0;34m)\u001b[0m\u001b[0;34m)\u001b[0m\u001b[0;34m\u001b[0m\u001b[0;34m\u001b[0m\u001b[0m\n\u001b[1;32m    429\u001b[0m             \u001b[0;32melif\u001b[0m \u001b[0mis_list_like\u001b[0m\u001b[0;34m(\u001b[0m\u001b[0mdata\u001b[0m\u001b[0;34m)\u001b[0m\u001b[0;34m:\u001b[0m\u001b[0;34m\u001b[0m\u001b[0;34m\u001b[0m\u001b[0m\n\u001b[0;32m--> 430\u001b[0;31m                 \u001b[0mcom\u001b[0m\u001b[0;34m.\u001b[0m\u001b[0mrequire_length_match\u001b[0m\u001b[0;34m(\u001b[0m\u001b[0mdata\u001b[0m\u001b[0;34m,\u001b[0m \u001b[0mindex\u001b[0m\u001b[0;34m)\u001b[0m\u001b[0;34m\u001b[0m\u001b[0;34m\u001b[0m\u001b[0m\n\u001b[0m\u001b[1;32m    431\u001b[0m \u001b[0;34m\u001b[0m\u001b[0m\n\u001b[1;32m    432\u001b[0m             \u001b[0;31m# create/copy the manager\u001b[0m\u001b[0;34m\u001b[0m\u001b[0;34m\u001b[0m\u001b[0;34m\u001b[0m\u001b[0m\n",
            "\u001b[0;32m/usr/local/lib/python3.8/dist-packages/pandas/core/common.py\u001b[0m in \u001b[0;36mrequire_length_match\u001b[0;34m(data, index)\u001b[0m\n\u001b[1;32m    529\u001b[0m     \"\"\"\n\u001b[1;32m    530\u001b[0m     \u001b[0;32mif\u001b[0m \u001b[0mlen\u001b[0m\u001b[0;34m(\u001b[0m\u001b[0mdata\u001b[0m\u001b[0;34m)\u001b[0m \u001b[0;34m!=\u001b[0m \u001b[0mlen\u001b[0m\u001b[0;34m(\u001b[0m\u001b[0mindex\u001b[0m\u001b[0;34m)\u001b[0m\u001b[0;34m:\u001b[0m\u001b[0;34m\u001b[0m\u001b[0;34m\u001b[0m\u001b[0m\n\u001b[0;32m--> 531\u001b[0;31m         raise ValueError(\n\u001b[0m\u001b[1;32m    532\u001b[0m             \u001b[0;34m\"Length of values \"\u001b[0m\u001b[0;34m\u001b[0m\u001b[0;34m\u001b[0m\u001b[0m\n\u001b[1;32m    533\u001b[0m             \u001b[0;34mf\"({len(data)}) \"\u001b[0m\u001b[0;34m\u001b[0m\u001b[0;34m\u001b[0m\u001b[0m\n",
            "\u001b[0;31mValueError\u001b[0m: Length of values (5) does not match length of index (6)"
          ]
        }
      ]
    },
    {
      "cell_type": "code",
      "source": [
        "from google.colab import drive\n",
        "drive.mount('/content/drive')"
      ],
      "metadata": {
        "id": "d7hXESFT5m-s"
      },
      "execution_count": null,
      "outputs": []
    },
    {
      "cell_type": "markdown",
      "source": [
        "<h4>Summarized Report On the Series</h4>\n",
        " - Describe: Generate Descriptive Statistics."
      ],
      "metadata": {
        "id": "KE4akLqie2h2"
      }
    },
    {
      "cell_type": "code",
      "source": [
        "s.describe()"
      ],
      "metadata": {
        "id": "bc2UADLOfFhV"
      },
      "execution_count": null,
      "outputs": []
    },
    {
      "cell_type": "code",
      "source": [
        "s.describe()['count']"
      ],
      "metadata": {
        "id": "N-qhJ02FfmxN"
      },
      "execution_count": null,
      "outputs": []
    },
    {
      "cell_type": "code",
      "source": [
        "s.describe()[['count', 'max']]"
      ],
      "metadata": {
        "id": "cx9YOiLkfscw"
      },
      "execution_count": null,
      "outputs": []
    },
    {
      "cell_type": "markdown",
      "source": [
        "<h4>Fetch Values of Series</h4>"
      ],
      "metadata": {
        "id": "hfTcmGGGgBpT"
      }
    },
    {
      "cell_type": "code",
      "source": [
        "s.values"
      ],
      "metadata": {
        "id": "7ACBTJtKgI-n"
      },
      "execution_count": null,
      "outputs": []
    },
    {
      "cell_type": "markdown",
      "source": [
        "<h4>Create Labels</h4>\n",
        "- with the `index` argument, you can name your own labels."
      ],
      "metadata": {
        "id": "E_QVTovOgtwt"
      }
    },
    {
      "cell_type": "code",
      "source": [
        "import pandas as pd\n",
        "\n",
        "a = [1, 7, 2]\n",
        "\n",
        "s2 = pd.Series(a, index = ['a', 'b', 'c'])\n",
        "\n",
        "print(s2)"
      ],
      "metadata": {
        "id": "huTo09ZJhOni"
      },
      "execution_count": null,
      "outputs": []
    },
    {
      "cell_type": "markdown",
      "source": [
        "<h4>Create a Series using only data from Specific keys.</h4>"
      ],
      "metadata": {
        "id": "JN_Y0UehhuRS"
      }
    },
    {
      "cell_type": "code",
      "source": [
        "calories = {'day1' : 420, 'day2':380, 'day3':390}\n",
        "\n",
        "s3 = pd.Series(calories, index = ['day1', 'day2'])\n",
        "\n",
        "print(s3)"
      ],
      "metadata": {
        "id": "c01oAAeZh16X"
      },
      "execution_count": null,
      "outputs": []
    },
    {
      "cell_type": "markdown",
      "source": [
        "<h4>Access an item by referring to the label</h4>"
      ],
      "metadata": {
        "id": "e3R6AmVKiJyB"
      }
    },
    {
      "cell_type": "code",
      "source": [
        "print(s3['day2'])"
      ],
      "metadata": {
        "id": "XMW831ztiQVh"
      },
      "execution_count": null,
      "outputs": []
    },
    {
      "cell_type": "markdown",
      "source": [
        "<h4>Create Multiple indexes for the data</h4>"
      ],
      "metadata": {
        "id": "7_9NaJCxibDS"
      }
    },
    {
      "cell_type": "code",
      "source": [
        "info = pd.Series([11, 14, 17, 24, 19, 32, 34, 27], index = [['x', 'x', 'x', 'x', 'y', 'y', 'y', 'y'], ['obj1', 'obj2', 'obj3', 'obj4', 'obj1', 'obj2', 'obj3', 'obj4']])\n",
        "\n",
        "print(info)"
      ],
      "metadata": {
        "id": "wLlv-_b4iaqa"
      },
      "execution_count": null,
      "outputs": []
    },
    {
      "cell_type": "markdown",
      "source": [
        "<h4>Partial indexing</h4>\n",
        "- Partial indexing can be defined as a way to choose the particular index from a hierarchical indexing."
      ],
      "metadata": {
        "id": "_JdU7H-KjS34"
      }
    },
    {
      "cell_type": "code",
      "source": [
        "info[: 'obj1']"
      ],
      "metadata": {
        "id": "Optwpw6sjuN9"
      },
      "execution_count": null,
      "outputs": []
    },
    {
      "cell_type": "markdown",
      "source": [
        "<h3><b>DataFrames</b></h3>\n",
        "<h4>Data sets in Pandas are usually multi-dimensional tables, called DataFrames.</h4>\n",
        "\n",
        "<h4>Series is like a column, a DataFrame is the whole table.</h4>\n",
        "\n",
        "<h4>Example</h4>\n",
        "<h4>Create a DataFrame from two Series</h4>"
      ],
      "metadata": {
        "id": "YplhU1IbHA_3"
      }
    },
    {
      "cell_type": "code",
      "source": [
        "data = {\"calories\": [420, 380, 390], \"duration\" : [50, 40, 45]}\n",
        "\n",
        "myvar = pd.DataFrame(data)\n",
        "\n",
        "print(myvar)"
      ],
      "metadata": {
        "id": "aClrQDi7H1p1"
      },
      "execution_count": null,
      "outputs": []
    },
    {
      "cell_type": "code",
      "source": [
        "myvar"
      ],
      "metadata": {
        "id": "ARor_lV7IsSm"
      },
      "execution_count": null,
      "outputs": []
    },
    {
      "cell_type": "markdown",
      "source": [
        "<h4>Fetch First Five Entries of Series</h4>"
      ],
      "metadata": {
        "id": "EhKBW9m49knc"
      }
    },
    {
      "cell_type": "code",
      "source": [
        "s.head()"
      ],
      "metadata": {
        "colab": {
          "base_uri": "https://localhost:8080/"
        },
        "id": "2JhpUipZ9vpz",
        "outputId": "57d7d0cc-dfe6-47f0-c18c-34a2895c90aa"
      },
      "execution_count": 21,
      "outputs": [
        {
          "output_type": "execute_result",
          "data": {
            "text/plain": [
              "a    1\n",
              "b    2\n",
              "c    3\n",
              "d    4\n",
              "e    5\n",
              "dtype: int64"
            ]
          },
          "metadata": {},
          "execution_count": 21
        }
      ]
    },
    {
      "cell_type": "markdown",
      "source": [
        "<h4>Fetch First Two Entries/Records of Series</h4>"
      ],
      "metadata": {
        "id": "6-zuXbYr97Fy"
      }
    },
    {
      "cell_type": "code",
      "source": [
        "s.head(2)"
      ],
      "metadata": {
        "colab": {
          "base_uri": "https://localhost:8080/"
        },
        "id": "DbZ0ljGN-CrZ",
        "outputId": "52cb053e-54f8-474e-ba4c-7de54a8d9a09"
      },
      "execution_count": 22,
      "outputs": [
        {
          "output_type": "execute_result",
          "data": {
            "text/plain": [
              "a    1\n",
              "b    2\n",
              "dtype: int64"
            ]
          },
          "metadata": {},
          "execution_count": 22
        }
      ]
    },
    {
      "cell_type": "markdown",
      "source": [
        "<h4>Fetch Last Five Entries of Series</h4>"
      ],
      "metadata": {
        "id": "95zyg4Ne-GCI"
      }
    },
    {
      "cell_type": "code",
      "source": [
        "s.tail()"
      ],
      "metadata": {
        "colab": {
          "base_uri": "https://localhost:8080/"
        },
        "id": "kpgBQtv7-MIg",
        "outputId": "2bd382da-e648-43f2-87d8-ebe2238e64c6"
      },
      "execution_count": 23,
      "outputs": [
        {
          "output_type": "execute_result",
          "data": {
            "text/plain": [
              "a    1\n",
              "b    2\n",
              "c    3\n",
              "d    4\n",
              "e    5\n",
              "dtype: int64"
            ]
          },
          "metadata": {},
          "execution_count": 23
        }
      ]
    },
    {
      "cell_type": "markdown",
      "source": [
        "<h4>Fetch Last Two Entries of Series</h4>"
      ],
      "metadata": {
        "id": "WVvzK2-9-PTS"
      }
    },
    {
      "cell_type": "code",
      "source": [
        "s.tail(2)"
      ],
      "metadata": {
        "colab": {
          "base_uri": "https://localhost:8080/"
        },
        "id": "VlDShCxY-O6Z",
        "outputId": "abf2f4d0-7bc6-48ee-9124-cc0abe681da5"
      },
      "execution_count": 24,
      "outputs": [
        {
          "output_type": "execute_result",
          "data": {
            "text/plain": [
              "d    4\n",
              "e    5\n",
              "dtype: int64"
            ]
          },
          "metadata": {},
          "execution_count": 24
        }
      ]
    },
    {
      "cell_type": "markdown",
      "source": [
        "<h4>Fetch Unique Records From Series</h4>"
      ],
      "metadata": {
        "id": "ws4RraUx-Xip"
      }
    },
    {
      "cell_type": "code",
      "source": [
        "g = pd.Series([10, 20, 10, 20])\n",
        "g"
      ],
      "metadata": {
        "colab": {
          "base_uri": "https://localhost:8080/"
        },
        "id": "AwjcuEml-d46",
        "outputId": "76e6ba7a-41f7-4ca6-fae1-53c103ba78d5"
      },
      "execution_count": 25,
      "outputs": [
        {
          "output_type": "execute_result",
          "data": {
            "text/plain": [
              "0    10\n",
              "1    20\n",
              "2    10\n",
              "3    20\n",
              "dtype: int64"
            ]
          },
          "metadata": {},
          "execution_count": 25
        }
      ]
    },
    {
      "cell_type": "code",
      "source": [
        "g.unique()"
      ],
      "metadata": {
        "colab": {
          "base_uri": "https://localhost:8080/"
        },
        "id": "U0Zv7xA4-jli",
        "outputId": "b6b8663b-0bb5-4d83-d03d-9fc466d18540"
      },
      "execution_count": 26,
      "outputs": [
        {
          "output_type": "execute_result",
          "data": {
            "text/plain": [
              "array([10, 20])"
            ]
          },
          "metadata": {},
          "execution_count": 26
        }
      ]
    },
    {
      "cell_type": "markdown",
      "source": [
        "<h4>Count The Total Unique Records Present in Series</h4>"
      ],
      "metadata": {
        "id": "MplGDFc_-mli"
      }
    },
    {
      "cell_type": "code",
      "source": [
        "g.nunique()"
      ],
      "metadata": {
        "colab": {
          "base_uri": "https://localhost:8080/"
        },
        "id": "eycBunwf-teR",
        "outputId": "527f3e64-0e3e-4881-eab4-62c0923c889a"
      },
      "execution_count": 28,
      "outputs": [
        {
          "output_type": "execute_result",
          "data": {
            "text/plain": [
              "2"
            ]
          },
          "metadata": {},
          "execution_count": 28
        }
      ]
    },
    {
      "cell_type": "markdown",
      "source": [
        "<h4>Occurance of Ecah Unique Records</h4>"
      ],
      "metadata": {
        "id": "cpmVe6P4-0Ej"
      }
    },
    {
      "cell_type": "code",
      "source": [
        "g.value_counts()"
      ],
      "metadata": {
        "colab": {
          "base_uri": "https://localhost:8080/"
        },
        "id": "p4_b2jXp-_IK",
        "outputId": "f6586af0-fc00-418b-90b2-5f69949c6a04"
      },
      "execution_count": 29,
      "outputs": [
        {
          "output_type": "execute_result",
          "data": {
            "text/plain": [
              "10    2\n",
              "20    2\n",
              "dtype: int64"
            ]
          },
          "metadata": {},
          "execution_count": 29
        }
      ]
    },
    {
      "cell_type": "markdown",
      "source": [
        "<h4>Append Two Series</h4>"
      ],
      "metadata": {
        "id": "xi9BDyhO_It0"
      }
    },
    {
      "cell_type": "code",
      "source": [
        "s3 = pd.Series([1, 2, 3, 1])\n",
        "s3"
      ],
      "metadata": {
        "colab": {
          "base_uri": "https://localhost:8080/"
        },
        "id": "QW_rqp8w_QHi",
        "outputId": "0372eef3-972a-4b56-be37-a24b68e5b1cd"
      },
      "execution_count": 30,
      "outputs": [
        {
          "output_type": "execute_result",
          "data": {
            "text/plain": [
              "0    1\n",
              "1    2\n",
              "2    3\n",
              "3    1\n",
              "dtype: int64"
            ]
          },
          "metadata": {},
          "execution_count": 30
        }
      ]
    },
    {
      "cell_type": "code",
      "source": [
        "s4 = pd.Series([4, 5, 6])\n",
        "s4"
      ],
      "metadata": {
        "colab": {
          "base_uri": "https://localhost:8080/"
        },
        "id": "asEO2kI7_clb",
        "outputId": "5595eaa0-4e17-4434-e01f-aa7b4397ccde"
      },
      "execution_count": 31,
      "outputs": [
        {
          "output_type": "execute_result",
          "data": {
            "text/plain": [
              "0    4\n",
              "1    5\n",
              "2    6\n",
              "dtype: int64"
            ]
          },
          "metadata": {},
          "execution_count": 31
        }
      ]
    },
    {
      "cell_type": "code",
      "source": [
        "s3.append(s4)"
      ],
      "metadata": {
        "colab": {
          "base_uri": "https://localhost:8080/"
        },
        "id": "IkT7AeX2_l7p",
        "outputId": "56b5554b-0c30-4a35-c3de-ed2a353ca2e3"
      },
      "execution_count": 32,
      "outputs": [
        {
          "output_type": "execute_result",
          "data": {
            "text/plain": [
              "0    1\n",
              "1    2\n",
              "2    3\n",
              "3    1\n",
              "0    4\n",
              "1    5\n",
              "2    6\n",
              "dtype: int64"
            ]
          },
          "metadata": {},
          "execution_count": 32
        }
      ]
    },
    {
      "cell_type": "markdown",
      "source": [
        "<h4>Index which is in Continue Number</h4>"
      ],
      "metadata": {
        "id": "0gsFhCFr_p8C"
      }
    },
    {
      "cell_type": "code",
      "source": [
        "s3.append(s4, ignore_index = True)"
      ],
      "metadata": {
        "colab": {
          "base_uri": "https://localhost:8080/"
        },
        "id": "phWXuAA8_w3p",
        "outputId": "9bdd7801-397a-4cbc-9a71-4de5b40000fb"
      },
      "execution_count": 34,
      "outputs": [
        {
          "output_type": "execute_result",
          "data": {
            "text/plain": [
              "0    1\n",
              "1    2\n",
              "2    3\n",
              "3    1\n",
              "4    4\n",
              "5    5\n",
              "6    6\n",
              "dtype: int64"
            ]
          },
          "metadata": {},
          "execution_count": 34
        }
      ]
    },
    {
      "cell_type": "markdown",
      "source": [
        "<h4>Return The Largest(Higher To Lowest Data) 'n' elements = 5</h4>\n",
        "- Data we get in descending order."
      ],
      "metadata": {
        "id": "k9TldqfHAB10"
      }
    },
    {
      "cell_type": "code",
      "source": [
        "s5 = pd.Series([1, 2, 3, 4, 5, 6, 7, 8, 9, 10, 11])\n",
        "s5"
      ],
      "metadata": {
        "colab": {
          "base_uri": "https://localhost:8080/"
        },
        "id": "TJ8N9QRYAXNJ",
        "outputId": "e7720b76-2361-4264-8cb2-4594d3885641"
      },
      "execution_count": 35,
      "outputs": [
        {
          "output_type": "execute_result",
          "data": {
            "text/plain": [
              "0      1\n",
              "1      2\n",
              "2      3\n",
              "3      4\n",
              "4      5\n",
              "5      6\n",
              "6      7\n",
              "7      8\n",
              "8      9\n",
              "9     10\n",
              "10    11\n",
              "dtype: int64"
            ]
          },
          "metadata": {},
          "execution_count": 35
        }
      ]
    },
    {
      "cell_type": "code",
      "source": [
        "s5.nlargest()"
      ],
      "metadata": {
        "colab": {
          "base_uri": "https://localhost:8080/"
        },
        "id": "zZtW3tUkAfkZ",
        "outputId": "9c5c62bc-89f9-454f-a94c-dc872dc45a2c"
      },
      "execution_count": 36,
      "outputs": [
        {
          "output_type": "execute_result",
          "data": {
            "text/plain": [
              "10    11\n",
              "9     10\n",
              "8      9\n",
              "7      8\n",
              "6      7\n",
              "dtype: int64"
            ]
          },
          "metadata": {},
          "execution_count": 36
        }
      ]
    },
    {
      "cell_type": "markdown",
      "source": [
        "<h4>Largest Three Records From Series</h4>"
      ],
      "metadata": {
        "id": "e9c65ay6AkhL"
      }
    },
    {
      "cell_type": "code",
      "source": [
        "s.nlargest(3)"
      ],
      "metadata": {
        "colab": {
          "base_uri": "https://localhost:8080/"
        },
        "id": "6mCWecnXAsH5",
        "outputId": "ffe130dd-5de5-40d6-ef76-2b4dba1a1d13"
      },
      "execution_count": 37,
      "outputs": [
        {
          "output_type": "execute_result",
          "data": {
            "text/plain": [
              "e    5\n",
              "d    4\n",
              "c    3\n",
              "dtype: int64"
            ]
          },
          "metadata": {},
          "execution_count": 37
        }
      ]
    },
    {
      "cell_type": "markdown",
      "source": [
        "<h4>Return The Smallest(Lowest To Higher Data) 'n' elements = 5</h4>\n",
        "- Data we get in ascending order."
      ],
      "metadata": {
        "id": "SCZmMKkbAwax"
      }
    },
    {
      "cell_type": "code",
      "source": [
        "a = pd.Series([13, 44, 78, 90, 12, 44, 89, 95])\n",
        "a"
      ],
      "metadata": {
        "colab": {
          "base_uri": "https://localhost:8080/"
        },
        "id": "MtQk5p1HBJ5r",
        "outputId": "8db2da3c-dfb5-44fe-9376-b16463f32b6c"
      },
      "execution_count": 38,
      "outputs": [
        {
          "output_type": "execute_result",
          "data": {
            "text/plain": [
              "0    13\n",
              "1    44\n",
              "2    78\n",
              "3    90\n",
              "4    12\n",
              "5    44\n",
              "6    89\n",
              "7    95\n",
              "dtype: int64"
            ]
          },
          "metadata": {},
          "execution_count": 38
        }
      ]
    },
    {
      "cell_type": "code",
      "source": [
        "a.nsmallest()"
      ],
      "metadata": {
        "colab": {
          "base_uri": "https://localhost:8080/"
        },
        "id": "aeW6KqG4BS8R",
        "outputId": "33497065-ea30-41d8-dfb0-f7d77e19e402"
      },
      "execution_count": 39,
      "outputs": [
        {
          "output_type": "execute_result",
          "data": {
            "text/plain": [
              "4    12\n",
              "0    13\n",
              "1    44\n",
              "5    44\n",
              "2    78\n",
              "dtype: int64"
            ]
          },
          "metadata": {},
          "execution_count": 39
        }
      ]
    },
    {
      "cell_type": "markdown",
      "source": [
        "<h4>Smallest Three Records From Series</h4>"
      ],
      "metadata": {
        "id": "8gg7_oH7BaNp"
      }
    },
    {
      "cell_type": "code",
      "source": [
        "a.nsmallest(3)"
      ],
      "metadata": {
        "colab": {
          "base_uri": "https://localhost:8080/"
        },
        "id": "EXXe6X9mBgyB",
        "outputId": "df825aaa-9927-41e8-a0f6-61316cdf1c43"
      },
      "execution_count": 41,
      "outputs": [
        {
          "output_type": "execute_result",
          "data": {
            "text/plain": [
              "4    12\n",
              "0    13\n",
              "1    44\n",
              "dtype: int64"
            ]
          },
          "metadata": {},
          "execution_count": 41
        }
      ]
    },
    {
      "cell_type": "markdown",
      "source": [
        "<H4>How To Convert Series To a Different Data Type</h4>"
      ],
      "metadata": {
        "id": "Dr5igv_eCDFa"
      }
    },
    {
      "cell_type": "code",
      "source": [
        "a.dtype"
      ],
      "metadata": {
        "colab": {
          "base_uri": "https://localhost:8080/"
        },
        "id": "5JdiFQlUCLep",
        "outputId": "4f5e9345-ad8b-4e44-e453-df18c7d4dba0"
      },
      "execution_count": 42,
      "outputs": [
        {
          "output_type": "execute_result",
          "data": {
            "text/plain": [
              "dtype('int64')"
            ]
          },
          "metadata": {},
          "execution_count": 42
        }
      ]
    },
    {
      "cell_type": "markdown",
      "source": [
        "<h4>Cast a Pandas object To a Specified dtype</h4>"
      ],
      "metadata": {
        "id": "iDFYz9c8CPQT"
      }
    },
    {
      "cell_type": "code",
      "source": [
        "a.astype('int32')"
      ],
      "metadata": {
        "colab": {
          "base_uri": "https://localhost:8080/"
        },
        "id": "QxtLA0dpCOR8",
        "outputId": "cc3c4a50-437c-457d-f2e2-6f11d06a60cb"
      },
      "execution_count": 44,
      "outputs": [
        {
          "output_type": "execute_result",
          "data": {
            "text/plain": [
              "0    13\n",
              "1    44\n",
              "2    78\n",
              "3    90\n",
              "4    12\n",
              "5    44\n",
              "6    89\n",
              "7    95\n",
              "dtype: int32"
            ]
          },
          "metadata": {},
          "execution_count": 44
        }
      ]
    },
    {
      "cell_type": "code",
      "source": [
        "a.astype('category')"
      ],
      "metadata": {
        "colab": {
          "base_uri": "https://localhost:8080/"
        },
        "id": "NaW_AcLoCd3n",
        "outputId": "a330ae8f-9093-4fdb-acca-caa7154482f8"
      },
      "execution_count": 46,
      "outputs": [
        {
          "output_type": "execute_result",
          "data": {
            "text/plain": [
              "0    13\n",
              "1    44\n",
              "2    78\n",
              "3    90\n",
              "4    12\n",
              "5    44\n",
              "6    89\n",
              "7    95\n",
              "dtype: category\n",
              "Categories (7, int64): [12, 13, 44, 78, 89, 90, 95]"
            ]
          },
          "metadata": {},
          "execution_count": 46
        }
      ]
    },
    {
      "cell_type": "code",
      "source": [
        "h = pd.Series(['HR', 'Tester', 'HR', 'Developer'])\n",
        "h"
      ],
      "metadata": {
        "colab": {
          "base_uri": "https://localhost:8080/"
        },
        "id": "ueSkHgP9Cuvx",
        "outputId": "3449f01c-b516-4020-ac3c-a42d87d6f1a0"
      },
      "execution_count": 47,
      "outputs": [
        {
          "output_type": "execute_result",
          "data": {
            "text/plain": [
              "0           HR\n",
              "1       Tester\n",
              "2           HR\n",
              "3    Developer\n",
              "dtype: object"
            ]
          },
          "metadata": {},
          "execution_count": 47
        }
      ]
    },
    {
      "cell_type": "code",
      "source": [
        "h.__sizeof__()"
      ],
      "metadata": {
        "colab": {
          "base_uri": "https://localhost:8080/"
        },
        "id": "8kHYJndIC80L",
        "outputId": "cb488628-a143-45a5-a268-431dd2d193c7"
      },
      "execution_count": 48,
      "outputs": [
        {
          "output_type": "execute_result",
          "data": {
            "text/plain": [
              "375"
            ]
          },
          "metadata": {},
          "execution_count": 48
        }
      ]
    },
    {
      "cell_type": "code",
      "source": [
        "h.astype('category')"
      ],
      "metadata": {
        "colab": {
          "base_uri": "https://localhost:8080/"
        },
        "id": "ctDIjC8ADFBX",
        "outputId": "da93d1ed-f4b2-4a18-b104-5be31de83786"
      },
      "execution_count": 49,
      "outputs": [
        {
          "output_type": "execute_result",
          "data": {
            "text/plain": [
              "0           HR\n",
              "1       Tester\n",
              "2           HR\n",
              "3    Developer\n",
              "dtype: category\n",
              "Categories (3, object): ['Developer', 'HR', 'Tester']"
            ]
          },
          "metadata": {},
          "execution_count": 49
        }
      ]
    },
    {
      "cell_type": "code",
      "source": [
        "c = h.astype('category')\n",
        "c"
      ],
      "metadata": {
        "colab": {
          "base_uri": "https://localhost:8080/"
        },
        "id": "JDSjBQRqDd53",
        "outputId": "0e7993df-a4cf-49d5-8f51-af8bd05d574d"
      },
      "execution_count": 50,
      "outputs": [
        {
          "output_type": "execute_result",
          "data": {
            "text/plain": [
              "0           HR\n",
              "1       Tester\n",
              "2           HR\n",
              "3    Developer\n",
              "dtype: category\n",
              "Categories (3, object): ['Developer', 'HR', 'Tester']"
            ]
          },
          "metadata": {},
          "execution_count": 50
        }
      ]
    },
    {
      "cell_type": "code",
      "source": [
        "c.__sizeof__()"
      ],
      "metadata": {
        "colab": {
          "base_uri": "https://localhost:8080/"
        },
        "id": "kkBvldrdEGeo",
        "outputId": "37eafdf7-c8ba-4159-9aa1-baa9d71d98ee"
      },
      "execution_count": 51,
      "outputs": [
        {
          "output_type": "execute_result",
          "data": {
            "text/plain": [
              "428"
            ]
          },
          "metadata": {},
          "execution_count": 51
        }
      ]
    },
    {
      "cell_type": "markdown",
      "source": [
        "<h4><b>Where</b></h4>\n",
        "- Replace values where the condition is False."
      ],
      "metadata": {
        "id": "LP4UFzl7HFok"
      }
    },
    {
      "cell_type": "code",
      "source": [
        "s5"
      ],
      "metadata": {
        "colab": {
          "base_uri": "https://localhost:8080/"
        },
        "id": "qrj4PCGPHQkw",
        "outputId": "c4ebdff0-83e1-4229-81e1-f2430b6ede40"
      },
      "execution_count": 54,
      "outputs": [
        {
          "output_type": "execute_result",
          "data": {
            "text/plain": [
              "0      1\n",
              "1      2\n",
              "2      3\n",
              "3      4\n",
              "4      5\n",
              "5      6\n",
              "6      7\n",
              "7      8\n",
              "8      9\n",
              "9     10\n",
              "10    11\n",
              "dtype: int64"
            ]
          },
          "metadata": {},
          "execution_count": 54
        }
      ]
    },
    {
      "cell_type": "code",
      "source": [
        "s5.where(s5 < 5)"
      ],
      "metadata": {
        "colab": {
          "base_uri": "https://localhost:8080/"
        },
        "id": "Qcgh4n00HhK5",
        "outputId": "61241bfb-edbb-4294-b710-998f815a4dac"
      },
      "execution_count": 57,
      "outputs": [
        {
          "output_type": "execute_result",
          "data": {
            "text/plain": [
              "0     1.0\n",
              "1     2.0\n",
              "2     3.0\n",
              "3     4.0\n",
              "4     NaN\n",
              "5     NaN\n",
              "6     NaN\n",
              "7     NaN\n",
              "8     NaN\n",
              "9     NaN\n",
              "10    NaN\n",
              "dtype: float64"
            ]
          },
          "metadata": {},
          "execution_count": 57
        }
      ]
    },
    {
      "cell_type": "code",
      "source": [
        "s5.where(s5 < 5, other = 0)"
      ],
      "metadata": {
        "colab": {
          "base_uri": "https://localhost:8080/"
        },
        "id": "SH7U-SgOHtZQ",
        "outputId": "450ef57e-a794-4dfd-82d6-a339c1e5bc4a"
      },
      "execution_count": 58,
      "outputs": [
        {
          "output_type": "execute_result",
          "data": {
            "text/plain": [
              "0     1\n",
              "1     2\n",
              "2     3\n",
              "3     4\n",
              "4     0\n",
              "5     0\n",
              "6     0\n",
              "7     0\n",
              "8     0\n",
              "9     0\n",
              "10    0\n",
              "dtype: int64"
            ]
          },
          "metadata": {},
          "execution_count": 58
        }
      ]
    },
    {
      "cell_type": "code",
      "source": [
        "s5[s5 > 0]"
      ],
      "metadata": {
        "colab": {
          "base_uri": "https://localhost:8080/"
        },
        "id": "RpyHNqSaH2tw",
        "outputId": "6d1264d8-da02-4654-dd7c-46e689c5923f"
      },
      "execution_count": 59,
      "outputs": [
        {
          "output_type": "execute_result",
          "data": {
            "text/plain": [
              "0      1\n",
              "1      2\n",
              "2      3\n",
              "3      4\n",
              "4      5\n",
              "5      6\n",
              "6      7\n",
              "7      8\n",
              "8      9\n",
              "9     10\n",
              "10    11\n",
              "dtype: int64"
            ]
          },
          "metadata": {},
          "execution_count": 59
        }
      ]
    },
    {
      "cell_type": "markdown",
      "source": [
        "<h4>Dealing With Missing Values</h4>"
      ],
      "metadata": {
        "id": "BT1SIsBCIFBH"
      }
    },
    {
      "cell_type": "code",
      "source": [
        "b = pd.Series([np.nan, 10, np.nan, 20, np.nan])\n",
        "b"
      ],
      "metadata": {
        "colab": {
          "base_uri": "https://localhost:8080/"
        },
        "id": "Q-YN4ElbIKGf",
        "outputId": "0381f58d-2fd9-421d-94c0-40a0631b67e0"
      },
      "execution_count": 60,
      "outputs": [
        {
          "output_type": "execute_result",
          "data": {
            "text/plain": [
              "0     NaN\n",
              "1    10.0\n",
              "2     NaN\n",
              "3    20.0\n",
              "4     NaN\n",
              "dtype: float64"
            ]
          },
          "metadata": {},
          "execution_count": 60
        }
      ]
    },
    {
      "cell_type": "markdown",
      "source": [
        "<h4>Bool Series Will be Output</h4>"
      ],
      "metadata": {
        "id": "s4wALaPIIWzl"
      }
    },
    {
      "cell_type": "code",
      "source": [
        "b.isna()"
      ],
      "metadata": {
        "colab": {
          "base_uri": "https://localhost:8080/"
        },
        "id": "ASt2Bf8-Ibzp",
        "outputId": "d7842c3f-d693-4fd3-f4d1-cb0bc4907bdf"
      },
      "execution_count": 62,
      "outputs": [
        {
          "output_type": "execute_result",
          "data": {
            "text/plain": [
              "0     True\n",
              "1    False\n",
              "2     True\n",
              "3    False\n",
              "4     True\n",
              "dtype: bool"
            ]
          },
          "metadata": {},
          "execution_count": 62
        }
      ]
    },
    {
      "cell_type": "markdown",
      "source": [
        "<h4>Calculate Total nan Present in Series</h4>"
      ],
      "metadata": {
        "id": "DhgCE3mLIgRl"
      }
    },
    {
      "cell_type": "code",
      "source": [
        "b.isna().sum()"
      ],
      "metadata": {
        "colab": {
          "base_uri": "https://localhost:8080/"
        },
        "id": "92ZigSYeIf21",
        "outputId": "f7bb3ea3-3925-45ca-d2c2-5efdf32ac47e"
      },
      "execution_count": 63,
      "outputs": [
        {
          "output_type": "execute_result",
          "data": {
            "text/plain": [
              "3"
            ]
          },
          "metadata": {},
          "execution_count": 63
        }
      ]
    },
    {
      "cell_type": "code",
      "source": [
        "b.isnull().sum()"
      ],
      "metadata": {
        "colab": {
          "base_uri": "https://localhost:8080/"
        },
        "id": "G1iEhdc-IqXM",
        "outputId": "a4a5cb8c-2d76-44ab-9edf-6d9cf1a1b672"
      },
      "execution_count": 64,
      "outputs": [
        {
          "output_type": "execute_result",
          "data": {
            "text/plain": [
              "3"
            ]
          },
          "metadata": {},
          "execution_count": 64
        }
      ]
    },
    {
      "cell_type": "markdown",
      "source": [
        "<h4>Fill nan value by Other value in Series</h4> "
      ],
      "metadata": {
        "id": "9bGZabwFJBrs"
      }
    },
    {
      "cell_type": "code",
      "source": [
        "b.fillna(0)"
      ],
      "metadata": {
        "colab": {
          "base_uri": "https://localhost:8080/"
        },
        "id": "uJ8zriS9JMj-",
        "outputId": "9f7cecf3-7a6f-4afa-a914-c1a4015ea861"
      },
      "execution_count": 65,
      "outputs": [
        {
          "output_type": "execute_result",
          "data": {
            "text/plain": [
              "0     0.0\n",
              "1    10.0\n",
              "2     0.0\n",
              "3    20.0\n",
              "4     0.0\n",
              "dtype: float64"
            ]
          },
          "metadata": {},
          "execution_count": 65
        }
      ]
    },
    {
      "cell_type": "code",
      "source": [
        "b.fillna('Missing')"
      ],
      "metadata": {
        "colab": {
          "base_uri": "https://localhost:8080/"
        },
        "id": "uGA2_TbTJQS1",
        "outputId": "b27d7114-f003-49db-ecaf-17c0382d08a1"
      },
      "execution_count": 66,
      "outputs": [
        {
          "output_type": "execute_result",
          "data": {
            "text/plain": [
              "0    Missing\n",
              "1       10.0\n",
              "2    Missing\n",
              "3       20.0\n",
              "4    Missing\n",
              "dtype: object"
            ]
          },
          "metadata": {},
          "execution_count": 66
        }
      ]
    },
    {
      "cell_type": "markdown",
      "source": [
        "<h4>Fill nan values Using mean() of Series</h4>"
      ],
      "metadata": {
        "id": "1JoruGp0JUjk"
      }
    },
    {
      "cell_type": "code",
      "source": [
        "b.mean()"
      ],
      "metadata": {
        "colab": {
          "base_uri": "https://localhost:8080/"
        },
        "id": "4hpHf8qNJdST",
        "outputId": "f245b42b-91af-4f83-af64-2a76b8c96180"
      },
      "execution_count": 67,
      "outputs": [
        {
          "output_type": "execute_result",
          "data": {
            "text/plain": [
              "15.0"
            ]
          },
          "metadata": {},
          "execution_count": 67
        }
      ]
    },
    {
      "cell_type": "code",
      "source": [
        "b.fillna(b.mean())"
      ],
      "metadata": {
        "colab": {
          "base_uri": "https://localhost:8080/"
        },
        "id": "t9qi9P-VJgFh",
        "outputId": "6bf67491-4ee5-480d-bdd4-aa05b4b7cf52"
      },
      "execution_count": 68,
      "outputs": [
        {
          "output_type": "execute_result",
          "data": {
            "text/plain": [
              "0    15.0\n",
              "1    10.0\n",
              "2    15.0\n",
              "3    20.0\n",
              "4    15.0\n",
              "dtype: float64"
            ]
          },
          "metadata": {},
          "execution_count": 68
        }
      ]
    },
    {
      "cell_type": "markdown",
      "source": [
        "<h4>Forward Filling</h4>"
      ],
      "metadata": {
        "id": "ymxHuJuMKcbs"
      }
    },
    {
      "cell_type": "code",
      "source": [
        "b.ffill() # Top to Bottom"
      ],
      "metadata": {
        "colab": {
          "base_uri": "https://localhost:8080/"
        },
        "id": "p4Ecq2jZKg49",
        "outputId": "e857097f-05c5-4b3b-e0e5-678cfaaf8816"
      },
      "execution_count": 73,
      "outputs": [
        {
          "output_type": "execute_result",
          "data": {
            "text/plain": [
              "0     NaN\n",
              "1    10.0\n",
              "2    10.0\n",
              "3    20.0\n",
              "4    20.0\n",
              "dtype: float64"
            ]
          },
          "metadata": {},
          "execution_count": 73
        }
      ]
    },
    {
      "cell_type": "markdown",
      "source": [
        "<h4>Backward Filling</h4>"
      ],
      "metadata": {
        "id": "6yc8-OUOKnIU"
      }
    },
    {
      "cell_type": "markdown",
      "source": [
        "<h4>ffill and bfill Using fillna() Method</h4>"
      ],
      "metadata": {
        "id": "7ngfi8rfK0cB"
      }
    },
    {
      "cell_type": "code",
      "source": [
        "b.fillna(method = 'ffill')"
      ],
      "metadata": {
        "colab": {
          "base_uri": "https://localhost:8080/"
        },
        "id": "Dprg_uxgK7Tm",
        "outputId": "701b9973-90eb-4b69-a6d7-f7ed5504d915"
      },
      "execution_count": 75,
      "outputs": [
        {
          "output_type": "execute_result",
          "data": {
            "text/plain": [
              "0     NaN\n",
              "1    10.0\n",
              "2    10.0\n",
              "3    20.0\n",
              "4    20.0\n",
              "dtype: float64"
            ]
          },
          "metadata": {},
          "execution_count": 75
        }
      ]
    },
    {
      "cell_type": "code",
      "source": [
        "b.fillna(method = 'bfill')"
      ],
      "metadata": {
        "colab": {
          "base_uri": "https://localhost:8080/"
        },
        "id": "jx8UVMnuK_I0",
        "outputId": "3d77f166-2325-4870-ed63-b69883223b89"
      },
      "execution_count": 76,
      "outputs": [
        {
          "output_type": "execute_result",
          "data": {
            "text/plain": [
              "0    10.0\n",
              "1    10.0\n",
              "2    20.0\n",
              "3    20.0\n",
              "4     NaN\n",
              "dtype: float64"
            ]
          },
          "metadata": {},
          "execution_count": 76
        }
      ]
    },
    {
      "cell_type": "code",
      "source": [
        "b.bfill() # Bottom To Top"
      ],
      "metadata": {
        "colab": {
          "base_uri": "https://localhost:8080/"
        },
        "id": "yFNJh_tfKt0y",
        "outputId": "fe940395-0dc4-4489-f7fc-39563ff2e8d2"
      },
      "execution_count": 74,
      "outputs": [
        {
          "output_type": "execute_result",
          "data": {
            "text/plain": [
              "0    10.0\n",
              "1    10.0\n",
              "2    20.0\n",
              "3    20.0\n",
              "4     NaN\n",
              "dtype: float64"
            ]
          },
          "metadata": {},
          "execution_count": 74
        }
      ]
    },
    {
      "cell_type": "markdown",
      "source": [
        "<h4 align='justify'>Rather than Dealing with NaN, Simplest way is to remove NaN</h4>"
      ],
      "metadata": {
        "id": "iPDPrQE-LJTk"
      }
    },
    {
      "cell_type": "code",
      "source": [
        "# Return a new series with missing values removed.\n",
        "b.dropna()"
      ],
      "metadata": {
        "colab": {
          "base_uri": "https://localhost:8080/"
        },
        "id": "_38M1BlmLXhj",
        "outputId": "53f17ce6-c0f9-4491-f111-0347e75050c4"
      },
      "execution_count": 78,
      "outputs": [
        {
          "output_type": "execute_result",
          "data": {
            "text/plain": [
              "1    10.0\n",
              "3    20.0\n",
              "dtype: float64"
            ]
          },
          "metadata": {},
          "execution_count": 78
        }
      ]
    },
    {
      "cell_type": "markdown",
      "source": [
        "<h4><b>Central Measures of Tendency</b></h4>"
      ],
      "metadata": {
        "id": "S0Py-E3PJyKc"
      }
    },
    {
      "cell_type": "markdown",
      "source": [
        "<h4><b>mean()</b></h4>"
      ],
      "metadata": {
        "id": "rqmwH4fLJ_aL"
      }
    },
    {
      "cell_type": "code",
      "source": [
        "g"
      ],
      "metadata": {
        "colab": {
          "base_uri": "https://localhost:8080/"
        },
        "id": "KflDybUrJ_Ar",
        "outputId": "c2134632-1c53-4aeb-f701-42adbda1b8de"
      },
      "execution_count": 69,
      "outputs": [
        {
          "output_type": "execute_result",
          "data": {
            "text/plain": [
              "0    10\n",
              "1    20\n",
              "2    10\n",
              "3    20\n",
              "dtype: int64"
            ]
          },
          "metadata": {},
          "execution_count": 69
        }
      ]
    },
    {
      "cell_type": "code",
      "source": [
        "g.mean()"
      ],
      "metadata": {
        "colab": {
          "base_uri": "https://localhost:8080/"
        },
        "id": "4TgXMf9gKHk7",
        "outputId": "185f2a6c-6ee2-49c7-b14f-02e4e7a1b6ff"
      },
      "execution_count": 70,
      "outputs": [
        {
          "output_type": "execute_result",
          "data": {
            "text/plain": [
              "15.0"
            ]
          },
          "metadata": {},
          "execution_count": 70
        }
      ]
    },
    {
      "cell_type": "markdown",
      "source": [
        "<h4><b>median()</b></h4>"
      ],
      "metadata": {
        "id": "CKQGEkg2KKuy"
      }
    },
    {
      "cell_type": "code",
      "source": [
        "g.median()"
      ],
      "metadata": {
        "colab": {
          "base_uri": "https://localhost:8080/"
        },
        "id": "ZvB4iIrlKQjm",
        "outputId": "4e122d92-3e0e-4205-c4c9-c02d3bb495ea"
      },
      "execution_count": 71,
      "outputs": [
        {
          "output_type": "execute_result",
          "data": {
            "text/plain": [
              "15.0"
            ]
          },
          "metadata": {},
          "execution_count": 71
        }
      ]
    },
    {
      "cell_type": "markdown",
      "source": [
        "<h4><b>mode()</b></h4>"
      ],
      "metadata": {
        "id": "RAGK0n9IKTnU"
      }
    },
    {
      "cell_type": "code",
      "source": [
        "g.mode()"
      ],
      "metadata": {
        "colab": {
          "base_uri": "https://localhost:8080/"
        },
        "id": "jd5VN7c2KYTN",
        "outputId": "3e724f12-5333-4774-8709-679ca849e1b0"
      },
      "execution_count": 72,
      "outputs": [
        {
          "output_type": "execute_result",
          "data": {
            "text/plain": [
              "0    10\n",
              "1    20\n",
              "dtype: int64"
            ]
          },
          "metadata": {},
          "execution_count": 72
        }
      ]
    },
    {
      "cell_type": "code",
      "source": [
        "import pandas as pd\n",
        "\n",
        "data = pd.read_csv('/content/drive/MyDrive/Colab Notebooks/Data/addresses.csv')\n",
        "data"
      ],
      "metadata": {
        "colab": {
          "base_uri": "https://localhost:8080/",
          "height": 391
        },
        "id": "0soznAsF6JLw",
        "outputId": "5642a259-3cc5-42b0-bc3f-13fa9df55847"
      },
      "execution_count": 79,
      "outputs": [
        {
          "output_type": "error",
          "ename": "FileNotFoundError",
          "evalue": "ignored",
          "traceback": [
            "\u001b[0;31m---------------------------------------------------------------------------\u001b[0m",
            "\u001b[0;31mFileNotFoundError\u001b[0m                         Traceback (most recent call last)",
            "\u001b[0;32m<ipython-input-79-2de56690f8a5>\u001b[0m in \u001b[0;36m<module>\u001b[0;34m\u001b[0m\n\u001b[1;32m      1\u001b[0m \u001b[0;32mimport\u001b[0m \u001b[0mpandas\u001b[0m \u001b[0;32mas\u001b[0m \u001b[0mpd\u001b[0m\u001b[0;34m\u001b[0m\u001b[0;34m\u001b[0m\u001b[0m\n\u001b[1;32m      2\u001b[0m \u001b[0;34m\u001b[0m\u001b[0m\n\u001b[0;32m----> 3\u001b[0;31m \u001b[0mdata\u001b[0m \u001b[0;34m=\u001b[0m \u001b[0mpd\u001b[0m\u001b[0;34m.\u001b[0m\u001b[0mread_csv\u001b[0m\u001b[0;34m(\u001b[0m\u001b[0;34m'/content/drive/MyDrive/Colab Notebooks/Data/addresses.csv'\u001b[0m\u001b[0;34m)\u001b[0m\u001b[0;34m\u001b[0m\u001b[0;34m\u001b[0m\u001b[0m\n\u001b[0m\u001b[1;32m      4\u001b[0m \u001b[0mdata\u001b[0m\u001b[0;34m\u001b[0m\u001b[0;34m\u001b[0m\u001b[0m\n",
            "\u001b[0;32m/usr/local/lib/python3.8/dist-packages/pandas/util/_decorators.py\u001b[0m in \u001b[0;36mwrapper\u001b[0;34m(*args, **kwargs)\u001b[0m\n\u001b[1;32m    309\u001b[0m                     \u001b[0mstacklevel\u001b[0m\u001b[0;34m=\u001b[0m\u001b[0mstacklevel\u001b[0m\u001b[0;34m,\u001b[0m\u001b[0;34m\u001b[0m\u001b[0;34m\u001b[0m\u001b[0m\n\u001b[1;32m    310\u001b[0m                 )\n\u001b[0;32m--> 311\u001b[0;31m             \u001b[0;32mreturn\u001b[0m \u001b[0mfunc\u001b[0m\u001b[0;34m(\u001b[0m\u001b[0;34m*\u001b[0m\u001b[0margs\u001b[0m\u001b[0;34m,\u001b[0m \u001b[0;34m**\u001b[0m\u001b[0mkwargs\u001b[0m\u001b[0;34m)\u001b[0m\u001b[0;34m\u001b[0m\u001b[0;34m\u001b[0m\u001b[0m\n\u001b[0m\u001b[1;32m    312\u001b[0m \u001b[0;34m\u001b[0m\u001b[0m\n\u001b[1;32m    313\u001b[0m         \u001b[0;32mreturn\u001b[0m \u001b[0mwrapper\u001b[0m\u001b[0;34m\u001b[0m\u001b[0;34m\u001b[0m\u001b[0m\n",
            "\u001b[0;32m/usr/local/lib/python3.8/dist-packages/pandas/io/parsers/readers.py\u001b[0m in \u001b[0;36mread_csv\u001b[0;34m(filepath_or_buffer, sep, delimiter, header, names, index_col, usecols, squeeze, prefix, mangle_dupe_cols, dtype, engine, converters, true_values, false_values, skipinitialspace, skiprows, skipfooter, nrows, na_values, keep_default_na, na_filter, verbose, skip_blank_lines, parse_dates, infer_datetime_format, keep_date_col, date_parser, dayfirst, cache_dates, iterator, chunksize, compression, thousands, decimal, lineterminator, quotechar, quoting, doublequote, escapechar, comment, encoding, encoding_errors, dialect, error_bad_lines, warn_bad_lines, on_bad_lines, delim_whitespace, low_memory, memory_map, float_precision, storage_options)\u001b[0m\n\u001b[1;32m    584\u001b[0m     \u001b[0mkwds\u001b[0m\u001b[0;34m.\u001b[0m\u001b[0mupdate\u001b[0m\u001b[0;34m(\u001b[0m\u001b[0mkwds_defaults\u001b[0m\u001b[0;34m)\u001b[0m\u001b[0;34m\u001b[0m\u001b[0;34m\u001b[0m\u001b[0m\n\u001b[1;32m    585\u001b[0m \u001b[0;34m\u001b[0m\u001b[0m\n\u001b[0;32m--> 586\u001b[0;31m     \u001b[0;32mreturn\u001b[0m \u001b[0m_read\u001b[0m\u001b[0;34m(\u001b[0m\u001b[0mfilepath_or_buffer\u001b[0m\u001b[0;34m,\u001b[0m \u001b[0mkwds\u001b[0m\u001b[0;34m)\u001b[0m\u001b[0;34m\u001b[0m\u001b[0;34m\u001b[0m\u001b[0m\n\u001b[0m\u001b[1;32m    587\u001b[0m \u001b[0;34m\u001b[0m\u001b[0m\n\u001b[1;32m    588\u001b[0m \u001b[0;34m\u001b[0m\u001b[0m\n",
            "\u001b[0;32m/usr/local/lib/python3.8/dist-packages/pandas/io/parsers/readers.py\u001b[0m in \u001b[0;36m_read\u001b[0;34m(filepath_or_buffer, kwds)\u001b[0m\n\u001b[1;32m    480\u001b[0m \u001b[0;34m\u001b[0m\u001b[0m\n\u001b[1;32m    481\u001b[0m     \u001b[0;31m# Create the parser.\u001b[0m\u001b[0;34m\u001b[0m\u001b[0;34m\u001b[0m\u001b[0;34m\u001b[0m\u001b[0m\n\u001b[0;32m--> 482\u001b[0;31m     \u001b[0mparser\u001b[0m \u001b[0;34m=\u001b[0m \u001b[0mTextFileReader\u001b[0m\u001b[0;34m(\u001b[0m\u001b[0mfilepath_or_buffer\u001b[0m\u001b[0;34m,\u001b[0m \u001b[0;34m**\u001b[0m\u001b[0mkwds\u001b[0m\u001b[0;34m)\u001b[0m\u001b[0;34m\u001b[0m\u001b[0;34m\u001b[0m\u001b[0m\n\u001b[0m\u001b[1;32m    483\u001b[0m \u001b[0;34m\u001b[0m\u001b[0m\n\u001b[1;32m    484\u001b[0m     \u001b[0;32mif\u001b[0m \u001b[0mchunksize\u001b[0m \u001b[0;32mor\u001b[0m \u001b[0miterator\u001b[0m\u001b[0;34m:\u001b[0m\u001b[0;34m\u001b[0m\u001b[0;34m\u001b[0m\u001b[0m\n",
            "\u001b[0;32m/usr/local/lib/python3.8/dist-packages/pandas/io/parsers/readers.py\u001b[0m in \u001b[0;36m__init__\u001b[0;34m(self, f, engine, **kwds)\u001b[0m\n\u001b[1;32m    809\u001b[0m             \u001b[0mself\u001b[0m\u001b[0;34m.\u001b[0m\u001b[0moptions\u001b[0m\u001b[0;34m[\u001b[0m\u001b[0;34m\"has_index_names\"\u001b[0m\u001b[0;34m]\u001b[0m \u001b[0;34m=\u001b[0m \u001b[0mkwds\u001b[0m\u001b[0;34m[\u001b[0m\u001b[0;34m\"has_index_names\"\u001b[0m\u001b[0;34m]\u001b[0m\u001b[0;34m\u001b[0m\u001b[0;34m\u001b[0m\u001b[0m\n\u001b[1;32m    810\u001b[0m \u001b[0;34m\u001b[0m\u001b[0m\n\u001b[0;32m--> 811\u001b[0;31m         \u001b[0mself\u001b[0m\u001b[0;34m.\u001b[0m\u001b[0m_engine\u001b[0m \u001b[0;34m=\u001b[0m \u001b[0mself\u001b[0m\u001b[0;34m.\u001b[0m\u001b[0m_make_engine\u001b[0m\u001b[0;34m(\u001b[0m\u001b[0mself\u001b[0m\u001b[0;34m.\u001b[0m\u001b[0mengine\u001b[0m\u001b[0;34m)\u001b[0m\u001b[0;34m\u001b[0m\u001b[0;34m\u001b[0m\u001b[0m\n\u001b[0m\u001b[1;32m    812\u001b[0m \u001b[0;34m\u001b[0m\u001b[0m\n\u001b[1;32m    813\u001b[0m     \u001b[0;32mdef\u001b[0m \u001b[0mclose\u001b[0m\u001b[0;34m(\u001b[0m\u001b[0mself\u001b[0m\u001b[0;34m)\u001b[0m\u001b[0;34m:\u001b[0m\u001b[0;34m\u001b[0m\u001b[0;34m\u001b[0m\u001b[0m\n",
            "\u001b[0;32m/usr/local/lib/python3.8/dist-packages/pandas/io/parsers/readers.py\u001b[0m in \u001b[0;36m_make_engine\u001b[0;34m(self, engine)\u001b[0m\n\u001b[1;32m   1038\u001b[0m             )\n\u001b[1;32m   1039\u001b[0m         \u001b[0;31m# error: Too many arguments for \"ParserBase\"\u001b[0m\u001b[0;34m\u001b[0m\u001b[0;34m\u001b[0m\u001b[0;34m\u001b[0m\u001b[0m\n\u001b[0;32m-> 1040\u001b[0;31m         \u001b[0;32mreturn\u001b[0m \u001b[0mmapping\u001b[0m\u001b[0;34m[\u001b[0m\u001b[0mengine\u001b[0m\u001b[0;34m]\u001b[0m\u001b[0;34m(\u001b[0m\u001b[0mself\u001b[0m\u001b[0;34m.\u001b[0m\u001b[0mf\u001b[0m\u001b[0;34m,\u001b[0m \u001b[0;34m**\u001b[0m\u001b[0mself\u001b[0m\u001b[0;34m.\u001b[0m\u001b[0moptions\u001b[0m\u001b[0;34m)\u001b[0m  \u001b[0;31m# type: ignore[call-arg]\u001b[0m\u001b[0;34m\u001b[0m\u001b[0;34m\u001b[0m\u001b[0m\n\u001b[0m\u001b[1;32m   1041\u001b[0m \u001b[0;34m\u001b[0m\u001b[0m\n\u001b[1;32m   1042\u001b[0m     \u001b[0;32mdef\u001b[0m \u001b[0m_failover_to_python\u001b[0m\u001b[0;34m(\u001b[0m\u001b[0mself\u001b[0m\u001b[0;34m)\u001b[0m\u001b[0;34m:\u001b[0m\u001b[0;34m\u001b[0m\u001b[0;34m\u001b[0m\u001b[0m\n",
            "\u001b[0;32m/usr/local/lib/python3.8/dist-packages/pandas/io/parsers/c_parser_wrapper.py\u001b[0m in \u001b[0;36m__init__\u001b[0;34m(self, src, **kwds)\u001b[0m\n\u001b[1;32m     49\u001b[0m \u001b[0;34m\u001b[0m\u001b[0m\n\u001b[1;32m     50\u001b[0m         \u001b[0;31m# open handles\u001b[0m\u001b[0;34m\u001b[0m\u001b[0;34m\u001b[0m\u001b[0;34m\u001b[0m\u001b[0m\n\u001b[0;32m---> 51\u001b[0;31m         \u001b[0mself\u001b[0m\u001b[0;34m.\u001b[0m\u001b[0m_open_handles\u001b[0m\u001b[0;34m(\u001b[0m\u001b[0msrc\u001b[0m\u001b[0;34m,\u001b[0m \u001b[0mkwds\u001b[0m\u001b[0;34m)\u001b[0m\u001b[0;34m\u001b[0m\u001b[0;34m\u001b[0m\u001b[0m\n\u001b[0m\u001b[1;32m     52\u001b[0m         \u001b[0;32massert\u001b[0m \u001b[0mself\u001b[0m\u001b[0;34m.\u001b[0m\u001b[0mhandles\u001b[0m \u001b[0;32mis\u001b[0m \u001b[0;32mnot\u001b[0m \u001b[0;32mNone\u001b[0m\u001b[0;34m\u001b[0m\u001b[0;34m\u001b[0m\u001b[0m\n\u001b[1;32m     53\u001b[0m \u001b[0;34m\u001b[0m\u001b[0m\n",
            "\u001b[0;32m/usr/local/lib/python3.8/dist-packages/pandas/io/parsers/base_parser.py\u001b[0m in \u001b[0;36m_open_handles\u001b[0;34m(self, src, kwds)\u001b[0m\n\u001b[1;32m    220\u001b[0m         \u001b[0mLet\u001b[0m \u001b[0mthe\u001b[0m \u001b[0mreaders\u001b[0m \u001b[0mopen\u001b[0m \u001b[0mIOHandles\u001b[0m \u001b[0mafter\u001b[0m \u001b[0mthey\u001b[0m \u001b[0mare\u001b[0m \u001b[0mdone\u001b[0m \u001b[0;32mwith\u001b[0m \u001b[0mtheir\u001b[0m \u001b[0mpotential\u001b[0m \u001b[0mraises\u001b[0m\u001b[0;34m.\u001b[0m\u001b[0;34m\u001b[0m\u001b[0;34m\u001b[0m\u001b[0m\n\u001b[1;32m    221\u001b[0m         \"\"\"\n\u001b[0;32m--> 222\u001b[0;31m         self.handles = get_handle(\n\u001b[0m\u001b[1;32m    223\u001b[0m             \u001b[0msrc\u001b[0m\u001b[0;34m,\u001b[0m\u001b[0;34m\u001b[0m\u001b[0;34m\u001b[0m\u001b[0m\n\u001b[1;32m    224\u001b[0m             \u001b[0;34m\"r\"\u001b[0m\u001b[0;34m,\u001b[0m\u001b[0;34m\u001b[0m\u001b[0;34m\u001b[0m\u001b[0m\n",
            "\u001b[0;32m/usr/local/lib/python3.8/dist-packages/pandas/io/common.py\u001b[0m in \u001b[0;36mget_handle\u001b[0;34m(path_or_buf, mode, encoding, compression, memory_map, is_text, errors, storage_options)\u001b[0m\n\u001b[1;32m    700\u001b[0m         \u001b[0;32mif\u001b[0m \u001b[0mioargs\u001b[0m\u001b[0;34m.\u001b[0m\u001b[0mencoding\u001b[0m \u001b[0;32mand\u001b[0m \u001b[0;34m\"b\"\u001b[0m \u001b[0;32mnot\u001b[0m \u001b[0;32min\u001b[0m \u001b[0mioargs\u001b[0m\u001b[0;34m.\u001b[0m\u001b[0mmode\u001b[0m\u001b[0;34m:\u001b[0m\u001b[0;34m\u001b[0m\u001b[0;34m\u001b[0m\u001b[0m\n\u001b[1;32m    701\u001b[0m             \u001b[0;31m# Encoding\u001b[0m\u001b[0;34m\u001b[0m\u001b[0;34m\u001b[0m\u001b[0;34m\u001b[0m\u001b[0m\n\u001b[0;32m--> 702\u001b[0;31m             handle = open(\n\u001b[0m\u001b[1;32m    703\u001b[0m                 \u001b[0mhandle\u001b[0m\u001b[0;34m,\u001b[0m\u001b[0;34m\u001b[0m\u001b[0;34m\u001b[0m\u001b[0m\n\u001b[1;32m    704\u001b[0m                 \u001b[0mioargs\u001b[0m\u001b[0;34m.\u001b[0m\u001b[0mmode\u001b[0m\u001b[0;34m,\u001b[0m\u001b[0;34m\u001b[0m\u001b[0;34m\u001b[0m\u001b[0m\n",
            "\u001b[0;31mFileNotFoundError\u001b[0m: [Errno 2] No such file or directory: '/content/drive/MyDrive/Colab Notebooks/Data/addresses.csv'"
          ]
        }
      ]
    },
    {
      "cell_type": "code",
      "source": [
        "type(data)"
      ],
      "metadata": {
        "id": "nEmkJ_L87Izl"
      },
      "execution_count": null,
      "outputs": []
    },
    {
      "cell_type": "code",
      "source": [
        "# Fetch First Five Records or Rows of the Data\n",
        "data.head()"
      ],
      "metadata": {
        "id": "WwPAbFDi7N_C"
      },
      "execution_count": null,
      "outputs": []
    },
    {
      "cell_type": "code",
      "source": [
        "data.head(6)"
      ],
      "metadata": {
        "id": "30wjZqjX7YrS"
      },
      "execution_count": null,
      "outputs": []
    },
    {
      "cell_type": "code",
      "source": [
        "# Fetch Last Five records or rows of the data\n",
        "data.tail()"
      ],
      "metadata": {
        "id": "Le6eyNFG7f0z"
      },
      "execution_count": null,
      "outputs": []
    },
    {
      "cell_type": "code",
      "source": [
        "data.tail(7)"
      ],
      "metadata": {
        "id": "qTcvFijr7qqC"
      },
      "execution_count": null,
      "outputs": []
    },
    {
      "cell_type": "code",
      "source": [
        "# Fetch the name of the columns/attributes of the data\n",
        "data.columns"
      ],
      "metadata": {
        "id": "oZkGE_o67uIJ"
      },
      "execution_count": null,
      "outputs": []
    },
    {
      "cell_type": "code",
      "source": [
        "list(data.columns)"
      ],
      "metadata": {
        "id": "GTB6nElX73FC"
      },
      "execution_count": null,
      "outputs": []
    },
    {
      "cell_type": "code",
      "source": [
        "# Fetch the type of the column of data\n",
        "type(data['state_province'])"
      ],
      "metadata": {
        "id": "iXq1ACcH768C"
      },
      "execution_count": null,
      "outputs": []
    },
    {
      "cell_type": "code",
      "source": [
        "# Fetch the column of data\n",
        "data['state_province']"
      ],
      "metadata": {
        "id": "2QPOxHbv8JeG"
      },
      "execution_count": null,
      "outputs": []
    },
    {
      "cell_type": "code",
      "source": [
        "data.state_province"
      ],
      "metadata": {
        "id": "yCJsom7z8SVO"
      },
      "execution_count": null,
      "outputs": []
    },
    {
      "cell_type": "code",
      "source": [
        "data[['state_province']]"
      ],
      "metadata": {
        "id": "uzvBFZPT8bQX"
      },
      "execution_count": null,
      "outputs": []
    },
    {
      "cell_type": "code",
      "source": [
        "type(data[['state_province']])"
      ],
      "metadata": {
        "id": "tJHXoMvHBv6l"
      },
      "execution_count": null,
      "outputs": []
    },
    {
      "cell_type": "code",
      "source": [
        "# Fetch Multiple columns of data\n",
        "\n",
        "data[['city', 'location_id']]"
      ],
      "metadata": {
        "id": "I3w94W2BB4K-"
      },
      "execution_count": null,
      "outputs": []
    },
    {
      "cell_type": "code",
      "source": [
        "pd.read_excel('/content/drive/MyDrive/Colab Notebooks/Data/airline.xls')"
      ],
      "metadata": {
        "id": "FSU1b0pACMcN"
      },
      "execution_count": null,
      "outputs": []
    },
    {
      "cell_type": "code",
      "source": [
        "pd.read_excel(\"/content/drive/MyDrive/Colab Notebooks/Data/airline.xls\")"
      ],
      "metadata": {
        "id": "P6GaB8-mCrel"
      },
      "execution_count": null,
      "outputs": []
    },
    {
      "cell_type": "code",
      "source": [
        "data1 = pd.read_excel(\"/content/drive/MyDrive/Colab Notebooks/Data/airline.xls\")"
      ],
      "metadata": {
        "id": "UJRV1Qv_DpSV"
      },
      "execution_count": null,
      "outputs": []
    },
    {
      "cell_type": "code",
      "source": [
        "data1"
      ],
      "metadata": {
        "id": "p8uprVhLEUSb"
      },
      "execution_count": null,
      "outputs": []
    },
    {
      "cell_type": "code",
      "source": [
        "data1.columns"
      ],
      "metadata": {
        "id": "Xmb4tHWRKkdu"
      },
      "execution_count": null,
      "outputs": []
    },
    {
      "cell_type": "code",
      "source": [
        "new_header = ['a', 'b', 'c', 'd', 'e', 'f']\n",
        "\n",
        "data1.columns = new_header"
      ],
      "metadata": {
        "id": "qbL5tbPAKoN7"
      },
      "execution_count": null,
      "outputs": []
    },
    {
      "cell_type": "code",
      "source": [
        "data1.to_csv('test1.csv', index = False)"
      ],
      "metadata": {
        "id": "BBnjcEj5EWzc"
      },
      "execution_count": null,
      "outputs": []
    },
    {
      "cell_type": "code",
      "source": [
        "data1.to_excel(\"test2.xlsx\")"
      ],
      "metadata": {
        "id": "88wUge8MEf3D"
      },
      "execution_count": null,
      "outputs": []
    },
    {
      "cell_type": "code",
      "source": [
        "data1.head()"
      ],
      "metadata": {
        "id": "2dObK4aoEsNC"
      },
      "execution_count": null,
      "outputs": []
    },
    {
      "cell_type": "code",
      "source": [
        "data1.columns"
      ],
      "metadata": {
        "id": "R9n3pdcaE4Ot"
      },
      "execution_count": null,
      "outputs": []
    },
    {
      "cell_type": "code",
      "source": [
        "list(data1.columns)"
      ],
      "metadata": {
        "id": "6KSXsNYEJE3q"
      },
      "execution_count": null,
      "outputs": []
    },
    {
      "cell_type": "code",
      "source": [
        "type(data1)"
      ],
      "metadata": {
        "id": "0mA3GtnAK8nW"
      },
      "execution_count": null,
      "outputs": []
    },
    {
      "cell_type": "code",
      "source": [
        "type(data)"
      ],
      "metadata": {
        "id": "BkAa6aQILDPC"
      },
      "execution_count": null,
      "outputs": []
    },
    {
      "cell_type": "code",
      "source": [
        "data1[['b', 'c']]"
      ],
      "metadata": {
        "id": "R21r62fmLE-7"
      },
      "execution_count": null,
      "outputs": []
    },
    {
      "cell_type": "code",
      "source": [
        "pd.read_csv(\"/content/drive/MyDrive/Colab Notebooks/Data/addresses.csv\")"
      ],
      "metadata": {
        "id": "nY-kvcSYLOOy"
      },
      "execution_count": null,
      "outputs": []
    },
    {
      "cell_type": "code",
      "source": [
        "pd.read_csv(\"/content/drive/MyDrive/Colab Notebooks/Data/contacts.csv\")"
      ],
      "metadata": {
        "id": "OrQxJXM7L5iZ"
      },
      "execution_count": null,
      "outputs": []
    },
    {
      "cell_type": "code",
      "source": [
        "pd.read_csv(\"/content/drive/MyDrive/Colab Notebooks/Data/locations.csv\")"
      ],
      "metadata": {
        "id": "hAfVrKLyMBep"
      },
      "execution_count": null,
      "outputs": []
    },
    {
      "cell_type": "code",
      "source": [
        "pd.read_csv(\"/content/drive/MyDrive/Colab Notebooks/Data/phones.csv\")"
      ],
      "metadata": {
        "id": "EtJCRajcMKpa"
      },
      "execution_count": null,
      "outputs": []
    },
    {
      "cell_type": "code",
      "source": [
        "data2 = pd.read_html(\"https://www.basketball-reference.com/leagues/NBA_2015_totals.html\")"
      ],
      "metadata": {
        "id": "qSqn72_FMOjq"
      },
      "execution_count": null,
      "outputs": []
    },
    {
      "cell_type": "code",
      "source": [
        "data2"
      ],
      "metadata": {
        "id": "_OIUVBK8MmMK"
      },
      "execution_count": null,
      "outputs": []
    },
    {
      "cell_type": "code",
      "source": [
        "type(data2)"
      ],
      "metadata": {
        "id": "kwgPVkxlMoCz"
      },
      "execution_count": null,
      "outputs": []
    },
    {
      "cell_type": "code",
      "source": [
        "len(data2)"
      ],
      "metadata": {
        "id": "VK8iH8jJMvUC"
      },
      "execution_count": null,
      "outputs": []
    },
    {
      "cell_type": "code",
      "source": [
        "data2[0]"
      ],
      "metadata": {
        "id": "EZ5DghhQMxNb"
      },
      "execution_count": null,
      "outputs": []
    },
    {
      "cell_type": "code",
      "source": [
        "data2[0].to_csv(\"player.csv\")"
      ],
      "metadata": {
        "id": "XENeme4IM38S"
      },
      "execution_count": null,
      "outputs": []
    },
    {
      "cell_type": "code",
      "source": [],
      "metadata": {
        "id": "lOKYM66_M_La"
      },
      "execution_count": null,
      "outputs": []
    }
  ]
}